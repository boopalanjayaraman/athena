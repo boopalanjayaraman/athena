{
  "nbformat": 4,
  "nbformat_minor": 0,
  "metadata": {
    "colab": {
      "name": "Seq2Seq for NLP to GSQL",
      "provenance": [],
      "collapsed_sections": []
    },
    "kernelspec": {
      "name": "python3",
      "display_name": "Python 3"
    },
    "language_info": {
      "name": "python"
    }
  },
  "cells": [
    {
      "cell_type": "code",
      "execution_count": 1,
      "metadata": {
        "id": "u9CXNI3hEwTL"
      },
      "outputs": [],
      "source": [
        "import numpy as np\n",
        "import pandas as pd"
      ]
    },
    {
      "cell_type": "code",
      "source": [
        "from google.colab import drive\n",
        "drive.mount('/content/drive')"
      ],
      "metadata": {
        "colab": {
          "base_uri": "https://localhost:8080/"
        },
        "id": "B3TiL10OFGdt",
        "outputId": "c67e215d-4525-46eb-8795-8b6fb1b3293a"
      },
      "execution_count": 2,
      "outputs": [
        {
          "output_type": "stream",
          "name": "stdout",
          "text": [
            "Mounted at /content/drive\n"
          ]
        }
      ]
    },
    {
      "cell_type": "code",
      "source": [
        "df = pd.read_csv('/content/drive/MyDrive/Colab Notebooks/Graph data/NLP Seq2Seq DataSet 3 Final.csv')"
      ],
      "metadata": {
        "id": "YrqjmLenFI_k"
      },
      "execution_count": 3,
      "outputs": []
    },
    {
      "cell_type": "code",
      "source": [
        "import spacy\n",
        "nlp_pipeline = spacy.load(\"en_core_web_sm\")"
      ],
      "metadata": {
        "id": "3HWE-ZVeFPPu"
      },
      "execution_count": 4,
      "outputs": []
    },
    {
      "cell_type": "code",
      "source": [
        "import torch\n",
        "import torch.nn as nn\n",
        "import torch.nn.functional as F\n",
        "import torch.optim as optim\n",
        "\n",
        "#from torchtext import data"
      ],
      "metadata": {
        "id": "B54B1r13FRQk"
      },
      "execution_count": 5,
      "outputs": []
    },
    {
      "cell_type": "code",
      "source": [
        "import random\n",
        "from tqdm import tqdm \n",
        "import re \n",
        "import unicodedata\n",
        "from io import open\n",
        "from __future__ import unicode_literals, print_function, division"
      ],
      "metadata": {
        "id": "osCRxyKHGMoe"
      },
      "execution_count": 6,
      "outputs": []
    },
    {
      "cell_type": "code",
      "source": [
        "device = torch.device('cuda' if torch.cuda.is_available() else 'cpu')"
      ],
      "metadata": {
        "id": "D1SVWgYQGQ3I"
      },
      "execution_count": 7,
      "outputs": []
    },
    {
      "cell_type": "code",
      "source": [
        "device"
      ],
      "metadata": {
        "colab": {
          "base_uri": "https://localhost:8080/"
        },
        "id": "kQZtdzatGWYp",
        "outputId": "34d23247-322b-404e-a359-fa3b4b554775"
      },
      "execution_count": 8,
      "outputs": [
        {
          "output_type": "execute_result",
          "data": {
            "text/plain": [
              "device(type='cpu')"
            ]
          },
          "metadata": {},
          "execution_count": 8
        }
      ]
    },
    {
      "cell_type": "code",
      "source": [
        "MAX_VOCAB_SIZE = 30000\n",
        "MIN_COUNT = 5\n",
        "MAX_SEQUENCE_LENGTH = 20\n",
        "BATCH_SIZE = 64\n"
      ],
      "metadata": {
        "id": "plpxCghkGYS1"
      },
      "execution_count": 9,
      "outputs": []
    },
    {
      "cell_type": "code",
      "source": [
        "from torchtext.legacy import data\n"
      ],
      "metadata": {
        "id": "RrNu6u-iHkig"
      },
      "execution_count": 10,
      "outputs": []
    },
    {
      "cell_type": "code",
      "source": [
        "SOS_token = 0\n",
        "EOS_token = 1"
      ],
      "metadata": {
        "id": "ZK1S61UXGo7-"
      },
      "execution_count": 11,
      "outputs": []
    },
    {
      "cell_type": "code",
      "source": [
        "class Sequence:\n",
        "    def __init__(self, name):\n",
        "        self.name = name\n",
        "        self.word2index = {}\n",
        "        self.word2count = {}\n",
        "        self.index2word = {0: \"SOS\", 1: \"EOS\"}\n",
        "        self.n_words = 2  # Count SOS and EOS\n",
        "\n",
        "    def add_sentence(self, sentence):\n",
        "        for word in sentence.split(' '):\n",
        "            self.add_word(word)\n",
        "\n",
        "    def add_word(self, word):\n",
        "        if word not in self.word2index:\n",
        "            self.word2index[word] = self.n_words\n",
        "            self.word2count[word] = 1\n",
        "            self.index2word[self.n_words] = word\n",
        "            self.n_words += 1\n",
        "        else:\n",
        "            self.word2count[word] += 1"
      ],
      "metadata": {
        "id": "M3MJ8RxHHaXE"
      },
      "execution_count": 12,
      "outputs": []
    },
    {
      "cell_type": "code",
      "source": [
        "data_file = '/content/drive/MyDrive/Colab Notebooks/Graph data/NLP Seq2Seq DataSet 3 Final.csv'"
      ],
      "metadata": {
        "id": "m_39GriNHyNE"
      },
      "execution_count": 13,
      "outputs": []
    },
    {
      "cell_type": "code",
      "source": [
        "def read_data():\n",
        "    print(\"Reading lines...\")\n",
        "\n",
        "    # Read the file and split into lines\n",
        "    df = pd.read_csv(data_file)\n",
        "\n",
        "    # Split every line into pairs and normalize\n",
        "    pairs = []\n",
        "    for index, row in df.iterrows():\n",
        "      pairs.append([row['lemmatized_question'], row['sequence']])\n",
        "\n",
        "    input_sequence = Sequence(\"lemmatized_question\")\n",
        "    output_sequence = Sequence(\"sequence\")\n",
        "\n",
        "    return input_sequence, output_sequence, pairs"
      ],
      "metadata": {
        "id": "GHwpbIYkH4iH"
      },
      "execution_count": 14,
      "outputs": []
    },
    {
      "cell_type": "code",
      "source": [
        "MAX_LENGTH = 50\n"
      ],
      "metadata": {
        "id": "-3CYdH1aIHPk"
      },
      "execution_count": 15,
      "outputs": []
    },
    {
      "cell_type": "code",
      "source": [
        "def prepare_data():\n",
        "  input_sequence, output_sequence, pairs = read_data()\n",
        "\n",
        "  for pair in pairs:\n",
        "    input_sequence.add_sentence(pair[0])\n",
        "    output_sequence.add_sentence(pair[1])\n",
        "\n",
        "  print(\"Counted words:\")\n",
        "  print(input_sequence.name, input_sequence.n_words)\n",
        "  print(output_sequence.name, output_sequence.n_words)\n",
        "\n",
        "  return input_sequence, output_sequence, pairs\n"
      ],
      "metadata": {
        "id": "sKqoTbbPjo4W"
      },
      "execution_count": 16,
      "outputs": []
    },
    {
      "cell_type": "code",
      "source": [
        "input_sequence, output_sequence, pairs = prepare_data()\n",
        "print(random.choice(pairs))\n"
      ],
      "metadata": {
        "colab": {
          "base_uri": "https://localhost:8080/"
        },
        "id": "dxXULk_Dkctd",
        "outputId": "e9ed9c1d-bfb3-4012-e65c-de028fe9bc14"
      },
      "execution_count": 17,
      "outputs": [
        {
          "output_type": "stream",
          "name": "stdout",
          "text": [
            "Reading lines...\n",
            "Counted words:\n",
            "lemmatized_question 163\n",
            "sequence 121\n",
            "['who {VERB 1} in branches that {VERB 2} in {LOCATION}', 'SUBJECT any | CONDITION any | RELATIONSHIP {VERB 1} | CONDITION any | SUBJECT Organization | CONDITION any | RELATIONSHIP {VERB 2} |CONDITION any | OBJECT Location | CONDITION name = {LOCATION}']\n"
          ]
        }
      ]
    },
    {
      "cell_type": "code",
      "source": [
        ""
      ],
      "metadata": {
        "id": "J6_3eKyJIYMG"
      },
      "execution_count": 17,
      "outputs": []
    },
    {
      "cell_type": "code",
      "source": [
        ""
      ],
      "metadata": {
        "id": "Eb1l6KxnI1Vy"
      },
      "execution_count": 17,
      "outputs": []
    },
    {
      "cell_type": "code",
      "source": [
        "class EncoderRNN(nn.Module):\n",
        "    def __init__(self, input_size, hidden_size):\n",
        "        super(EncoderRNN, self).__init__()\n",
        "        self.hidden_size = hidden_size\n",
        "\n",
        "        self.embedding = nn.Embedding(input_size, hidden_size)\n",
        "        self.gru = nn.GRU(hidden_size, hidden_size)\n",
        "\n",
        "    def forward(self, input, hidden):\n",
        "        embedded = self.embedding(input).view(1, 1, -1)\n",
        "        output = embedded\n",
        "        output, hidden = self.gru(output, hidden)\n",
        "        return output, hidden\n",
        "\n",
        "    def initHidden(self):\n",
        "        return torch.zeros(1, 1, self.hidden_size, device=device)\n",
        "\n",
        "  "
      ],
      "metadata": {
        "id": "5g2__q-tJxdJ"
      },
      "execution_count": 18,
      "outputs": []
    },
    {
      "cell_type": "code",
      "source": [
        "class AttnDecoderRNN(nn.Module):\n",
        "    def __init__(self, hidden_size, output_size, dropout_p=0.1, max_length=MAX_LENGTH):\n",
        "        super(AttnDecoderRNN, self).__init__()\n",
        "        self.hidden_size = hidden_size\n",
        "        self.output_size = output_size\n",
        "        self.dropout_p = dropout_p\n",
        "        self.max_length = max_length\n",
        "\n",
        "        self.embedding = nn.Embedding(self.output_size, self.hidden_size)\n",
        "        self.attn = nn.Linear(self.hidden_size * 2, self.max_length)\n",
        "        self.attn_combine = nn.Linear(self.hidden_size * 2, self.hidden_size)\n",
        "        self.dropout = nn.Dropout(self.dropout_p)\n",
        "        self.gru = nn.GRU(self.hidden_size, self.hidden_size)\n",
        "        self.out = nn.Linear(self.hidden_size, self.output_size)\n",
        "\n",
        "    def forward(self, input, hidden, encoder_outputs):\n",
        "        embedded = self.embedding(input).view(1, 1, -1)\n",
        "        embedded = self.dropout(embedded)\n",
        "\n",
        "        attn_weights = F.softmax(\n",
        "            self.attn(torch.cat((embedded[0], hidden[0]), 1)), dim=1)\n",
        "        attn_applied = torch.bmm(attn_weights.unsqueeze(0),\n",
        "                                 encoder_outputs.unsqueeze(0))\n",
        "\n",
        "        output = torch.cat((embedded[0], attn_applied[0]), 1)\n",
        "        output = self.attn_combine(output).unsqueeze(0)\n",
        "\n",
        "        output = F.relu(output)\n",
        "        output, hidden = self.gru(output, hidden)\n",
        "\n",
        "        output = F.log_softmax(self.out(output[0]), dim=1)\n",
        "        return output, hidden, attn_weights\n",
        "\n",
        "    def initHidden(self):\n",
        "        return torch.zeros(1, 1, self.hidden_size, device=device)"
      ],
      "metadata": {
        "id": "nzElCd4fJzUj"
      },
      "execution_count": 19,
      "outputs": []
    },
    {
      "cell_type": "code",
      "source": [
        "def indexes_from_sentence(sequence, sentence):\n",
        "    index_list = []\n",
        "    for word in sentence.split(' '):\n",
        "      if word in sequence.word2index:\n",
        "        index_list.append(sequence.word2index[word])\n",
        "      else:\n",
        "        index_list.append(0)\n",
        "    \n",
        "    return index_list\n",
        "\n",
        "    #return [sequence.word2index[word] for word in sentence.split(' ')]\n",
        "\n",
        "\n",
        "def tensor_from_sentence(sequence, sentence):\n",
        "    indexes = indexes_from_sentence(sequence, sentence)\n",
        "    indexes.append(EOS_token)\n",
        "    return torch.tensor(indexes, dtype=torch.long, device=device).view(-1, 1)\n",
        "\n",
        "\n",
        "def tensors_from_pair(pair):\n",
        "    input_tensor = tensor_from_sentence(input_sequence, pair[0])\n",
        "    target_tensor = tensor_from_sentence(output_sequence, pair[1])\n",
        "    return (input_tensor, target_tensor)\n",
        "\n"
      ],
      "metadata": {
        "id": "LDYeINJvNXGC"
      },
      "execution_count": 20,
      "outputs": []
    },
    {
      "cell_type": "code",
      "source": [
        "teacher_forcing_ratio = 0.5\n",
        "\n",
        "\n",
        "def train(input_tensor, target_tensor, encoder, decoder, encoder_optimizer, decoder_optimizer, criterion, max_length=MAX_LENGTH):\n",
        "  \n",
        "    encoder_hidden = encoder.initHidden()\n",
        "\n",
        "    encoder_optimizer.zero_grad()\n",
        "    decoder_optimizer.zero_grad()\n",
        "\n",
        "    input_length = input_tensor.size(0)\n",
        "    target_length = target_tensor.size(0)\n",
        "\n",
        "    encoder_outputs = torch.zeros(max_length, encoder.hidden_size, device=device)\n",
        "\n",
        "    loss = 0\n",
        "\n",
        "    for ei in range(input_length):\n",
        "        encoder_output, encoder_hidden = encoder(\n",
        "            input_tensor[ei], encoder_hidden)\n",
        "        encoder_outputs[ei] = encoder_output[0, 0]\n",
        "\n",
        "    decoder_input = torch.tensor([[SOS_token]], device=device)\n",
        "\n",
        "    decoder_hidden = encoder_hidden\n",
        "\n",
        "    use_teacher_forcing = True if random.random() < teacher_forcing_ratio else False\n",
        "\n",
        "    if use_teacher_forcing:\n",
        "        # Teacher forcing: Feed the target as the next input\n",
        "        for di in range(target_length):\n",
        "            decoder_output, decoder_hidden, decoder_attention = decoder(\n",
        "                decoder_input, decoder_hidden, encoder_outputs)\n",
        "            loss += criterion(decoder_output, target_tensor[di])\n",
        "            decoder_input = target_tensor[di]  # Teacher forcing\n",
        "\n",
        "    else:\n",
        "        # Without teacher forcing: use its own predictions as the next input\n",
        "        for di in range(target_length):\n",
        "            decoder_output, decoder_hidden, decoder_attention = decoder(\n",
        "                decoder_input, decoder_hidden, encoder_outputs)\n",
        "            topv, topi = decoder_output.topk(1)\n",
        "            decoder_input = topi.squeeze().detach()  # detach from history as input\n",
        "\n",
        "            loss += criterion(decoder_output, target_tensor[di])\n",
        "            if decoder_input.item() == EOS_token:\n",
        "                break\n",
        "\n",
        "    loss.backward()\n",
        "\n",
        "    encoder_optimizer.step()\n",
        "    decoder_optimizer.step()\n",
        "\n",
        "    return loss.item() / target_length"
      ],
      "metadata": {
        "id": "ll9vvWQzldM1"
      },
      "execution_count": 21,
      "outputs": []
    },
    {
      "cell_type": "code",
      "source": [
        "import time\n",
        "import math\n",
        "\n",
        "def as_minutes(s):\n",
        "    m = math.floor(s / 60)\n",
        "    s -= m * 60\n",
        "    return '%dm %ds' % (m, s)\n",
        "\n",
        "def time_since(since, percent):\n",
        "    now = time.time()\n",
        "    s = now - since\n",
        "    es = s / (percent)\n",
        "    rs = es - s\n",
        "    return '%s (- %s)' % (as_minutes(s), as_minutes(rs))"
      ],
      "metadata": {
        "id": "F8rLSHaElhwd"
      },
      "execution_count": 22,
      "outputs": []
    },
    {
      "cell_type": "code",
      "source": [
        "import matplotlib.pyplot as plt\n",
        "plt.switch_backend('agg')\n",
        "import matplotlib.ticker as ticker\n",
        "import numpy as np\n",
        "\n",
        "\n",
        "def show_plot(points):\n",
        "    plt.figure()\n",
        "    fig, ax = plt.subplots()\n",
        "    # this locator puts ticks at regular intervals\n",
        "    loc = ticker.MultipleLocator(base=0.2)\n",
        "    ax.yaxis.set_major_locator(loc)\n",
        "    plt.plot(points)"
      ],
      "metadata": {
        "id": "1gCMFI2bmSr9"
      },
      "execution_count": 23,
      "outputs": []
    },
    {
      "cell_type": "code",
      "source": [
        "def train_iters(encoder, decoder, n_iters, print_every=1000, plot_every=100, learning_rate=0.01):\n",
        "    start = time.time()\n",
        "    plot_losses = []\n",
        "    print_loss_total = 0  # Reset every print_every\n",
        "    plot_loss_total = 0  # Reset every plot_every\n",
        "\n",
        "    encoder_optimizer = optim.SGD(encoder.parameters(), lr=learning_rate)\n",
        "    decoder_optimizer = optim.SGD(decoder.parameters(), lr=learning_rate)\n",
        "    training_pairs = [tensors_from_pair(random.choice(pairs))\n",
        "                      for i in range(n_iters)]\n",
        "    criterion = nn.NLLLoss()\n",
        "\n",
        "    for iter in range(1, n_iters + 1):\n",
        "        training_pair = training_pairs[iter - 1]\n",
        "        input_tensor = training_pair[0]\n",
        "        target_tensor = training_pair[1]\n",
        "\n",
        "        loss = train(input_tensor, target_tensor, encoder,\n",
        "                     decoder, encoder_optimizer, decoder_optimizer, criterion)\n",
        "        print_loss_total += loss\n",
        "        plot_loss_total += loss\n",
        "\n",
        "        if iter % print_every == 0:\n",
        "            print_loss_avg = print_loss_total / print_every\n",
        "            print_loss_total = 0\n",
        "            print('%s (%d %d%%) %.4f' % (time_since(start, iter / n_iters),\n",
        "                                         iter, iter / n_iters * 100, print_loss_avg))\n",
        "\n",
        "        if iter % plot_every == 0:\n",
        "            plot_loss_avg = plot_loss_total / plot_every\n",
        "            plot_losses.append(plot_loss_avg)\n",
        "            plot_loss_total = 0\n",
        "\n",
        "    show_plot(plot_losses)"
      ],
      "metadata": {
        "id": "u4tPbnBJmHuv"
      },
      "execution_count": 24,
      "outputs": []
    },
    {
      "cell_type": "code",
      "source": [
        "def evaluate(encoder, decoder, sentence, max_length=MAX_LENGTH):\n",
        "    with torch.no_grad():\n",
        "        input_tensor = tensor_from_sentence(input_sequence, sentence)\n",
        "        input_length = input_tensor.size()[0]\n",
        "        encoder_hidden = encoder.initHidden()\n",
        "\n",
        "        encoder_outputs = torch.zeros(max_length, encoder.hidden_size, device=device)\n",
        "\n",
        "        for ei in range(input_length):\n",
        "            encoder_output, encoder_hidden = encoder(input_tensor[ei],\n",
        "                                                     encoder_hidden)\n",
        "            encoder_outputs[ei] += encoder_output[0, 0]\n",
        "\n",
        "        decoder_input = torch.tensor([[SOS_token]], device=device)  # SOS\n",
        "\n",
        "        decoder_hidden = encoder_hidden\n",
        "\n",
        "        decoded_words = []\n",
        "        decoder_attentions = torch.zeros(max_length, max_length)\n",
        "\n",
        "        for di in range(max_length):\n",
        "            decoder_output, decoder_hidden, decoder_attention = decoder(\n",
        "                decoder_input, decoder_hidden, encoder_outputs)\n",
        "            decoder_attentions[di] = decoder_attention.data\n",
        "            topv, topi = decoder_output.data.topk(1)\n",
        "            if topi.item() == EOS_token:\n",
        "                decoded_words.append('<EOS>')\n",
        "                break\n",
        "            else:\n",
        "                decoded_words.append(output_sequence.index2word[topi.item()])\n",
        "\n",
        "            decoder_input = topi.squeeze().detach()\n",
        "\n",
        "        return decoded_words, decoder_attentions[:di + 1]"
      ],
      "metadata": {
        "id": "Y0eR12KemK5e"
      },
      "execution_count": 25,
      "outputs": []
    },
    {
      "cell_type": "code",
      "source": [
        "def show_attention(input_sentence, output_words, attentions):\n",
        "    # Set up figure with colorbar\n",
        "    fig = plt.figure()\n",
        "    ax = fig.add_subplot(111)\n",
        "    cax = ax.matshow(attentions.numpy(), cmap='bone')\n",
        "    fig.colorbar(cax)\n",
        "\n",
        "    # Set up axes\n",
        "    ax.set_xticklabels([''] + input_sentence.split(' ') +\n",
        "                       ['<EOS>'], rotation=90)\n",
        "    ax.set_yticklabels([''] + output_words)\n",
        "\n",
        "    # Show label at every tick\n",
        "    ax.xaxis.set_major_locator(ticker.MultipleLocator(1))\n",
        "    ax.yaxis.set_major_locator(ticker.MultipleLocator(1))\n",
        "\n",
        "    plt.show()\n",
        "\n",
        "\n",
        "def evaluate_and_show_attention(input_sentence):\n",
        "    output_words, attentions = evaluate(\n",
        "        encoder1, attn_decoder1, input_sentence)\n",
        "    print('input =', input_sentence)\n",
        "    print('output =', ' '.join(output_words))\n",
        "    #show_attention(input_sentence, output_words, attentions)"
      ],
      "metadata": {
        "id": "1oeH5jQKm-db"
      },
      "execution_count": 26,
      "outputs": []
    },
    {
      "cell_type": "code",
      "source": [
        "hidden_size = 256\n",
        "encoder1 = EncoderRNN(input_sequence.n_words, hidden_size).to(device)\n",
        "attn_decoder1 = AttnDecoderRNN(hidden_size, output_sequence.n_words, dropout_p=0.1).to(device)\n",
        "\n",
        "train_iters(encoder1, attn_decoder1, 15000, print_every=1000)\n"
      ],
      "metadata": {
        "colab": {
          "base_uri": "https://localhost:8080/"
        },
        "id": "eMNw9zhSmi0U",
        "outputId": "d0246cf9-58ac-4d53-b545-5466b8be6237"
      },
      "execution_count": 27,
      "outputs": [
        {
          "output_type": "stream",
          "name": "stdout",
          "text": [
            "1m 5s (- 15m 22s) (1000 6%) 1.3746\n",
            "2m 12s (- 14m 21s) (2000 13%) 0.5820\n",
            "3m 20s (- 13m 20s) (3000 20%) 0.2654\n",
            "4m 27s (- 12m 15s) (4000 26%) 0.1284\n",
            "5m 38s (- 11m 16s) (5000 33%) 0.0773\n",
            "6m 48s (- 10m 13s) (6000 40%) 0.0861\n",
            "7m 58s (- 9m 6s) (7000 46%) 0.0709\n",
            "9m 7s (- 7m 59s) (8000 53%) 0.0438\n",
            "10m 17s (- 6m 51s) (9000 60%) 0.0268\n",
            "11m 26s (- 5m 43s) (10000 66%) 0.0177\n",
            "12m 36s (- 4m 35s) (11000 73%) 0.0233\n",
            "13m 45s (- 3m 26s) (12000 80%) 0.0219\n",
            "14m 53s (- 2m 17s) (13000 86%) 0.0115\n",
            "16m 3s (- 1m 8s) (14000 93%) 0.0107\n",
            "17m 13s (- 0m 0s) (15000 100%) 0.0084\n"
          ]
        }
      ]
    },
    {
      "cell_type": "code",
      "source": [
        "evaluate_and_show_attention(\"who all did {VERB} {ORGANIZATION}\")\n"
      ],
      "metadata": {
        "colab": {
          "base_uri": "https://localhost:8080/"
        },
        "id": "j6F5olYinGVJ",
        "outputId": "e3038812-89c6-43b7-bf02-5848f96b823c"
      },
      "execution_count": 33,
      "outputs": [
        {
          "output_type": "stream",
          "name": "stdout",
          "text": [
            "input = who all did {VERB} {ORGANIZATION}\n",
            "output = SUBJECT any | CONDITION any | RELATIONSHIP {VERB} | CONDITION any | OBJECT Organization | CONDITION name = {ORGANIZATION} <EOS>\n"
          ]
        }
      ]
    },
    {
      "cell_type": "code",
      "source": [
        "evaluate_and_show_attention(\"who the did {VERB} {ORGANIZATION}\")\n"
      ],
      "metadata": {
        "colab": {
          "base_uri": "https://localhost:8080/"
        },
        "id": "FQFYHdePrlKD",
        "outputId": "5f7cedf9-4ea9-4414-d610-44fe0ac90ef3"
      },
      "execution_count": 29,
      "outputs": [
        {
          "output_type": "stream",
          "name": "stdout",
          "text": [
            "input = who the did {VERB} {ORGANIZATION}\n",
            "output = SUBJECT any | CONDITION any | RELATIONSHIP {VERB} | CONDITION any | OBJECT Organization | CONDITION name = {ORGANIZATION} <EOS>\n"
          ]
        }
      ]
    },
    {
      "cell_type": "code",
      "source": [
        "evaluate_and_show_attention(\"what the hell happen with {ORGANIZATION} in the year 2018\")"
      ],
      "metadata": {
        "colab": {
          "base_uri": "https://localhost:8080/"
        },
        "id": "wgHCUMVmrsrd",
        "outputId": "4213a0a2-ef2f-4ca0-916a-df0a715a339c"
      },
      "execution_count": 30,
      "outputs": [
        {
          "output_type": "stream",
          "name": "stdout",
          "text": [
            "input = what the hell happen with {ORGANIZATION} in the year 2018\n",
            "output = SUBJECT Organization | CONDITION name = {ORGANIZATION} | RELATIONSHIP any | CONDITION year = 2021 | OBJECT any <EOS>\n"
          ]
        }
      ]
    },
    {
      "cell_type": "code",
      "source": [
        "evaluate_and_show_attention(\"what happen with {ORGANIZATION} in the year 2005\")"
      ],
      "metadata": {
        "colab": {
          "base_uri": "https://localhost:8080/"
        },
        "id": "RPg4zSMRr4yt",
        "outputId": "ab851fd2-d7c8-49f8-f689-e8b9337f223f"
      },
      "execution_count": 31,
      "outputs": [
        {
          "output_type": "stream",
          "name": "stdout",
          "text": [
            "input = what happen with {ORGANIZATION} in the year 2005\n",
            "output = SUBJECT Organization | CONDITION name = {ORGANIZATION} | RELATIONSHIP any | CONDITION year = 2001 | OBJECT any <EOS>\n"
          ]
        }
      ]
    },
    {
      "cell_type": "code",
      "source": [
        "evaluate_and_show_attention(\"how {PERSON 1} connected  {PERSON 2}\")"
      ],
      "metadata": {
        "colab": {
          "base_uri": "https://localhost:8080/"
        },
        "id": "BZxrjnfmr6xE",
        "outputId": "de6a2545-49a8-450e-8cef-2ca22652af52"
      },
      "execution_count": 40,
      "outputs": [
        {
          "output_type": "stream",
          "name": "stdout",
          "text": [
            "input = how {PERSON 1} connected  {PERSON 2}\n",
            "output = SUBJECT Person | CONDITION  name = {PERSON 1} | OPERATION SHORTEST_PATH | OBJECT Person | CONDITION name = {PERSON 2} <EOS>\n"
          ]
        }
      ]
    },
    {
      "cell_type": "code",
      "source": [
        "evaluate_and_show_attention(\"is the person {PERSON 1} related to the person {PERSON 2}\")"
      ],
      "metadata": {
        "colab": {
          "base_uri": "https://localhost:8080/"
        },
        "id": "WhKcF-gms-KS",
        "outputId": "7456bf07-60f2-4caf-b6ae-09ff45b02428"
      },
      "execution_count": 48,
      "outputs": [
        {
          "output_type": "stream",
          "name": "stdout",
          "text": [
            "input = is the person {PERSON 1} related to the person {PERSON 2}\n",
            "output = SUBJECT Person | CONDITION name = {PERSON 1} | OPERATION SHORTEST_PATH | OBJECT Person | CONDITION name = {PERSON 2} <EOS>\n"
          ]
        }
      ]
    },
    {
      "cell_type": "code",
      "source": [
        "\n",
        "\n",
        "def evaluate_saved_model(input_sentence, encoder_saved, attn_decoder_saved):\n",
        "    output_words, attentions = evaluate(\n",
        "        encoder_saved, attn_decoder_saved, input_sentence)\n",
        "    print('input =', input_sentence)\n",
        "    print('output =', ' '.join(output_words))"
      ],
      "metadata": {
        "id": "nVhujL_wqA2k"
      },
      "execution_count": 49,
      "outputs": []
    },
    {
      "cell_type": "code",
      "source": [
        "torch.save(encoder1.state_dict(), 'encoder1-model.pt')"
      ],
      "metadata": {
        "id": "zHiKkb22sjzg"
      },
      "execution_count": 50,
      "outputs": []
    },
    {
      "cell_type": "code",
      "source": [
        "torch.save(attn_decoder1.state_dict(), 'attn_decoder1-model.pt')"
      ],
      "metadata": {
        "id": "vwIDVZ1ZszdA"
      },
      "execution_count": 51,
      "outputs": []
    },
    {
      "cell_type": "code",
      "source": [
        "hidden_size = 256\n",
        "encoder_saved = EncoderRNN(input_sequence.n_words, hidden_size).to(device)\n",
        "attn_decoder_saved = AttnDecoderRNN(hidden_size, output_sequence.n_words, dropout_p=0.1).to(device)"
      ],
      "metadata": {
        "id": "PYvmBD1As3Ul"
      },
      "execution_count": 52,
      "outputs": []
    },
    {
      "cell_type": "code",
      "source": [
        "encoder_saved.load_state_dict(torch.load('encoder1-model.pt'))\n",
        "attn_decoder_saved.load_state_dict(torch.load('attn_decoder1-model.pt'))"
      ],
      "metadata": {
        "colab": {
          "base_uri": "https://localhost:8080/"
        },
        "id": "yVm4FV7vtk3I",
        "outputId": "62913d25-3826-46eb-8b03-fb73410b5d5c"
      },
      "execution_count": 53,
      "outputs": [
        {
          "output_type": "execute_result",
          "data": {
            "text/plain": [
              "<All keys matched successfully>"
            ]
          },
          "metadata": {},
          "execution_count": 53
        }
      ]
    },
    {
      "cell_type": "code",
      "source": [
        "evaluate_saved_model(\"is the person {PERSON 1} related to the person {PERSON 2}\", encoder_saved, attn_decoder_saved)"
      ],
      "metadata": {
        "colab": {
          "base_uri": "https://localhost:8080/"
        },
        "id": "qnt-Qd5Xttfs",
        "outputId": "d1d42cb5-79e6-43ab-e47e-6bbcf65ec44b"
      },
      "execution_count": 54,
      "outputs": [
        {
          "output_type": "stream",
          "name": "stdout",
          "text": [
            "input = is the person {PERSON 1} related to the person {PERSON 2}\n",
            "output = SUBJECT Person | CONDITION name = {PERSON 1} | OPERATION SHORTEST_PATH | OBJECT Person | CONDITION name = {PERSON 2} <EOS>\n"
          ]
        }
      ]
    },
    {
      "cell_type": "code",
      "source": [
        ""
      ],
      "metadata": {
        "id": "P6QuqaBFt4Md"
      },
      "execution_count": null,
      "outputs": []
    }
  ]
}