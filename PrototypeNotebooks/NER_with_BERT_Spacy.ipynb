{
  "nbformat": 4,
  "nbformat_minor": 0,
  "metadata": {
    "colab": {
      "name": "NER with BERT / Spacy.ipynb",
      "provenance": [],
      "collapsed_sections": []
    },
    "kernelspec": {
      "name": "python3",
      "display_name": "Python 3"
    },
    "language_info": {
      "name": "python"
    },
    "widgets": {
      "application/vnd.jupyter.widget-state+json": {
        "721833dd5ca449a1a24bfdbb5c68f6af": {
          "model_module": "@jupyter-widgets/controls",
          "model_name": "HBoxModel",
          "model_module_version": "1.5.0",
          "state": {
            "_dom_classes": [],
            "_model_module": "@jupyter-widgets/controls",
            "_model_module_version": "1.5.0",
            "_model_name": "HBoxModel",
            "_view_count": null,
            "_view_module": "@jupyter-widgets/controls",
            "_view_module_version": "1.5.0",
            "_view_name": "HBoxView",
            "box_style": "",
            "children": [
              "IPY_MODEL_f25ac4392a614799be943d41b0f7d8f6",
              "IPY_MODEL_037d8261740c41d8b94898b3cdd17185",
              "IPY_MODEL_30f471a1c60d483ca22ffb4de85b7fb6"
            ],
            "layout": "IPY_MODEL_c4362c3c74114fb99321712c64e58347"
          }
        },
        "f25ac4392a614799be943d41b0f7d8f6": {
          "model_module": "@jupyter-widgets/controls",
          "model_name": "HTMLModel",
          "model_module_version": "1.5.0",
          "state": {
            "_dom_classes": [],
            "_model_module": "@jupyter-widgets/controls",
            "_model_module_version": "1.5.0",
            "_model_name": "HTMLModel",
            "_view_count": null,
            "_view_module": "@jupyter-widgets/controls",
            "_view_module_version": "1.5.0",
            "_view_name": "HTMLView",
            "description": "",
            "description_tooltip": null,
            "layout": "IPY_MODEL_838b7c184c464d02af922f46d1a38365",
            "placeholder": "​",
            "style": "IPY_MODEL_dd6c981cfcdb4a60bf13e97c74c76bb7",
            "value": "Downloading: 100%"
          }
        },
        "037d8261740c41d8b94898b3cdd17185": {
          "model_module": "@jupyter-widgets/controls",
          "model_name": "FloatProgressModel",
          "model_module_version": "1.5.0",
          "state": {
            "_dom_classes": [],
            "_model_module": "@jupyter-widgets/controls",
            "_model_module_version": "1.5.0",
            "_model_name": "FloatProgressModel",
            "_view_count": null,
            "_view_module": "@jupyter-widgets/controls",
            "_view_module_version": "1.5.0",
            "_view_name": "ProgressView",
            "bar_style": "success",
            "description": "",
            "description_tooltip": null,
            "layout": "IPY_MODEL_ed46b49d7890467281c46d480eaa205b",
            "max": 59,
            "min": 0,
            "orientation": "horizontal",
            "style": "IPY_MODEL_6c2ddc4a789a4cfc817e8e1767d33129",
            "value": 59
          }
        },
        "30f471a1c60d483ca22ffb4de85b7fb6": {
          "model_module": "@jupyter-widgets/controls",
          "model_name": "HTMLModel",
          "model_module_version": "1.5.0",
          "state": {
            "_dom_classes": [],
            "_model_module": "@jupyter-widgets/controls",
            "_model_module_version": "1.5.0",
            "_model_name": "HTMLModel",
            "_view_count": null,
            "_view_module": "@jupyter-widgets/controls",
            "_view_module_version": "1.5.0",
            "_view_name": "HTMLView",
            "description": "",
            "description_tooltip": null,
            "layout": "IPY_MODEL_6f60e91170ab4dc49be0c6155226f149",
            "placeholder": "​",
            "style": "IPY_MODEL_0c8bccf4cd154e2585cc1c0a52b98b37",
            "value": " 59.0/59.0 [00:00&lt;00:00, 538B/s]"
          }
        },
        "c4362c3c74114fb99321712c64e58347": {
          "model_module": "@jupyter-widgets/base",
          "model_name": "LayoutModel",
          "model_module_version": "1.2.0",
          "state": {
            "_model_module": "@jupyter-widgets/base",
            "_model_module_version": "1.2.0",
            "_model_name": "LayoutModel",
            "_view_count": null,
            "_view_module": "@jupyter-widgets/base",
            "_view_module_version": "1.2.0",
            "_view_name": "LayoutView",
            "align_content": null,
            "align_items": null,
            "align_self": null,
            "border": null,
            "bottom": null,
            "display": null,
            "flex": null,
            "flex_flow": null,
            "grid_area": null,
            "grid_auto_columns": null,
            "grid_auto_flow": null,
            "grid_auto_rows": null,
            "grid_column": null,
            "grid_gap": null,
            "grid_row": null,
            "grid_template_areas": null,
            "grid_template_columns": null,
            "grid_template_rows": null,
            "height": null,
            "justify_content": null,
            "justify_items": null,
            "left": null,
            "margin": null,
            "max_height": null,
            "max_width": null,
            "min_height": null,
            "min_width": null,
            "object_fit": null,
            "object_position": null,
            "order": null,
            "overflow": null,
            "overflow_x": null,
            "overflow_y": null,
            "padding": null,
            "right": null,
            "top": null,
            "visibility": null,
            "width": null
          }
        },
        "838b7c184c464d02af922f46d1a38365": {
          "model_module": "@jupyter-widgets/base",
          "model_name": "LayoutModel",
          "model_module_version": "1.2.0",
          "state": {
            "_model_module": "@jupyter-widgets/base",
            "_model_module_version": "1.2.0",
            "_model_name": "LayoutModel",
            "_view_count": null,
            "_view_module": "@jupyter-widgets/base",
            "_view_module_version": "1.2.0",
            "_view_name": "LayoutView",
            "align_content": null,
            "align_items": null,
            "align_self": null,
            "border": null,
            "bottom": null,
            "display": null,
            "flex": null,
            "flex_flow": null,
            "grid_area": null,
            "grid_auto_columns": null,
            "grid_auto_flow": null,
            "grid_auto_rows": null,
            "grid_column": null,
            "grid_gap": null,
            "grid_row": null,
            "grid_template_areas": null,
            "grid_template_columns": null,
            "grid_template_rows": null,
            "height": null,
            "justify_content": null,
            "justify_items": null,
            "left": null,
            "margin": null,
            "max_height": null,
            "max_width": null,
            "min_height": null,
            "min_width": null,
            "object_fit": null,
            "object_position": null,
            "order": null,
            "overflow": null,
            "overflow_x": null,
            "overflow_y": null,
            "padding": null,
            "right": null,
            "top": null,
            "visibility": null,
            "width": null
          }
        },
        "dd6c981cfcdb4a60bf13e97c74c76bb7": {
          "model_module": "@jupyter-widgets/controls",
          "model_name": "DescriptionStyleModel",
          "model_module_version": "1.5.0",
          "state": {
            "_model_module": "@jupyter-widgets/controls",
            "_model_module_version": "1.5.0",
            "_model_name": "DescriptionStyleModel",
            "_view_count": null,
            "_view_module": "@jupyter-widgets/base",
            "_view_module_version": "1.2.0",
            "_view_name": "StyleView",
            "description_width": ""
          }
        },
        "ed46b49d7890467281c46d480eaa205b": {
          "model_module": "@jupyter-widgets/base",
          "model_name": "LayoutModel",
          "model_module_version": "1.2.0",
          "state": {
            "_model_module": "@jupyter-widgets/base",
            "_model_module_version": "1.2.0",
            "_model_name": "LayoutModel",
            "_view_count": null,
            "_view_module": "@jupyter-widgets/base",
            "_view_module_version": "1.2.0",
            "_view_name": "LayoutView",
            "align_content": null,
            "align_items": null,
            "align_self": null,
            "border": null,
            "bottom": null,
            "display": null,
            "flex": null,
            "flex_flow": null,
            "grid_area": null,
            "grid_auto_columns": null,
            "grid_auto_flow": null,
            "grid_auto_rows": null,
            "grid_column": null,
            "grid_gap": null,
            "grid_row": null,
            "grid_template_areas": null,
            "grid_template_columns": null,
            "grid_template_rows": null,
            "height": null,
            "justify_content": null,
            "justify_items": null,
            "left": null,
            "margin": null,
            "max_height": null,
            "max_width": null,
            "min_height": null,
            "min_width": null,
            "object_fit": null,
            "object_position": null,
            "order": null,
            "overflow": null,
            "overflow_x": null,
            "overflow_y": null,
            "padding": null,
            "right": null,
            "top": null,
            "visibility": null,
            "width": null
          }
        },
        "6c2ddc4a789a4cfc817e8e1767d33129": {
          "model_module": "@jupyter-widgets/controls",
          "model_name": "ProgressStyleModel",
          "model_module_version": "1.5.0",
          "state": {
            "_model_module": "@jupyter-widgets/controls",
            "_model_module_version": "1.5.0",
            "_model_name": "ProgressStyleModel",
            "_view_count": null,
            "_view_module": "@jupyter-widgets/base",
            "_view_module_version": "1.2.0",
            "_view_name": "StyleView",
            "bar_color": null,
            "description_width": ""
          }
        },
        "6f60e91170ab4dc49be0c6155226f149": {
          "model_module": "@jupyter-widgets/base",
          "model_name": "LayoutModel",
          "model_module_version": "1.2.0",
          "state": {
            "_model_module": "@jupyter-widgets/base",
            "_model_module_version": "1.2.0",
            "_model_name": "LayoutModel",
            "_view_count": null,
            "_view_module": "@jupyter-widgets/base",
            "_view_module_version": "1.2.0",
            "_view_name": "LayoutView",
            "align_content": null,
            "align_items": null,
            "align_self": null,
            "border": null,
            "bottom": null,
            "display": null,
            "flex": null,
            "flex_flow": null,
            "grid_area": null,
            "grid_auto_columns": null,
            "grid_auto_flow": null,
            "grid_auto_rows": null,
            "grid_column": null,
            "grid_gap": null,
            "grid_row": null,
            "grid_template_areas": null,
            "grid_template_columns": null,
            "grid_template_rows": null,
            "height": null,
            "justify_content": null,
            "justify_items": null,
            "left": null,
            "margin": null,
            "max_height": null,
            "max_width": null,
            "min_height": null,
            "min_width": null,
            "object_fit": null,
            "object_position": null,
            "order": null,
            "overflow": null,
            "overflow_x": null,
            "overflow_y": null,
            "padding": null,
            "right": null,
            "top": null,
            "visibility": null,
            "width": null
          }
        },
        "0c8bccf4cd154e2585cc1c0a52b98b37": {
          "model_module": "@jupyter-widgets/controls",
          "model_name": "DescriptionStyleModel",
          "model_module_version": "1.5.0",
          "state": {
            "_model_module": "@jupyter-widgets/controls",
            "_model_module_version": "1.5.0",
            "_model_name": "DescriptionStyleModel",
            "_view_count": null,
            "_view_module": "@jupyter-widgets/base",
            "_view_module_version": "1.2.0",
            "_view_name": "StyleView",
            "description_width": ""
          }
        },
        "383c52503fc640f1a1115e00c1dee547": {
          "model_module": "@jupyter-widgets/controls",
          "model_name": "HBoxModel",
          "model_module_version": "1.5.0",
          "state": {
            "_dom_classes": [],
            "_model_module": "@jupyter-widgets/controls",
            "_model_module_version": "1.5.0",
            "_model_name": "HBoxModel",
            "_view_count": null,
            "_view_module": "@jupyter-widgets/controls",
            "_view_module_version": "1.5.0",
            "_view_name": "HBoxView",
            "box_style": "",
            "children": [
              "IPY_MODEL_701a633cf3764b628e74915cd2f804d3",
              "IPY_MODEL_352146b1a81b4e829fc8ac1d5747fb08",
              "IPY_MODEL_eafa6369816044db967d76fad7b6d072"
            ],
            "layout": "IPY_MODEL_5f90d449e63b44838fda1d1a61730bf4"
          }
        },
        "701a633cf3764b628e74915cd2f804d3": {
          "model_module": "@jupyter-widgets/controls",
          "model_name": "HTMLModel",
          "model_module_version": "1.5.0",
          "state": {
            "_dom_classes": [],
            "_model_module": "@jupyter-widgets/controls",
            "_model_module_version": "1.5.0",
            "_model_name": "HTMLModel",
            "_view_count": null,
            "_view_module": "@jupyter-widgets/controls",
            "_view_module_version": "1.5.0",
            "_view_name": "HTMLView",
            "description": "",
            "description_tooltip": null,
            "layout": "IPY_MODEL_e6fb8240acae4cfdb7905d5ee94538a0",
            "placeholder": "​",
            "style": "IPY_MODEL_948d7faf46454a7f9485827b4c82c2ac",
            "value": "Downloading: 100%"
          }
        },
        "352146b1a81b4e829fc8ac1d5747fb08": {
          "model_module": "@jupyter-widgets/controls",
          "model_name": "FloatProgressModel",
          "model_module_version": "1.5.0",
          "state": {
            "_dom_classes": [],
            "_model_module": "@jupyter-widgets/controls",
            "_model_module_version": "1.5.0",
            "_model_name": "FloatProgressModel",
            "_view_count": null,
            "_view_module": "@jupyter-widgets/controls",
            "_view_module_version": "1.5.0",
            "_view_name": "ProgressView",
            "bar_style": "success",
            "description": "",
            "description_tooltip": null,
            "layout": "IPY_MODEL_9b5030ef3408493bbcadbef3d9e7707a",
            "max": 829,
            "min": 0,
            "orientation": "horizontal",
            "style": "IPY_MODEL_058fb18a64404f3dbd88d11027f06df8",
            "value": 829
          }
        },
        "eafa6369816044db967d76fad7b6d072": {
          "model_module": "@jupyter-widgets/controls",
          "model_name": "HTMLModel",
          "model_module_version": "1.5.0",
          "state": {
            "_dom_classes": [],
            "_model_module": "@jupyter-widgets/controls",
            "_model_module_version": "1.5.0",
            "_model_name": "HTMLModel",
            "_view_count": null,
            "_view_module": "@jupyter-widgets/controls",
            "_view_module_version": "1.5.0",
            "_view_name": "HTMLView",
            "description": "",
            "description_tooltip": null,
            "layout": "IPY_MODEL_31946b87849342838a1e7d5f8891ac7c",
            "placeholder": "​",
            "style": "IPY_MODEL_69d92f59e24c41b8955ed55aa344b435",
            "value": " 829/829 [00:00&lt;00:00, 7.71kB/s]"
          }
        },
        "5f90d449e63b44838fda1d1a61730bf4": {
          "model_module": "@jupyter-widgets/base",
          "model_name": "LayoutModel",
          "model_module_version": "1.2.0",
          "state": {
            "_model_module": "@jupyter-widgets/base",
            "_model_module_version": "1.2.0",
            "_model_name": "LayoutModel",
            "_view_count": null,
            "_view_module": "@jupyter-widgets/base",
            "_view_module_version": "1.2.0",
            "_view_name": "LayoutView",
            "align_content": null,
            "align_items": null,
            "align_self": null,
            "border": null,
            "bottom": null,
            "display": null,
            "flex": null,
            "flex_flow": null,
            "grid_area": null,
            "grid_auto_columns": null,
            "grid_auto_flow": null,
            "grid_auto_rows": null,
            "grid_column": null,
            "grid_gap": null,
            "grid_row": null,
            "grid_template_areas": null,
            "grid_template_columns": null,
            "grid_template_rows": null,
            "height": null,
            "justify_content": null,
            "justify_items": null,
            "left": null,
            "margin": null,
            "max_height": null,
            "max_width": null,
            "min_height": null,
            "min_width": null,
            "object_fit": null,
            "object_position": null,
            "order": null,
            "overflow": null,
            "overflow_x": null,
            "overflow_y": null,
            "padding": null,
            "right": null,
            "top": null,
            "visibility": null,
            "width": null
          }
        },
        "e6fb8240acae4cfdb7905d5ee94538a0": {
          "model_module": "@jupyter-widgets/base",
          "model_name": "LayoutModel",
          "model_module_version": "1.2.0",
          "state": {
            "_model_module": "@jupyter-widgets/base",
            "_model_module_version": "1.2.0",
            "_model_name": "LayoutModel",
            "_view_count": null,
            "_view_module": "@jupyter-widgets/base",
            "_view_module_version": "1.2.0",
            "_view_name": "LayoutView",
            "align_content": null,
            "align_items": null,
            "align_self": null,
            "border": null,
            "bottom": null,
            "display": null,
            "flex": null,
            "flex_flow": null,
            "grid_area": null,
            "grid_auto_columns": null,
            "grid_auto_flow": null,
            "grid_auto_rows": null,
            "grid_column": null,
            "grid_gap": null,
            "grid_row": null,
            "grid_template_areas": null,
            "grid_template_columns": null,
            "grid_template_rows": null,
            "height": null,
            "justify_content": null,
            "justify_items": null,
            "left": null,
            "margin": null,
            "max_height": null,
            "max_width": null,
            "min_height": null,
            "min_width": null,
            "object_fit": null,
            "object_position": null,
            "order": null,
            "overflow": null,
            "overflow_x": null,
            "overflow_y": null,
            "padding": null,
            "right": null,
            "top": null,
            "visibility": null,
            "width": null
          }
        },
        "948d7faf46454a7f9485827b4c82c2ac": {
          "model_module": "@jupyter-widgets/controls",
          "model_name": "DescriptionStyleModel",
          "model_module_version": "1.5.0",
          "state": {
            "_model_module": "@jupyter-widgets/controls",
            "_model_module_version": "1.5.0",
            "_model_name": "DescriptionStyleModel",
            "_view_count": null,
            "_view_module": "@jupyter-widgets/base",
            "_view_module_version": "1.2.0",
            "_view_name": "StyleView",
            "description_width": ""
          }
        },
        "9b5030ef3408493bbcadbef3d9e7707a": {
          "model_module": "@jupyter-widgets/base",
          "model_name": "LayoutModel",
          "model_module_version": "1.2.0",
          "state": {
            "_model_module": "@jupyter-widgets/base",
            "_model_module_version": "1.2.0",
            "_model_name": "LayoutModel",
            "_view_count": null,
            "_view_module": "@jupyter-widgets/base",
            "_view_module_version": "1.2.0",
            "_view_name": "LayoutView",
            "align_content": null,
            "align_items": null,
            "align_self": null,
            "border": null,
            "bottom": null,
            "display": null,
            "flex": null,
            "flex_flow": null,
            "grid_area": null,
            "grid_auto_columns": null,
            "grid_auto_flow": null,
            "grid_auto_rows": null,
            "grid_column": null,
            "grid_gap": null,
            "grid_row": null,
            "grid_template_areas": null,
            "grid_template_columns": null,
            "grid_template_rows": null,
            "height": null,
            "justify_content": null,
            "justify_items": null,
            "left": null,
            "margin": null,
            "max_height": null,
            "max_width": null,
            "min_height": null,
            "min_width": null,
            "object_fit": null,
            "object_position": null,
            "order": null,
            "overflow": null,
            "overflow_x": null,
            "overflow_y": null,
            "padding": null,
            "right": null,
            "top": null,
            "visibility": null,
            "width": null
          }
        },
        "058fb18a64404f3dbd88d11027f06df8": {
          "model_module": "@jupyter-widgets/controls",
          "model_name": "ProgressStyleModel",
          "model_module_version": "1.5.0",
          "state": {
            "_model_module": "@jupyter-widgets/controls",
            "_model_module_version": "1.5.0",
            "_model_name": "ProgressStyleModel",
            "_view_count": null,
            "_view_module": "@jupyter-widgets/base",
            "_view_module_version": "1.2.0",
            "_view_name": "StyleView",
            "bar_color": null,
            "description_width": ""
          }
        },
        "31946b87849342838a1e7d5f8891ac7c": {
          "model_module": "@jupyter-widgets/base",
          "model_name": "LayoutModel",
          "model_module_version": "1.2.0",
          "state": {
            "_model_module": "@jupyter-widgets/base",
            "_model_module_version": "1.2.0",
            "_model_name": "LayoutModel",
            "_view_count": null,
            "_view_module": "@jupyter-widgets/base",
            "_view_module_version": "1.2.0",
            "_view_name": "LayoutView",
            "align_content": null,
            "align_items": null,
            "align_self": null,
            "border": null,
            "bottom": null,
            "display": null,
            "flex": null,
            "flex_flow": null,
            "grid_area": null,
            "grid_auto_columns": null,
            "grid_auto_flow": null,
            "grid_auto_rows": null,
            "grid_column": null,
            "grid_gap": null,
            "grid_row": null,
            "grid_template_areas": null,
            "grid_template_columns": null,
            "grid_template_rows": null,
            "height": null,
            "justify_content": null,
            "justify_items": null,
            "left": null,
            "margin": null,
            "max_height": null,
            "max_width": null,
            "min_height": null,
            "min_width": null,
            "object_fit": null,
            "object_position": null,
            "order": null,
            "overflow": null,
            "overflow_x": null,
            "overflow_y": null,
            "padding": null,
            "right": null,
            "top": null,
            "visibility": null,
            "width": null
          }
        },
        "69d92f59e24c41b8955ed55aa344b435": {
          "model_module": "@jupyter-widgets/controls",
          "model_name": "DescriptionStyleModel",
          "model_module_version": "1.5.0",
          "state": {
            "_model_module": "@jupyter-widgets/controls",
            "_model_module_version": "1.5.0",
            "_model_name": "DescriptionStyleModel",
            "_view_count": null,
            "_view_module": "@jupyter-widgets/base",
            "_view_module_version": "1.2.0",
            "_view_name": "StyleView",
            "description_width": ""
          }
        },
        "eb9d6de1a0704f0eb9a4c67ee7759e12": {
          "model_module": "@jupyter-widgets/controls",
          "model_name": "HBoxModel",
          "model_module_version": "1.5.0",
          "state": {
            "_dom_classes": [],
            "_model_module": "@jupyter-widgets/controls",
            "_model_module_version": "1.5.0",
            "_model_name": "HBoxModel",
            "_view_count": null,
            "_view_module": "@jupyter-widgets/controls",
            "_view_module_version": "1.5.0",
            "_view_name": "HBoxView",
            "box_style": "",
            "children": [
              "IPY_MODEL_5b9a1c19adf34e7ba28cf56fa6208f77",
              "IPY_MODEL_213a566746514b3eb8a57ae4c3d97174",
              "IPY_MODEL_c612e5bc33a74944a0dbadbc657bd2d8"
            ],
            "layout": "IPY_MODEL_e526b52851404e4e9bf6fc24635a9791"
          }
        },
        "5b9a1c19adf34e7ba28cf56fa6208f77": {
          "model_module": "@jupyter-widgets/controls",
          "model_name": "HTMLModel",
          "model_module_version": "1.5.0",
          "state": {
            "_dom_classes": [],
            "_model_module": "@jupyter-widgets/controls",
            "_model_module_version": "1.5.0",
            "_model_name": "HTMLModel",
            "_view_count": null,
            "_view_module": "@jupyter-widgets/controls",
            "_view_module_version": "1.5.0",
            "_view_name": "HTMLView",
            "description": "",
            "description_tooltip": null,
            "layout": "IPY_MODEL_7f32ab4990af4f3e93d6ca66fc78fc22",
            "placeholder": "​",
            "style": "IPY_MODEL_34199126223a4ac897ceb9a4d83e0e51",
            "value": "Downloading: 100%"
          }
        },
        "213a566746514b3eb8a57ae4c3d97174": {
          "model_module": "@jupyter-widgets/controls",
          "model_name": "FloatProgressModel",
          "model_module_version": "1.5.0",
          "state": {
            "_dom_classes": [],
            "_model_module": "@jupyter-widgets/controls",
            "_model_module_version": "1.5.0",
            "_model_name": "FloatProgressModel",
            "_view_count": null,
            "_view_module": "@jupyter-widgets/controls",
            "_view_module_version": "1.5.0",
            "_view_name": "ProgressView",
            "bar_style": "success",
            "description": "",
            "description_tooltip": null,
            "layout": "IPY_MODEL_8c84f9bf6cd64376ad8b95784cfe5554",
            "max": 213450,
            "min": 0,
            "orientation": "horizontal",
            "style": "IPY_MODEL_4a63cc11c3474cce808d6e863f5d884c",
            "value": 213450
          }
        },
        "c612e5bc33a74944a0dbadbc657bd2d8": {
          "model_module": "@jupyter-widgets/controls",
          "model_name": "HTMLModel",
          "model_module_version": "1.5.0",
          "state": {
            "_dom_classes": [],
            "_model_module": "@jupyter-widgets/controls",
            "_model_module_version": "1.5.0",
            "_model_name": "HTMLModel",
            "_view_count": null,
            "_view_module": "@jupyter-widgets/controls",
            "_view_module_version": "1.5.0",
            "_view_name": "HTMLView",
            "description": "",
            "description_tooltip": null,
            "layout": "IPY_MODEL_5fc6019e00a54fd1a9fbde34dcb75f3c",
            "placeholder": "​",
            "style": "IPY_MODEL_6754e1031d6d438cbc42712f74cedb45",
            "value": " 208k/208k [00:00&lt;00:00, 9.93kB/s]"
          }
        },
        "e526b52851404e4e9bf6fc24635a9791": {
          "model_module": "@jupyter-widgets/base",
          "model_name": "LayoutModel",
          "model_module_version": "1.2.0",
          "state": {
            "_model_module": "@jupyter-widgets/base",
            "_model_module_version": "1.2.0",
            "_model_name": "LayoutModel",
            "_view_count": null,
            "_view_module": "@jupyter-widgets/base",
            "_view_module_version": "1.2.0",
            "_view_name": "LayoutView",
            "align_content": null,
            "align_items": null,
            "align_self": null,
            "border": null,
            "bottom": null,
            "display": null,
            "flex": null,
            "flex_flow": null,
            "grid_area": null,
            "grid_auto_columns": null,
            "grid_auto_flow": null,
            "grid_auto_rows": null,
            "grid_column": null,
            "grid_gap": null,
            "grid_row": null,
            "grid_template_areas": null,
            "grid_template_columns": null,
            "grid_template_rows": null,
            "height": null,
            "justify_content": null,
            "justify_items": null,
            "left": null,
            "margin": null,
            "max_height": null,
            "max_width": null,
            "min_height": null,
            "min_width": null,
            "object_fit": null,
            "object_position": null,
            "order": null,
            "overflow": null,
            "overflow_x": null,
            "overflow_y": null,
            "padding": null,
            "right": null,
            "top": null,
            "visibility": null,
            "width": null
          }
        },
        "7f32ab4990af4f3e93d6ca66fc78fc22": {
          "model_module": "@jupyter-widgets/base",
          "model_name": "LayoutModel",
          "model_module_version": "1.2.0",
          "state": {
            "_model_module": "@jupyter-widgets/base",
            "_model_module_version": "1.2.0",
            "_model_name": "LayoutModel",
            "_view_count": null,
            "_view_module": "@jupyter-widgets/base",
            "_view_module_version": "1.2.0",
            "_view_name": "LayoutView",
            "align_content": null,
            "align_items": null,
            "align_self": null,
            "border": null,
            "bottom": null,
            "display": null,
            "flex": null,
            "flex_flow": null,
            "grid_area": null,
            "grid_auto_columns": null,
            "grid_auto_flow": null,
            "grid_auto_rows": null,
            "grid_column": null,
            "grid_gap": null,
            "grid_row": null,
            "grid_template_areas": null,
            "grid_template_columns": null,
            "grid_template_rows": null,
            "height": null,
            "justify_content": null,
            "justify_items": null,
            "left": null,
            "margin": null,
            "max_height": null,
            "max_width": null,
            "min_height": null,
            "min_width": null,
            "object_fit": null,
            "object_position": null,
            "order": null,
            "overflow": null,
            "overflow_x": null,
            "overflow_y": null,
            "padding": null,
            "right": null,
            "top": null,
            "visibility": null,
            "width": null
          }
        },
        "34199126223a4ac897ceb9a4d83e0e51": {
          "model_module": "@jupyter-widgets/controls",
          "model_name": "DescriptionStyleModel",
          "model_module_version": "1.5.0",
          "state": {
            "_model_module": "@jupyter-widgets/controls",
            "_model_module_version": "1.5.0",
            "_model_name": "DescriptionStyleModel",
            "_view_count": null,
            "_view_module": "@jupyter-widgets/base",
            "_view_module_version": "1.2.0",
            "_view_name": "StyleView",
            "description_width": ""
          }
        },
        "8c84f9bf6cd64376ad8b95784cfe5554": {
          "model_module": "@jupyter-widgets/base",
          "model_name": "LayoutModel",
          "model_module_version": "1.2.0",
          "state": {
            "_model_module": "@jupyter-widgets/base",
            "_model_module_version": "1.2.0",
            "_model_name": "LayoutModel",
            "_view_count": null,
            "_view_module": "@jupyter-widgets/base",
            "_view_module_version": "1.2.0",
            "_view_name": "LayoutView",
            "align_content": null,
            "align_items": null,
            "align_self": null,
            "border": null,
            "bottom": null,
            "display": null,
            "flex": null,
            "flex_flow": null,
            "grid_area": null,
            "grid_auto_columns": null,
            "grid_auto_flow": null,
            "grid_auto_rows": null,
            "grid_column": null,
            "grid_gap": null,
            "grid_row": null,
            "grid_template_areas": null,
            "grid_template_columns": null,
            "grid_template_rows": null,
            "height": null,
            "justify_content": null,
            "justify_items": null,
            "left": null,
            "margin": null,
            "max_height": null,
            "max_width": null,
            "min_height": null,
            "min_width": null,
            "object_fit": null,
            "object_position": null,
            "order": null,
            "overflow": null,
            "overflow_x": null,
            "overflow_y": null,
            "padding": null,
            "right": null,
            "top": null,
            "visibility": null,
            "width": null
          }
        },
        "4a63cc11c3474cce808d6e863f5d884c": {
          "model_module": "@jupyter-widgets/controls",
          "model_name": "ProgressStyleModel",
          "model_module_version": "1.5.0",
          "state": {
            "_model_module": "@jupyter-widgets/controls",
            "_model_module_version": "1.5.0",
            "_model_name": "ProgressStyleModel",
            "_view_count": null,
            "_view_module": "@jupyter-widgets/base",
            "_view_module_version": "1.2.0",
            "_view_name": "StyleView",
            "bar_color": null,
            "description_width": ""
          }
        },
        "5fc6019e00a54fd1a9fbde34dcb75f3c": {
          "model_module": "@jupyter-widgets/base",
          "model_name": "LayoutModel",
          "model_module_version": "1.2.0",
          "state": {
            "_model_module": "@jupyter-widgets/base",
            "_model_module_version": "1.2.0",
            "_model_name": "LayoutModel",
            "_view_count": null,
            "_view_module": "@jupyter-widgets/base",
            "_view_module_version": "1.2.0",
            "_view_name": "LayoutView",
            "align_content": null,
            "align_items": null,
            "align_self": null,
            "border": null,
            "bottom": null,
            "display": null,
            "flex": null,
            "flex_flow": null,
            "grid_area": null,
            "grid_auto_columns": null,
            "grid_auto_flow": null,
            "grid_auto_rows": null,
            "grid_column": null,
            "grid_gap": null,
            "grid_row": null,
            "grid_template_areas": null,
            "grid_template_columns": null,
            "grid_template_rows": null,
            "height": null,
            "justify_content": null,
            "justify_items": null,
            "left": null,
            "margin": null,
            "max_height": null,
            "max_width": null,
            "min_height": null,
            "min_width": null,
            "object_fit": null,
            "object_position": null,
            "order": null,
            "overflow": null,
            "overflow_x": null,
            "overflow_y": null,
            "padding": null,
            "right": null,
            "top": null,
            "visibility": null,
            "width": null
          }
        },
        "6754e1031d6d438cbc42712f74cedb45": {
          "model_module": "@jupyter-widgets/controls",
          "model_name": "DescriptionStyleModel",
          "model_module_version": "1.5.0",
          "state": {
            "_model_module": "@jupyter-widgets/controls",
            "_model_module_version": "1.5.0",
            "_model_name": "DescriptionStyleModel",
            "_view_count": null,
            "_view_module": "@jupyter-widgets/base",
            "_view_module_version": "1.2.0",
            "_view_name": "StyleView",
            "description_width": ""
          }
        },
        "602259e119de4bfbb6600c92b72c43df": {
          "model_module": "@jupyter-widgets/controls",
          "model_name": "HBoxModel",
          "model_module_version": "1.5.0",
          "state": {
            "_dom_classes": [],
            "_model_module": "@jupyter-widgets/controls",
            "_model_module_version": "1.5.0",
            "_model_name": "HBoxModel",
            "_view_count": null,
            "_view_module": "@jupyter-widgets/controls",
            "_view_module_version": "1.5.0",
            "_view_name": "HBoxView",
            "box_style": "",
            "children": [
              "IPY_MODEL_098a5d5d6aa04d89b8e959b5caf09e5a",
              "IPY_MODEL_82d548bc91d44ea8a36d57547ecd8b7c",
              "IPY_MODEL_3235d8c1b57b425f9a451984ef1f7d01"
            ],
            "layout": "IPY_MODEL_4606cd7f0e424700b14bae991d04b40f"
          }
        },
        "098a5d5d6aa04d89b8e959b5caf09e5a": {
          "model_module": "@jupyter-widgets/controls",
          "model_name": "HTMLModel",
          "model_module_version": "1.5.0",
          "state": {
            "_dom_classes": [],
            "_model_module": "@jupyter-widgets/controls",
            "_model_module_version": "1.5.0",
            "_model_name": "HTMLModel",
            "_view_count": null,
            "_view_module": "@jupyter-widgets/controls",
            "_view_module_version": "1.5.0",
            "_view_name": "HTMLView",
            "description": "",
            "description_tooltip": null,
            "layout": "IPY_MODEL_53f7a9fa6eb0425e8df54be508a0a780",
            "placeholder": "​",
            "style": "IPY_MODEL_a55e4ebc5b3b4edf9e062f97a10b080a",
            "value": "Downloading: 100%"
          }
        },
        "82d548bc91d44ea8a36d57547ecd8b7c": {
          "model_module": "@jupyter-widgets/controls",
          "model_name": "FloatProgressModel",
          "model_module_version": "1.5.0",
          "state": {
            "_dom_classes": [],
            "_model_module": "@jupyter-widgets/controls",
            "_model_module_version": "1.5.0",
            "_model_name": "FloatProgressModel",
            "_view_count": null,
            "_view_module": "@jupyter-widgets/controls",
            "_view_module_version": "1.5.0",
            "_view_name": "ProgressView",
            "bar_style": "success",
            "description": "",
            "description_tooltip": null,
            "layout": "IPY_MODEL_f270f4c6af7547e7ad2b6111b9d6d23d",
            "max": 2,
            "min": 0,
            "orientation": "horizontal",
            "style": "IPY_MODEL_c8246c9b99ae415dbfdd9ab3caf8de4f",
            "value": 2
          }
        },
        "3235d8c1b57b425f9a451984ef1f7d01": {
          "model_module": "@jupyter-widgets/controls",
          "model_name": "HTMLModel",
          "model_module_version": "1.5.0",
          "state": {
            "_dom_classes": [],
            "_model_module": "@jupyter-widgets/controls",
            "_model_module_version": "1.5.0",
            "_model_name": "HTMLModel",
            "_view_count": null,
            "_view_module": "@jupyter-widgets/controls",
            "_view_module_version": "1.5.0",
            "_view_name": "HTMLView",
            "description": "",
            "description_tooltip": null,
            "layout": "IPY_MODEL_3db97c272e2a417cb583dc6c6b87cb3a",
            "placeholder": "​",
            "style": "IPY_MODEL_dcebc185050e4f3190cb6f5ea088d3da",
            "value": " 2.00/2.00 [00:00&lt;00:00, 11.9B/s]"
          }
        },
        "4606cd7f0e424700b14bae991d04b40f": {
          "model_module": "@jupyter-widgets/base",
          "model_name": "LayoutModel",
          "model_module_version": "1.2.0",
          "state": {
            "_model_module": "@jupyter-widgets/base",
            "_model_module_version": "1.2.0",
            "_model_name": "LayoutModel",
            "_view_count": null,
            "_view_module": "@jupyter-widgets/base",
            "_view_module_version": "1.2.0",
            "_view_name": "LayoutView",
            "align_content": null,
            "align_items": null,
            "align_self": null,
            "border": null,
            "bottom": null,
            "display": null,
            "flex": null,
            "flex_flow": null,
            "grid_area": null,
            "grid_auto_columns": null,
            "grid_auto_flow": null,
            "grid_auto_rows": null,
            "grid_column": null,
            "grid_gap": null,
            "grid_row": null,
            "grid_template_areas": null,
            "grid_template_columns": null,
            "grid_template_rows": null,
            "height": null,
            "justify_content": null,
            "justify_items": null,
            "left": null,
            "margin": null,
            "max_height": null,
            "max_width": null,
            "min_height": null,
            "min_width": null,
            "object_fit": null,
            "object_position": null,
            "order": null,
            "overflow": null,
            "overflow_x": null,
            "overflow_y": null,
            "padding": null,
            "right": null,
            "top": null,
            "visibility": null,
            "width": null
          }
        },
        "53f7a9fa6eb0425e8df54be508a0a780": {
          "model_module": "@jupyter-widgets/base",
          "model_name": "LayoutModel",
          "model_module_version": "1.2.0",
          "state": {
            "_model_module": "@jupyter-widgets/base",
            "_model_module_version": "1.2.0",
            "_model_name": "LayoutModel",
            "_view_count": null,
            "_view_module": "@jupyter-widgets/base",
            "_view_module_version": "1.2.0",
            "_view_name": "LayoutView",
            "align_content": null,
            "align_items": null,
            "align_self": null,
            "border": null,
            "bottom": null,
            "display": null,
            "flex": null,
            "flex_flow": null,
            "grid_area": null,
            "grid_auto_columns": null,
            "grid_auto_flow": null,
            "grid_auto_rows": null,
            "grid_column": null,
            "grid_gap": null,
            "grid_row": null,
            "grid_template_areas": null,
            "grid_template_columns": null,
            "grid_template_rows": null,
            "height": null,
            "justify_content": null,
            "justify_items": null,
            "left": null,
            "margin": null,
            "max_height": null,
            "max_width": null,
            "min_height": null,
            "min_width": null,
            "object_fit": null,
            "object_position": null,
            "order": null,
            "overflow": null,
            "overflow_x": null,
            "overflow_y": null,
            "padding": null,
            "right": null,
            "top": null,
            "visibility": null,
            "width": null
          }
        },
        "a55e4ebc5b3b4edf9e062f97a10b080a": {
          "model_module": "@jupyter-widgets/controls",
          "model_name": "DescriptionStyleModel",
          "model_module_version": "1.5.0",
          "state": {
            "_model_module": "@jupyter-widgets/controls",
            "_model_module_version": "1.5.0",
            "_model_name": "DescriptionStyleModel",
            "_view_count": null,
            "_view_module": "@jupyter-widgets/base",
            "_view_module_version": "1.2.0",
            "_view_name": "StyleView",
            "description_width": ""
          }
        },
        "f270f4c6af7547e7ad2b6111b9d6d23d": {
          "model_module": "@jupyter-widgets/base",
          "model_name": "LayoutModel",
          "model_module_version": "1.2.0",
          "state": {
            "_model_module": "@jupyter-widgets/base",
            "_model_module_version": "1.2.0",
            "_model_name": "LayoutModel",
            "_view_count": null,
            "_view_module": "@jupyter-widgets/base",
            "_view_module_version": "1.2.0",
            "_view_name": "LayoutView",
            "align_content": null,
            "align_items": null,
            "align_self": null,
            "border": null,
            "bottom": null,
            "display": null,
            "flex": null,
            "flex_flow": null,
            "grid_area": null,
            "grid_auto_columns": null,
            "grid_auto_flow": null,
            "grid_auto_rows": null,
            "grid_column": null,
            "grid_gap": null,
            "grid_row": null,
            "grid_template_areas": null,
            "grid_template_columns": null,
            "grid_template_rows": null,
            "height": null,
            "justify_content": null,
            "justify_items": null,
            "left": null,
            "margin": null,
            "max_height": null,
            "max_width": null,
            "min_height": null,
            "min_width": null,
            "object_fit": null,
            "object_position": null,
            "order": null,
            "overflow": null,
            "overflow_x": null,
            "overflow_y": null,
            "padding": null,
            "right": null,
            "top": null,
            "visibility": null,
            "width": null
          }
        },
        "c8246c9b99ae415dbfdd9ab3caf8de4f": {
          "model_module": "@jupyter-widgets/controls",
          "model_name": "ProgressStyleModel",
          "model_module_version": "1.5.0",
          "state": {
            "_model_module": "@jupyter-widgets/controls",
            "_model_module_version": "1.5.0",
            "_model_name": "ProgressStyleModel",
            "_view_count": null,
            "_view_module": "@jupyter-widgets/base",
            "_view_module_version": "1.2.0",
            "_view_name": "StyleView",
            "bar_color": null,
            "description_width": ""
          }
        },
        "3db97c272e2a417cb583dc6c6b87cb3a": {
          "model_module": "@jupyter-widgets/base",
          "model_name": "LayoutModel",
          "model_module_version": "1.2.0",
          "state": {
            "_model_module": "@jupyter-widgets/base",
            "_model_module_version": "1.2.0",
            "_model_name": "LayoutModel",
            "_view_count": null,
            "_view_module": "@jupyter-widgets/base",
            "_view_module_version": "1.2.0",
            "_view_name": "LayoutView",
            "align_content": null,
            "align_items": null,
            "align_self": null,
            "border": null,
            "bottom": null,
            "display": null,
            "flex": null,
            "flex_flow": null,
            "grid_area": null,
            "grid_auto_columns": null,
            "grid_auto_flow": null,
            "grid_auto_rows": null,
            "grid_column": null,
            "grid_gap": null,
            "grid_row": null,
            "grid_template_areas": null,
            "grid_template_columns": null,
            "grid_template_rows": null,
            "height": null,
            "justify_content": null,
            "justify_items": null,
            "left": null,
            "margin": null,
            "max_height": null,
            "max_width": null,
            "min_height": null,
            "min_width": null,
            "object_fit": null,
            "object_position": null,
            "order": null,
            "overflow": null,
            "overflow_x": null,
            "overflow_y": null,
            "padding": null,
            "right": null,
            "top": null,
            "visibility": null,
            "width": null
          }
        },
        "dcebc185050e4f3190cb6f5ea088d3da": {
          "model_module": "@jupyter-widgets/controls",
          "model_name": "DescriptionStyleModel",
          "model_module_version": "1.5.0",
          "state": {
            "_model_module": "@jupyter-widgets/controls",
            "_model_module_version": "1.5.0",
            "_model_name": "DescriptionStyleModel",
            "_view_count": null,
            "_view_module": "@jupyter-widgets/base",
            "_view_module_version": "1.2.0",
            "_view_name": "StyleView",
            "description_width": ""
          }
        },
        "c48a709a8426452ca1568e6754515ad7": {
          "model_module": "@jupyter-widgets/controls",
          "model_name": "HBoxModel",
          "model_module_version": "1.5.0",
          "state": {
            "_dom_classes": [],
            "_model_module": "@jupyter-widgets/controls",
            "_model_module_version": "1.5.0",
            "_model_name": "HBoxModel",
            "_view_count": null,
            "_view_module": "@jupyter-widgets/controls",
            "_view_module_version": "1.5.0",
            "_view_name": "HBoxView",
            "box_style": "",
            "children": [
              "IPY_MODEL_22ba169b3d864204bd223a684f7b98ed",
              "IPY_MODEL_c6bd83d2141e49a2bfb4ac8c2a7041de",
              "IPY_MODEL_b09fc80d4bb940f48238af247caaa5e5"
            ],
            "layout": "IPY_MODEL_f3db652add124781b1939779d14492e0"
          }
        },
        "22ba169b3d864204bd223a684f7b98ed": {
          "model_module": "@jupyter-widgets/controls",
          "model_name": "HTMLModel",
          "model_module_version": "1.5.0",
          "state": {
            "_dom_classes": [],
            "_model_module": "@jupyter-widgets/controls",
            "_model_module_version": "1.5.0",
            "_model_name": "HTMLModel",
            "_view_count": null,
            "_view_module": "@jupyter-widgets/controls",
            "_view_module_version": "1.5.0",
            "_view_name": "HTMLView",
            "description": "",
            "description_tooltip": null,
            "layout": "IPY_MODEL_ae8c2309fe5044c78373058434aebeb4",
            "placeholder": "​",
            "style": "IPY_MODEL_c0c7a8f6d641400d943b6e5d17528cb7",
            "value": "Downloading: 100%"
          }
        },
        "c6bd83d2141e49a2bfb4ac8c2a7041de": {
          "model_module": "@jupyter-widgets/controls",
          "model_name": "FloatProgressModel",
          "model_module_version": "1.5.0",
          "state": {
            "_dom_classes": [],
            "_model_module": "@jupyter-widgets/controls",
            "_model_module_version": "1.5.0",
            "_model_name": "FloatProgressModel",
            "_view_count": null,
            "_view_module": "@jupyter-widgets/controls",
            "_view_module_version": "1.5.0",
            "_view_name": "ProgressView",
            "bar_style": "success",
            "description": "",
            "description_tooltip": null,
            "layout": "IPY_MODEL_c7ac15a32663474e815543f52abf3f2b",
            "max": 112,
            "min": 0,
            "orientation": "horizontal",
            "style": "IPY_MODEL_f2a4d3c41e41480aa79e36486e7e5d88",
            "value": 112
          }
        },
        "b09fc80d4bb940f48238af247caaa5e5": {
          "model_module": "@jupyter-widgets/controls",
          "model_name": "HTMLModel",
          "model_module_version": "1.5.0",
          "state": {
            "_dom_classes": [],
            "_model_module": "@jupyter-widgets/controls",
            "_model_module_version": "1.5.0",
            "_model_name": "HTMLModel",
            "_view_count": null,
            "_view_module": "@jupyter-widgets/controls",
            "_view_module_version": "1.5.0",
            "_view_name": "HTMLView",
            "description": "",
            "description_tooltip": null,
            "layout": "IPY_MODEL_c4151e55808847d894e564fcd5e6faae",
            "placeholder": "​",
            "style": "IPY_MODEL_892f7901763148229129a33945089467",
            "value": " 112/112 [00:00&lt;00:00, 754B/s]"
          }
        },
        "f3db652add124781b1939779d14492e0": {
          "model_module": "@jupyter-widgets/base",
          "model_name": "LayoutModel",
          "model_module_version": "1.2.0",
          "state": {
            "_model_module": "@jupyter-widgets/base",
            "_model_module_version": "1.2.0",
            "_model_name": "LayoutModel",
            "_view_count": null,
            "_view_module": "@jupyter-widgets/base",
            "_view_module_version": "1.2.0",
            "_view_name": "LayoutView",
            "align_content": null,
            "align_items": null,
            "align_self": null,
            "border": null,
            "bottom": null,
            "display": null,
            "flex": null,
            "flex_flow": null,
            "grid_area": null,
            "grid_auto_columns": null,
            "grid_auto_flow": null,
            "grid_auto_rows": null,
            "grid_column": null,
            "grid_gap": null,
            "grid_row": null,
            "grid_template_areas": null,
            "grid_template_columns": null,
            "grid_template_rows": null,
            "height": null,
            "justify_content": null,
            "justify_items": null,
            "left": null,
            "margin": null,
            "max_height": null,
            "max_width": null,
            "min_height": null,
            "min_width": null,
            "object_fit": null,
            "object_position": null,
            "order": null,
            "overflow": null,
            "overflow_x": null,
            "overflow_y": null,
            "padding": null,
            "right": null,
            "top": null,
            "visibility": null,
            "width": null
          }
        },
        "ae8c2309fe5044c78373058434aebeb4": {
          "model_module": "@jupyter-widgets/base",
          "model_name": "LayoutModel",
          "model_module_version": "1.2.0",
          "state": {
            "_model_module": "@jupyter-widgets/base",
            "_model_module_version": "1.2.0",
            "_model_name": "LayoutModel",
            "_view_count": null,
            "_view_module": "@jupyter-widgets/base",
            "_view_module_version": "1.2.0",
            "_view_name": "LayoutView",
            "align_content": null,
            "align_items": null,
            "align_self": null,
            "border": null,
            "bottom": null,
            "display": null,
            "flex": null,
            "flex_flow": null,
            "grid_area": null,
            "grid_auto_columns": null,
            "grid_auto_flow": null,
            "grid_auto_rows": null,
            "grid_column": null,
            "grid_gap": null,
            "grid_row": null,
            "grid_template_areas": null,
            "grid_template_columns": null,
            "grid_template_rows": null,
            "height": null,
            "justify_content": null,
            "justify_items": null,
            "left": null,
            "margin": null,
            "max_height": null,
            "max_width": null,
            "min_height": null,
            "min_width": null,
            "object_fit": null,
            "object_position": null,
            "order": null,
            "overflow": null,
            "overflow_x": null,
            "overflow_y": null,
            "padding": null,
            "right": null,
            "top": null,
            "visibility": null,
            "width": null
          }
        },
        "c0c7a8f6d641400d943b6e5d17528cb7": {
          "model_module": "@jupyter-widgets/controls",
          "model_name": "DescriptionStyleModel",
          "model_module_version": "1.5.0",
          "state": {
            "_model_module": "@jupyter-widgets/controls",
            "_model_module_version": "1.5.0",
            "_model_name": "DescriptionStyleModel",
            "_view_count": null,
            "_view_module": "@jupyter-widgets/base",
            "_view_module_version": "1.2.0",
            "_view_name": "StyleView",
            "description_width": ""
          }
        },
        "c7ac15a32663474e815543f52abf3f2b": {
          "model_module": "@jupyter-widgets/base",
          "model_name": "LayoutModel",
          "model_module_version": "1.2.0",
          "state": {
            "_model_module": "@jupyter-widgets/base",
            "_model_module_version": "1.2.0",
            "_model_name": "LayoutModel",
            "_view_count": null,
            "_view_module": "@jupyter-widgets/base",
            "_view_module_version": "1.2.0",
            "_view_name": "LayoutView",
            "align_content": null,
            "align_items": null,
            "align_self": null,
            "border": null,
            "bottom": null,
            "display": null,
            "flex": null,
            "flex_flow": null,
            "grid_area": null,
            "grid_auto_columns": null,
            "grid_auto_flow": null,
            "grid_auto_rows": null,
            "grid_column": null,
            "grid_gap": null,
            "grid_row": null,
            "grid_template_areas": null,
            "grid_template_columns": null,
            "grid_template_rows": null,
            "height": null,
            "justify_content": null,
            "justify_items": null,
            "left": null,
            "margin": null,
            "max_height": null,
            "max_width": null,
            "min_height": null,
            "min_width": null,
            "object_fit": null,
            "object_position": null,
            "order": null,
            "overflow": null,
            "overflow_x": null,
            "overflow_y": null,
            "padding": null,
            "right": null,
            "top": null,
            "visibility": null,
            "width": null
          }
        },
        "f2a4d3c41e41480aa79e36486e7e5d88": {
          "model_module": "@jupyter-widgets/controls",
          "model_name": "ProgressStyleModel",
          "model_module_version": "1.5.0",
          "state": {
            "_model_module": "@jupyter-widgets/controls",
            "_model_module_version": "1.5.0",
            "_model_name": "ProgressStyleModel",
            "_view_count": null,
            "_view_module": "@jupyter-widgets/base",
            "_view_module_version": "1.2.0",
            "_view_name": "StyleView",
            "bar_color": null,
            "description_width": ""
          }
        },
        "c4151e55808847d894e564fcd5e6faae": {
          "model_module": "@jupyter-widgets/base",
          "model_name": "LayoutModel",
          "model_module_version": "1.2.0",
          "state": {
            "_model_module": "@jupyter-widgets/base",
            "_model_module_version": "1.2.0",
            "_model_name": "LayoutModel",
            "_view_count": null,
            "_view_module": "@jupyter-widgets/base",
            "_view_module_version": "1.2.0",
            "_view_name": "LayoutView",
            "align_content": null,
            "align_items": null,
            "align_self": null,
            "border": null,
            "bottom": null,
            "display": null,
            "flex": null,
            "flex_flow": null,
            "grid_area": null,
            "grid_auto_columns": null,
            "grid_auto_flow": null,
            "grid_auto_rows": null,
            "grid_column": null,
            "grid_gap": null,
            "grid_row": null,
            "grid_template_areas": null,
            "grid_template_columns": null,
            "grid_template_rows": null,
            "height": null,
            "justify_content": null,
            "justify_items": null,
            "left": null,
            "margin": null,
            "max_height": null,
            "max_width": null,
            "min_height": null,
            "min_width": null,
            "object_fit": null,
            "object_position": null,
            "order": null,
            "overflow": null,
            "overflow_x": null,
            "overflow_y": null,
            "padding": null,
            "right": null,
            "top": null,
            "visibility": null,
            "width": null
          }
        },
        "892f7901763148229129a33945089467": {
          "model_module": "@jupyter-widgets/controls",
          "model_name": "DescriptionStyleModel",
          "model_module_version": "1.5.0",
          "state": {
            "_model_module": "@jupyter-widgets/controls",
            "_model_module_version": "1.5.0",
            "_model_name": "DescriptionStyleModel",
            "_view_count": null,
            "_view_module": "@jupyter-widgets/base",
            "_view_module_version": "1.2.0",
            "_view_name": "StyleView",
            "description_width": ""
          }
        },
        "f26acad97f4e4d18a697b369db4ca189": {
          "model_module": "@jupyter-widgets/controls",
          "model_name": "HBoxModel",
          "model_module_version": "1.5.0",
          "state": {
            "_dom_classes": [],
            "_model_module": "@jupyter-widgets/controls",
            "_model_module_version": "1.5.0",
            "_model_name": "HBoxModel",
            "_view_count": null,
            "_view_module": "@jupyter-widgets/controls",
            "_view_module_version": "1.5.0",
            "_view_name": "HBoxView",
            "box_style": "",
            "children": [
              "IPY_MODEL_6d25f34f74964979884085328484dcde",
              "IPY_MODEL_791ce97716064571a7e16c382fe2de78",
              "IPY_MODEL_356e5b38492444b4a3d202101c4ec136"
            ],
            "layout": "IPY_MODEL_499e864dc1d643519ea750438b8eb847"
          }
        },
        "6d25f34f74964979884085328484dcde": {
          "model_module": "@jupyter-widgets/controls",
          "model_name": "HTMLModel",
          "model_module_version": "1.5.0",
          "state": {
            "_dom_classes": [],
            "_model_module": "@jupyter-widgets/controls",
            "_model_module_version": "1.5.0",
            "_model_name": "HTMLModel",
            "_view_count": null,
            "_view_module": "@jupyter-widgets/controls",
            "_view_module_version": "1.5.0",
            "_view_name": "HTMLView",
            "description": "",
            "description_tooltip": null,
            "layout": "IPY_MODEL_4928ae87a71546789725e7cdb36561a5",
            "placeholder": "​",
            "style": "IPY_MODEL_02984b9dcc1e4e828da4689cc95f8c0e",
            "value": "Downloading: 100%"
          }
        },
        "791ce97716064571a7e16c382fe2de78": {
          "model_module": "@jupyter-widgets/controls",
          "model_name": "FloatProgressModel",
          "model_module_version": "1.5.0",
          "state": {
            "_dom_classes": [],
            "_model_module": "@jupyter-widgets/controls",
            "_model_module_version": "1.5.0",
            "_model_name": "FloatProgressModel",
            "_view_count": null,
            "_view_module": "@jupyter-widgets/controls",
            "_view_module_version": "1.5.0",
            "_view_name": "ProgressView",
            "bar_style": "success",
            "description": "",
            "description_tooltip": null,
            "layout": "IPY_MODEL_d97149a418d04e188cdedd953437358a",
            "max": 433316646,
            "min": 0,
            "orientation": "horizontal",
            "style": "IPY_MODEL_31e78179cae94a49bdd2470513deadfd",
            "value": 433316646
          }
        },
        "356e5b38492444b4a3d202101c4ec136": {
          "model_module": "@jupyter-widgets/controls",
          "model_name": "HTMLModel",
          "model_module_version": "1.5.0",
          "state": {
            "_dom_classes": [],
            "_model_module": "@jupyter-widgets/controls",
            "_model_module_version": "1.5.0",
            "_model_name": "HTMLModel",
            "_view_count": null,
            "_view_module": "@jupyter-widgets/controls",
            "_view_module_version": "1.5.0",
            "_view_name": "HTMLView",
            "description": "",
            "description_tooltip": null,
            "layout": "IPY_MODEL_bae6e6a319b74cef912bca5b780d212c",
            "placeholder": "​",
            "style": "IPY_MODEL_9fa79d3cc6c141298514e8507ff69d5d",
            "value": " 413M/413M [00:13&lt;00:00, 38.4MB/s]"
          }
        },
        "499e864dc1d643519ea750438b8eb847": {
          "model_module": "@jupyter-widgets/base",
          "model_name": "LayoutModel",
          "model_module_version": "1.2.0",
          "state": {
            "_model_module": "@jupyter-widgets/base",
            "_model_module_version": "1.2.0",
            "_model_name": "LayoutModel",
            "_view_count": null,
            "_view_module": "@jupyter-widgets/base",
            "_view_module_version": "1.2.0",
            "_view_name": "LayoutView",
            "align_content": null,
            "align_items": null,
            "align_self": null,
            "border": null,
            "bottom": null,
            "display": null,
            "flex": null,
            "flex_flow": null,
            "grid_area": null,
            "grid_auto_columns": null,
            "grid_auto_flow": null,
            "grid_auto_rows": null,
            "grid_column": null,
            "grid_gap": null,
            "grid_row": null,
            "grid_template_areas": null,
            "grid_template_columns": null,
            "grid_template_rows": null,
            "height": null,
            "justify_content": null,
            "justify_items": null,
            "left": null,
            "margin": null,
            "max_height": null,
            "max_width": null,
            "min_height": null,
            "min_width": null,
            "object_fit": null,
            "object_position": null,
            "order": null,
            "overflow": null,
            "overflow_x": null,
            "overflow_y": null,
            "padding": null,
            "right": null,
            "top": null,
            "visibility": null,
            "width": null
          }
        },
        "4928ae87a71546789725e7cdb36561a5": {
          "model_module": "@jupyter-widgets/base",
          "model_name": "LayoutModel",
          "model_module_version": "1.2.0",
          "state": {
            "_model_module": "@jupyter-widgets/base",
            "_model_module_version": "1.2.0",
            "_model_name": "LayoutModel",
            "_view_count": null,
            "_view_module": "@jupyter-widgets/base",
            "_view_module_version": "1.2.0",
            "_view_name": "LayoutView",
            "align_content": null,
            "align_items": null,
            "align_self": null,
            "border": null,
            "bottom": null,
            "display": null,
            "flex": null,
            "flex_flow": null,
            "grid_area": null,
            "grid_auto_columns": null,
            "grid_auto_flow": null,
            "grid_auto_rows": null,
            "grid_column": null,
            "grid_gap": null,
            "grid_row": null,
            "grid_template_areas": null,
            "grid_template_columns": null,
            "grid_template_rows": null,
            "height": null,
            "justify_content": null,
            "justify_items": null,
            "left": null,
            "margin": null,
            "max_height": null,
            "max_width": null,
            "min_height": null,
            "min_width": null,
            "object_fit": null,
            "object_position": null,
            "order": null,
            "overflow": null,
            "overflow_x": null,
            "overflow_y": null,
            "padding": null,
            "right": null,
            "top": null,
            "visibility": null,
            "width": null
          }
        },
        "02984b9dcc1e4e828da4689cc95f8c0e": {
          "model_module": "@jupyter-widgets/controls",
          "model_name": "DescriptionStyleModel",
          "model_module_version": "1.5.0",
          "state": {
            "_model_module": "@jupyter-widgets/controls",
            "_model_module_version": "1.5.0",
            "_model_name": "DescriptionStyleModel",
            "_view_count": null,
            "_view_module": "@jupyter-widgets/base",
            "_view_module_version": "1.2.0",
            "_view_name": "StyleView",
            "description_width": ""
          }
        },
        "d97149a418d04e188cdedd953437358a": {
          "model_module": "@jupyter-widgets/base",
          "model_name": "LayoutModel",
          "model_module_version": "1.2.0",
          "state": {
            "_model_module": "@jupyter-widgets/base",
            "_model_module_version": "1.2.0",
            "_model_name": "LayoutModel",
            "_view_count": null,
            "_view_module": "@jupyter-widgets/base",
            "_view_module_version": "1.2.0",
            "_view_name": "LayoutView",
            "align_content": null,
            "align_items": null,
            "align_self": null,
            "border": null,
            "bottom": null,
            "display": null,
            "flex": null,
            "flex_flow": null,
            "grid_area": null,
            "grid_auto_columns": null,
            "grid_auto_flow": null,
            "grid_auto_rows": null,
            "grid_column": null,
            "grid_gap": null,
            "grid_row": null,
            "grid_template_areas": null,
            "grid_template_columns": null,
            "grid_template_rows": null,
            "height": null,
            "justify_content": null,
            "justify_items": null,
            "left": null,
            "margin": null,
            "max_height": null,
            "max_width": null,
            "min_height": null,
            "min_width": null,
            "object_fit": null,
            "object_position": null,
            "order": null,
            "overflow": null,
            "overflow_x": null,
            "overflow_y": null,
            "padding": null,
            "right": null,
            "top": null,
            "visibility": null,
            "width": null
          }
        },
        "31e78179cae94a49bdd2470513deadfd": {
          "model_module": "@jupyter-widgets/controls",
          "model_name": "ProgressStyleModel",
          "model_module_version": "1.5.0",
          "state": {
            "_model_module": "@jupyter-widgets/controls",
            "_model_module_version": "1.5.0",
            "_model_name": "ProgressStyleModel",
            "_view_count": null,
            "_view_module": "@jupyter-widgets/base",
            "_view_module_version": "1.2.0",
            "_view_name": "StyleView",
            "bar_color": null,
            "description_width": ""
          }
        },
        "bae6e6a319b74cef912bca5b780d212c": {
          "model_module": "@jupyter-widgets/base",
          "model_name": "LayoutModel",
          "model_module_version": "1.2.0",
          "state": {
            "_model_module": "@jupyter-widgets/base",
            "_model_module_version": "1.2.0",
            "_model_name": "LayoutModel",
            "_view_count": null,
            "_view_module": "@jupyter-widgets/base",
            "_view_module_version": "1.2.0",
            "_view_name": "LayoutView",
            "align_content": null,
            "align_items": null,
            "align_self": null,
            "border": null,
            "bottom": null,
            "display": null,
            "flex": null,
            "flex_flow": null,
            "grid_area": null,
            "grid_auto_columns": null,
            "grid_auto_flow": null,
            "grid_auto_rows": null,
            "grid_column": null,
            "grid_gap": null,
            "grid_row": null,
            "grid_template_areas": null,
            "grid_template_columns": null,
            "grid_template_rows": null,
            "height": null,
            "justify_content": null,
            "justify_items": null,
            "left": null,
            "margin": null,
            "max_height": null,
            "max_width": null,
            "min_height": null,
            "min_width": null,
            "object_fit": null,
            "object_position": null,
            "order": null,
            "overflow": null,
            "overflow_x": null,
            "overflow_y": null,
            "padding": null,
            "right": null,
            "top": null,
            "visibility": null,
            "width": null
          }
        },
        "9fa79d3cc6c141298514e8507ff69d5d": {
          "model_module": "@jupyter-widgets/controls",
          "model_name": "DescriptionStyleModel",
          "model_module_version": "1.5.0",
          "state": {
            "_model_module": "@jupyter-widgets/controls",
            "_model_module_version": "1.5.0",
            "_model_name": "DescriptionStyleModel",
            "_view_count": null,
            "_view_module": "@jupyter-widgets/base",
            "_view_module_version": "1.2.0",
            "_view_name": "StyleView",
            "description_width": ""
          }
        },
        "b3b3dff27b0d439295bab1c0f325dc2b": {
          "model_module": "@jupyter-widgets/controls",
          "model_name": "HBoxModel",
          "model_module_version": "1.5.0",
          "state": {
            "_dom_classes": [],
            "_model_module": "@jupyter-widgets/controls",
            "_model_module_version": "1.5.0",
            "_model_name": "HBoxModel",
            "_view_count": null,
            "_view_module": "@jupyter-widgets/controls",
            "_view_module_version": "1.5.0",
            "_view_name": "HBoxView",
            "box_style": "",
            "children": [
              "IPY_MODEL_25beee64752f4e4bbee9fd0271b0d20d",
              "IPY_MODEL_b869fdff857a4d31abdb559d52e4061b",
              "IPY_MODEL_e9d1a012ed1845a19f122da5d90e4181"
            ],
            "layout": "IPY_MODEL_941e124e463c4cfb93b86ef7a4c2e2d3"
          }
        },
        "25beee64752f4e4bbee9fd0271b0d20d": {
          "model_module": "@jupyter-widgets/controls",
          "model_name": "HTMLModel",
          "model_module_version": "1.5.0",
          "state": {
            "_dom_classes": [],
            "_model_module": "@jupyter-widgets/controls",
            "_model_module_version": "1.5.0",
            "_model_name": "HTMLModel",
            "_view_count": null,
            "_view_module": "@jupyter-widgets/controls",
            "_view_module_version": "1.5.0",
            "_view_name": "HTMLView",
            "description": "",
            "description_tooltip": null,
            "layout": "IPY_MODEL_44ba5be87206484484f6895c3709d141",
            "placeholder": "​",
            "style": "IPY_MODEL_18cdfeb0063e4e1eb0a149a970b93607",
            "value": "Downloading: 100%"
          }
        },
        "b869fdff857a4d31abdb559d52e4061b": {
          "model_module": "@jupyter-widgets/controls",
          "model_name": "FloatProgressModel",
          "model_module_version": "1.5.0",
          "state": {
            "_dom_classes": [],
            "_model_module": "@jupyter-widgets/controls",
            "_model_module_version": "1.5.0",
            "_model_name": "FloatProgressModel",
            "_view_count": null,
            "_view_module": "@jupyter-widgets/controls",
            "_view_module_version": "1.5.0",
            "_view_name": "ProgressView",
            "bar_style": "success",
            "description": "",
            "description_tooltip": null,
            "layout": "IPY_MODEL_cb24f528b1c14e429e03a7adc51a0efa",
            "max": 40,
            "min": 0,
            "orientation": "horizontal",
            "style": "IPY_MODEL_5a1605e307a24ffb8fcd90dcc32b2a8e",
            "value": 40
          }
        },
        "e9d1a012ed1845a19f122da5d90e4181": {
          "model_module": "@jupyter-widgets/controls",
          "model_name": "HTMLModel",
          "model_module_version": "1.5.0",
          "state": {
            "_dom_classes": [],
            "_model_module": "@jupyter-widgets/controls",
            "_model_module_version": "1.5.0",
            "_model_name": "HTMLModel",
            "_view_count": null,
            "_view_module": "@jupyter-widgets/controls",
            "_view_module_version": "1.5.0",
            "_view_name": "HTMLView",
            "description": "",
            "description_tooltip": null,
            "layout": "IPY_MODEL_760a92f6e2b642a2b0995e6510352322",
            "placeholder": "​",
            "style": "IPY_MODEL_2f09b5d5552540e5aea3355630299708",
            "value": " 40.0/40.0 [00:00&lt;00:00, 999B/s]"
          }
        },
        "941e124e463c4cfb93b86ef7a4c2e2d3": {
          "model_module": "@jupyter-widgets/base",
          "model_name": "LayoutModel",
          "model_module_version": "1.2.0",
          "state": {
            "_model_module": "@jupyter-widgets/base",
            "_model_module_version": "1.2.0",
            "_model_name": "LayoutModel",
            "_view_count": null,
            "_view_module": "@jupyter-widgets/base",
            "_view_module_version": "1.2.0",
            "_view_name": "LayoutView",
            "align_content": null,
            "align_items": null,
            "align_self": null,
            "border": null,
            "bottom": null,
            "display": null,
            "flex": null,
            "flex_flow": null,
            "grid_area": null,
            "grid_auto_columns": null,
            "grid_auto_flow": null,
            "grid_auto_rows": null,
            "grid_column": null,
            "grid_gap": null,
            "grid_row": null,
            "grid_template_areas": null,
            "grid_template_columns": null,
            "grid_template_rows": null,
            "height": null,
            "justify_content": null,
            "justify_items": null,
            "left": null,
            "margin": null,
            "max_height": null,
            "max_width": null,
            "min_height": null,
            "min_width": null,
            "object_fit": null,
            "object_position": null,
            "order": null,
            "overflow": null,
            "overflow_x": null,
            "overflow_y": null,
            "padding": null,
            "right": null,
            "top": null,
            "visibility": null,
            "width": null
          }
        },
        "44ba5be87206484484f6895c3709d141": {
          "model_module": "@jupyter-widgets/base",
          "model_name": "LayoutModel",
          "model_module_version": "1.2.0",
          "state": {
            "_model_module": "@jupyter-widgets/base",
            "_model_module_version": "1.2.0",
            "_model_name": "LayoutModel",
            "_view_count": null,
            "_view_module": "@jupyter-widgets/base",
            "_view_module_version": "1.2.0",
            "_view_name": "LayoutView",
            "align_content": null,
            "align_items": null,
            "align_self": null,
            "border": null,
            "bottom": null,
            "display": null,
            "flex": null,
            "flex_flow": null,
            "grid_area": null,
            "grid_auto_columns": null,
            "grid_auto_flow": null,
            "grid_auto_rows": null,
            "grid_column": null,
            "grid_gap": null,
            "grid_row": null,
            "grid_template_areas": null,
            "grid_template_columns": null,
            "grid_template_rows": null,
            "height": null,
            "justify_content": null,
            "justify_items": null,
            "left": null,
            "margin": null,
            "max_height": null,
            "max_width": null,
            "min_height": null,
            "min_width": null,
            "object_fit": null,
            "object_position": null,
            "order": null,
            "overflow": null,
            "overflow_x": null,
            "overflow_y": null,
            "padding": null,
            "right": null,
            "top": null,
            "visibility": null,
            "width": null
          }
        },
        "18cdfeb0063e4e1eb0a149a970b93607": {
          "model_module": "@jupyter-widgets/controls",
          "model_name": "DescriptionStyleModel",
          "model_module_version": "1.5.0",
          "state": {
            "_model_module": "@jupyter-widgets/controls",
            "_model_module_version": "1.5.0",
            "_model_name": "DescriptionStyleModel",
            "_view_count": null,
            "_view_module": "@jupyter-widgets/base",
            "_view_module_version": "1.2.0",
            "_view_name": "StyleView",
            "description_width": ""
          }
        },
        "cb24f528b1c14e429e03a7adc51a0efa": {
          "model_module": "@jupyter-widgets/base",
          "model_name": "LayoutModel",
          "model_module_version": "1.2.0",
          "state": {
            "_model_module": "@jupyter-widgets/base",
            "_model_module_version": "1.2.0",
            "_model_name": "LayoutModel",
            "_view_count": null,
            "_view_module": "@jupyter-widgets/base",
            "_view_module_version": "1.2.0",
            "_view_name": "LayoutView",
            "align_content": null,
            "align_items": null,
            "align_self": null,
            "border": null,
            "bottom": null,
            "display": null,
            "flex": null,
            "flex_flow": null,
            "grid_area": null,
            "grid_auto_columns": null,
            "grid_auto_flow": null,
            "grid_auto_rows": null,
            "grid_column": null,
            "grid_gap": null,
            "grid_row": null,
            "grid_template_areas": null,
            "grid_template_columns": null,
            "grid_template_rows": null,
            "height": null,
            "justify_content": null,
            "justify_items": null,
            "left": null,
            "margin": null,
            "max_height": null,
            "max_width": null,
            "min_height": null,
            "min_width": null,
            "object_fit": null,
            "object_position": null,
            "order": null,
            "overflow": null,
            "overflow_x": null,
            "overflow_y": null,
            "padding": null,
            "right": null,
            "top": null,
            "visibility": null,
            "width": null
          }
        },
        "5a1605e307a24ffb8fcd90dcc32b2a8e": {
          "model_module": "@jupyter-widgets/controls",
          "model_name": "ProgressStyleModel",
          "model_module_version": "1.5.0",
          "state": {
            "_model_module": "@jupyter-widgets/controls",
            "_model_module_version": "1.5.0",
            "_model_name": "ProgressStyleModel",
            "_view_count": null,
            "_view_module": "@jupyter-widgets/base",
            "_view_module_version": "1.2.0",
            "_view_name": "StyleView",
            "bar_color": null,
            "description_width": ""
          }
        },
        "760a92f6e2b642a2b0995e6510352322": {
          "model_module": "@jupyter-widgets/base",
          "model_name": "LayoutModel",
          "model_module_version": "1.2.0",
          "state": {
            "_model_module": "@jupyter-widgets/base",
            "_model_module_version": "1.2.0",
            "_model_name": "LayoutModel",
            "_view_count": null,
            "_view_module": "@jupyter-widgets/base",
            "_view_module_version": "1.2.0",
            "_view_name": "LayoutView",
            "align_content": null,
            "align_items": null,
            "align_self": null,
            "border": null,
            "bottom": null,
            "display": null,
            "flex": null,
            "flex_flow": null,
            "grid_area": null,
            "grid_auto_columns": null,
            "grid_auto_flow": null,
            "grid_auto_rows": null,
            "grid_column": null,
            "grid_gap": null,
            "grid_row": null,
            "grid_template_areas": null,
            "grid_template_columns": null,
            "grid_template_rows": null,
            "height": null,
            "justify_content": null,
            "justify_items": null,
            "left": null,
            "margin": null,
            "max_height": null,
            "max_width": null,
            "min_height": null,
            "min_width": null,
            "object_fit": null,
            "object_position": null,
            "order": null,
            "overflow": null,
            "overflow_x": null,
            "overflow_y": null,
            "padding": null,
            "right": null,
            "top": null,
            "visibility": null,
            "width": null
          }
        },
        "2f09b5d5552540e5aea3355630299708": {
          "model_module": "@jupyter-widgets/controls",
          "model_name": "DescriptionStyleModel",
          "model_module_version": "1.5.0",
          "state": {
            "_model_module": "@jupyter-widgets/controls",
            "_model_module_version": "1.5.0",
            "_model_name": "DescriptionStyleModel",
            "_view_count": null,
            "_view_module": "@jupyter-widgets/base",
            "_view_module_version": "1.2.0",
            "_view_name": "StyleView",
            "description_width": ""
          }
        },
        "6971260010a14d958b43302de9f8090f": {
          "model_module": "@jupyter-widgets/controls",
          "model_name": "HBoxModel",
          "model_module_version": "1.5.0",
          "state": {
            "_dom_classes": [],
            "_model_module": "@jupyter-widgets/controls",
            "_model_module_version": "1.5.0",
            "_model_name": "HBoxModel",
            "_view_count": null,
            "_view_module": "@jupyter-widgets/controls",
            "_view_module_version": "1.5.0",
            "_view_name": "HBoxView",
            "box_style": "",
            "children": [
              "IPY_MODEL_4fa212de8f354638bc5fe987c02a0b6d",
              "IPY_MODEL_1f447821171e4990827b0ba86eaf6687",
              "IPY_MODEL_f5c956da0e9646ba992bbb21688f3fac"
            ],
            "layout": "IPY_MODEL_e8f4e1acec55441b8b349b705b44e292"
          }
        },
        "4fa212de8f354638bc5fe987c02a0b6d": {
          "model_module": "@jupyter-widgets/controls",
          "model_name": "HTMLModel",
          "model_module_version": "1.5.0",
          "state": {
            "_dom_classes": [],
            "_model_module": "@jupyter-widgets/controls",
            "_model_module_version": "1.5.0",
            "_model_name": "HTMLModel",
            "_view_count": null,
            "_view_module": "@jupyter-widgets/controls",
            "_view_module_version": "1.5.0",
            "_view_name": "HTMLView",
            "description": "",
            "description_tooltip": null,
            "layout": "IPY_MODEL_f2d47157678045a1866554beaf4ab1a4",
            "placeholder": "​",
            "style": "IPY_MODEL_effee67d402e45988036f610471e5abc",
            "value": "Downloading: 100%"
          }
        },
        "1f447821171e4990827b0ba86eaf6687": {
          "model_module": "@jupyter-widgets/controls",
          "model_name": "FloatProgressModel",
          "model_module_version": "1.5.0",
          "state": {
            "_dom_classes": [],
            "_model_module": "@jupyter-widgets/controls",
            "_model_module_version": "1.5.0",
            "_model_name": "FloatProgressModel",
            "_view_count": null,
            "_view_module": "@jupyter-widgets/controls",
            "_view_module_version": "1.5.0",
            "_view_name": "ProgressView",
            "bar_style": "success",
            "description": "",
            "description_tooltip": null,
            "layout": "IPY_MODEL_7b0b2adbac464c86a91080dc0570f65d",
            "max": 1449,
            "min": 0,
            "orientation": "horizontal",
            "style": "IPY_MODEL_4f818f0a641d4170a4c26c3d540ead7d",
            "value": 1449
          }
        },
        "f5c956da0e9646ba992bbb21688f3fac": {
          "model_module": "@jupyter-widgets/controls",
          "model_name": "HTMLModel",
          "model_module_version": "1.5.0",
          "state": {
            "_dom_classes": [],
            "_model_module": "@jupyter-widgets/controls",
            "_model_module_version": "1.5.0",
            "_model_name": "HTMLModel",
            "_view_count": null,
            "_view_module": "@jupyter-widgets/controls",
            "_view_module_version": "1.5.0",
            "_view_name": "HTMLView",
            "description": "",
            "description_tooltip": null,
            "layout": "IPY_MODEL_46f846ceb44a4ba9a22d636421288b8c",
            "placeholder": "​",
            "style": "IPY_MODEL_b00c0dd0ae0e417a819580d4ed77188e",
            "value": " 1.42k/1.42k [00:00&lt;00:00, 30.1kB/s]"
          }
        },
        "e8f4e1acec55441b8b349b705b44e292": {
          "model_module": "@jupyter-widgets/base",
          "model_name": "LayoutModel",
          "model_module_version": "1.2.0",
          "state": {
            "_model_module": "@jupyter-widgets/base",
            "_model_module_version": "1.2.0",
            "_model_name": "LayoutModel",
            "_view_count": null,
            "_view_module": "@jupyter-widgets/base",
            "_view_module_version": "1.2.0",
            "_view_name": "LayoutView",
            "align_content": null,
            "align_items": null,
            "align_self": null,
            "border": null,
            "bottom": null,
            "display": null,
            "flex": null,
            "flex_flow": null,
            "grid_area": null,
            "grid_auto_columns": null,
            "grid_auto_flow": null,
            "grid_auto_rows": null,
            "grid_column": null,
            "grid_gap": null,
            "grid_row": null,
            "grid_template_areas": null,
            "grid_template_columns": null,
            "grid_template_rows": null,
            "height": null,
            "justify_content": null,
            "justify_items": null,
            "left": null,
            "margin": null,
            "max_height": null,
            "max_width": null,
            "min_height": null,
            "min_width": null,
            "object_fit": null,
            "object_position": null,
            "order": null,
            "overflow": null,
            "overflow_x": null,
            "overflow_y": null,
            "padding": null,
            "right": null,
            "top": null,
            "visibility": null,
            "width": null
          }
        },
        "f2d47157678045a1866554beaf4ab1a4": {
          "model_module": "@jupyter-widgets/base",
          "model_name": "LayoutModel",
          "model_module_version": "1.2.0",
          "state": {
            "_model_module": "@jupyter-widgets/base",
            "_model_module_version": "1.2.0",
            "_model_name": "LayoutModel",
            "_view_count": null,
            "_view_module": "@jupyter-widgets/base",
            "_view_module_version": "1.2.0",
            "_view_name": "LayoutView",
            "align_content": null,
            "align_items": null,
            "align_self": null,
            "border": null,
            "bottom": null,
            "display": null,
            "flex": null,
            "flex_flow": null,
            "grid_area": null,
            "grid_auto_columns": null,
            "grid_auto_flow": null,
            "grid_auto_rows": null,
            "grid_column": null,
            "grid_gap": null,
            "grid_row": null,
            "grid_template_areas": null,
            "grid_template_columns": null,
            "grid_template_rows": null,
            "height": null,
            "justify_content": null,
            "justify_items": null,
            "left": null,
            "margin": null,
            "max_height": null,
            "max_width": null,
            "min_height": null,
            "min_width": null,
            "object_fit": null,
            "object_position": null,
            "order": null,
            "overflow": null,
            "overflow_x": null,
            "overflow_y": null,
            "padding": null,
            "right": null,
            "top": null,
            "visibility": null,
            "width": null
          }
        },
        "effee67d402e45988036f610471e5abc": {
          "model_module": "@jupyter-widgets/controls",
          "model_name": "DescriptionStyleModel",
          "model_module_version": "1.5.0",
          "state": {
            "_model_module": "@jupyter-widgets/controls",
            "_model_module_version": "1.5.0",
            "_model_name": "DescriptionStyleModel",
            "_view_count": null,
            "_view_module": "@jupyter-widgets/base",
            "_view_module_version": "1.2.0",
            "_view_name": "StyleView",
            "description_width": ""
          }
        },
        "7b0b2adbac464c86a91080dc0570f65d": {
          "model_module": "@jupyter-widgets/base",
          "model_name": "LayoutModel",
          "model_module_version": "1.2.0",
          "state": {
            "_model_module": "@jupyter-widgets/base",
            "_model_module_version": "1.2.0",
            "_model_name": "LayoutModel",
            "_view_count": null,
            "_view_module": "@jupyter-widgets/base",
            "_view_module_version": "1.2.0",
            "_view_name": "LayoutView",
            "align_content": null,
            "align_items": null,
            "align_self": null,
            "border": null,
            "bottom": null,
            "display": null,
            "flex": null,
            "flex_flow": null,
            "grid_area": null,
            "grid_auto_columns": null,
            "grid_auto_flow": null,
            "grid_auto_rows": null,
            "grid_column": null,
            "grid_gap": null,
            "grid_row": null,
            "grid_template_areas": null,
            "grid_template_columns": null,
            "grid_template_rows": null,
            "height": null,
            "justify_content": null,
            "justify_items": null,
            "left": null,
            "margin": null,
            "max_height": null,
            "max_width": null,
            "min_height": null,
            "min_width": null,
            "object_fit": null,
            "object_position": null,
            "order": null,
            "overflow": null,
            "overflow_x": null,
            "overflow_y": null,
            "padding": null,
            "right": null,
            "top": null,
            "visibility": null,
            "width": null
          }
        },
        "4f818f0a641d4170a4c26c3d540ead7d": {
          "model_module": "@jupyter-widgets/controls",
          "model_name": "ProgressStyleModel",
          "model_module_version": "1.5.0",
          "state": {
            "_model_module": "@jupyter-widgets/controls",
            "_model_module_version": "1.5.0",
            "_model_name": "ProgressStyleModel",
            "_view_count": null,
            "_view_module": "@jupyter-widgets/base",
            "_view_module_version": "1.2.0",
            "_view_name": "StyleView",
            "bar_color": null,
            "description_width": ""
          }
        },
        "46f846ceb44a4ba9a22d636421288b8c": {
          "model_module": "@jupyter-widgets/base",
          "model_name": "LayoutModel",
          "model_module_version": "1.2.0",
          "state": {
            "_model_module": "@jupyter-widgets/base",
            "_model_module_version": "1.2.0",
            "_model_name": "LayoutModel",
            "_view_count": null,
            "_view_module": "@jupyter-widgets/base",
            "_view_module_version": "1.2.0",
            "_view_name": "LayoutView",
            "align_content": null,
            "align_items": null,
            "align_self": null,
            "border": null,
            "bottom": null,
            "display": null,
            "flex": null,
            "flex_flow": null,
            "grid_area": null,
            "grid_auto_columns": null,
            "grid_auto_flow": null,
            "grid_auto_rows": null,
            "grid_column": null,
            "grid_gap": null,
            "grid_row": null,
            "grid_template_areas": null,
            "grid_template_columns": null,
            "grid_template_rows": null,
            "height": null,
            "justify_content": null,
            "justify_items": null,
            "left": null,
            "margin": null,
            "max_height": null,
            "max_width": null,
            "min_height": null,
            "min_width": null,
            "object_fit": null,
            "object_position": null,
            "order": null,
            "overflow": null,
            "overflow_x": null,
            "overflow_y": null,
            "padding": null,
            "right": null,
            "top": null,
            "visibility": null,
            "width": null
          }
        },
        "b00c0dd0ae0e417a819580d4ed77188e": {
          "model_module": "@jupyter-widgets/controls",
          "model_name": "DescriptionStyleModel",
          "model_module_version": "1.5.0",
          "state": {
            "_model_module": "@jupyter-widgets/controls",
            "_model_module_version": "1.5.0",
            "_model_name": "DescriptionStyleModel",
            "_view_count": null,
            "_view_module": "@jupyter-widgets/base",
            "_view_module_version": "1.2.0",
            "_view_name": "StyleView",
            "description_width": ""
          }
        },
        "b9454e57261e48058adc841e0e812e70": {
          "model_module": "@jupyter-widgets/controls",
          "model_name": "HBoxModel",
          "model_module_version": "1.5.0",
          "state": {
            "_dom_classes": [],
            "_model_module": "@jupyter-widgets/controls",
            "_model_module_version": "1.5.0",
            "_model_name": "HBoxModel",
            "_view_count": null,
            "_view_module": "@jupyter-widgets/controls",
            "_view_module_version": "1.5.0",
            "_view_name": "HBoxView",
            "box_style": "",
            "children": [
              "IPY_MODEL_a29fbc17f9e442ba8d0250d382c6a525",
              "IPY_MODEL_f0d507a2ea664501817329a8f48cf378",
              "IPY_MODEL_dfd672bbac4e4bb0b237dcdcb4dd94f2"
            ],
            "layout": "IPY_MODEL_5fe7dd4a26c746198b1c3774d43531c1"
          }
        },
        "a29fbc17f9e442ba8d0250d382c6a525": {
          "model_module": "@jupyter-widgets/controls",
          "model_name": "HTMLModel",
          "model_module_version": "1.5.0",
          "state": {
            "_dom_classes": [],
            "_model_module": "@jupyter-widgets/controls",
            "_model_module_version": "1.5.0",
            "_model_name": "HTMLModel",
            "_view_count": null,
            "_view_module": "@jupyter-widgets/controls",
            "_view_module_version": "1.5.0",
            "_view_name": "HTMLView",
            "description": "",
            "description_tooltip": null,
            "layout": "IPY_MODEL_a16afabf342b4050af43c05346abec14",
            "placeholder": "​",
            "style": "IPY_MODEL_02b2ab5c6ced454c9d4704d208d96f04",
            "value": "Downloading: 100%"
          }
        },
        "f0d507a2ea664501817329a8f48cf378": {
          "model_module": "@jupyter-widgets/controls",
          "model_name": "FloatProgressModel",
          "model_module_version": "1.5.0",
          "state": {
            "_dom_classes": [],
            "_model_module": "@jupyter-widgets/controls",
            "_model_module_version": "1.5.0",
            "_model_name": "FloatProgressModel",
            "_view_count": null,
            "_view_module": "@jupyter-widgets/controls",
            "_view_module_version": "1.5.0",
            "_view_name": "ProgressView",
            "bar_style": "success",
            "description": "",
            "description_tooltip": null,
            "layout": "IPY_MODEL_4e648544dc354465a4aa85bdf271c112",
            "max": 213450,
            "min": 0,
            "orientation": "horizontal",
            "style": "IPY_MODEL_2220580be7aa4543827a9af24df9292f",
            "value": 213450
          }
        },
        "dfd672bbac4e4bb0b237dcdcb4dd94f2": {
          "model_module": "@jupyter-widgets/controls",
          "model_name": "HTMLModel",
          "model_module_version": "1.5.0",
          "state": {
            "_dom_classes": [],
            "_model_module": "@jupyter-widgets/controls",
            "_model_module_version": "1.5.0",
            "_model_name": "HTMLModel",
            "_view_count": null,
            "_view_module": "@jupyter-widgets/controls",
            "_view_module_version": "1.5.0",
            "_view_name": "HTMLView",
            "description": "",
            "description_tooltip": null,
            "layout": "IPY_MODEL_e333b8e752cd49f9bd00df8966a6c2c2",
            "placeholder": "​",
            "style": "IPY_MODEL_80851eeb48b841be9ea07f2b85c5f6b7",
            "value": " 208k/208k [00:00&lt;00:00, 1.72MB/s]"
          }
        },
        "5fe7dd4a26c746198b1c3774d43531c1": {
          "model_module": "@jupyter-widgets/base",
          "model_name": "LayoutModel",
          "model_module_version": "1.2.0",
          "state": {
            "_model_module": "@jupyter-widgets/base",
            "_model_module_version": "1.2.0",
            "_model_name": "LayoutModel",
            "_view_count": null,
            "_view_module": "@jupyter-widgets/base",
            "_view_module_version": "1.2.0",
            "_view_name": "LayoutView",
            "align_content": null,
            "align_items": null,
            "align_self": null,
            "border": null,
            "bottom": null,
            "display": null,
            "flex": null,
            "flex_flow": null,
            "grid_area": null,
            "grid_auto_columns": null,
            "grid_auto_flow": null,
            "grid_auto_rows": null,
            "grid_column": null,
            "grid_gap": null,
            "grid_row": null,
            "grid_template_areas": null,
            "grid_template_columns": null,
            "grid_template_rows": null,
            "height": null,
            "justify_content": null,
            "justify_items": null,
            "left": null,
            "margin": null,
            "max_height": null,
            "max_width": null,
            "min_height": null,
            "min_width": null,
            "object_fit": null,
            "object_position": null,
            "order": null,
            "overflow": null,
            "overflow_x": null,
            "overflow_y": null,
            "padding": null,
            "right": null,
            "top": null,
            "visibility": null,
            "width": null
          }
        },
        "a16afabf342b4050af43c05346abec14": {
          "model_module": "@jupyter-widgets/base",
          "model_name": "LayoutModel",
          "model_module_version": "1.2.0",
          "state": {
            "_model_module": "@jupyter-widgets/base",
            "_model_module_version": "1.2.0",
            "_model_name": "LayoutModel",
            "_view_count": null,
            "_view_module": "@jupyter-widgets/base",
            "_view_module_version": "1.2.0",
            "_view_name": "LayoutView",
            "align_content": null,
            "align_items": null,
            "align_self": null,
            "border": null,
            "bottom": null,
            "display": null,
            "flex": null,
            "flex_flow": null,
            "grid_area": null,
            "grid_auto_columns": null,
            "grid_auto_flow": null,
            "grid_auto_rows": null,
            "grid_column": null,
            "grid_gap": null,
            "grid_row": null,
            "grid_template_areas": null,
            "grid_template_columns": null,
            "grid_template_rows": null,
            "height": null,
            "justify_content": null,
            "justify_items": null,
            "left": null,
            "margin": null,
            "max_height": null,
            "max_width": null,
            "min_height": null,
            "min_width": null,
            "object_fit": null,
            "object_position": null,
            "order": null,
            "overflow": null,
            "overflow_x": null,
            "overflow_y": null,
            "padding": null,
            "right": null,
            "top": null,
            "visibility": null,
            "width": null
          }
        },
        "02b2ab5c6ced454c9d4704d208d96f04": {
          "model_module": "@jupyter-widgets/controls",
          "model_name": "DescriptionStyleModel",
          "model_module_version": "1.5.0",
          "state": {
            "_model_module": "@jupyter-widgets/controls",
            "_model_module_version": "1.5.0",
            "_model_name": "DescriptionStyleModel",
            "_view_count": null,
            "_view_module": "@jupyter-widgets/base",
            "_view_module_version": "1.2.0",
            "_view_name": "StyleView",
            "description_width": ""
          }
        },
        "4e648544dc354465a4aa85bdf271c112": {
          "model_module": "@jupyter-widgets/base",
          "model_name": "LayoutModel",
          "model_module_version": "1.2.0",
          "state": {
            "_model_module": "@jupyter-widgets/base",
            "_model_module_version": "1.2.0",
            "_model_name": "LayoutModel",
            "_view_count": null,
            "_view_module": "@jupyter-widgets/base",
            "_view_module_version": "1.2.0",
            "_view_name": "LayoutView",
            "align_content": null,
            "align_items": null,
            "align_self": null,
            "border": null,
            "bottom": null,
            "display": null,
            "flex": null,
            "flex_flow": null,
            "grid_area": null,
            "grid_auto_columns": null,
            "grid_auto_flow": null,
            "grid_auto_rows": null,
            "grid_column": null,
            "grid_gap": null,
            "grid_row": null,
            "grid_template_areas": null,
            "grid_template_columns": null,
            "grid_template_rows": null,
            "height": null,
            "justify_content": null,
            "justify_items": null,
            "left": null,
            "margin": null,
            "max_height": null,
            "max_width": null,
            "min_height": null,
            "min_width": null,
            "object_fit": null,
            "object_position": null,
            "order": null,
            "overflow": null,
            "overflow_x": null,
            "overflow_y": null,
            "padding": null,
            "right": null,
            "top": null,
            "visibility": null,
            "width": null
          }
        },
        "2220580be7aa4543827a9af24df9292f": {
          "model_module": "@jupyter-widgets/controls",
          "model_name": "ProgressStyleModel",
          "model_module_version": "1.5.0",
          "state": {
            "_model_module": "@jupyter-widgets/controls",
            "_model_module_version": "1.5.0",
            "_model_name": "ProgressStyleModel",
            "_view_count": null,
            "_view_module": "@jupyter-widgets/base",
            "_view_module_version": "1.2.0",
            "_view_name": "StyleView",
            "bar_color": null,
            "description_width": ""
          }
        },
        "e333b8e752cd49f9bd00df8966a6c2c2": {
          "model_module": "@jupyter-widgets/base",
          "model_name": "LayoutModel",
          "model_module_version": "1.2.0",
          "state": {
            "_model_module": "@jupyter-widgets/base",
            "_model_module_version": "1.2.0",
            "_model_name": "LayoutModel",
            "_view_count": null,
            "_view_module": "@jupyter-widgets/base",
            "_view_module_version": "1.2.0",
            "_view_name": "LayoutView",
            "align_content": null,
            "align_items": null,
            "align_self": null,
            "border": null,
            "bottom": null,
            "display": null,
            "flex": null,
            "flex_flow": null,
            "grid_area": null,
            "grid_auto_columns": null,
            "grid_auto_flow": null,
            "grid_auto_rows": null,
            "grid_column": null,
            "grid_gap": null,
            "grid_row": null,
            "grid_template_areas": null,
            "grid_template_columns": null,
            "grid_template_rows": null,
            "height": null,
            "justify_content": null,
            "justify_items": null,
            "left": null,
            "margin": null,
            "max_height": null,
            "max_width": null,
            "min_height": null,
            "min_width": null,
            "object_fit": null,
            "object_position": null,
            "order": null,
            "overflow": null,
            "overflow_x": null,
            "overflow_y": null,
            "padding": null,
            "right": null,
            "top": null,
            "visibility": null,
            "width": null
          }
        },
        "80851eeb48b841be9ea07f2b85c5f6b7": {
          "model_module": "@jupyter-widgets/controls",
          "model_name": "DescriptionStyleModel",
          "model_module_version": "1.5.0",
          "state": {
            "_model_module": "@jupyter-widgets/controls",
            "_model_module_version": "1.5.0",
            "_model_name": "DescriptionStyleModel",
            "_view_count": null,
            "_view_module": "@jupyter-widgets/base",
            "_view_module_version": "1.2.0",
            "_view_name": "StyleView",
            "description_width": ""
          }
        },
        "125cec79fb9644f6b0360603fc68869c": {
          "model_module": "@jupyter-widgets/controls",
          "model_name": "HBoxModel",
          "model_module_version": "1.5.0",
          "state": {
            "_dom_classes": [],
            "_model_module": "@jupyter-widgets/controls",
            "_model_module_version": "1.5.0",
            "_model_name": "HBoxModel",
            "_view_count": null,
            "_view_module": "@jupyter-widgets/controls",
            "_view_module_version": "1.5.0",
            "_view_name": "HBoxView",
            "box_style": "",
            "children": [
              "IPY_MODEL_abb6bb04c6c646dc8b30aaf109723ddb",
              "IPY_MODEL_b1b86ff084d342c091393e1c657b1198",
              "IPY_MODEL_16ac2b1aedc24b24bfa927f52209ca9b"
            ],
            "layout": "IPY_MODEL_b21aaa6b7d9148df9309594be2820e6a"
          }
        },
        "abb6bb04c6c646dc8b30aaf109723ddb": {
          "model_module": "@jupyter-widgets/controls",
          "model_name": "HTMLModel",
          "model_module_version": "1.5.0",
          "state": {
            "_dom_classes": [],
            "_model_module": "@jupyter-widgets/controls",
            "_model_module_version": "1.5.0",
            "_model_name": "HTMLModel",
            "_view_count": null,
            "_view_module": "@jupyter-widgets/controls",
            "_view_module_version": "1.5.0",
            "_view_name": "HTMLView",
            "description": "",
            "description_tooltip": null,
            "layout": "IPY_MODEL_a18c82d9fc6b49ab9e974d74c8b2cf8a",
            "placeholder": "​",
            "style": "IPY_MODEL_bbffe39e63d849a8b5e49231c0a1f2b6",
            "value": "Downloading: 100%"
          }
        },
        "b1b86ff084d342c091393e1c657b1198": {
          "model_module": "@jupyter-widgets/controls",
          "model_name": "FloatProgressModel",
          "model_module_version": "1.5.0",
          "state": {
            "_dom_classes": [],
            "_model_module": "@jupyter-widgets/controls",
            "_model_module_version": "1.5.0",
            "_model_name": "FloatProgressModel",
            "_view_count": null,
            "_view_module": "@jupyter-widgets/controls",
            "_view_module_version": "1.5.0",
            "_view_name": "ProgressView",
            "bar_style": "success",
            "description": "",
            "description_tooltip": null,
            "layout": "IPY_MODEL_3430eaa6ed374c9d90fa5e8b3c2dc298",
            "max": 112,
            "min": 0,
            "orientation": "horizontal",
            "style": "IPY_MODEL_3db16e6c0b654d2e9b4e6acbcc56c2cf",
            "value": 112
          }
        },
        "16ac2b1aedc24b24bfa927f52209ca9b": {
          "model_module": "@jupyter-widgets/controls",
          "model_name": "HTMLModel",
          "model_module_version": "1.5.0",
          "state": {
            "_dom_classes": [],
            "_model_module": "@jupyter-widgets/controls",
            "_model_module_version": "1.5.0",
            "_model_name": "HTMLModel",
            "_view_count": null,
            "_view_module": "@jupyter-widgets/controls",
            "_view_module_version": "1.5.0",
            "_view_name": "HTMLView",
            "description": "",
            "description_tooltip": null,
            "layout": "IPY_MODEL_00ff324f823a4a62bde7d7780dbf26d3",
            "placeholder": "​",
            "style": "IPY_MODEL_4ad34b286a1f4c98866587a3e142a77c",
            "value": " 112/112 [00:00&lt;00:00, 1.84kB/s]"
          }
        },
        "b21aaa6b7d9148df9309594be2820e6a": {
          "model_module": "@jupyter-widgets/base",
          "model_name": "LayoutModel",
          "model_module_version": "1.2.0",
          "state": {
            "_model_module": "@jupyter-widgets/base",
            "_model_module_version": "1.2.0",
            "_model_name": "LayoutModel",
            "_view_count": null,
            "_view_module": "@jupyter-widgets/base",
            "_view_module_version": "1.2.0",
            "_view_name": "LayoutView",
            "align_content": null,
            "align_items": null,
            "align_self": null,
            "border": null,
            "bottom": null,
            "display": null,
            "flex": null,
            "flex_flow": null,
            "grid_area": null,
            "grid_auto_columns": null,
            "grid_auto_flow": null,
            "grid_auto_rows": null,
            "grid_column": null,
            "grid_gap": null,
            "grid_row": null,
            "grid_template_areas": null,
            "grid_template_columns": null,
            "grid_template_rows": null,
            "height": null,
            "justify_content": null,
            "justify_items": null,
            "left": null,
            "margin": null,
            "max_height": null,
            "max_width": null,
            "min_height": null,
            "min_width": null,
            "object_fit": null,
            "object_position": null,
            "order": null,
            "overflow": null,
            "overflow_x": null,
            "overflow_y": null,
            "padding": null,
            "right": null,
            "top": null,
            "visibility": null,
            "width": null
          }
        },
        "a18c82d9fc6b49ab9e974d74c8b2cf8a": {
          "model_module": "@jupyter-widgets/base",
          "model_name": "LayoutModel",
          "model_module_version": "1.2.0",
          "state": {
            "_model_module": "@jupyter-widgets/base",
            "_model_module_version": "1.2.0",
            "_model_name": "LayoutModel",
            "_view_count": null,
            "_view_module": "@jupyter-widgets/base",
            "_view_module_version": "1.2.0",
            "_view_name": "LayoutView",
            "align_content": null,
            "align_items": null,
            "align_self": null,
            "border": null,
            "bottom": null,
            "display": null,
            "flex": null,
            "flex_flow": null,
            "grid_area": null,
            "grid_auto_columns": null,
            "grid_auto_flow": null,
            "grid_auto_rows": null,
            "grid_column": null,
            "grid_gap": null,
            "grid_row": null,
            "grid_template_areas": null,
            "grid_template_columns": null,
            "grid_template_rows": null,
            "height": null,
            "justify_content": null,
            "justify_items": null,
            "left": null,
            "margin": null,
            "max_height": null,
            "max_width": null,
            "min_height": null,
            "min_width": null,
            "object_fit": null,
            "object_position": null,
            "order": null,
            "overflow": null,
            "overflow_x": null,
            "overflow_y": null,
            "padding": null,
            "right": null,
            "top": null,
            "visibility": null,
            "width": null
          }
        },
        "bbffe39e63d849a8b5e49231c0a1f2b6": {
          "model_module": "@jupyter-widgets/controls",
          "model_name": "DescriptionStyleModel",
          "model_module_version": "1.5.0",
          "state": {
            "_model_module": "@jupyter-widgets/controls",
            "_model_module_version": "1.5.0",
            "_model_name": "DescriptionStyleModel",
            "_view_count": null,
            "_view_module": "@jupyter-widgets/base",
            "_view_module_version": "1.2.0",
            "_view_name": "StyleView",
            "description_width": ""
          }
        },
        "3430eaa6ed374c9d90fa5e8b3c2dc298": {
          "model_module": "@jupyter-widgets/base",
          "model_name": "LayoutModel",
          "model_module_version": "1.2.0",
          "state": {
            "_model_module": "@jupyter-widgets/base",
            "_model_module_version": "1.2.0",
            "_model_name": "LayoutModel",
            "_view_count": null,
            "_view_module": "@jupyter-widgets/base",
            "_view_module_version": "1.2.0",
            "_view_name": "LayoutView",
            "align_content": null,
            "align_items": null,
            "align_self": null,
            "border": null,
            "bottom": null,
            "display": null,
            "flex": null,
            "flex_flow": null,
            "grid_area": null,
            "grid_auto_columns": null,
            "grid_auto_flow": null,
            "grid_auto_rows": null,
            "grid_column": null,
            "grid_gap": null,
            "grid_row": null,
            "grid_template_areas": null,
            "grid_template_columns": null,
            "grid_template_rows": null,
            "height": null,
            "justify_content": null,
            "justify_items": null,
            "left": null,
            "margin": null,
            "max_height": null,
            "max_width": null,
            "min_height": null,
            "min_width": null,
            "object_fit": null,
            "object_position": null,
            "order": null,
            "overflow": null,
            "overflow_x": null,
            "overflow_y": null,
            "padding": null,
            "right": null,
            "top": null,
            "visibility": null,
            "width": null
          }
        },
        "3db16e6c0b654d2e9b4e6acbcc56c2cf": {
          "model_module": "@jupyter-widgets/controls",
          "model_name": "ProgressStyleModel",
          "model_module_version": "1.5.0",
          "state": {
            "_model_module": "@jupyter-widgets/controls",
            "_model_module_version": "1.5.0",
            "_model_name": "ProgressStyleModel",
            "_view_count": null,
            "_view_module": "@jupyter-widgets/base",
            "_view_module_version": "1.2.0",
            "_view_name": "StyleView",
            "bar_color": null,
            "description_width": ""
          }
        },
        "00ff324f823a4a62bde7d7780dbf26d3": {
          "model_module": "@jupyter-widgets/base",
          "model_name": "LayoutModel",
          "model_module_version": "1.2.0",
          "state": {
            "_model_module": "@jupyter-widgets/base",
            "_model_module_version": "1.2.0",
            "_model_name": "LayoutModel",
            "_view_count": null,
            "_view_module": "@jupyter-widgets/base",
            "_view_module_version": "1.2.0",
            "_view_name": "LayoutView",
            "align_content": null,
            "align_items": null,
            "align_self": null,
            "border": null,
            "bottom": null,
            "display": null,
            "flex": null,
            "flex_flow": null,
            "grid_area": null,
            "grid_auto_columns": null,
            "grid_auto_flow": null,
            "grid_auto_rows": null,
            "grid_column": null,
            "grid_gap": null,
            "grid_row": null,
            "grid_template_areas": null,
            "grid_template_columns": null,
            "grid_template_rows": null,
            "height": null,
            "justify_content": null,
            "justify_items": null,
            "left": null,
            "margin": null,
            "max_height": null,
            "max_width": null,
            "min_height": null,
            "min_width": null,
            "object_fit": null,
            "object_position": null,
            "order": null,
            "overflow": null,
            "overflow_x": null,
            "overflow_y": null,
            "padding": null,
            "right": null,
            "top": null,
            "visibility": null,
            "width": null
          }
        },
        "4ad34b286a1f4c98866587a3e142a77c": {
          "model_module": "@jupyter-widgets/controls",
          "model_name": "DescriptionStyleModel",
          "model_module_version": "1.5.0",
          "state": {
            "_model_module": "@jupyter-widgets/controls",
            "_model_module_version": "1.5.0",
            "_model_name": "DescriptionStyleModel",
            "_view_count": null,
            "_view_module": "@jupyter-widgets/base",
            "_view_module_version": "1.2.0",
            "_view_name": "StyleView",
            "description_width": ""
          }
        },
        "0934b09f990e40f7b5f3639f004e0594": {
          "model_module": "@jupyter-widgets/controls",
          "model_name": "HBoxModel",
          "model_module_version": "1.5.0",
          "state": {
            "_dom_classes": [],
            "_model_module": "@jupyter-widgets/controls",
            "_model_module_version": "1.5.0",
            "_model_name": "HBoxModel",
            "_view_count": null,
            "_view_module": "@jupyter-widgets/controls",
            "_view_module_version": "1.5.0",
            "_view_name": "HBoxView",
            "box_style": "",
            "children": [
              "IPY_MODEL_92e504b605304bed8e2983406a4d317f",
              "IPY_MODEL_a4c18de192424c50ac95cc6c52b43f06",
              "IPY_MODEL_8c583dd5a742486194e7a7a49b37142a"
            ],
            "layout": "IPY_MODEL_51c17d35984449fab7311933b773ad77"
          }
        },
        "92e504b605304bed8e2983406a4d317f": {
          "model_module": "@jupyter-widgets/controls",
          "model_name": "HTMLModel",
          "model_module_version": "1.5.0",
          "state": {
            "_dom_classes": [],
            "_model_module": "@jupyter-widgets/controls",
            "_model_module_version": "1.5.0",
            "_model_name": "HTMLModel",
            "_view_count": null,
            "_view_module": "@jupyter-widgets/controls",
            "_view_module_version": "1.5.0",
            "_view_name": "HTMLView",
            "description": "",
            "description_tooltip": null,
            "layout": "IPY_MODEL_c0604d9b81aa4dba9c3ff28e1c56f4f7",
            "placeholder": "​",
            "style": "IPY_MODEL_42f93aa39b6b4662956d82932554048b",
            "value": "Downloading: 100%"
          }
        },
        "a4c18de192424c50ac95cc6c52b43f06": {
          "model_module": "@jupyter-widgets/controls",
          "model_name": "FloatProgressModel",
          "model_module_version": "1.5.0",
          "state": {
            "_dom_classes": [],
            "_model_module": "@jupyter-widgets/controls",
            "_model_module_version": "1.5.0",
            "_model_name": "FloatProgressModel",
            "_view_count": null,
            "_view_module": "@jupyter-widgets/controls",
            "_view_module_version": "1.5.0",
            "_view_name": "ProgressView",
            "bar_style": "success",
            "description": "",
            "description_tooltip": null,
            "layout": "IPY_MODEL_db41c166002645d7b7f38d89bef75a87",
            "max": 1334453533,
            "min": 0,
            "orientation": "horizontal",
            "style": "IPY_MODEL_cd261dd8ae7b413c998027b34ad1ef07",
            "value": 1334453533
          }
        },
        "8c583dd5a742486194e7a7a49b37142a": {
          "model_module": "@jupyter-widgets/controls",
          "model_name": "HTMLModel",
          "model_module_version": "1.5.0",
          "state": {
            "_dom_classes": [],
            "_model_module": "@jupyter-widgets/controls",
            "_model_module_version": "1.5.0",
            "_model_name": "HTMLModel",
            "_view_count": null,
            "_view_module": "@jupyter-widgets/controls",
            "_view_module_version": "1.5.0",
            "_view_name": "HTMLView",
            "description": "",
            "description_tooltip": null,
            "layout": "IPY_MODEL_9731beb05d444ed9bbf751ad2667e7a1",
            "placeholder": "​",
            "style": "IPY_MODEL_e601681088e944e68238e1c594ddf49a",
            "value": " 1.24G/1.24G [00:32&lt;00:00, 44.5MB/s]"
          }
        },
        "51c17d35984449fab7311933b773ad77": {
          "model_module": "@jupyter-widgets/base",
          "model_name": "LayoutModel",
          "model_module_version": "1.2.0",
          "state": {
            "_model_module": "@jupyter-widgets/base",
            "_model_module_version": "1.2.0",
            "_model_name": "LayoutModel",
            "_view_count": null,
            "_view_module": "@jupyter-widgets/base",
            "_view_module_version": "1.2.0",
            "_view_name": "LayoutView",
            "align_content": null,
            "align_items": null,
            "align_self": null,
            "border": null,
            "bottom": null,
            "display": null,
            "flex": null,
            "flex_flow": null,
            "grid_area": null,
            "grid_auto_columns": null,
            "grid_auto_flow": null,
            "grid_auto_rows": null,
            "grid_column": null,
            "grid_gap": null,
            "grid_row": null,
            "grid_template_areas": null,
            "grid_template_columns": null,
            "grid_template_rows": null,
            "height": null,
            "justify_content": null,
            "justify_items": null,
            "left": null,
            "margin": null,
            "max_height": null,
            "max_width": null,
            "min_height": null,
            "min_width": null,
            "object_fit": null,
            "object_position": null,
            "order": null,
            "overflow": null,
            "overflow_x": null,
            "overflow_y": null,
            "padding": null,
            "right": null,
            "top": null,
            "visibility": null,
            "width": null
          }
        },
        "c0604d9b81aa4dba9c3ff28e1c56f4f7": {
          "model_module": "@jupyter-widgets/base",
          "model_name": "LayoutModel",
          "model_module_version": "1.2.0",
          "state": {
            "_model_module": "@jupyter-widgets/base",
            "_model_module_version": "1.2.0",
            "_model_name": "LayoutModel",
            "_view_count": null,
            "_view_module": "@jupyter-widgets/base",
            "_view_module_version": "1.2.0",
            "_view_name": "LayoutView",
            "align_content": null,
            "align_items": null,
            "align_self": null,
            "border": null,
            "bottom": null,
            "display": null,
            "flex": null,
            "flex_flow": null,
            "grid_area": null,
            "grid_auto_columns": null,
            "grid_auto_flow": null,
            "grid_auto_rows": null,
            "grid_column": null,
            "grid_gap": null,
            "grid_row": null,
            "grid_template_areas": null,
            "grid_template_columns": null,
            "grid_template_rows": null,
            "height": null,
            "justify_content": null,
            "justify_items": null,
            "left": null,
            "margin": null,
            "max_height": null,
            "max_width": null,
            "min_height": null,
            "min_width": null,
            "object_fit": null,
            "object_position": null,
            "order": null,
            "overflow": null,
            "overflow_x": null,
            "overflow_y": null,
            "padding": null,
            "right": null,
            "top": null,
            "visibility": null,
            "width": null
          }
        },
        "42f93aa39b6b4662956d82932554048b": {
          "model_module": "@jupyter-widgets/controls",
          "model_name": "DescriptionStyleModel",
          "model_module_version": "1.5.0",
          "state": {
            "_model_module": "@jupyter-widgets/controls",
            "_model_module_version": "1.5.0",
            "_model_name": "DescriptionStyleModel",
            "_view_count": null,
            "_view_module": "@jupyter-widgets/base",
            "_view_module_version": "1.2.0",
            "_view_name": "StyleView",
            "description_width": ""
          }
        },
        "db41c166002645d7b7f38d89bef75a87": {
          "model_module": "@jupyter-widgets/base",
          "model_name": "LayoutModel",
          "model_module_version": "1.2.0",
          "state": {
            "_model_module": "@jupyter-widgets/base",
            "_model_module_version": "1.2.0",
            "_model_name": "LayoutModel",
            "_view_count": null,
            "_view_module": "@jupyter-widgets/base",
            "_view_module_version": "1.2.0",
            "_view_name": "LayoutView",
            "align_content": null,
            "align_items": null,
            "align_self": null,
            "border": null,
            "bottom": null,
            "display": null,
            "flex": null,
            "flex_flow": null,
            "grid_area": null,
            "grid_auto_columns": null,
            "grid_auto_flow": null,
            "grid_auto_rows": null,
            "grid_column": null,
            "grid_gap": null,
            "grid_row": null,
            "grid_template_areas": null,
            "grid_template_columns": null,
            "grid_template_rows": null,
            "height": null,
            "justify_content": null,
            "justify_items": null,
            "left": null,
            "margin": null,
            "max_height": null,
            "max_width": null,
            "min_height": null,
            "min_width": null,
            "object_fit": null,
            "object_position": null,
            "order": null,
            "overflow": null,
            "overflow_x": null,
            "overflow_y": null,
            "padding": null,
            "right": null,
            "top": null,
            "visibility": null,
            "width": null
          }
        },
        "cd261dd8ae7b413c998027b34ad1ef07": {
          "model_module": "@jupyter-widgets/controls",
          "model_name": "ProgressStyleModel",
          "model_module_version": "1.5.0",
          "state": {
            "_model_module": "@jupyter-widgets/controls",
            "_model_module_version": "1.5.0",
            "_model_name": "ProgressStyleModel",
            "_view_count": null,
            "_view_module": "@jupyter-widgets/base",
            "_view_module_version": "1.2.0",
            "_view_name": "StyleView",
            "bar_color": null,
            "description_width": ""
          }
        },
        "9731beb05d444ed9bbf751ad2667e7a1": {
          "model_module": "@jupyter-widgets/base",
          "model_name": "LayoutModel",
          "model_module_version": "1.2.0",
          "state": {
            "_model_module": "@jupyter-widgets/base",
            "_model_module_version": "1.2.0",
            "_model_name": "LayoutModel",
            "_view_count": null,
            "_view_module": "@jupyter-widgets/base",
            "_view_module_version": "1.2.0",
            "_view_name": "LayoutView",
            "align_content": null,
            "align_items": null,
            "align_self": null,
            "border": null,
            "bottom": null,
            "display": null,
            "flex": null,
            "flex_flow": null,
            "grid_area": null,
            "grid_auto_columns": null,
            "grid_auto_flow": null,
            "grid_auto_rows": null,
            "grid_column": null,
            "grid_gap": null,
            "grid_row": null,
            "grid_template_areas": null,
            "grid_template_columns": null,
            "grid_template_rows": null,
            "height": null,
            "justify_content": null,
            "justify_items": null,
            "left": null,
            "margin": null,
            "max_height": null,
            "max_width": null,
            "min_height": null,
            "min_width": null,
            "object_fit": null,
            "object_position": null,
            "order": null,
            "overflow": null,
            "overflow_x": null,
            "overflow_y": null,
            "padding": null,
            "right": null,
            "top": null,
            "visibility": null,
            "width": null
          }
        },
        "e601681088e944e68238e1c594ddf49a": {
          "model_module": "@jupyter-widgets/controls",
          "model_name": "DescriptionStyleModel",
          "model_module_version": "1.5.0",
          "state": {
            "_model_module": "@jupyter-widgets/controls",
            "_model_module_version": "1.5.0",
            "_model_name": "DescriptionStyleModel",
            "_view_count": null,
            "_view_module": "@jupyter-widgets/base",
            "_view_module_version": "1.2.0",
            "_view_name": "StyleView",
            "description_width": ""
          }
        }
      }
    }
  },
  "cells": [
    {
      "cell_type": "code",
      "execution_count": 1,
      "metadata": {
        "id": "4bvPP7sIADnu"
      },
      "outputs": [],
      "source": [
        "import numpy as np \n",
        "import pandas as pd "
      ]
    },
    {
      "cell_type": "code",
      "source": [
        "!pip install transformers"
      ],
      "metadata": {
        "colab": {
          "base_uri": "https://localhost:8080/"
        },
        "id": "3q3U3r2ABb_J",
        "outputId": "7e510d7c-a737-4f60-82c0-3c25b07e2e0e"
      },
      "execution_count": 2,
      "outputs": [
        {
          "output_type": "stream",
          "name": "stdout",
          "text": [
            "Collecting transformers\n",
            "  Downloading transformers-4.17.0-py3-none-any.whl (3.8 MB)\n",
            "\u001b[K     |████████████████████████████████| 3.8 MB 5.1 MB/s \n",
            "\u001b[?25hRequirement already satisfied: tqdm>=4.27 in /usr/local/lib/python3.7/dist-packages (from transformers) (4.63.0)\n",
            "Requirement already satisfied: importlib-metadata in /usr/local/lib/python3.7/dist-packages (from transformers) (4.11.3)\n",
            "Collecting huggingface-hub<1.0,>=0.1.0\n",
            "  Downloading huggingface_hub-0.4.0-py3-none-any.whl (67 kB)\n",
            "\u001b[K     |████████████████████████████████| 67 kB 4.4 MB/s \n",
            "\u001b[?25hCollecting sacremoses\n",
            "  Downloading sacremoses-0.0.49-py3-none-any.whl (895 kB)\n",
            "\u001b[K     |████████████████████████████████| 895 kB 51.2 MB/s \n",
            "\u001b[?25hRequirement already satisfied: filelock in /usr/local/lib/python3.7/dist-packages (from transformers) (3.6.0)\n",
            "Requirement already satisfied: regex!=2019.12.17 in /usr/local/lib/python3.7/dist-packages (from transformers) (2019.12.20)\n",
            "Requirement already satisfied: numpy>=1.17 in /usr/local/lib/python3.7/dist-packages (from transformers) (1.21.5)\n",
            "Requirement already satisfied: packaging>=20.0 in /usr/local/lib/python3.7/dist-packages (from transformers) (21.3)\n",
            "Collecting pyyaml>=5.1\n",
            "  Downloading PyYAML-6.0-cp37-cp37m-manylinux_2_5_x86_64.manylinux1_x86_64.manylinux_2_12_x86_64.manylinux2010_x86_64.whl (596 kB)\n",
            "\u001b[K     |████████████████████████████████| 596 kB 37.7 MB/s \n",
            "\u001b[?25hRequirement already satisfied: requests in /usr/local/lib/python3.7/dist-packages (from transformers) (2.23.0)\n",
            "Collecting tokenizers!=0.11.3,>=0.11.1\n",
            "  Downloading tokenizers-0.11.6-cp37-cp37m-manylinux_2_12_x86_64.manylinux2010_x86_64.whl (6.5 MB)\n",
            "\u001b[K     |████████████████████████████████| 6.5 MB 41.1 MB/s \n",
            "\u001b[?25hRequirement already satisfied: typing-extensions>=3.7.4.3 in /usr/local/lib/python3.7/dist-packages (from huggingface-hub<1.0,>=0.1.0->transformers) (3.10.0.2)\n",
            "Requirement already satisfied: pyparsing!=3.0.5,>=2.0.2 in /usr/local/lib/python3.7/dist-packages (from packaging>=20.0->transformers) (3.0.7)\n",
            "Requirement already satisfied: zipp>=0.5 in /usr/local/lib/python3.7/dist-packages (from importlib-metadata->transformers) (3.7.0)\n",
            "Requirement already satisfied: urllib3!=1.25.0,!=1.25.1,<1.26,>=1.21.1 in /usr/local/lib/python3.7/dist-packages (from requests->transformers) (1.24.3)\n",
            "Requirement already satisfied: chardet<4,>=3.0.2 in /usr/local/lib/python3.7/dist-packages (from requests->transformers) (3.0.4)\n",
            "Requirement already satisfied: idna<3,>=2.5 in /usr/local/lib/python3.7/dist-packages (from requests->transformers) (2.10)\n",
            "Requirement already satisfied: certifi>=2017.4.17 in /usr/local/lib/python3.7/dist-packages (from requests->transformers) (2021.10.8)\n",
            "Requirement already satisfied: click in /usr/local/lib/python3.7/dist-packages (from sacremoses->transformers) (7.1.2)\n",
            "Requirement already satisfied: six in /usr/local/lib/python3.7/dist-packages (from sacremoses->transformers) (1.15.0)\n",
            "Requirement already satisfied: joblib in /usr/local/lib/python3.7/dist-packages (from sacremoses->transformers) (1.1.0)\n",
            "Installing collected packages: pyyaml, tokenizers, sacremoses, huggingface-hub, transformers\n",
            "  Attempting uninstall: pyyaml\n",
            "    Found existing installation: PyYAML 3.13\n",
            "    Uninstalling PyYAML-3.13:\n",
            "      Successfully uninstalled PyYAML-3.13\n",
            "Successfully installed huggingface-hub-0.4.0 pyyaml-6.0 sacremoses-0.0.49 tokenizers-0.11.6 transformers-4.17.0\n"
          ]
        }
      ]
    },
    {
      "cell_type": "code",
      "source": [
        "import transformers"
      ],
      "metadata": {
        "id": "l5-cyHsRBfbN"
      },
      "execution_count": 3,
      "outputs": []
    },
    {
      "cell_type": "code",
      "source": [
        "from transformers import AutoTokenizer, AutoModelForTokenClassification\n",
        "from transformers import pipeline\n"
      ],
      "metadata": {
        "id": "9G-WUolOB4cF"
      },
      "execution_count": 4,
      "outputs": []
    },
    {
      "cell_type": "code",
      "source": [
        "tokenizer = AutoTokenizer.from_pretrained(\"dslim/bert-base-NER\")\n",
        "model = AutoModelForTokenClassification.from_pretrained(\"dslim/bert-base-NER\")\n",
        "\n",
        "nlp = pipeline(\"ner\", model=model, tokenizer=tokenizer)"
      ],
      "metadata": {
        "colab": {
          "base_uri": "https://localhost:8080/",
          "height": 209,
          "referenced_widgets": [
            "721833dd5ca449a1a24bfdbb5c68f6af",
            "f25ac4392a614799be943d41b0f7d8f6",
            "037d8261740c41d8b94898b3cdd17185",
            "30f471a1c60d483ca22ffb4de85b7fb6",
            "c4362c3c74114fb99321712c64e58347",
            "838b7c184c464d02af922f46d1a38365",
            "dd6c981cfcdb4a60bf13e97c74c76bb7",
            "ed46b49d7890467281c46d480eaa205b",
            "6c2ddc4a789a4cfc817e8e1767d33129",
            "6f60e91170ab4dc49be0c6155226f149",
            "0c8bccf4cd154e2585cc1c0a52b98b37",
            "383c52503fc640f1a1115e00c1dee547",
            "701a633cf3764b628e74915cd2f804d3",
            "352146b1a81b4e829fc8ac1d5747fb08",
            "eafa6369816044db967d76fad7b6d072",
            "5f90d449e63b44838fda1d1a61730bf4",
            "e6fb8240acae4cfdb7905d5ee94538a0",
            "948d7faf46454a7f9485827b4c82c2ac",
            "9b5030ef3408493bbcadbef3d9e7707a",
            "058fb18a64404f3dbd88d11027f06df8",
            "31946b87849342838a1e7d5f8891ac7c",
            "69d92f59e24c41b8955ed55aa344b435",
            "eb9d6de1a0704f0eb9a4c67ee7759e12",
            "5b9a1c19adf34e7ba28cf56fa6208f77",
            "213a566746514b3eb8a57ae4c3d97174",
            "c612e5bc33a74944a0dbadbc657bd2d8",
            "e526b52851404e4e9bf6fc24635a9791",
            "7f32ab4990af4f3e93d6ca66fc78fc22",
            "34199126223a4ac897ceb9a4d83e0e51",
            "8c84f9bf6cd64376ad8b95784cfe5554",
            "4a63cc11c3474cce808d6e863f5d884c",
            "5fc6019e00a54fd1a9fbde34dcb75f3c",
            "6754e1031d6d438cbc42712f74cedb45",
            "602259e119de4bfbb6600c92b72c43df",
            "098a5d5d6aa04d89b8e959b5caf09e5a",
            "82d548bc91d44ea8a36d57547ecd8b7c",
            "3235d8c1b57b425f9a451984ef1f7d01",
            "4606cd7f0e424700b14bae991d04b40f",
            "53f7a9fa6eb0425e8df54be508a0a780",
            "a55e4ebc5b3b4edf9e062f97a10b080a",
            "f270f4c6af7547e7ad2b6111b9d6d23d",
            "c8246c9b99ae415dbfdd9ab3caf8de4f",
            "3db97c272e2a417cb583dc6c6b87cb3a",
            "dcebc185050e4f3190cb6f5ea088d3da",
            "c48a709a8426452ca1568e6754515ad7",
            "22ba169b3d864204bd223a684f7b98ed",
            "c6bd83d2141e49a2bfb4ac8c2a7041de",
            "b09fc80d4bb940f48238af247caaa5e5",
            "f3db652add124781b1939779d14492e0",
            "ae8c2309fe5044c78373058434aebeb4",
            "c0c7a8f6d641400d943b6e5d17528cb7",
            "c7ac15a32663474e815543f52abf3f2b",
            "f2a4d3c41e41480aa79e36486e7e5d88",
            "c4151e55808847d894e564fcd5e6faae",
            "892f7901763148229129a33945089467",
            "f26acad97f4e4d18a697b369db4ca189",
            "6d25f34f74964979884085328484dcde",
            "791ce97716064571a7e16c382fe2de78",
            "356e5b38492444b4a3d202101c4ec136",
            "499e864dc1d643519ea750438b8eb847",
            "4928ae87a71546789725e7cdb36561a5",
            "02984b9dcc1e4e828da4689cc95f8c0e",
            "d97149a418d04e188cdedd953437358a",
            "31e78179cae94a49bdd2470513deadfd",
            "bae6e6a319b74cef912bca5b780d212c",
            "9fa79d3cc6c141298514e8507ff69d5d"
          ]
        },
        "id": "BMaKC7NNB_7u",
        "outputId": "cd6fcf48-06df-4141-ec24-57a8321f6169"
      },
      "execution_count": 5,
      "outputs": [
        {
          "output_type": "display_data",
          "data": {
            "text/plain": [
              "Downloading:   0%|          | 0.00/59.0 [00:00<?, ?B/s]"
            ],
            "application/vnd.jupyter.widget-view+json": {
              "version_major": 2,
              "version_minor": 0,
              "model_id": "721833dd5ca449a1a24bfdbb5c68f6af"
            }
          },
          "metadata": {}
        },
        {
          "output_type": "display_data",
          "data": {
            "text/plain": [
              "Downloading:   0%|          | 0.00/829 [00:00<?, ?B/s]"
            ],
            "application/vnd.jupyter.widget-view+json": {
              "version_major": 2,
              "version_minor": 0,
              "model_id": "383c52503fc640f1a1115e00c1dee547"
            }
          },
          "metadata": {}
        },
        {
          "output_type": "display_data",
          "data": {
            "text/plain": [
              "Downloading:   0%|          | 0.00/208k [00:00<?, ?B/s]"
            ],
            "application/vnd.jupyter.widget-view+json": {
              "version_major": 2,
              "version_minor": 0,
              "model_id": "eb9d6de1a0704f0eb9a4c67ee7759e12"
            }
          },
          "metadata": {}
        },
        {
          "output_type": "display_data",
          "data": {
            "text/plain": [
              "Downloading:   0%|          | 0.00/2.00 [00:00<?, ?B/s]"
            ],
            "application/vnd.jupyter.widget-view+json": {
              "version_major": 2,
              "version_minor": 0,
              "model_id": "602259e119de4bfbb6600c92b72c43df"
            }
          },
          "metadata": {}
        },
        {
          "output_type": "display_data",
          "data": {
            "text/plain": [
              "Downloading:   0%|          | 0.00/112 [00:00<?, ?B/s]"
            ],
            "application/vnd.jupyter.widget-view+json": {
              "version_major": 2,
              "version_minor": 0,
              "model_id": "c48a709a8426452ca1568e6754515ad7"
            }
          },
          "metadata": {}
        },
        {
          "output_type": "display_data",
          "data": {
            "text/plain": [
              "Downloading:   0%|          | 0.00/413M [00:00<?, ?B/s]"
            ],
            "application/vnd.jupyter.widget-view+json": {
              "version_major": 2,
              "version_minor": 0,
              "model_id": "f26acad97f4e4d18a697b369db4ca189"
            }
          },
          "metadata": {}
        }
      ]
    },
    {
      "cell_type": "code",
      "source": [
        "example = \"Agilent to acquire BioTek for $1.165B\"\n",
        "\n",
        "ner_results = nlp(example)\n",
        "print(ner_results)"
      ],
      "metadata": {
        "colab": {
          "base_uri": "https://localhost:8080/"
        },
        "id": "IP-Vf7TlCDuW",
        "outputId": "ec10f410-1090-4f95-99c2-4009103a01b1"
      },
      "execution_count": 6,
      "outputs": [
        {
          "output_type": "stream",
          "name": "stdout",
          "text": [
            "[{'entity': 'B-ORG', 'score': 0.99779296, 'index': 1, 'word': 'A', 'start': 0, 'end': 1}, {'entity': 'I-ORG', 'score': 0.9767228, 'index': 2, 'word': '##gi', 'start': 1, 'end': 3}, {'entity': 'I-ORG', 'score': 0.9949825, 'index': 3, 'word': '##lent', 'start': 3, 'end': 7}, {'entity': 'B-ORG', 'score': 0.9995247, 'index': 6, 'word': 'B', 'start': 19, 'end': 20}, {'entity': 'B-ORG', 'score': 0.93922216, 'index': 7, 'word': '##io', 'start': 20, 'end': 22}, {'entity': 'I-ORG', 'score': 0.99886537, 'index': 8, 'word': '##T', 'start': 22, 'end': 23}, {'entity': 'I-ORG', 'score': 0.9971501, 'index': 9, 'word': '##ek', 'start': 23, 'end': 25}]\n"
          ]
        }
      ]
    },
    {
      "cell_type": "code",
      "source": [
        "example = \"Amazon Invests $2B to Expand Operations in India\"\n",
        "\n",
        "ner_results = nlp(example)\n",
        "print(ner_results)"
      ],
      "metadata": {
        "colab": {
          "base_uri": "https://localhost:8080/"
        },
        "id": "yIV2vfelCUwA",
        "outputId": "29d3c4c7-e0e4-4a69-a659-68486a69e528"
      },
      "execution_count": 7,
      "outputs": [
        {
          "output_type": "stream",
          "name": "stdout",
          "text": [
            "[{'entity': 'B-ORG', 'score': 0.999134, 'index': 1, 'word': 'Amazon', 'start': 0, 'end': 6}, {'entity': 'I-ORG', 'score': 0.99855894, 'index': 2, 'word': 'In', 'start': 7, 'end': 9}, {'entity': 'I-ORG', 'score': 0.9901177, 'index': 3, 'word': '##ves', 'start': 9, 'end': 12}, {'entity': 'B-ORG', 'score': 0.90328836, 'index': 9, 'word': 'Ex', 'start': 22, 'end': 24}, {'entity': 'I-ORG', 'score': 0.5646667, 'index': 10, 'word': '##pan', 'start': 24, 'end': 27}, {'entity': 'I-ORG', 'score': 0.5163879, 'index': 12, 'word': 'Operations', 'start': 29, 'end': 39}, {'entity': 'B-LOC', 'score': 0.9994265, 'index': 14, 'word': 'India', 'start': 43, 'end': 48}]\n"
          ]
        }
      ]
    },
    {
      "cell_type": "code",
      "source": [
        "tokenizer = AutoTokenizer.from_pretrained(\"dslim/bert-large-NER\")\n",
        "model = AutoModelForTokenClassification.from_pretrained(\"dslim/bert-large-NER\")\n",
        "\n",
        "nlp = pipeline(\"ner\", model=model, tokenizer=tokenizer)"
      ],
      "metadata": {
        "id": "5YcYa4ZWCwyJ",
        "colab": {
          "base_uri": "https://localhost:8080/",
          "height": 177,
          "referenced_widgets": [
            "b3b3dff27b0d439295bab1c0f325dc2b",
            "25beee64752f4e4bbee9fd0271b0d20d",
            "b869fdff857a4d31abdb559d52e4061b",
            "e9d1a012ed1845a19f122da5d90e4181",
            "941e124e463c4cfb93b86ef7a4c2e2d3",
            "44ba5be87206484484f6895c3709d141",
            "18cdfeb0063e4e1eb0a149a970b93607",
            "cb24f528b1c14e429e03a7adc51a0efa",
            "5a1605e307a24ffb8fcd90dcc32b2a8e",
            "760a92f6e2b642a2b0995e6510352322",
            "2f09b5d5552540e5aea3355630299708",
            "6971260010a14d958b43302de9f8090f",
            "4fa212de8f354638bc5fe987c02a0b6d",
            "1f447821171e4990827b0ba86eaf6687",
            "f5c956da0e9646ba992bbb21688f3fac",
            "e8f4e1acec55441b8b349b705b44e292",
            "f2d47157678045a1866554beaf4ab1a4",
            "effee67d402e45988036f610471e5abc",
            "7b0b2adbac464c86a91080dc0570f65d",
            "4f818f0a641d4170a4c26c3d540ead7d",
            "46f846ceb44a4ba9a22d636421288b8c",
            "b00c0dd0ae0e417a819580d4ed77188e",
            "b9454e57261e48058adc841e0e812e70",
            "a29fbc17f9e442ba8d0250d382c6a525",
            "f0d507a2ea664501817329a8f48cf378",
            "dfd672bbac4e4bb0b237dcdcb4dd94f2",
            "5fe7dd4a26c746198b1c3774d43531c1",
            "a16afabf342b4050af43c05346abec14",
            "02b2ab5c6ced454c9d4704d208d96f04",
            "4e648544dc354465a4aa85bdf271c112",
            "2220580be7aa4543827a9af24df9292f",
            "e333b8e752cd49f9bd00df8966a6c2c2",
            "80851eeb48b841be9ea07f2b85c5f6b7",
            "125cec79fb9644f6b0360603fc68869c",
            "abb6bb04c6c646dc8b30aaf109723ddb",
            "b1b86ff084d342c091393e1c657b1198",
            "16ac2b1aedc24b24bfa927f52209ca9b",
            "b21aaa6b7d9148df9309594be2820e6a",
            "a18c82d9fc6b49ab9e974d74c8b2cf8a",
            "bbffe39e63d849a8b5e49231c0a1f2b6",
            "3430eaa6ed374c9d90fa5e8b3c2dc298",
            "3db16e6c0b654d2e9b4e6acbcc56c2cf",
            "00ff324f823a4a62bde7d7780dbf26d3",
            "4ad34b286a1f4c98866587a3e142a77c",
            "0934b09f990e40f7b5f3639f004e0594",
            "92e504b605304bed8e2983406a4d317f",
            "a4c18de192424c50ac95cc6c52b43f06",
            "8c583dd5a742486194e7a7a49b37142a",
            "51c17d35984449fab7311933b773ad77",
            "c0604d9b81aa4dba9c3ff28e1c56f4f7",
            "42f93aa39b6b4662956d82932554048b",
            "db41c166002645d7b7f38d89bef75a87",
            "cd261dd8ae7b413c998027b34ad1ef07",
            "9731beb05d444ed9bbf751ad2667e7a1",
            "e601681088e944e68238e1c594ddf49a"
          ]
        },
        "outputId": "128d4a30-5852-41c4-8f5e-88f7e061b18e"
      },
      "execution_count": 8,
      "outputs": [
        {
          "output_type": "display_data",
          "data": {
            "text/plain": [
              "Downloading:   0%|          | 0.00/40.0 [00:00<?, ?B/s]"
            ],
            "application/vnd.jupyter.widget-view+json": {
              "version_major": 2,
              "version_minor": 0,
              "model_id": "b3b3dff27b0d439295bab1c0f325dc2b"
            }
          },
          "metadata": {}
        },
        {
          "output_type": "display_data",
          "data": {
            "text/plain": [
              "Downloading:   0%|          | 0.00/1.42k [00:00<?, ?B/s]"
            ],
            "application/vnd.jupyter.widget-view+json": {
              "version_major": 2,
              "version_minor": 0,
              "model_id": "6971260010a14d958b43302de9f8090f"
            }
          },
          "metadata": {}
        },
        {
          "output_type": "display_data",
          "data": {
            "text/plain": [
              "Downloading:   0%|          | 0.00/208k [00:00<?, ?B/s]"
            ],
            "application/vnd.jupyter.widget-view+json": {
              "version_major": 2,
              "version_minor": 0,
              "model_id": "b9454e57261e48058adc841e0e812e70"
            }
          },
          "metadata": {}
        },
        {
          "output_type": "display_data",
          "data": {
            "text/plain": [
              "Downloading:   0%|          | 0.00/112 [00:00<?, ?B/s]"
            ],
            "application/vnd.jupyter.widget-view+json": {
              "version_major": 2,
              "version_minor": 0,
              "model_id": "125cec79fb9644f6b0360603fc68869c"
            }
          },
          "metadata": {}
        },
        {
          "output_type": "display_data",
          "data": {
            "text/plain": [
              "Downloading:   0%|          | 0.00/1.24G [00:00<?, ?B/s]"
            ],
            "application/vnd.jupyter.widget-view+json": {
              "version_major": 2,
              "version_minor": 0,
              "model_id": "0934b09f990e40f7b5f3639f004e0594"
            }
          },
          "metadata": {}
        }
      ]
    },
    {
      "cell_type": "code",
      "source": [
        "def get_entities_bert(ner_results):\n",
        "  entityList = []\n",
        "  current_token = ''\n",
        "  last_index = 0\n",
        "  last_token_apostrophe = False\n",
        "\n",
        "  #filter entites with less confidence\n",
        "  confidence_score = 0.7\n",
        "  filtered_results = list(filter(lambda x: x['score'] > confidence_score, ner_results))\n",
        "\n",
        "  for entity in filtered_results: \n",
        "    if entity['word'].startswith('##'):\n",
        "      current_token += entity['word'][2:]\n",
        "      entityList[-1] = { 'token' : current_token, 'entity' : entity['entity']}\n",
        "    elif entity['word'] == \"'\":\n",
        "      last_token_apostrophe = True\n",
        "      current_token += entity['word']\n",
        "      entityList[-1] = { 'token' : current_token, 'entity' : entity['entity']}\n",
        "    elif last_token_apostrophe == True:\n",
        "      current_token += entity['word']\n",
        "      entityList[-1] = { 'token' : current_token, 'entity' : entity['entity']}\n",
        "      last_token_apostrophe = False\n",
        "    elif ((entity['index'] - last_index) <= 1 and (last_index != 0)):\n",
        "      current_token += ' '+ entity['word']\n",
        "      entityList[-1] = { 'token' : current_token, 'entity' : entity['entity']}\n",
        "    else:\n",
        "      current_token = entity['word']\n",
        "      entityList.append({ 'token' : current_token, 'entity' : entity['entity']})\n",
        "\n",
        "    last_index = entity['index']  \n",
        "    \n",
        "  filter_one_letter_tokens = filter(lambda x: len(x['token']) > 1, entityList)\n",
        "  return list(filter_one_letter_tokens)"
      ],
      "metadata": {
        "id": "p5J8rGB94E8-"
      },
      "execution_count": 9,
      "outputs": []
    },
    {
      "cell_type": "code",
      "source": [
        "example = \"Agilent to acquire BioTek for $1.165B\"\n",
        "#example = example.lower()\n",
        "\n",
        "ner_results = nlp(example)\n",
        "print(ner_results)\n",
        "\n",
        "entityList = get_entities_bert(ner_results)\n",
        "print(entityList)"
      ],
      "metadata": {
        "colab": {
          "base_uri": "https://localhost:8080/"
        },
        "id": "TSXYVjgUC7xO",
        "outputId": "a63a2adb-1cc8-4e31-c14b-ccb22150ee2b"
      },
      "execution_count": 10,
      "outputs": [
        {
          "output_type": "stream",
          "name": "stdout",
          "text": [
            "[{'entity': 'B-ORG', 'score': 0.9995727, 'index': 1, 'word': 'A', 'start': 0, 'end': 1}, {'entity': 'I-ORG', 'score': 0.9944661, 'index': 2, 'word': '##gi', 'start': 1, 'end': 3}, {'entity': 'I-ORG', 'score': 0.9788536, 'index': 3, 'word': '##lent', 'start': 3, 'end': 7}, {'entity': 'B-ORG', 'score': 0.99958223, 'index': 6, 'word': 'B', 'start': 19, 'end': 20}, {'entity': 'I-ORG', 'score': 0.99762696, 'index': 7, 'word': '##io', 'start': 20, 'end': 22}, {'entity': 'I-ORG', 'score': 0.99851424, 'index': 8, 'word': '##T', 'start': 22, 'end': 23}, {'entity': 'I-ORG', 'score': 0.99901855, 'index': 9, 'word': '##ek', 'start': 23, 'end': 25}]\n",
            "[{'token': 'Agilent', 'entity': 'I-ORG'}, {'token': 'BioTek', 'entity': 'I-ORG'}]\n"
          ]
        }
      ]
    },
    {
      "cell_type": "code",
      "source": [
        "example = \"Amazon invests $2B to Expand Operations in India\"\n",
        "\n",
        "ner_results = nlp(example)\n",
        "print(ner_results)\n",
        "\n",
        "\n",
        "entityList = get_entities_bert(ner_results)\n",
        "print(entityList)"
      ],
      "metadata": {
        "colab": {
          "base_uri": "https://localhost:8080/"
        },
        "id": "vYQFDWUzDHqs",
        "outputId": "151b16c3-3a62-4ddb-cdfd-788224acc83f"
      },
      "execution_count": 11,
      "outputs": [
        {
          "output_type": "stream",
          "name": "stdout",
          "text": [
            "[{'entity': 'B-ORG', 'score': 0.99749714, 'index': 1, 'word': 'Amazon', 'start': 0, 'end': 6}, {'entity': 'B-LOC', 'score': 0.999537, 'index': 13, 'word': 'India', 'start': 43, 'end': 48}]\n",
            "[{'token': 'Amazon', 'entity': 'B-ORG'}, {'token': 'India', 'entity': 'B-LOC'}]\n"
          ]
        }
      ]
    },
    {
      "cell_type": "code",
      "source": [
        "example = \"Broadcom Corporation (BRCM) President & CEO Scott A Mcgregor sells 20,000 Shares\"\n",
        "\n",
        "ner_results = nlp(example)\n",
        "print(ner_results)\n",
        "\n",
        "\n",
        "entityList = get_entities_bert(ner_results)\n",
        "print(entityList)"
      ],
      "metadata": {
        "colab": {
          "base_uri": "https://localhost:8080/"
        },
        "id": "_W7tbnsJ4rm-",
        "outputId": "c836cf85-9b7f-4b8b-b597-71e6c7247cd6"
      },
      "execution_count": 12,
      "outputs": [
        {
          "output_type": "stream",
          "name": "stdout",
          "text": [
            "[{'entity': 'B-ORG', 'score': 0.9990883, 'index': 1, 'word': 'Broad', 'start': 0, 'end': 5}, {'entity': 'I-ORG', 'score': 0.99768806, 'index': 2, 'word': '##com', 'start': 5, 'end': 8}, {'entity': 'I-ORG', 'score': 0.99908555, 'index': 3, 'word': 'Corporation', 'start': 9, 'end': 20}, {'entity': 'B-ORG', 'score': 0.9970906, 'index': 5, 'word': 'BR', 'start': 22, 'end': 24}, {'entity': 'I-ORG', 'score': 0.96153444, 'index': 6, 'word': '##CM', 'start': 24, 'end': 26}, {'entity': 'B-PER', 'score': 0.9992545, 'index': 11, 'word': 'Scott', 'start': 44, 'end': 49}, {'entity': 'I-PER', 'score': 0.9931559, 'index': 12, 'word': 'A', 'start': 50, 'end': 51}, {'entity': 'I-PER', 'score': 0.9991246, 'index': 13, 'word': 'M', 'start': 52, 'end': 53}, {'entity': 'I-PER', 'score': 0.95359385, 'index': 14, 'word': '##c', 'start': 53, 'end': 54}, {'entity': 'I-PER', 'score': 0.8601585, 'index': 15, 'word': '##g', 'start': 54, 'end': 55}, {'entity': 'I-PER', 'score': 0.6098421, 'index': 16, 'word': '##re', 'start': 55, 'end': 57}, {'entity': 'I-PER', 'score': 0.86235344, 'index': 17, 'word': '##gor', 'start': 57, 'end': 60}]\n",
            "[{'token': 'Broadcom Corporation', 'entity': 'I-ORG'}, {'token': 'BRCM', 'entity': 'I-ORG'}, {'token': 'Scott A Mcggor', 'entity': 'I-PER'}]\n"
          ]
        }
      ]
    },
    {
      "cell_type": "code",
      "source": [
        "example = \"Alternative Investment Allocations Should Increase In 2017 Across The Board Due To Market Uncertainty\"\n",
        "\n",
        "ner_results = nlp(example)\n",
        "print(ner_results)\n",
        "\n",
        "\n",
        "entityList = get_entities_bert(ner_results)\n",
        "print(entityList)"
      ],
      "metadata": {
        "colab": {
          "base_uri": "https://localhost:8080/"
        },
        "id": "XSX_rivt5pr8",
        "outputId": "b11b40b0-67b4-4afe-8905-f22a1a478a07"
      },
      "execution_count": 13,
      "outputs": [
        {
          "output_type": "stream",
          "name": "stdout",
          "text": [
            "[]\n",
            "[]\n"
          ]
        }
      ]
    },
    {
      "cell_type": "code",
      "source": [
        "example = \"Saba Capital Management, L.P. Buys Allergan PLC, Alpine Total Dynamic Dividend Fund,\"\n",
        "\n",
        "ner_results = nlp(example)\n",
        "print(ner_results)\n",
        "\n",
        "\n",
        "entityList = get_entities_bert(ner_results)\n",
        "print(entityList)"
      ],
      "metadata": {
        "colab": {
          "base_uri": "https://localhost:8080/"
        },
        "id": "A-AtU8ro5wtI",
        "outputId": "8d707c4f-9e64-4b29-b05e-bc8bf950374e"
      },
      "execution_count": 14,
      "outputs": [
        {
          "output_type": "stream",
          "name": "stdout",
          "text": [
            "[{'entity': 'B-ORG', 'score': 0.9982614, 'index': 1, 'word': 'Sa', 'start': 0, 'end': 2}, {'entity': 'I-ORG', 'score': 0.99101406, 'index': 2, 'word': '##ba', 'start': 2, 'end': 4}, {'entity': 'I-ORG', 'score': 0.997468, 'index': 3, 'word': 'Capital', 'start': 5, 'end': 12}, {'entity': 'I-ORG', 'score': 0.998353, 'index': 4, 'word': 'Management', 'start': 13, 'end': 23}, {'entity': 'B-ORG', 'score': 0.86203694, 'index': 6, 'word': 'L', 'start': 25, 'end': 26}, {'entity': 'I-ORG', 'score': 0.8916233, 'index': 8, 'word': 'P', 'start': 27, 'end': 28}, {'entity': 'B-ORG', 'score': 0.99959606, 'index': 12, 'word': 'All', 'start': 35, 'end': 38}, {'entity': 'I-ORG', 'score': 0.9947069, 'index': 13, 'word': '##er', 'start': 38, 'end': 40}, {'entity': 'I-ORG', 'score': 0.9938067, 'index': 14, 'word': '##gan', 'start': 40, 'end': 43}, {'entity': 'I-ORG', 'score': 0.9990758, 'index': 15, 'word': 'P', 'start': 44, 'end': 45}, {'entity': 'I-ORG', 'score': 0.9984855, 'index': 16, 'word': '##LC', 'start': 45, 'end': 47}, {'entity': 'B-ORG', 'score': 0.9002267, 'index': 18, 'word': 'Alpine', 'start': 49, 'end': 55}, {'entity': 'I-ORG', 'score': 0.567178, 'index': 20, 'word': 'D', 'start': 62, 'end': 63}]\n",
            "[{'token': 'Saba Capital Management', 'entity': 'I-ORG'}, {'token': 'Allergan PLC', 'entity': 'I-ORG'}, {'token': 'Alpine', 'entity': 'B-ORG'}]\n"
          ]
        }
      ]
    },
    {
      "cell_type": "code",
      "source": [
        "example = \"Bulldog Investors, LLC Buys Korea Equity Fund, Stellar Acquisition III Inc, New York REIT Inc, ...\"\n",
        "\n",
        "ner_results = nlp(example)\n",
        "print(ner_results)\n",
        "\n",
        "\n",
        "entityList = get_entities_bert(ner_results)\n",
        "print(entityList)"
      ],
      "metadata": {
        "colab": {
          "base_uri": "https://localhost:8080/"
        },
        "id": "b04hDXDO8OPz",
        "outputId": "a7f50525-142f-49ee-deb7-89a5e36b833e"
      },
      "execution_count": 15,
      "outputs": [
        {
          "output_type": "stream",
          "name": "stdout",
          "text": [
            "[{'entity': 'B-ORG', 'score': 0.99873954, 'index': 1, 'word': 'Bull', 'start': 0, 'end': 4}, {'entity': 'I-ORG', 'score': 0.9968284, 'index': 2, 'word': '##dog', 'start': 4, 'end': 7}, {'entity': 'I-ORG', 'score': 0.9978801, 'index': 3, 'word': 'In', 'start': 8, 'end': 10}, {'entity': 'I-ORG', 'score': 0.9935121, 'index': 4, 'word': '##ves', 'start': 10, 'end': 13}, {'entity': 'I-ORG', 'score': 0.9955329, 'index': 5, 'word': '##tors', 'start': 13, 'end': 17}, {'entity': 'I-ORG', 'score': 0.9842046, 'index': 6, 'word': ',', 'start': 17, 'end': 18}, {'entity': 'I-ORG', 'score': 0.98660684, 'index': 7, 'word': 'LLC', 'start': 19, 'end': 22}, {'entity': 'B-ORG', 'score': 0.9990299, 'index': 10, 'word': 'Korea', 'start': 28, 'end': 33}, {'entity': 'I-ORG', 'score': 0.9975528, 'index': 11, 'word': 'Equity', 'start': 34, 'end': 40}, {'entity': 'I-ORG', 'score': 0.9977875, 'index': 12, 'word': 'Fund', 'start': 41, 'end': 45}, {'entity': 'B-ORG', 'score': 0.9991146, 'index': 14, 'word': 'Stella', 'start': 47, 'end': 53}, {'entity': 'I-ORG', 'score': 0.99683553, 'index': 15, 'word': '##r', 'start': 53, 'end': 54}, {'entity': 'I-ORG', 'score': 0.9988154, 'index': 16, 'word': 'A', 'start': 55, 'end': 56}, {'entity': 'I-ORG', 'score': 0.9914125, 'index': 17, 'word': '##c', 'start': 56, 'end': 57}, {'entity': 'I-ORG', 'score': 0.9984864, 'index': 18, 'word': '##quisition', 'start': 57, 'end': 66}, {'entity': 'I-ORG', 'score': 0.9974553, 'index': 19, 'word': 'III', 'start': 67, 'end': 70}, {'entity': 'I-ORG', 'score': 0.99570894, 'index': 20, 'word': 'Inc', 'start': 71, 'end': 74}, {'entity': 'B-ORG', 'score': 0.997141, 'index': 22, 'word': 'New', 'start': 76, 'end': 79}, {'entity': 'I-ORG', 'score': 0.9921376, 'index': 23, 'word': 'York', 'start': 80, 'end': 84}, {'entity': 'I-ORG', 'score': 0.99273634, 'index': 24, 'word': 'R', 'start': 85, 'end': 86}, {'entity': 'I-ORG', 'score': 0.8983705, 'index': 25, 'word': '##EI', 'start': 86, 'end': 88}, {'entity': 'I-ORG', 'score': 0.98684406, 'index': 26, 'word': '##T', 'start': 88, 'end': 89}, {'entity': 'I-ORG', 'score': 0.9890912, 'index': 27, 'word': 'Inc', 'start': 90, 'end': 93}]\n",
            "[{'token': 'Bulldog Investors , LLC', 'entity': 'I-ORG'}, {'token': 'Korea Equity Fund', 'entity': 'I-ORG'}, {'token': 'Stellar Acquisition III Inc', 'entity': 'I-ORG'}, {'token': 'New York REIT Inc', 'entity': 'I-ORG'}]\n"
          ]
        }
      ]
    },
    {
      "cell_type": "code",
      "source": [
        "example = \"Bragar Eagel & Squire, P.C. Announces That a Class Action Lawsuit Has Been Filed Against ...\"\n",
        "\n",
        "ner_results = nlp(example)\n",
        "print(ner_results)\n",
        "\n",
        "\n",
        "entityList = get_entities_bert(ner_results)\n",
        "print(entityList)"
      ],
      "metadata": {
        "colab": {
          "base_uri": "https://localhost:8080/"
        },
        "id": "8ZRvGv-a8bhS",
        "outputId": "800f7a5f-0edc-4cdf-cf51-8c53daca2bb4"
      },
      "execution_count": 16,
      "outputs": [
        {
          "output_type": "stream",
          "name": "stdout",
          "text": [
            "[{'entity': 'B-ORG', 'score': 0.98956376, 'index': 1, 'word': 'B', 'start': 0, 'end': 1}, {'entity': 'I-ORG', 'score': 0.913737, 'index': 2, 'word': '##raga', 'start': 1, 'end': 5}, {'entity': 'I-ORG', 'score': 0.95903605, 'index': 3, 'word': '##r', 'start': 5, 'end': 6}, {'entity': 'I-ORG', 'score': 0.99362236, 'index': 4, 'word': 'E', 'start': 7, 'end': 8}, {'entity': 'I-ORG', 'score': 0.8085601, 'index': 5, 'word': '##age', 'start': 8, 'end': 11}, {'entity': 'I-ORG', 'score': 0.9897614, 'index': 6, 'word': '##l', 'start': 11, 'end': 12}, {'entity': 'I-ORG', 'score': 0.99244225, 'index': 7, 'word': '&', 'start': 13, 'end': 14}, {'entity': 'I-ORG', 'score': 0.99576217, 'index': 8, 'word': 'S', 'start': 15, 'end': 16}, {'entity': 'I-ORG', 'score': 0.99170554, 'index': 9, 'word': '##quire', 'start': 16, 'end': 21}, {'entity': 'B-LOC', 'score': 0.6613107, 'index': 11, 'word': 'P', 'start': 23, 'end': 24}, {'entity': 'I-LOC', 'score': 0.6518834, 'index': 13, 'word': 'C', 'start': 25, 'end': 26}]\n",
            "[{'token': 'Bragar Eagel & Squire', 'entity': 'I-ORG'}]\n"
          ]
        }
      ]
    },
    {
      "cell_type": "code",
      "source": [
        "example = \"Marcato Capital Management Llc Buys Univar Inc, Astec Industries Inc, IAC/InterActiveCorp, ...\"\n",
        "\n",
        "ner_results = nlp(example)\n",
        "print(ner_results)\n",
        "\n",
        "\n",
        "entityList = get_entities_bert(ner_results)\n",
        "print(entityList)"
      ],
      "metadata": {
        "colab": {
          "base_uri": "https://localhost:8080/"
        },
        "id": "omt_CgIA_Eee",
        "outputId": "1f619547-20b1-4731-8fc9-f83962731b61"
      },
      "execution_count": 17,
      "outputs": [
        {
          "output_type": "stream",
          "name": "stdout",
          "text": [
            "[{'entity': 'B-ORG', 'score': 0.99945956, 'index': 1, 'word': 'Marc', 'start': 0, 'end': 4}, {'entity': 'I-ORG', 'score': 0.998026, 'index': 2, 'word': '##ato', 'start': 4, 'end': 7}, {'entity': 'I-ORG', 'score': 0.998359, 'index': 3, 'word': 'Capital', 'start': 8, 'end': 15}, {'entity': 'I-ORG', 'score': 0.9987785, 'index': 4, 'word': 'Management', 'start': 16, 'end': 26}, {'entity': 'I-ORG', 'score': 0.9962297, 'index': 5, 'word': 'L', 'start': 27, 'end': 28}, {'entity': 'I-ORG', 'score': 0.9835028, 'index': 6, 'word': '##l', 'start': 28, 'end': 29}, {'entity': 'I-ORG', 'score': 0.9666137, 'index': 7, 'word': '##c', 'start': 29, 'end': 30}, {'entity': 'B-ORG', 'score': 0.9995315, 'index': 10, 'word': 'Un', 'start': 36, 'end': 38}, {'entity': 'I-ORG', 'score': 0.9983436, 'index': 11, 'word': '##iva', 'start': 38, 'end': 41}, {'entity': 'I-ORG', 'score': 0.9971168, 'index': 12, 'word': '##r', 'start': 41, 'end': 42}, {'entity': 'I-ORG', 'score': 0.9989749, 'index': 13, 'word': 'Inc', 'start': 43, 'end': 46}, {'entity': 'B-ORG', 'score': 0.99965215, 'index': 15, 'word': 'As', 'start': 48, 'end': 50}, {'entity': 'I-ORG', 'score': 0.99695647, 'index': 16, 'word': '##tec', 'start': 50, 'end': 53}, {'entity': 'I-ORG', 'score': 0.99870336, 'index': 17, 'word': 'Industries', 'start': 54, 'end': 64}, {'entity': 'I-ORG', 'score': 0.9991999, 'index': 18, 'word': 'Inc', 'start': 65, 'end': 68}, {'entity': 'B-ORG', 'score': 0.9993543, 'index': 20, 'word': 'I', 'start': 70, 'end': 71}, {'entity': 'I-ORG', 'score': 0.98514277, 'index': 21, 'word': '##AC', 'start': 71, 'end': 73}, {'entity': 'B-ORG', 'score': 0.9994349, 'index': 23, 'word': 'Inter', 'start': 74, 'end': 79}, {'entity': 'I-ORG', 'score': 0.9981383, 'index': 24, 'word': '##A', 'start': 79, 'end': 80}, {'entity': 'I-ORG', 'score': 0.9965396, 'index': 25, 'word': '##ctive', 'start': 80, 'end': 85}, {'entity': 'I-ORG', 'score': 0.9987698, 'index': 26, 'word': '##C', 'start': 85, 'end': 86}, {'entity': 'I-ORG', 'score': 0.9660135, 'index': 27, 'word': '##or', 'start': 86, 'end': 88}, {'entity': 'I-ORG', 'score': 0.99713945, 'index': 28, 'word': '##p', 'start': 88, 'end': 89}]\n",
            "[{'token': 'Marcato Capital Management Llc', 'entity': 'I-ORG'}, {'token': 'Univar Inc', 'entity': 'I-ORG'}, {'token': 'Astec Industries Inc', 'entity': 'I-ORG'}, {'token': 'IAC', 'entity': 'I-ORG'}, {'token': 'InterActiveCorp', 'entity': 'I-ORG'}]\n"
          ]
        }
      ]
    },
    {
      "cell_type": "code",
      "source": [
        "example = \"New Purchases: UNVR, ASTE, THRM, Added Positions: IAC, RYAM, ITRI, FG, BLDR, VRTS, HZN, Reduced Positions: DXC, AIR, Sold Out: DECK, BWLD, BID, RCII\"\n",
        "\n",
        "ner_results = nlp(example)\n",
        "print(ner_results)\n",
        "\n",
        "\n",
        "entityList = get_entities_bert(ner_results)\n",
        "print(entityList)"
      ],
      "metadata": {
        "colab": {
          "base_uri": "https://localhost:8080/"
        },
        "id": "6IgnXGaQAuZ0",
        "outputId": "f034847a-1091-413a-e515-b3406bfe08ed"
      },
      "execution_count": 18,
      "outputs": [
        {
          "output_type": "stream",
          "name": "stdout",
          "text": [
            "[{'entity': 'B-ORG', 'score': 0.7807537, 'index': 7, 'word': 'UN', 'start': 15, 'end': 17}, {'entity': 'B-ORG', 'score': 0.5281742, 'index': 10, 'word': 'AS', 'start': 21, 'end': 23}, {'entity': 'B-ORG', 'score': 0.9116241, 'index': 24, 'word': 'I', 'start': 50, 'end': 51}, {'entity': 'B-ORG', 'score': 0.76980984, 'index': 27, 'word': 'R', 'start': 55, 'end': 56}, {'entity': 'I-ORG', 'score': 0.38277635, 'index': 28, 'word': '##Y', 'start': 56, 'end': 57}, {'entity': 'I-ORG', 'score': 0.508054, 'index': 29, 'word': '##AM', 'start': 57, 'end': 59}, {'entity': 'B-ORG', 'score': 0.8095285, 'index': 31, 'word': 'IT', 'start': 61, 'end': 63}, {'entity': 'I-ORG', 'score': 0.68610436, 'index': 32, 'word': '##RI', 'start': 63, 'end': 65}, {'entity': 'B-ORG', 'score': 0.52713543, 'index': 34, 'word': 'F', 'start': 67, 'end': 68}, {'entity': 'B-ORG', 'score': 0.4987074, 'index': 37, 'word': 'B', 'start': 71, 'end': 72}]\n",
            "[{'token': 'UN', 'entity': 'B-ORG'}, {'token': 'IT', 'entity': 'B-ORG'}]\n"
          ]
        }
      ]
    },
    {
      "cell_type": "code",
      "source": [
        "example = \"Sun Pharma to develop chikungunya, zika drugs\"\n",
        "\n",
        "ner_results = nlp(example)\n",
        "print(ner_results)\n",
        "\n",
        "\n",
        "entityList = get_entities_bert(ner_results)\n",
        "print(entityList)"
      ],
      "metadata": {
        "colab": {
          "base_uri": "https://localhost:8080/"
        },
        "id": "LpRTkI94D9Pc",
        "outputId": "f6c1f948-9649-44f0-aa20-8f6a5fb1a09d"
      },
      "execution_count": 19,
      "outputs": [
        {
          "output_type": "stream",
          "name": "stdout",
          "text": [
            "[{'entity': 'B-ORG', 'score': 0.99957067, 'index': 1, 'word': 'Sun', 'start': 0, 'end': 3}, {'entity': 'I-ORG', 'score': 0.99915195, 'index': 2, 'word': 'Ph', 'start': 4, 'end': 6}, {'entity': 'I-ORG', 'score': 0.9989931, 'index': 3, 'word': '##arma', 'start': 6, 'end': 10}, {'entity': 'I-MISC', 'score': 0.44486672, 'index': 9, 'word': '##un', 'start': 29, 'end': 31}, {'entity': 'I-MISC', 'score': 0.5967901, 'index': 10, 'word': '##ya', 'start': 31, 'end': 33}]\n",
            "[{'token': 'Sun Pharma', 'entity': 'I-ORG'}]\n"
          ]
        }
      ]
    },
    {
      "cell_type": "code",
      "source": [
        "example = \"Walmart looks to exit Japan with Seiyu supermarket sale Nikkei\"\n",
        "\n",
        "ner_results = nlp(example)\n",
        "print(ner_results)\n",
        "\n",
        "\n",
        "entityList = get_entities_bert(ner_results)\n",
        "print(entityList)"
      ],
      "metadata": {
        "colab": {
          "base_uri": "https://localhost:8080/"
        },
        "id": "A_QCLcbsO1H8",
        "outputId": "dc7251ba-aea4-4825-dba0-72f774f9880b"
      },
      "execution_count": 20,
      "outputs": [
        {
          "output_type": "stream",
          "name": "stdout",
          "text": [
            "[{'entity': 'B-ORG', 'score': 0.99753547, 'index': 1, 'word': 'W', 'start': 0, 'end': 1}, {'entity': 'I-ORG', 'score': 0.99241114, 'index': 2, 'word': '##al', 'start': 1, 'end': 3}, {'entity': 'I-ORG', 'score': 0.9910721, 'index': 3, 'word': '##mart', 'start': 3, 'end': 7}, {'entity': 'B-LOC', 'score': 0.9995981, 'index': 7, 'word': 'Japan', 'start': 22, 'end': 27}, {'entity': 'B-MISC', 'score': 0.83560604, 'index': 9, 'word': 'Se', 'start': 33, 'end': 35}, {'entity': 'I-MISC', 'score': 0.76857173, 'index': 10, 'word': '##i', 'start': 35, 'end': 36}, {'entity': 'I-MISC', 'score': 0.84839094, 'index': 11, 'word': '##yu', 'start': 36, 'end': 38}, {'entity': 'B-MISC', 'score': 0.9566216, 'index': 14, 'word': 'Nik', 'start': 56, 'end': 59}, {'entity': 'I-MISC', 'score': 0.9408264, 'index': 15, 'word': '##ke', 'start': 59, 'end': 61}, {'entity': 'I-MISC', 'score': 0.9859191, 'index': 16, 'word': '##i', 'start': 61, 'end': 62}]\n",
            "[{'token': 'Walmart', 'entity': 'I-ORG'}, {'token': 'Japan', 'entity': 'B-LOC'}, {'token': 'Seiyu', 'entity': 'I-MISC'}, {'token': 'Nikkei', 'entity': 'I-MISC'}]\n"
          ]
        }
      ]
    },
    {
      "cell_type": "code",
      "source": [
        "example = \"Apple buys self driving car startup Drive.ai\"\n",
        "\n",
        "ner_results = nlp(example)\n",
        "print(ner_results)\n",
        "\n",
        "\n",
        "entityList = get_entities_bert(ner_results)\n",
        "print(entityList)"
      ],
      "metadata": {
        "colab": {
          "base_uri": "https://localhost:8080/"
        },
        "id": "19N3FA6LPv_W",
        "outputId": "57053d78-1d54-4c79-9cbd-b20875c3f064"
      },
      "execution_count": 21,
      "outputs": [
        {
          "output_type": "stream",
          "name": "stdout",
          "text": [
            "[{'entity': 'B-ORG', 'score': 0.9945722, 'index': 1, 'word': 'Apple', 'start': 0, 'end': 5}, {'entity': 'B-ORG', 'score': 0.9505366, 'index': 8, 'word': 'Drive', 'start': 36, 'end': 41}, {'entity': 'I-ORG', 'score': 0.5202128, 'index': 11, 'word': '##i', 'start': 43, 'end': 44}]\n",
            "[{'token': 'Apple', 'entity': 'B-ORG'}, {'token': 'Drive', 'entity': 'B-ORG'}]\n"
          ]
        }
      ]
    },
    {
      "cell_type": "code",
      "source": [
        "example = \"Aaron's Acquires Crusader - Analyst Blog\"\n",
        "\n",
        "ner_results = nlp(example)\n",
        "print(ner_results)\n",
        "\n",
        "\n",
        "entityList = get_entities_bert(ner_results)\n",
        "print(entityList)"
      ],
      "metadata": {
        "colab": {
          "base_uri": "https://localhost:8080/"
        },
        "id": "VYv1XWTAl9_B",
        "outputId": "00027f41-2756-47bb-c4f5-20a891402ccf"
      },
      "execution_count": 22,
      "outputs": [
        {
          "output_type": "stream",
          "name": "stdout",
          "text": [
            "[{'entity': 'B-PER', 'score': 0.71067655, 'index': 1, 'word': 'Aaron', 'start': 0, 'end': 5}, {'entity': 'I-ORG', 'score': 0.9187889, 'index': 2, 'word': \"'\", 'start': 5, 'end': 6}, {'entity': 'I-ORG', 'score': 0.91359866, 'index': 3, 'word': 's', 'start': 6, 'end': 7}, {'entity': 'B-MISC', 'score': 0.8616119, 'index': 8, 'word': 'Crusade', 'start': 17, 'end': 24}, {'entity': 'I-MISC', 'score': 0.94030327, 'index': 9, 'word': '##r', 'start': 24, 'end': 25}]\n",
            "[{'token': \"Aaron's\", 'entity': 'I-ORG'}, {'token': 'Crusader', 'entity': 'I-MISC'}]\n"
          ]
        }
      ]
    },
    {
      "cell_type": "code",
      "source": [
        "import spacy"
      ],
      "metadata": {
        "id": "VNpzJjJzDLtR"
      },
      "execution_count": 23,
      "outputs": []
    },
    {
      "cell_type": "code",
      "source": [
        "nlp_pipeline = spacy.load(\"en_core_web_sm\")"
      ],
      "metadata": {
        "id": "LGbjATOvFH8J"
      },
      "execution_count": 24,
      "outputs": []
    },
    {
      "cell_type": "code",
      "source": [
        "doc3 = nlp_pipeline(\"Sun Pharma to develop chikungunya, zika drugs\")\n",
        "for ent in doc3.ents: \n",
        "   print(ent.text, ent.start, ent.end, ent.start_char, ent.end_char, ent.label_)"
      ],
      "metadata": {
        "colab": {
          "base_uri": "https://localhost:8080/"
        },
        "id": "RlvzbV44FZuC",
        "outputId": "3fdb9ad0-067b-4491-931c-964e882491bd"
      },
      "execution_count": 25,
      "outputs": [
        {
          "output_type": "stream",
          "name": "stdout",
          "text": [
            "Sun Pharma 0 2 0 10 ORG\n"
          ]
        }
      ]
    },
    {
      "cell_type": "code",
      "source": [
        "doc3 = nlp_pipeline(\"New Purchases: UNVR, ASTE, THRM, Added Positions: IAC, RYAM, ITRI, FG, BLDR, VRTS, HZN, Reduced Positions: DXC, AIR, Sold Out: DECK, BWLD, BID, RCII\")\n",
        "for ent in doc3.ents: \n",
        "   print(ent.text, ent.start, ent.end, ent.start_char, ent.end_char, ent.label_)"
      ],
      "metadata": {
        "colab": {
          "base_uri": "https://localhost:8080/"
        },
        "id": "5EalSbFCEPDy",
        "outputId": "6e9c9d87-f01a-4e07-dd2c-958a95c481ba"
      },
      "execution_count": 26,
      "outputs": [
        {
          "output_type": "stream",
          "name": "stdout",
          "text": [
            "ASTE 5 6 21 25 ORG\n",
            "IAC 12 13 50 53 ORG\n",
            "RYAM 14 15 55 59 ORG\n",
            "ITRI 16 17 61 65 ORG\n",
            "FG 18 19 67 69 ORG\n",
            "BLDR 20 21 71 75 ORG\n",
            "VRTS 22 23 77 81 ORG\n",
            "HZN 24 25 83 86 ORG\n",
            "AIR 31 32 112 115 ORG\n",
            "Sold Out 33 35 117 125 GPE\n",
            "BWLD 38 39 133 137 ORG\n",
            "BID 40 41 139 142 ORG\n"
          ]
        }
      ]
    },
    {
      "cell_type": "code",
      "source": [
        "doc3 = nlp_pipeline(\"Marcato Capital Management Llc Buys Univar Inc, Astec Industries Inc, IAC/InterActiveCorp, ...\")\n",
        "for ent in doc3.ents: \n",
        "   print(ent.text, ent.start, ent.end, ent.start_char, ent.end_char, ent.label_)"
      ],
      "metadata": {
        "colab": {
          "base_uri": "https://localhost:8080/"
        },
        "id": "gaRb2jzjFpqn",
        "outputId": "dafed9ef-1bf7-442a-fda7-bec06f6fdb64"
      },
      "execution_count": 27,
      "outputs": [
        {
          "output_type": "stream",
          "name": "stdout",
          "text": [
            "Marcato Capital Management Llc Buys Univar Inc 0 7 0 46 ORG\n",
            "Astec Industries Inc 8 11 48 68 ORG\n",
            "IAC/InterActiveCorp 12 15 70 89 ORG\n"
          ]
        }
      ]
    },
    {
      "cell_type": "code",
      "source": [
        "doc3 = nlp_pipeline(\"Bragar Eagel & Squire, P.C. Announces That a Class Action Lawsuit Has Been Filed Against ...\")\n",
        "for ent in doc3.ents: \n",
        "   print(ent.text, ent.start, ent.end, ent.start_char, ent.end_char, ent.label_)"
      ],
      "metadata": {
        "colab": {
          "base_uri": "https://localhost:8080/"
        },
        "id": "JCKDXLCzF-95",
        "outputId": "2689c7c4-9419-4834-ba7e-d574c45830a0"
      },
      "execution_count": 28,
      "outputs": [
        {
          "output_type": "stream",
          "name": "stdout",
          "text": [
            "Bragar Eagel & Squire 0 4 0 21 ORG\n",
            "P.C. Announces 5 7 23 37 GPE\n"
          ]
        }
      ]
    },
    {
      "cell_type": "code",
      "source": [
        "doc3 = nlp_pipeline(\"Bulldog Investors, LLC buys Korea Equity Fund, Stellar Acquisition III Inc, New York REIT Inc, ...\")\n",
        "for ent in doc3.ents: \n",
        "   print(ent.text, ent.start, ent.end, ent.start_char, ent.end_char, ent.label_)"
      ],
      "metadata": {
        "colab": {
          "base_uri": "https://localhost:8080/"
        },
        "id": "zii7MHaxEolI",
        "outputId": "95236cb8-246d-47ca-92ed-9936f5e61e2d"
      },
      "execution_count": 29,
      "outputs": [
        {
          "output_type": "stream",
          "name": "stdout",
          "text": [
            "Bulldog Investors 0 2 0 17 ORG\n",
            "LLC 3 4 19 22 ORG\n",
            "Korea Equity Fund 5 8 28 45 ORG\n",
            "Stellar Acquisition III Inc 9 13 47 74 ORG\n",
            "New York REIT Inc 14 18 76 93 ORG\n"
          ]
        }
      ]
    },
    {
      "cell_type": "code",
      "source": [
        "doc3 = nlp_pipeline(\"Saba Capital Management, L.P. Buys Allergan PLC, Alpine Total Dynamic Dividend Fund,\")\n",
        "for ent in doc3.ents: \n",
        "   print(ent.text, ent.start, ent.end, ent.start_char, ent.end_char, ent.label_)"
      ],
      "metadata": {
        "colab": {
          "base_uri": "https://localhost:8080/"
        },
        "id": "xKUywYadEz5h",
        "outputId": "c9afa95a-f0ca-4e2e-919a-29f2239cecc8"
      },
      "execution_count": 30,
      "outputs": [
        {
          "output_type": "stream",
          "name": "stdout",
          "text": [
            "Saba Capital Management 0 3 0 23 ORG\n",
            "L.P. Buys Allergan PLC 4 8 25 47 ORG\n",
            "Alpine Total Dynamic Dividend Fund 9 14 49 83 ORG\n"
          ]
        }
      ]
    },
    {
      "cell_type": "code",
      "source": [
        "# compare each bert token with spacy token\n",
        "# bert recognizes the verbs better\n",
        "# if a bert ORG token is not there in spacy list, add it\n",
        "# if a spacy ORG token is not there in bert list, add it\n",
        "# if a spacy ORG token starts with bert token, but is longer in length, take spacy token (because spacy does a better job here)"
      ],
      "metadata": {
        "id": "mwNY8FzmFGhM"
      },
      "execution_count": 31,
      "outputs": []
    },
    {
      "cell_type": "code",
      "source": [
        "doc3 = nlp_pipeline(\"Amazon invests $2B to expand operations in India\")\n",
        "for ent in doc3.ents: \n",
        "   print(ent.text, ent.start, ent.end, ent.start_char, ent.end_char, ent.label_)"
      ],
      "metadata": {
        "colab": {
          "base_uri": "https://localhost:8080/"
        },
        "id": "e5ppHfGhGGyr",
        "outputId": "1f153fd3-062b-4ad3-8cae-6a16bb508c5f"
      },
      "execution_count": 32,
      "outputs": [
        {
          "output_type": "stream",
          "name": "stdout",
          "text": [
            "Amazon 0 1 0 6 ORG\n",
            "2B 3 4 16 18 MONEY\n",
            "India 8 9 43 48 GPE\n"
          ]
        }
      ]
    },
    {
      "cell_type": "code",
      "source": [
        "doc3 = nlp_pipeline(\"Amazon to open checkout free store in New York\")\n",
        "for ent in doc3.ents: \n",
        "   print(ent.text, ent.start, ent.end, ent.start_char, ent.end_char, ent.label_)"
      ],
      "metadata": {
        "id": "vRoeUAVCGMXZ",
        "colab": {
          "base_uri": "https://localhost:8080/"
        },
        "outputId": "a17f5f04-6db0-4475-c22f-4212deb326a5"
      },
      "execution_count": 33,
      "outputs": [
        {
          "output_type": "stream",
          "name": "stdout",
          "text": [
            "Amazon 0 1 0 6 ORG\n",
            "New York 7 9 38 46 GPE\n"
          ]
        }
      ]
    },
    {
      "cell_type": "code",
      "source": [
        "doc3 = nlp_pipeline(\"Molson Coors Buys StarBev\")\n",
        "for ent in doc3.ents: \n",
        "   print(ent.text, ent.start, ent.end, ent.start_char, ent.end_char, ent.label_)"
      ],
      "metadata": {
        "colab": {
          "base_uri": "https://localhost:8080/"
        },
        "id": "GWYjDT7LOwwG",
        "outputId": "2a737210-5bb3-4786-8547-57e42bcda72c"
      },
      "execution_count": 34,
      "outputs": [
        {
          "output_type": "stream",
          "name": "stdout",
          "text": [
            "Coors 1 2 7 12 ORG\n"
          ]
        }
      ]
    },
    {
      "cell_type": "code",
      "source": [
        "doc3 = nlp_pipeline(\"Sun Pharma to develop chikungunya, zika drugs\")\n",
        "for ent in doc3.ents: \n",
        "   print(ent.text, ent.start, ent.end, ent.start_char, ent.end_char, ent.label_)"
      ],
      "metadata": {
        "colab": {
          "base_uri": "https://localhost:8080/"
        },
        "id": "Hc95vSluPfSi",
        "outputId": "ca9b522b-5415-45aa-bd04-c4f34b580374"
      },
      "execution_count": 35,
      "outputs": [
        {
          "output_type": "stream",
          "name": "stdout",
          "text": [
            "Sun Pharma 0 2 0 10 ORG\n"
          ]
        }
      ]
    },
    {
      "cell_type": "code",
      "source": [
        "doc3 = nlp_pipeline(\"Apple buys self driving car startup Drive.ai\")\n",
        "for ent in doc3.ents: \n",
        "   print(ent.text, ent.start, ent.end, ent.start_char, ent.end_char, ent.label_)"
      ],
      "metadata": {
        "colab": {
          "base_uri": "https://localhost:8080/"
        },
        "id": "ev5mSUDaQJ96",
        "outputId": "1161ef0c-b544-423e-db13-9a0432b4d4f1"
      },
      "execution_count": 36,
      "outputs": [
        {
          "output_type": "stream",
          "name": "stdout",
          "text": [
            "Apple 0 1 0 5 ORG\n",
            "Drive.ai 6 7 36 44 ORG\n"
          ]
        }
      ]
    },
    {
      "cell_type": "code",
      "source": [
        "doc3 = nlp_pipeline(\"Aaron's Acquires Crusader - Analyst Blog\")\n",
        "for ent in doc3.ents: \n",
        "   print(ent.text, ent.start, ent.end, ent.start_char, ent.end_char, ent.label_)"
      ],
      "metadata": {
        "colab": {
          "base_uri": "https://localhost:8080/"
        },
        "id": "F4xZbWl3QeIT",
        "outputId": "dec172ab-23a1-4cb6-eb93-c84f816fd293"
      },
      "execution_count": 37,
      "outputs": [
        {
          "output_type": "stream",
          "name": "stdout",
          "text": [
            "Aaron 0 1 0 5 PERSON\n",
            "Acquires Crusader 2 4 8 25 ORG\n"
          ]
        }
      ]
    },
    {
      "cell_type": "code",
      "source": [
        ""
      ],
      "metadata": {
        "id": "ZCJy4vJfqHbv"
      },
      "execution_count": 37,
      "outputs": []
    }
  ]
}