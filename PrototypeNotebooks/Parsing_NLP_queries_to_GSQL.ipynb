{
  "nbformat": 4,
  "nbformat_minor": 0,
  "metadata": {
    "colab": {
      "name": "Parsing NLP queries to GSQL",
      "provenance": [],
      "collapsed_sections": []
    },
    "kernelspec": {
      "name": "python3",
      "display_name": "Python 3"
    },
    "language_info": {
      "name": "python"
    },
    "widgets": {
      "application/vnd.jupyter.widget-state+json": {
        "9582c0460e974a0ba8906c36590bccf4": {
          "model_module": "@jupyter-widgets/controls",
          "model_name": "HBoxModel",
          "model_module_version": "1.5.0",
          "state": {
            "_dom_classes": [],
            "_model_module": "@jupyter-widgets/controls",
            "_model_module_version": "1.5.0",
            "_model_name": "HBoxModel",
            "_view_count": null,
            "_view_module": "@jupyter-widgets/controls",
            "_view_module_version": "1.5.0",
            "_view_name": "HBoxView",
            "box_style": "",
            "children": [
              "IPY_MODEL_7846a81898374287a29e09ddc1056066",
              "IPY_MODEL_cb9f437fe4f04e9091eed4490714d056",
              "IPY_MODEL_139bf0ebd54b4e5787beb63ae8a377cd"
            ],
            "layout": "IPY_MODEL_3e5d33871f27413fb00c19be82c46f45"
          }
        },
        "7846a81898374287a29e09ddc1056066": {
          "model_module": "@jupyter-widgets/controls",
          "model_name": "HTMLModel",
          "model_module_version": "1.5.0",
          "state": {
            "_dom_classes": [],
            "_model_module": "@jupyter-widgets/controls",
            "_model_module_version": "1.5.0",
            "_model_name": "HTMLModel",
            "_view_count": null,
            "_view_module": "@jupyter-widgets/controls",
            "_view_module_version": "1.5.0",
            "_view_name": "HTMLView",
            "description": "",
            "description_tooltip": null,
            "layout": "IPY_MODEL_b308592425eb4d949615b4e3773b3f5a",
            "placeholder": "​",
            "style": "IPY_MODEL_e7384e48223843eca5cc2eeae5dea4db",
            "value": "Downloading: 100%"
          }
        },
        "cb9f437fe4f04e9091eed4490714d056": {
          "model_module": "@jupyter-widgets/controls",
          "model_name": "FloatProgressModel",
          "model_module_version": "1.5.0",
          "state": {
            "_dom_classes": [],
            "_model_module": "@jupyter-widgets/controls",
            "_model_module_version": "1.5.0",
            "_model_name": "FloatProgressModel",
            "_view_count": null,
            "_view_module": "@jupyter-widgets/controls",
            "_view_module_version": "1.5.0",
            "_view_name": "ProgressView",
            "bar_style": "success",
            "description": "",
            "description_tooltip": null,
            "layout": "IPY_MODEL_acf480bb3d6a46b485964cd2c72bcffe",
            "max": 59,
            "min": 0,
            "orientation": "horizontal",
            "style": "IPY_MODEL_06733e4c42ba4f6386f041471923d96c",
            "value": 59
          }
        },
        "139bf0ebd54b4e5787beb63ae8a377cd": {
          "model_module": "@jupyter-widgets/controls",
          "model_name": "HTMLModel",
          "model_module_version": "1.5.0",
          "state": {
            "_dom_classes": [],
            "_model_module": "@jupyter-widgets/controls",
            "_model_module_version": "1.5.0",
            "_model_name": "HTMLModel",
            "_view_count": null,
            "_view_module": "@jupyter-widgets/controls",
            "_view_module_version": "1.5.0",
            "_view_name": "HTMLView",
            "description": "",
            "description_tooltip": null,
            "layout": "IPY_MODEL_036557ec66954394ab1ed4e7fcd01707",
            "placeholder": "​",
            "style": "IPY_MODEL_c6475bd9ed904979ad0653332901fb3f",
            "value": " 59.0/59.0 [00:00&lt;00:00, 590B/s]"
          }
        },
        "3e5d33871f27413fb00c19be82c46f45": {
          "model_module": "@jupyter-widgets/base",
          "model_name": "LayoutModel",
          "model_module_version": "1.2.0",
          "state": {
            "_model_module": "@jupyter-widgets/base",
            "_model_module_version": "1.2.0",
            "_model_name": "LayoutModel",
            "_view_count": null,
            "_view_module": "@jupyter-widgets/base",
            "_view_module_version": "1.2.0",
            "_view_name": "LayoutView",
            "align_content": null,
            "align_items": null,
            "align_self": null,
            "border": null,
            "bottom": null,
            "display": null,
            "flex": null,
            "flex_flow": null,
            "grid_area": null,
            "grid_auto_columns": null,
            "grid_auto_flow": null,
            "grid_auto_rows": null,
            "grid_column": null,
            "grid_gap": null,
            "grid_row": null,
            "grid_template_areas": null,
            "grid_template_columns": null,
            "grid_template_rows": null,
            "height": null,
            "justify_content": null,
            "justify_items": null,
            "left": null,
            "margin": null,
            "max_height": null,
            "max_width": null,
            "min_height": null,
            "min_width": null,
            "object_fit": null,
            "object_position": null,
            "order": null,
            "overflow": null,
            "overflow_x": null,
            "overflow_y": null,
            "padding": null,
            "right": null,
            "top": null,
            "visibility": null,
            "width": null
          }
        },
        "b308592425eb4d949615b4e3773b3f5a": {
          "model_module": "@jupyter-widgets/base",
          "model_name": "LayoutModel",
          "model_module_version": "1.2.0",
          "state": {
            "_model_module": "@jupyter-widgets/base",
            "_model_module_version": "1.2.0",
            "_model_name": "LayoutModel",
            "_view_count": null,
            "_view_module": "@jupyter-widgets/base",
            "_view_module_version": "1.2.0",
            "_view_name": "LayoutView",
            "align_content": null,
            "align_items": null,
            "align_self": null,
            "border": null,
            "bottom": null,
            "display": null,
            "flex": null,
            "flex_flow": null,
            "grid_area": null,
            "grid_auto_columns": null,
            "grid_auto_flow": null,
            "grid_auto_rows": null,
            "grid_column": null,
            "grid_gap": null,
            "grid_row": null,
            "grid_template_areas": null,
            "grid_template_columns": null,
            "grid_template_rows": null,
            "height": null,
            "justify_content": null,
            "justify_items": null,
            "left": null,
            "margin": null,
            "max_height": null,
            "max_width": null,
            "min_height": null,
            "min_width": null,
            "object_fit": null,
            "object_position": null,
            "order": null,
            "overflow": null,
            "overflow_x": null,
            "overflow_y": null,
            "padding": null,
            "right": null,
            "top": null,
            "visibility": null,
            "width": null
          }
        },
        "e7384e48223843eca5cc2eeae5dea4db": {
          "model_module": "@jupyter-widgets/controls",
          "model_name": "DescriptionStyleModel",
          "model_module_version": "1.5.0",
          "state": {
            "_model_module": "@jupyter-widgets/controls",
            "_model_module_version": "1.5.0",
            "_model_name": "DescriptionStyleModel",
            "_view_count": null,
            "_view_module": "@jupyter-widgets/base",
            "_view_module_version": "1.2.0",
            "_view_name": "StyleView",
            "description_width": ""
          }
        },
        "acf480bb3d6a46b485964cd2c72bcffe": {
          "model_module": "@jupyter-widgets/base",
          "model_name": "LayoutModel",
          "model_module_version": "1.2.0",
          "state": {
            "_model_module": "@jupyter-widgets/base",
            "_model_module_version": "1.2.0",
            "_model_name": "LayoutModel",
            "_view_count": null,
            "_view_module": "@jupyter-widgets/base",
            "_view_module_version": "1.2.0",
            "_view_name": "LayoutView",
            "align_content": null,
            "align_items": null,
            "align_self": null,
            "border": null,
            "bottom": null,
            "display": null,
            "flex": null,
            "flex_flow": null,
            "grid_area": null,
            "grid_auto_columns": null,
            "grid_auto_flow": null,
            "grid_auto_rows": null,
            "grid_column": null,
            "grid_gap": null,
            "grid_row": null,
            "grid_template_areas": null,
            "grid_template_columns": null,
            "grid_template_rows": null,
            "height": null,
            "justify_content": null,
            "justify_items": null,
            "left": null,
            "margin": null,
            "max_height": null,
            "max_width": null,
            "min_height": null,
            "min_width": null,
            "object_fit": null,
            "object_position": null,
            "order": null,
            "overflow": null,
            "overflow_x": null,
            "overflow_y": null,
            "padding": null,
            "right": null,
            "top": null,
            "visibility": null,
            "width": null
          }
        },
        "06733e4c42ba4f6386f041471923d96c": {
          "model_module": "@jupyter-widgets/controls",
          "model_name": "ProgressStyleModel",
          "model_module_version": "1.5.0",
          "state": {
            "_model_module": "@jupyter-widgets/controls",
            "_model_module_version": "1.5.0",
            "_model_name": "ProgressStyleModel",
            "_view_count": null,
            "_view_module": "@jupyter-widgets/base",
            "_view_module_version": "1.2.0",
            "_view_name": "StyleView",
            "bar_color": null,
            "description_width": ""
          }
        },
        "036557ec66954394ab1ed4e7fcd01707": {
          "model_module": "@jupyter-widgets/base",
          "model_name": "LayoutModel",
          "model_module_version": "1.2.0",
          "state": {
            "_model_module": "@jupyter-widgets/base",
            "_model_module_version": "1.2.0",
            "_model_name": "LayoutModel",
            "_view_count": null,
            "_view_module": "@jupyter-widgets/base",
            "_view_module_version": "1.2.0",
            "_view_name": "LayoutView",
            "align_content": null,
            "align_items": null,
            "align_self": null,
            "border": null,
            "bottom": null,
            "display": null,
            "flex": null,
            "flex_flow": null,
            "grid_area": null,
            "grid_auto_columns": null,
            "grid_auto_flow": null,
            "grid_auto_rows": null,
            "grid_column": null,
            "grid_gap": null,
            "grid_row": null,
            "grid_template_areas": null,
            "grid_template_columns": null,
            "grid_template_rows": null,
            "height": null,
            "justify_content": null,
            "justify_items": null,
            "left": null,
            "margin": null,
            "max_height": null,
            "max_width": null,
            "min_height": null,
            "min_width": null,
            "object_fit": null,
            "object_position": null,
            "order": null,
            "overflow": null,
            "overflow_x": null,
            "overflow_y": null,
            "padding": null,
            "right": null,
            "top": null,
            "visibility": null,
            "width": null
          }
        },
        "c6475bd9ed904979ad0653332901fb3f": {
          "model_module": "@jupyter-widgets/controls",
          "model_name": "DescriptionStyleModel",
          "model_module_version": "1.5.0",
          "state": {
            "_model_module": "@jupyter-widgets/controls",
            "_model_module_version": "1.5.0",
            "_model_name": "DescriptionStyleModel",
            "_view_count": null,
            "_view_module": "@jupyter-widgets/base",
            "_view_module_version": "1.2.0",
            "_view_name": "StyleView",
            "description_width": ""
          }
        },
        "a645dc88636543b69cf8348bb7c1c89a": {
          "model_module": "@jupyter-widgets/controls",
          "model_name": "HBoxModel",
          "model_module_version": "1.5.0",
          "state": {
            "_dom_classes": [],
            "_model_module": "@jupyter-widgets/controls",
            "_model_module_version": "1.5.0",
            "_model_name": "HBoxModel",
            "_view_count": null,
            "_view_module": "@jupyter-widgets/controls",
            "_view_module_version": "1.5.0",
            "_view_name": "HBoxView",
            "box_style": "",
            "children": [
              "IPY_MODEL_c8cfa76397bc4c72a1720cdedbf777f3",
              "IPY_MODEL_eb1b4abfef05426fa2ca075ba3d89450",
              "IPY_MODEL_f7050a0843184286b58384da584353b1"
            ],
            "layout": "IPY_MODEL_ab717396a83f4f058a94174c10dce4e0"
          }
        },
        "c8cfa76397bc4c72a1720cdedbf777f3": {
          "model_module": "@jupyter-widgets/controls",
          "model_name": "HTMLModel",
          "model_module_version": "1.5.0",
          "state": {
            "_dom_classes": [],
            "_model_module": "@jupyter-widgets/controls",
            "_model_module_version": "1.5.0",
            "_model_name": "HTMLModel",
            "_view_count": null,
            "_view_module": "@jupyter-widgets/controls",
            "_view_module_version": "1.5.0",
            "_view_name": "HTMLView",
            "description": "",
            "description_tooltip": null,
            "layout": "IPY_MODEL_5c831ba1dd4d409c93be1f4d848a5541",
            "placeholder": "​",
            "style": "IPY_MODEL_a8bcc6e4b3974f639724ace392b7df7a",
            "value": "Downloading: 100%"
          }
        },
        "eb1b4abfef05426fa2ca075ba3d89450": {
          "model_module": "@jupyter-widgets/controls",
          "model_name": "FloatProgressModel",
          "model_module_version": "1.5.0",
          "state": {
            "_dom_classes": [],
            "_model_module": "@jupyter-widgets/controls",
            "_model_module_version": "1.5.0",
            "_model_name": "FloatProgressModel",
            "_view_count": null,
            "_view_module": "@jupyter-widgets/controls",
            "_view_module_version": "1.5.0",
            "_view_name": "ProgressView",
            "bar_style": "success",
            "description": "",
            "description_tooltip": null,
            "layout": "IPY_MODEL_36df2463bde142a9bd1cd70133698b8b",
            "max": 829,
            "min": 0,
            "orientation": "horizontal",
            "style": "IPY_MODEL_fb58602ca58146518b6d51263bc6d388",
            "value": 829
          }
        },
        "f7050a0843184286b58384da584353b1": {
          "model_module": "@jupyter-widgets/controls",
          "model_name": "HTMLModel",
          "model_module_version": "1.5.0",
          "state": {
            "_dom_classes": [],
            "_model_module": "@jupyter-widgets/controls",
            "_model_module_version": "1.5.0",
            "_model_name": "HTMLModel",
            "_view_count": null,
            "_view_module": "@jupyter-widgets/controls",
            "_view_module_version": "1.5.0",
            "_view_name": "HTMLView",
            "description": "",
            "description_tooltip": null,
            "layout": "IPY_MODEL_5b5ab16fb0c74ab68b05c2485171ae13",
            "placeholder": "​",
            "style": "IPY_MODEL_91fcce28f18b4cfeac0e0b0c6aeac0e7",
            "value": " 829/829 [00:00&lt;00:00, 6.80kB/s]"
          }
        },
        "ab717396a83f4f058a94174c10dce4e0": {
          "model_module": "@jupyter-widgets/base",
          "model_name": "LayoutModel",
          "model_module_version": "1.2.0",
          "state": {
            "_model_module": "@jupyter-widgets/base",
            "_model_module_version": "1.2.0",
            "_model_name": "LayoutModel",
            "_view_count": null,
            "_view_module": "@jupyter-widgets/base",
            "_view_module_version": "1.2.0",
            "_view_name": "LayoutView",
            "align_content": null,
            "align_items": null,
            "align_self": null,
            "border": null,
            "bottom": null,
            "display": null,
            "flex": null,
            "flex_flow": null,
            "grid_area": null,
            "grid_auto_columns": null,
            "grid_auto_flow": null,
            "grid_auto_rows": null,
            "grid_column": null,
            "grid_gap": null,
            "grid_row": null,
            "grid_template_areas": null,
            "grid_template_columns": null,
            "grid_template_rows": null,
            "height": null,
            "justify_content": null,
            "justify_items": null,
            "left": null,
            "margin": null,
            "max_height": null,
            "max_width": null,
            "min_height": null,
            "min_width": null,
            "object_fit": null,
            "object_position": null,
            "order": null,
            "overflow": null,
            "overflow_x": null,
            "overflow_y": null,
            "padding": null,
            "right": null,
            "top": null,
            "visibility": null,
            "width": null
          }
        },
        "5c831ba1dd4d409c93be1f4d848a5541": {
          "model_module": "@jupyter-widgets/base",
          "model_name": "LayoutModel",
          "model_module_version": "1.2.0",
          "state": {
            "_model_module": "@jupyter-widgets/base",
            "_model_module_version": "1.2.0",
            "_model_name": "LayoutModel",
            "_view_count": null,
            "_view_module": "@jupyter-widgets/base",
            "_view_module_version": "1.2.0",
            "_view_name": "LayoutView",
            "align_content": null,
            "align_items": null,
            "align_self": null,
            "border": null,
            "bottom": null,
            "display": null,
            "flex": null,
            "flex_flow": null,
            "grid_area": null,
            "grid_auto_columns": null,
            "grid_auto_flow": null,
            "grid_auto_rows": null,
            "grid_column": null,
            "grid_gap": null,
            "grid_row": null,
            "grid_template_areas": null,
            "grid_template_columns": null,
            "grid_template_rows": null,
            "height": null,
            "justify_content": null,
            "justify_items": null,
            "left": null,
            "margin": null,
            "max_height": null,
            "max_width": null,
            "min_height": null,
            "min_width": null,
            "object_fit": null,
            "object_position": null,
            "order": null,
            "overflow": null,
            "overflow_x": null,
            "overflow_y": null,
            "padding": null,
            "right": null,
            "top": null,
            "visibility": null,
            "width": null
          }
        },
        "a8bcc6e4b3974f639724ace392b7df7a": {
          "model_module": "@jupyter-widgets/controls",
          "model_name": "DescriptionStyleModel",
          "model_module_version": "1.5.0",
          "state": {
            "_model_module": "@jupyter-widgets/controls",
            "_model_module_version": "1.5.0",
            "_model_name": "DescriptionStyleModel",
            "_view_count": null,
            "_view_module": "@jupyter-widgets/base",
            "_view_module_version": "1.2.0",
            "_view_name": "StyleView",
            "description_width": ""
          }
        },
        "36df2463bde142a9bd1cd70133698b8b": {
          "model_module": "@jupyter-widgets/base",
          "model_name": "LayoutModel",
          "model_module_version": "1.2.0",
          "state": {
            "_model_module": "@jupyter-widgets/base",
            "_model_module_version": "1.2.0",
            "_model_name": "LayoutModel",
            "_view_count": null,
            "_view_module": "@jupyter-widgets/base",
            "_view_module_version": "1.2.0",
            "_view_name": "LayoutView",
            "align_content": null,
            "align_items": null,
            "align_self": null,
            "border": null,
            "bottom": null,
            "display": null,
            "flex": null,
            "flex_flow": null,
            "grid_area": null,
            "grid_auto_columns": null,
            "grid_auto_flow": null,
            "grid_auto_rows": null,
            "grid_column": null,
            "grid_gap": null,
            "grid_row": null,
            "grid_template_areas": null,
            "grid_template_columns": null,
            "grid_template_rows": null,
            "height": null,
            "justify_content": null,
            "justify_items": null,
            "left": null,
            "margin": null,
            "max_height": null,
            "max_width": null,
            "min_height": null,
            "min_width": null,
            "object_fit": null,
            "object_position": null,
            "order": null,
            "overflow": null,
            "overflow_x": null,
            "overflow_y": null,
            "padding": null,
            "right": null,
            "top": null,
            "visibility": null,
            "width": null
          }
        },
        "fb58602ca58146518b6d51263bc6d388": {
          "model_module": "@jupyter-widgets/controls",
          "model_name": "ProgressStyleModel",
          "model_module_version": "1.5.0",
          "state": {
            "_model_module": "@jupyter-widgets/controls",
            "_model_module_version": "1.5.0",
            "_model_name": "ProgressStyleModel",
            "_view_count": null,
            "_view_module": "@jupyter-widgets/base",
            "_view_module_version": "1.2.0",
            "_view_name": "StyleView",
            "bar_color": null,
            "description_width": ""
          }
        },
        "5b5ab16fb0c74ab68b05c2485171ae13": {
          "model_module": "@jupyter-widgets/base",
          "model_name": "LayoutModel",
          "model_module_version": "1.2.0",
          "state": {
            "_model_module": "@jupyter-widgets/base",
            "_model_module_version": "1.2.0",
            "_model_name": "LayoutModel",
            "_view_count": null,
            "_view_module": "@jupyter-widgets/base",
            "_view_module_version": "1.2.0",
            "_view_name": "LayoutView",
            "align_content": null,
            "align_items": null,
            "align_self": null,
            "border": null,
            "bottom": null,
            "display": null,
            "flex": null,
            "flex_flow": null,
            "grid_area": null,
            "grid_auto_columns": null,
            "grid_auto_flow": null,
            "grid_auto_rows": null,
            "grid_column": null,
            "grid_gap": null,
            "grid_row": null,
            "grid_template_areas": null,
            "grid_template_columns": null,
            "grid_template_rows": null,
            "height": null,
            "justify_content": null,
            "justify_items": null,
            "left": null,
            "margin": null,
            "max_height": null,
            "max_width": null,
            "min_height": null,
            "min_width": null,
            "object_fit": null,
            "object_position": null,
            "order": null,
            "overflow": null,
            "overflow_x": null,
            "overflow_y": null,
            "padding": null,
            "right": null,
            "top": null,
            "visibility": null,
            "width": null
          }
        },
        "91fcce28f18b4cfeac0e0b0c6aeac0e7": {
          "model_module": "@jupyter-widgets/controls",
          "model_name": "DescriptionStyleModel",
          "model_module_version": "1.5.0",
          "state": {
            "_model_module": "@jupyter-widgets/controls",
            "_model_module_version": "1.5.0",
            "_model_name": "DescriptionStyleModel",
            "_view_count": null,
            "_view_module": "@jupyter-widgets/base",
            "_view_module_version": "1.2.0",
            "_view_name": "StyleView",
            "description_width": ""
          }
        },
        "ac4081d0ce13445f81e263512577459c": {
          "model_module": "@jupyter-widgets/controls",
          "model_name": "HBoxModel",
          "model_module_version": "1.5.0",
          "state": {
            "_dom_classes": [],
            "_model_module": "@jupyter-widgets/controls",
            "_model_module_version": "1.5.0",
            "_model_name": "HBoxModel",
            "_view_count": null,
            "_view_module": "@jupyter-widgets/controls",
            "_view_module_version": "1.5.0",
            "_view_name": "HBoxView",
            "box_style": "",
            "children": [
              "IPY_MODEL_9b6458f93a244d72a67504d3a41ab5e8",
              "IPY_MODEL_7ef41774a5514b6b9b170696d54af8f3",
              "IPY_MODEL_9d11f9ae1a1d482d9afd0ceacef02cbe"
            ],
            "layout": "IPY_MODEL_ccdff49dd113424792d574d9427c29f2"
          }
        },
        "9b6458f93a244d72a67504d3a41ab5e8": {
          "model_module": "@jupyter-widgets/controls",
          "model_name": "HTMLModel",
          "model_module_version": "1.5.0",
          "state": {
            "_dom_classes": [],
            "_model_module": "@jupyter-widgets/controls",
            "_model_module_version": "1.5.0",
            "_model_name": "HTMLModel",
            "_view_count": null,
            "_view_module": "@jupyter-widgets/controls",
            "_view_module_version": "1.5.0",
            "_view_name": "HTMLView",
            "description": "",
            "description_tooltip": null,
            "layout": "IPY_MODEL_516e533e4e4847b1910400e19615699a",
            "placeholder": "​",
            "style": "IPY_MODEL_a591a2a05a2d440db32ee7c96d7b7c71",
            "value": "Downloading: 100%"
          }
        },
        "7ef41774a5514b6b9b170696d54af8f3": {
          "model_module": "@jupyter-widgets/controls",
          "model_name": "FloatProgressModel",
          "model_module_version": "1.5.0",
          "state": {
            "_dom_classes": [],
            "_model_module": "@jupyter-widgets/controls",
            "_model_module_version": "1.5.0",
            "_model_name": "FloatProgressModel",
            "_view_count": null,
            "_view_module": "@jupyter-widgets/controls",
            "_view_module_version": "1.5.0",
            "_view_name": "ProgressView",
            "bar_style": "success",
            "description": "",
            "description_tooltip": null,
            "layout": "IPY_MODEL_871af0d6c6f84de1b65cf72bd04a12a9",
            "max": 213450,
            "min": 0,
            "orientation": "horizontal",
            "style": "IPY_MODEL_3c297a009db24fdeb2ab138309981847",
            "value": 213450
          }
        },
        "9d11f9ae1a1d482d9afd0ceacef02cbe": {
          "model_module": "@jupyter-widgets/controls",
          "model_name": "HTMLModel",
          "model_module_version": "1.5.0",
          "state": {
            "_dom_classes": [],
            "_model_module": "@jupyter-widgets/controls",
            "_model_module_version": "1.5.0",
            "_model_name": "HTMLModel",
            "_view_count": null,
            "_view_module": "@jupyter-widgets/controls",
            "_view_module_version": "1.5.0",
            "_view_name": "HTMLView",
            "description": "",
            "description_tooltip": null,
            "layout": "IPY_MODEL_4b77bb43a14e46c3870e5a64635e584f",
            "placeholder": "​",
            "style": "IPY_MODEL_626ce7b800fa473ab5b687aadfa6d036",
            "value": " 208k/208k [00:00&lt;00:00, 738kB/s]"
          }
        },
        "ccdff49dd113424792d574d9427c29f2": {
          "model_module": "@jupyter-widgets/base",
          "model_name": "LayoutModel",
          "model_module_version": "1.2.0",
          "state": {
            "_model_module": "@jupyter-widgets/base",
            "_model_module_version": "1.2.0",
            "_model_name": "LayoutModel",
            "_view_count": null,
            "_view_module": "@jupyter-widgets/base",
            "_view_module_version": "1.2.0",
            "_view_name": "LayoutView",
            "align_content": null,
            "align_items": null,
            "align_self": null,
            "border": null,
            "bottom": null,
            "display": null,
            "flex": null,
            "flex_flow": null,
            "grid_area": null,
            "grid_auto_columns": null,
            "grid_auto_flow": null,
            "grid_auto_rows": null,
            "grid_column": null,
            "grid_gap": null,
            "grid_row": null,
            "grid_template_areas": null,
            "grid_template_columns": null,
            "grid_template_rows": null,
            "height": null,
            "justify_content": null,
            "justify_items": null,
            "left": null,
            "margin": null,
            "max_height": null,
            "max_width": null,
            "min_height": null,
            "min_width": null,
            "object_fit": null,
            "object_position": null,
            "order": null,
            "overflow": null,
            "overflow_x": null,
            "overflow_y": null,
            "padding": null,
            "right": null,
            "top": null,
            "visibility": null,
            "width": null
          }
        },
        "516e533e4e4847b1910400e19615699a": {
          "model_module": "@jupyter-widgets/base",
          "model_name": "LayoutModel",
          "model_module_version": "1.2.0",
          "state": {
            "_model_module": "@jupyter-widgets/base",
            "_model_module_version": "1.2.0",
            "_model_name": "LayoutModel",
            "_view_count": null,
            "_view_module": "@jupyter-widgets/base",
            "_view_module_version": "1.2.0",
            "_view_name": "LayoutView",
            "align_content": null,
            "align_items": null,
            "align_self": null,
            "border": null,
            "bottom": null,
            "display": null,
            "flex": null,
            "flex_flow": null,
            "grid_area": null,
            "grid_auto_columns": null,
            "grid_auto_flow": null,
            "grid_auto_rows": null,
            "grid_column": null,
            "grid_gap": null,
            "grid_row": null,
            "grid_template_areas": null,
            "grid_template_columns": null,
            "grid_template_rows": null,
            "height": null,
            "justify_content": null,
            "justify_items": null,
            "left": null,
            "margin": null,
            "max_height": null,
            "max_width": null,
            "min_height": null,
            "min_width": null,
            "object_fit": null,
            "object_position": null,
            "order": null,
            "overflow": null,
            "overflow_x": null,
            "overflow_y": null,
            "padding": null,
            "right": null,
            "top": null,
            "visibility": null,
            "width": null
          }
        },
        "a591a2a05a2d440db32ee7c96d7b7c71": {
          "model_module": "@jupyter-widgets/controls",
          "model_name": "DescriptionStyleModel",
          "model_module_version": "1.5.0",
          "state": {
            "_model_module": "@jupyter-widgets/controls",
            "_model_module_version": "1.5.0",
            "_model_name": "DescriptionStyleModel",
            "_view_count": null,
            "_view_module": "@jupyter-widgets/base",
            "_view_module_version": "1.2.0",
            "_view_name": "StyleView",
            "description_width": ""
          }
        },
        "871af0d6c6f84de1b65cf72bd04a12a9": {
          "model_module": "@jupyter-widgets/base",
          "model_name": "LayoutModel",
          "model_module_version": "1.2.0",
          "state": {
            "_model_module": "@jupyter-widgets/base",
            "_model_module_version": "1.2.0",
            "_model_name": "LayoutModel",
            "_view_count": null,
            "_view_module": "@jupyter-widgets/base",
            "_view_module_version": "1.2.0",
            "_view_name": "LayoutView",
            "align_content": null,
            "align_items": null,
            "align_self": null,
            "border": null,
            "bottom": null,
            "display": null,
            "flex": null,
            "flex_flow": null,
            "grid_area": null,
            "grid_auto_columns": null,
            "grid_auto_flow": null,
            "grid_auto_rows": null,
            "grid_column": null,
            "grid_gap": null,
            "grid_row": null,
            "grid_template_areas": null,
            "grid_template_columns": null,
            "grid_template_rows": null,
            "height": null,
            "justify_content": null,
            "justify_items": null,
            "left": null,
            "margin": null,
            "max_height": null,
            "max_width": null,
            "min_height": null,
            "min_width": null,
            "object_fit": null,
            "object_position": null,
            "order": null,
            "overflow": null,
            "overflow_x": null,
            "overflow_y": null,
            "padding": null,
            "right": null,
            "top": null,
            "visibility": null,
            "width": null
          }
        },
        "3c297a009db24fdeb2ab138309981847": {
          "model_module": "@jupyter-widgets/controls",
          "model_name": "ProgressStyleModel",
          "model_module_version": "1.5.0",
          "state": {
            "_model_module": "@jupyter-widgets/controls",
            "_model_module_version": "1.5.0",
            "_model_name": "ProgressStyleModel",
            "_view_count": null,
            "_view_module": "@jupyter-widgets/base",
            "_view_module_version": "1.2.0",
            "_view_name": "StyleView",
            "bar_color": null,
            "description_width": ""
          }
        },
        "4b77bb43a14e46c3870e5a64635e584f": {
          "model_module": "@jupyter-widgets/base",
          "model_name": "LayoutModel",
          "model_module_version": "1.2.0",
          "state": {
            "_model_module": "@jupyter-widgets/base",
            "_model_module_version": "1.2.0",
            "_model_name": "LayoutModel",
            "_view_count": null,
            "_view_module": "@jupyter-widgets/base",
            "_view_module_version": "1.2.0",
            "_view_name": "LayoutView",
            "align_content": null,
            "align_items": null,
            "align_self": null,
            "border": null,
            "bottom": null,
            "display": null,
            "flex": null,
            "flex_flow": null,
            "grid_area": null,
            "grid_auto_columns": null,
            "grid_auto_flow": null,
            "grid_auto_rows": null,
            "grid_column": null,
            "grid_gap": null,
            "grid_row": null,
            "grid_template_areas": null,
            "grid_template_columns": null,
            "grid_template_rows": null,
            "height": null,
            "justify_content": null,
            "justify_items": null,
            "left": null,
            "margin": null,
            "max_height": null,
            "max_width": null,
            "min_height": null,
            "min_width": null,
            "object_fit": null,
            "object_position": null,
            "order": null,
            "overflow": null,
            "overflow_x": null,
            "overflow_y": null,
            "padding": null,
            "right": null,
            "top": null,
            "visibility": null,
            "width": null
          }
        },
        "626ce7b800fa473ab5b687aadfa6d036": {
          "model_module": "@jupyter-widgets/controls",
          "model_name": "DescriptionStyleModel",
          "model_module_version": "1.5.0",
          "state": {
            "_model_module": "@jupyter-widgets/controls",
            "_model_module_version": "1.5.0",
            "_model_name": "DescriptionStyleModel",
            "_view_count": null,
            "_view_module": "@jupyter-widgets/base",
            "_view_module_version": "1.2.0",
            "_view_name": "StyleView",
            "description_width": ""
          }
        },
        "ce9e632874974f66b52a5d656ec5f8e6": {
          "model_module": "@jupyter-widgets/controls",
          "model_name": "HBoxModel",
          "model_module_version": "1.5.0",
          "state": {
            "_dom_classes": [],
            "_model_module": "@jupyter-widgets/controls",
            "_model_module_version": "1.5.0",
            "_model_name": "HBoxModel",
            "_view_count": null,
            "_view_module": "@jupyter-widgets/controls",
            "_view_module_version": "1.5.0",
            "_view_name": "HBoxView",
            "box_style": "",
            "children": [
              "IPY_MODEL_05a0562ab45c418abde464273e288815",
              "IPY_MODEL_ab03bcca355c43b686ed88b14bcc9172",
              "IPY_MODEL_0d68fef7bcef4089bdb71087c3d99e21"
            ],
            "layout": "IPY_MODEL_660a04e689ef4d188f73de271b30d681"
          }
        },
        "05a0562ab45c418abde464273e288815": {
          "model_module": "@jupyter-widgets/controls",
          "model_name": "HTMLModel",
          "model_module_version": "1.5.0",
          "state": {
            "_dom_classes": [],
            "_model_module": "@jupyter-widgets/controls",
            "_model_module_version": "1.5.0",
            "_model_name": "HTMLModel",
            "_view_count": null,
            "_view_module": "@jupyter-widgets/controls",
            "_view_module_version": "1.5.0",
            "_view_name": "HTMLView",
            "description": "",
            "description_tooltip": null,
            "layout": "IPY_MODEL_2a4e11ff098a4d42a227fecd42edadc8",
            "placeholder": "​",
            "style": "IPY_MODEL_28b3fcdfcd1c4b328cc75df1d19491f8",
            "value": "Downloading: 100%"
          }
        },
        "ab03bcca355c43b686ed88b14bcc9172": {
          "model_module": "@jupyter-widgets/controls",
          "model_name": "FloatProgressModel",
          "model_module_version": "1.5.0",
          "state": {
            "_dom_classes": [],
            "_model_module": "@jupyter-widgets/controls",
            "_model_module_version": "1.5.0",
            "_model_name": "FloatProgressModel",
            "_view_count": null,
            "_view_module": "@jupyter-widgets/controls",
            "_view_module_version": "1.5.0",
            "_view_name": "ProgressView",
            "bar_style": "success",
            "description": "",
            "description_tooltip": null,
            "layout": "IPY_MODEL_5b20e68cc3fc4ff5ac875f5b673da509",
            "max": 2,
            "min": 0,
            "orientation": "horizontal",
            "style": "IPY_MODEL_536ec08e03ff4f7287a8303cbffb99bf",
            "value": 2
          }
        },
        "0d68fef7bcef4089bdb71087c3d99e21": {
          "model_module": "@jupyter-widgets/controls",
          "model_name": "HTMLModel",
          "model_module_version": "1.5.0",
          "state": {
            "_dom_classes": [],
            "_model_module": "@jupyter-widgets/controls",
            "_model_module_version": "1.5.0",
            "_model_name": "HTMLModel",
            "_view_count": null,
            "_view_module": "@jupyter-widgets/controls",
            "_view_module_version": "1.5.0",
            "_view_name": "HTMLView",
            "description": "",
            "description_tooltip": null,
            "layout": "IPY_MODEL_4b3b9c91ef8e45b08c06c3d57763715a",
            "placeholder": "​",
            "style": "IPY_MODEL_edb91a7df17d4250be252ca45b1a632f",
            "value": " 2.00/2.00 [00:00&lt;00:00, 41.2B/s]"
          }
        },
        "660a04e689ef4d188f73de271b30d681": {
          "model_module": "@jupyter-widgets/base",
          "model_name": "LayoutModel",
          "model_module_version": "1.2.0",
          "state": {
            "_model_module": "@jupyter-widgets/base",
            "_model_module_version": "1.2.0",
            "_model_name": "LayoutModel",
            "_view_count": null,
            "_view_module": "@jupyter-widgets/base",
            "_view_module_version": "1.2.0",
            "_view_name": "LayoutView",
            "align_content": null,
            "align_items": null,
            "align_self": null,
            "border": null,
            "bottom": null,
            "display": null,
            "flex": null,
            "flex_flow": null,
            "grid_area": null,
            "grid_auto_columns": null,
            "grid_auto_flow": null,
            "grid_auto_rows": null,
            "grid_column": null,
            "grid_gap": null,
            "grid_row": null,
            "grid_template_areas": null,
            "grid_template_columns": null,
            "grid_template_rows": null,
            "height": null,
            "justify_content": null,
            "justify_items": null,
            "left": null,
            "margin": null,
            "max_height": null,
            "max_width": null,
            "min_height": null,
            "min_width": null,
            "object_fit": null,
            "object_position": null,
            "order": null,
            "overflow": null,
            "overflow_x": null,
            "overflow_y": null,
            "padding": null,
            "right": null,
            "top": null,
            "visibility": null,
            "width": null
          }
        },
        "2a4e11ff098a4d42a227fecd42edadc8": {
          "model_module": "@jupyter-widgets/base",
          "model_name": "LayoutModel",
          "model_module_version": "1.2.0",
          "state": {
            "_model_module": "@jupyter-widgets/base",
            "_model_module_version": "1.2.0",
            "_model_name": "LayoutModel",
            "_view_count": null,
            "_view_module": "@jupyter-widgets/base",
            "_view_module_version": "1.2.0",
            "_view_name": "LayoutView",
            "align_content": null,
            "align_items": null,
            "align_self": null,
            "border": null,
            "bottom": null,
            "display": null,
            "flex": null,
            "flex_flow": null,
            "grid_area": null,
            "grid_auto_columns": null,
            "grid_auto_flow": null,
            "grid_auto_rows": null,
            "grid_column": null,
            "grid_gap": null,
            "grid_row": null,
            "grid_template_areas": null,
            "grid_template_columns": null,
            "grid_template_rows": null,
            "height": null,
            "justify_content": null,
            "justify_items": null,
            "left": null,
            "margin": null,
            "max_height": null,
            "max_width": null,
            "min_height": null,
            "min_width": null,
            "object_fit": null,
            "object_position": null,
            "order": null,
            "overflow": null,
            "overflow_x": null,
            "overflow_y": null,
            "padding": null,
            "right": null,
            "top": null,
            "visibility": null,
            "width": null
          }
        },
        "28b3fcdfcd1c4b328cc75df1d19491f8": {
          "model_module": "@jupyter-widgets/controls",
          "model_name": "DescriptionStyleModel",
          "model_module_version": "1.5.0",
          "state": {
            "_model_module": "@jupyter-widgets/controls",
            "_model_module_version": "1.5.0",
            "_model_name": "DescriptionStyleModel",
            "_view_count": null,
            "_view_module": "@jupyter-widgets/base",
            "_view_module_version": "1.2.0",
            "_view_name": "StyleView",
            "description_width": ""
          }
        },
        "5b20e68cc3fc4ff5ac875f5b673da509": {
          "model_module": "@jupyter-widgets/base",
          "model_name": "LayoutModel",
          "model_module_version": "1.2.0",
          "state": {
            "_model_module": "@jupyter-widgets/base",
            "_model_module_version": "1.2.0",
            "_model_name": "LayoutModel",
            "_view_count": null,
            "_view_module": "@jupyter-widgets/base",
            "_view_module_version": "1.2.0",
            "_view_name": "LayoutView",
            "align_content": null,
            "align_items": null,
            "align_self": null,
            "border": null,
            "bottom": null,
            "display": null,
            "flex": null,
            "flex_flow": null,
            "grid_area": null,
            "grid_auto_columns": null,
            "grid_auto_flow": null,
            "grid_auto_rows": null,
            "grid_column": null,
            "grid_gap": null,
            "grid_row": null,
            "grid_template_areas": null,
            "grid_template_columns": null,
            "grid_template_rows": null,
            "height": null,
            "justify_content": null,
            "justify_items": null,
            "left": null,
            "margin": null,
            "max_height": null,
            "max_width": null,
            "min_height": null,
            "min_width": null,
            "object_fit": null,
            "object_position": null,
            "order": null,
            "overflow": null,
            "overflow_x": null,
            "overflow_y": null,
            "padding": null,
            "right": null,
            "top": null,
            "visibility": null,
            "width": null
          }
        },
        "536ec08e03ff4f7287a8303cbffb99bf": {
          "model_module": "@jupyter-widgets/controls",
          "model_name": "ProgressStyleModel",
          "model_module_version": "1.5.0",
          "state": {
            "_model_module": "@jupyter-widgets/controls",
            "_model_module_version": "1.5.0",
            "_model_name": "ProgressStyleModel",
            "_view_count": null,
            "_view_module": "@jupyter-widgets/base",
            "_view_module_version": "1.2.0",
            "_view_name": "StyleView",
            "bar_color": null,
            "description_width": ""
          }
        },
        "4b3b9c91ef8e45b08c06c3d57763715a": {
          "model_module": "@jupyter-widgets/base",
          "model_name": "LayoutModel",
          "model_module_version": "1.2.0",
          "state": {
            "_model_module": "@jupyter-widgets/base",
            "_model_module_version": "1.2.0",
            "_model_name": "LayoutModel",
            "_view_count": null,
            "_view_module": "@jupyter-widgets/base",
            "_view_module_version": "1.2.0",
            "_view_name": "LayoutView",
            "align_content": null,
            "align_items": null,
            "align_self": null,
            "border": null,
            "bottom": null,
            "display": null,
            "flex": null,
            "flex_flow": null,
            "grid_area": null,
            "grid_auto_columns": null,
            "grid_auto_flow": null,
            "grid_auto_rows": null,
            "grid_column": null,
            "grid_gap": null,
            "grid_row": null,
            "grid_template_areas": null,
            "grid_template_columns": null,
            "grid_template_rows": null,
            "height": null,
            "justify_content": null,
            "justify_items": null,
            "left": null,
            "margin": null,
            "max_height": null,
            "max_width": null,
            "min_height": null,
            "min_width": null,
            "object_fit": null,
            "object_position": null,
            "order": null,
            "overflow": null,
            "overflow_x": null,
            "overflow_y": null,
            "padding": null,
            "right": null,
            "top": null,
            "visibility": null,
            "width": null
          }
        },
        "edb91a7df17d4250be252ca45b1a632f": {
          "model_module": "@jupyter-widgets/controls",
          "model_name": "DescriptionStyleModel",
          "model_module_version": "1.5.0",
          "state": {
            "_model_module": "@jupyter-widgets/controls",
            "_model_module_version": "1.5.0",
            "_model_name": "DescriptionStyleModel",
            "_view_count": null,
            "_view_module": "@jupyter-widgets/base",
            "_view_module_version": "1.2.0",
            "_view_name": "StyleView",
            "description_width": ""
          }
        },
        "71c991e0b8d34645890d8a8d710ad449": {
          "model_module": "@jupyter-widgets/controls",
          "model_name": "HBoxModel",
          "model_module_version": "1.5.0",
          "state": {
            "_dom_classes": [],
            "_model_module": "@jupyter-widgets/controls",
            "_model_module_version": "1.5.0",
            "_model_name": "HBoxModel",
            "_view_count": null,
            "_view_module": "@jupyter-widgets/controls",
            "_view_module_version": "1.5.0",
            "_view_name": "HBoxView",
            "box_style": "",
            "children": [
              "IPY_MODEL_ca3ac32b6d654c4096d84a19ce3e692a",
              "IPY_MODEL_5e31be28e3014c03a671238f4122cda4",
              "IPY_MODEL_4c4af56781fb4819abaf20191827323f"
            ],
            "layout": "IPY_MODEL_ddbe16271bca4595b774373f38fb31b6"
          }
        },
        "ca3ac32b6d654c4096d84a19ce3e692a": {
          "model_module": "@jupyter-widgets/controls",
          "model_name": "HTMLModel",
          "model_module_version": "1.5.0",
          "state": {
            "_dom_classes": [],
            "_model_module": "@jupyter-widgets/controls",
            "_model_module_version": "1.5.0",
            "_model_name": "HTMLModel",
            "_view_count": null,
            "_view_module": "@jupyter-widgets/controls",
            "_view_module_version": "1.5.0",
            "_view_name": "HTMLView",
            "description": "",
            "description_tooltip": null,
            "layout": "IPY_MODEL_54b43edee3ad4ab1878214d52a1ead08",
            "placeholder": "​",
            "style": "IPY_MODEL_e1a4b996b1ca4014b0baf7a5b1738f75",
            "value": "Downloading: 100%"
          }
        },
        "5e31be28e3014c03a671238f4122cda4": {
          "model_module": "@jupyter-widgets/controls",
          "model_name": "FloatProgressModel",
          "model_module_version": "1.5.0",
          "state": {
            "_dom_classes": [],
            "_model_module": "@jupyter-widgets/controls",
            "_model_module_version": "1.5.0",
            "_model_name": "FloatProgressModel",
            "_view_count": null,
            "_view_module": "@jupyter-widgets/controls",
            "_view_module_version": "1.5.0",
            "_view_name": "ProgressView",
            "bar_style": "success",
            "description": "",
            "description_tooltip": null,
            "layout": "IPY_MODEL_51a5e0cc3f8e424da348e0f65148bfbd",
            "max": 112,
            "min": 0,
            "orientation": "horizontal",
            "style": "IPY_MODEL_76cfca521c064c79aebc03979688a40b",
            "value": 112
          }
        },
        "4c4af56781fb4819abaf20191827323f": {
          "model_module": "@jupyter-widgets/controls",
          "model_name": "HTMLModel",
          "model_module_version": "1.5.0",
          "state": {
            "_dom_classes": [],
            "_model_module": "@jupyter-widgets/controls",
            "_model_module_version": "1.5.0",
            "_model_name": "HTMLModel",
            "_view_count": null,
            "_view_module": "@jupyter-widgets/controls",
            "_view_module_version": "1.5.0",
            "_view_name": "HTMLView",
            "description": "",
            "description_tooltip": null,
            "layout": "IPY_MODEL_dc3bb1a065da47acaebbd2e9ba55ca17",
            "placeholder": "​",
            "style": "IPY_MODEL_3735e7dad2384544a1f863ae80c61633",
            "value": " 112/112 [00:00&lt;00:00, 2.65kB/s]"
          }
        },
        "ddbe16271bca4595b774373f38fb31b6": {
          "model_module": "@jupyter-widgets/base",
          "model_name": "LayoutModel",
          "model_module_version": "1.2.0",
          "state": {
            "_model_module": "@jupyter-widgets/base",
            "_model_module_version": "1.2.0",
            "_model_name": "LayoutModel",
            "_view_count": null,
            "_view_module": "@jupyter-widgets/base",
            "_view_module_version": "1.2.0",
            "_view_name": "LayoutView",
            "align_content": null,
            "align_items": null,
            "align_self": null,
            "border": null,
            "bottom": null,
            "display": null,
            "flex": null,
            "flex_flow": null,
            "grid_area": null,
            "grid_auto_columns": null,
            "grid_auto_flow": null,
            "grid_auto_rows": null,
            "grid_column": null,
            "grid_gap": null,
            "grid_row": null,
            "grid_template_areas": null,
            "grid_template_columns": null,
            "grid_template_rows": null,
            "height": null,
            "justify_content": null,
            "justify_items": null,
            "left": null,
            "margin": null,
            "max_height": null,
            "max_width": null,
            "min_height": null,
            "min_width": null,
            "object_fit": null,
            "object_position": null,
            "order": null,
            "overflow": null,
            "overflow_x": null,
            "overflow_y": null,
            "padding": null,
            "right": null,
            "top": null,
            "visibility": null,
            "width": null
          }
        },
        "54b43edee3ad4ab1878214d52a1ead08": {
          "model_module": "@jupyter-widgets/base",
          "model_name": "LayoutModel",
          "model_module_version": "1.2.0",
          "state": {
            "_model_module": "@jupyter-widgets/base",
            "_model_module_version": "1.2.0",
            "_model_name": "LayoutModel",
            "_view_count": null,
            "_view_module": "@jupyter-widgets/base",
            "_view_module_version": "1.2.0",
            "_view_name": "LayoutView",
            "align_content": null,
            "align_items": null,
            "align_self": null,
            "border": null,
            "bottom": null,
            "display": null,
            "flex": null,
            "flex_flow": null,
            "grid_area": null,
            "grid_auto_columns": null,
            "grid_auto_flow": null,
            "grid_auto_rows": null,
            "grid_column": null,
            "grid_gap": null,
            "grid_row": null,
            "grid_template_areas": null,
            "grid_template_columns": null,
            "grid_template_rows": null,
            "height": null,
            "justify_content": null,
            "justify_items": null,
            "left": null,
            "margin": null,
            "max_height": null,
            "max_width": null,
            "min_height": null,
            "min_width": null,
            "object_fit": null,
            "object_position": null,
            "order": null,
            "overflow": null,
            "overflow_x": null,
            "overflow_y": null,
            "padding": null,
            "right": null,
            "top": null,
            "visibility": null,
            "width": null
          }
        },
        "e1a4b996b1ca4014b0baf7a5b1738f75": {
          "model_module": "@jupyter-widgets/controls",
          "model_name": "DescriptionStyleModel",
          "model_module_version": "1.5.0",
          "state": {
            "_model_module": "@jupyter-widgets/controls",
            "_model_module_version": "1.5.0",
            "_model_name": "DescriptionStyleModel",
            "_view_count": null,
            "_view_module": "@jupyter-widgets/base",
            "_view_module_version": "1.2.0",
            "_view_name": "StyleView",
            "description_width": ""
          }
        },
        "51a5e0cc3f8e424da348e0f65148bfbd": {
          "model_module": "@jupyter-widgets/base",
          "model_name": "LayoutModel",
          "model_module_version": "1.2.0",
          "state": {
            "_model_module": "@jupyter-widgets/base",
            "_model_module_version": "1.2.0",
            "_model_name": "LayoutModel",
            "_view_count": null,
            "_view_module": "@jupyter-widgets/base",
            "_view_module_version": "1.2.0",
            "_view_name": "LayoutView",
            "align_content": null,
            "align_items": null,
            "align_self": null,
            "border": null,
            "bottom": null,
            "display": null,
            "flex": null,
            "flex_flow": null,
            "grid_area": null,
            "grid_auto_columns": null,
            "grid_auto_flow": null,
            "grid_auto_rows": null,
            "grid_column": null,
            "grid_gap": null,
            "grid_row": null,
            "grid_template_areas": null,
            "grid_template_columns": null,
            "grid_template_rows": null,
            "height": null,
            "justify_content": null,
            "justify_items": null,
            "left": null,
            "margin": null,
            "max_height": null,
            "max_width": null,
            "min_height": null,
            "min_width": null,
            "object_fit": null,
            "object_position": null,
            "order": null,
            "overflow": null,
            "overflow_x": null,
            "overflow_y": null,
            "padding": null,
            "right": null,
            "top": null,
            "visibility": null,
            "width": null
          }
        },
        "76cfca521c064c79aebc03979688a40b": {
          "model_module": "@jupyter-widgets/controls",
          "model_name": "ProgressStyleModel",
          "model_module_version": "1.5.0",
          "state": {
            "_model_module": "@jupyter-widgets/controls",
            "_model_module_version": "1.5.0",
            "_model_name": "ProgressStyleModel",
            "_view_count": null,
            "_view_module": "@jupyter-widgets/base",
            "_view_module_version": "1.2.0",
            "_view_name": "StyleView",
            "bar_color": null,
            "description_width": ""
          }
        },
        "dc3bb1a065da47acaebbd2e9ba55ca17": {
          "model_module": "@jupyter-widgets/base",
          "model_name": "LayoutModel",
          "model_module_version": "1.2.0",
          "state": {
            "_model_module": "@jupyter-widgets/base",
            "_model_module_version": "1.2.0",
            "_model_name": "LayoutModel",
            "_view_count": null,
            "_view_module": "@jupyter-widgets/base",
            "_view_module_version": "1.2.0",
            "_view_name": "LayoutView",
            "align_content": null,
            "align_items": null,
            "align_self": null,
            "border": null,
            "bottom": null,
            "display": null,
            "flex": null,
            "flex_flow": null,
            "grid_area": null,
            "grid_auto_columns": null,
            "grid_auto_flow": null,
            "grid_auto_rows": null,
            "grid_column": null,
            "grid_gap": null,
            "grid_row": null,
            "grid_template_areas": null,
            "grid_template_columns": null,
            "grid_template_rows": null,
            "height": null,
            "justify_content": null,
            "justify_items": null,
            "left": null,
            "margin": null,
            "max_height": null,
            "max_width": null,
            "min_height": null,
            "min_width": null,
            "object_fit": null,
            "object_position": null,
            "order": null,
            "overflow": null,
            "overflow_x": null,
            "overflow_y": null,
            "padding": null,
            "right": null,
            "top": null,
            "visibility": null,
            "width": null
          }
        },
        "3735e7dad2384544a1f863ae80c61633": {
          "model_module": "@jupyter-widgets/controls",
          "model_name": "DescriptionStyleModel",
          "model_module_version": "1.5.0",
          "state": {
            "_model_module": "@jupyter-widgets/controls",
            "_model_module_version": "1.5.0",
            "_model_name": "DescriptionStyleModel",
            "_view_count": null,
            "_view_module": "@jupyter-widgets/base",
            "_view_module_version": "1.2.0",
            "_view_name": "StyleView",
            "description_width": ""
          }
        },
        "115ad0670fe946af80012e2173b84d8c": {
          "model_module": "@jupyter-widgets/controls",
          "model_name": "HBoxModel",
          "model_module_version": "1.5.0",
          "state": {
            "_dom_classes": [],
            "_model_module": "@jupyter-widgets/controls",
            "_model_module_version": "1.5.0",
            "_model_name": "HBoxModel",
            "_view_count": null,
            "_view_module": "@jupyter-widgets/controls",
            "_view_module_version": "1.5.0",
            "_view_name": "HBoxView",
            "box_style": "",
            "children": [
              "IPY_MODEL_faa45738d0834586bd4278e56ca6614c",
              "IPY_MODEL_bc59bb6962c645d7b94e38da0ae3f21e",
              "IPY_MODEL_131ee2b5bc5e4554b3730a126ca36213"
            ],
            "layout": "IPY_MODEL_95c02e3352374c18871a9cb5d71e8dd8"
          }
        },
        "faa45738d0834586bd4278e56ca6614c": {
          "model_module": "@jupyter-widgets/controls",
          "model_name": "HTMLModel",
          "model_module_version": "1.5.0",
          "state": {
            "_dom_classes": [],
            "_model_module": "@jupyter-widgets/controls",
            "_model_module_version": "1.5.0",
            "_model_name": "HTMLModel",
            "_view_count": null,
            "_view_module": "@jupyter-widgets/controls",
            "_view_module_version": "1.5.0",
            "_view_name": "HTMLView",
            "description": "",
            "description_tooltip": null,
            "layout": "IPY_MODEL_5c58b81cd61f4b6480816e39aeb383f1",
            "placeholder": "​",
            "style": "IPY_MODEL_14ae307865f14ccdb1a7026850dc3e0e",
            "value": "Downloading: 100%"
          }
        },
        "bc59bb6962c645d7b94e38da0ae3f21e": {
          "model_module": "@jupyter-widgets/controls",
          "model_name": "FloatProgressModel",
          "model_module_version": "1.5.0",
          "state": {
            "_dom_classes": [],
            "_model_module": "@jupyter-widgets/controls",
            "_model_module_version": "1.5.0",
            "_model_name": "FloatProgressModel",
            "_view_count": null,
            "_view_module": "@jupyter-widgets/controls",
            "_view_module_version": "1.5.0",
            "_view_name": "ProgressView",
            "bar_style": "success",
            "description": "",
            "description_tooltip": null,
            "layout": "IPY_MODEL_9525e0630e034dbbadc5441bc83e4d75",
            "max": 433316646,
            "min": 0,
            "orientation": "horizontal",
            "style": "IPY_MODEL_3c52a0c31dc3443db64a581184256b07",
            "value": 433316646
          }
        },
        "131ee2b5bc5e4554b3730a126ca36213": {
          "model_module": "@jupyter-widgets/controls",
          "model_name": "HTMLModel",
          "model_module_version": "1.5.0",
          "state": {
            "_dom_classes": [],
            "_model_module": "@jupyter-widgets/controls",
            "_model_module_version": "1.5.0",
            "_model_name": "HTMLModel",
            "_view_count": null,
            "_view_module": "@jupyter-widgets/controls",
            "_view_module_version": "1.5.0",
            "_view_name": "HTMLView",
            "description": "",
            "description_tooltip": null,
            "layout": "IPY_MODEL_b0129128c2d742329affe41bdfb77e37",
            "placeholder": "​",
            "style": "IPY_MODEL_5c345dfd6d4e4d88b5b6acae2b82eb40",
            "value": " 413M/413M [00:10&lt;00:00, 42.6MB/s]"
          }
        },
        "95c02e3352374c18871a9cb5d71e8dd8": {
          "model_module": "@jupyter-widgets/base",
          "model_name": "LayoutModel",
          "model_module_version": "1.2.0",
          "state": {
            "_model_module": "@jupyter-widgets/base",
            "_model_module_version": "1.2.0",
            "_model_name": "LayoutModel",
            "_view_count": null,
            "_view_module": "@jupyter-widgets/base",
            "_view_module_version": "1.2.0",
            "_view_name": "LayoutView",
            "align_content": null,
            "align_items": null,
            "align_self": null,
            "border": null,
            "bottom": null,
            "display": null,
            "flex": null,
            "flex_flow": null,
            "grid_area": null,
            "grid_auto_columns": null,
            "grid_auto_flow": null,
            "grid_auto_rows": null,
            "grid_column": null,
            "grid_gap": null,
            "grid_row": null,
            "grid_template_areas": null,
            "grid_template_columns": null,
            "grid_template_rows": null,
            "height": null,
            "justify_content": null,
            "justify_items": null,
            "left": null,
            "margin": null,
            "max_height": null,
            "max_width": null,
            "min_height": null,
            "min_width": null,
            "object_fit": null,
            "object_position": null,
            "order": null,
            "overflow": null,
            "overflow_x": null,
            "overflow_y": null,
            "padding": null,
            "right": null,
            "top": null,
            "visibility": null,
            "width": null
          }
        },
        "5c58b81cd61f4b6480816e39aeb383f1": {
          "model_module": "@jupyter-widgets/base",
          "model_name": "LayoutModel",
          "model_module_version": "1.2.0",
          "state": {
            "_model_module": "@jupyter-widgets/base",
            "_model_module_version": "1.2.0",
            "_model_name": "LayoutModel",
            "_view_count": null,
            "_view_module": "@jupyter-widgets/base",
            "_view_module_version": "1.2.0",
            "_view_name": "LayoutView",
            "align_content": null,
            "align_items": null,
            "align_self": null,
            "border": null,
            "bottom": null,
            "display": null,
            "flex": null,
            "flex_flow": null,
            "grid_area": null,
            "grid_auto_columns": null,
            "grid_auto_flow": null,
            "grid_auto_rows": null,
            "grid_column": null,
            "grid_gap": null,
            "grid_row": null,
            "grid_template_areas": null,
            "grid_template_columns": null,
            "grid_template_rows": null,
            "height": null,
            "justify_content": null,
            "justify_items": null,
            "left": null,
            "margin": null,
            "max_height": null,
            "max_width": null,
            "min_height": null,
            "min_width": null,
            "object_fit": null,
            "object_position": null,
            "order": null,
            "overflow": null,
            "overflow_x": null,
            "overflow_y": null,
            "padding": null,
            "right": null,
            "top": null,
            "visibility": null,
            "width": null
          }
        },
        "14ae307865f14ccdb1a7026850dc3e0e": {
          "model_module": "@jupyter-widgets/controls",
          "model_name": "DescriptionStyleModel",
          "model_module_version": "1.5.0",
          "state": {
            "_model_module": "@jupyter-widgets/controls",
            "_model_module_version": "1.5.0",
            "_model_name": "DescriptionStyleModel",
            "_view_count": null,
            "_view_module": "@jupyter-widgets/base",
            "_view_module_version": "1.2.0",
            "_view_name": "StyleView",
            "description_width": ""
          }
        },
        "9525e0630e034dbbadc5441bc83e4d75": {
          "model_module": "@jupyter-widgets/base",
          "model_name": "LayoutModel",
          "model_module_version": "1.2.0",
          "state": {
            "_model_module": "@jupyter-widgets/base",
            "_model_module_version": "1.2.0",
            "_model_name": "LayoutModel",
            "_view_count": null,
            "_view_module": "@jupyter-widgets/base",
            "_view_module_version": "1.2.0",
            "_view_name": "LayoutView",
            "align_content": null,
            "align_items": null,
            "align_self": null,
            "border": null,
            "bottom": null,
            "display": null,
            "flex": null,
            "flex_flow": null,
            "grid_area": null,
            "grid_auto_columns": null,
            "grid_auto_flow": null,
            "grid_auto_rows": null,
            "grid_column": null,
            "grid_gap": null,
            "grid_row": null,
            "grid_template_areas": null,
            "grid_template_columns": null,
            "grid_template_rows": null,
            "height": null,
            "justify_content": null,
            "justify_items": null,
            "left": null,
            "margin": null,
            "max_height": null,
            "max_width": null,
            "min_height": null,
            "min_width": null,
            "object_fit": null,
            "object_position": null,
            "order": null,
            "overflow": null,
            "overflow_x": null,
            "overflow_y": null,
            "padding": null,
            "right": null,
            "top": null,
            "visibility": null,
            "width": null
          }
        },
        "3c52a0c31dc3443db64a581184256b07": {
          "model_module": "@jupyter-widgets/controls",
          "model_name": "ProgressStyleModel",
          "model_module_version": "1.5.0",
          "state": {
            "_model_module": "@jupyter-widgets/controls",
            "_model_module_version": "1.5.0",
            "_model_name": "ProgressStyleModel",
            "_view_count": null,
            "_view_module": "@jupyter-widgets/base",
            "_view_module_version": "1.2.0",
            "_view_name": "StyleView",
            "bar_color": null,
            "description_width": ""
          }
        },
        "b0129128c2d742329affe41bdfb77e37": {
          "model_module": "@jupyter-widgets/base",
          "model_name": "LayoutModel",
          "model_module_version": "1.2.0",
          "state": {
            "_model_module": "@jupyter-widgets/base",
            "_model_module_version": "1.2.0",
            "_model_name": "LayoutModel",
            "_view_count": null,
            "_view_module": "@jupyter-widgets/base",
            "_view_module_version": "1.2.0",
            "_view_name": "LayoutView",
            "align_content": null,
            "align_items": null,
            "align_self": null,
            "border": null,
            "bottom": null,
            "display": null,
            "flex": null,
            "flex_flow": null,
            "grid_area": null,
            "grid_auto_columns": null,
            "grid_auto_flow": null,
            "grid_auto_rows": null,
            "grid_column": null,
            "grid_gap": null,
            "grid_row": null,
            "grid_template_areas": null,
            "grid_template_columns": null,
            "grid_template_rows": null,
            "height": null,
            "justify_content": null,
            "justify_items": null,
            "left": null,
            "margin": null,
            "max_height": null,
            "max_width": null,
            "min_height": null,
            "min_width": null,
            "object_fit": null,
            "object_position": null,
            "order": null,
            "overflow": null,
            "overflow_x": null,
            "overflow_y": null,
            "padding": null,
            "right": null,
            "top": null,
            "visibility": null,
            "width": null
          }
        },
        "5c345dfd6d4e4d88b5b6acae2b82eb40": {
          "model_module": "@jupyter-widgets/controls",
          "model_name": "DescriptionStyleModel",
          "model_module_version": "1.5.0",
          "state": {
            "_model_module": "@jupyter-widgets/controls",
            "_model_module_version": "1.5.0",
            "_model_name": "DescriptionStyleModel",
            "_view_count": null,
            "_view_module": "@jupyter-widgets/base",
            "_view_module_version": "1.2.0",
            "_view_name": "StyleView",
            "description_width": ""
          }
        }
      }
    }
  },
  "cells": [
    {
      "cell_type": "code",
      "execution_count": 2,
      "metadata": {
        "id": "sWqa7RohyrTw"
      },
      "outputs": [],
      "source": [
        "import numpy as np\n",
        "import pandas as pd"
      ]
    },
    {
      "cell_type": "code",
      "source": [
        "!pip install pyTigerGraph"
      ],
      "metadata": {
        "colab": {
          "base_uri": "https://localhost:8080/"
        },
        "id": "ozOD_zANy1Ht",
        "outputId": "d7da48e3-8eb9-484e-9236-0fc3285e57df"
      },
      "execution_count": 3,
      "outputs": [
        {
          "output_type": "stream",
          "name": "stdout",
          "text": [
            "Collecting pyTigerGraph\n",
            "  Downloading pyTigerGraph-0.0.9.9.2-py3-none-any.whl (22 kB)\n",
            "Collecting validators\n",
            "  Downloading validators-0.18.2-py3-none-any.whl (19 kB)\n",
            "Collecting pyTigerDriver\n",
            "  Downloading pyTigerDriver-1.0.14-py3-none-any.whl (8.7 kB)\n",
            "Requirement already satisfied: requests in /usr/local/lib/python3.7/dist-packages (from pyTigerGraph) (2.23.0)\n",
            "Requirement already satisfied: pandas in /usr/local/lib/python3.7/dist-packages (from pyTigerGraph) (1.3.5)\n",
            "Requirement already satisfied: python-dateutil>=2.7.3 in /usr/local/lib/python3.7/dist-packages (from pandas->pyTigerGraph) (2.8.2)\n",
            "Requirement already satisfied: numpy>=1.17.3 in /usr/local/lib/python3.7/dist-packages (from pandas->pyTigerGraph) (1.21.5)\n",
            "Requirement already satisfied: pytz>=2017.3 in /usr/local/lib/python3.7/dist-packages (from pandas->pyTigerGraph) (2018.9)\n",
            "Requirement already satisfied: six>=1.5 in /usr/local/lib/python3.7/dist-packages (from python-dateutil>=2.7.3->pandas->pyTigerGraph) (1.15.0)\n",
            "Requirement already satisfied: chardet<4,>=3.0.2 in /usr/local/lib/python3.7/dist-packages (from requests->pyTigerGraph) (3.0.4)\n",
            "Requirement already satisfied: idna<3,>=2.5 in /usr/local/lib/python3.7/dist-packages (from requests->pyTigerGraph) (2.10)\n",
            "Requirement already satisfied: urllib3!=1.25.0,!=1.25.1,<1.26,>=1.21.1 in /usr/local/lib/python3.7/dist-packages (from requests->pyTigerGraph) (1.24.3)\n",
            "Requirement already satisfied: certifi>=2017.4.17 in /usr/local/lib/python3.7/dist-packages (from requests->pyTigerGraph) (2021.10.8)\n",
            "Requirement already satisfied: decorator>=3.4.0 in /usr/local/lib/python3.7/dist-packages (from validators->pyTigerGraph) (4.4.2)\n",
            "Installing collected packages: validators, pyTigerDriver, pyTigerGraph\n",
            "Successfully installed pyTigerDriver-1.0.14 pyTigerGraph-0.0.9.9.2 validators-0.18.2\n"
          ]
        }
      ]
    },
    {
      "cell_type": "code",
      "source": [
        "import pyTigerGraph as tg"
      ],
      "metadata": {
        "id": "JRakhJdUyxOX"
      },
      "execution_count": 4,
      "outputs": []
    },
    {
      "cell_type": "code",
      "source": [
        "questions = ['who all bought Agilent Technologies Inc',\n",
        "             'who sold Agilent Technologies Inc',\n",
        "             'who bought Microsoft Corporation in the year 2018',\n",
        "             'how are Microsoft Corporation and Facebook Inc related',\n",
        "             'how many bought Microsoft Corporation in the year 2021',\n",
        "             'what all beat the market expectations in the year 2018',\n",
        "             'what was happen with Warren Buffett 5 years ago']"
      ],
      "metadata": {
        "id": "YxD7_g45yzoH"
      },
      "execution_count": 5,
      "outputs": []
    },
    {
      "cell_type": "code",
      "source": [
        "question = questions[0]"
      ],
      "metadata": {
        "id": "mc1qeshz2fcS"
      },
      "execution_count": 6,
      "outputs": []
    },
    {
      "cell_type": "code",
      "source": [
        "import spacy\n",
        "nlp_pipeline = spacy.load(\"en_core_web_sm\")"
      ],
      "metadata": {
        "id": "U2DAYyX92iJY"
      },
      "execution_count": 7,
      "outputs": []
    },
    {
      "cell_type": "code",
      "source": [
        "!pip install transformers"
      ],
      "metadata": {
        "colab": {
          "base_uri": "https://localhost:8080/"
        },
        "id": "pH-ac-SD2kJn",
        "outputId": "d3fd851d-aa2f-4571-f69b-b4e37555b1d4"
      },
      "execution_count": 8,
      "outputs": [
        {
          "output_type": "stream",
          "name": "stdout",
          "text": [
            "Collecting transformers\n",
            "  Downloading transformers-4.18.0-py3-none-any.whl (4.0 MB)\n",
            "\u001b[K     |████████████████████████████████| 4.0 MB 8.8 MB/s \n",
            "\u001b[?25hCollecting pyyaml>=5.1\n",
            "  Downloading PyYAML-6.0-cp37-cp37m-manylinux_2_5_x86_64.manylinux1_x86_64.manylinux_2_12_x86_64.manylinux2010_x86_64.whl (596 kB)\n",
            "\u001b[K     |████████████████████████████████| 596 kB 68.0 MB/s \n",
            "\u001b[?25hRequirement already satisfied: numpy>=1.17 in /usr/local/lib/python3.7/dist-packages (from transformers) (1.21.5)\n",
            "Requirement already satisfied: regex!=2019.12.17 in /usr/local/lib/python3.7/dist-packages (from transformers) (2019.12.20)\n",
            "Collecting tokenizers!=0.11.3,<0.13,>=0.11.1\n",
            "  Downloading tokenizers-0.12.1-cp37-cp37m-manylinux_2_12_x86_64.manylinux2010_x86_64.whl (6.6 MB)\n",
            "\u001b[K     |████████████████████████████████| 6.6 MB 46.7 MB/s \n",
            "\u001b[?25hRequirement already satisfied: tqdm>=4.27 in /usr/local/lib/python3.7/dist-packages (from transformers) (4.64.0)\n",
            "Requirement already satisfied: importlib-metadata in /usr/local/lib/python3.7/dist-packages (from transformers) (4.11.3)\n",
            "Collecting huggingface-hub<1.0,>=0.1.0\n",
            "  Downloading huggingface_hub-0.5.1-py3-none-any.whl (77 kB)\n",
            "\u001b[K     |████████████████████████████████| 77 kB 6.5 MB/s \n",
            "\u001b[?25hCollecting sacremoses\n",
            "  Downloading sacremoses-0.0.49-py3-none-any.whl (895 kB)\n",
            "\u001b[K     |████████████████████████████████| 895 kB 49.5 MB/s \n",
            "\u001b[?25hRequirement already satisfied: packaging>=20.0 in /usr/local/lib/python3.7/dist-packages (from transformers) (21.3)\n",
            "Requirement already satisfied: requests in /usr/local/lib/python3.7/dist-packages (from transformers) (2.23.0)\n",
            "Requirement already satisfied: filelock in /usr/local/lib/python3.7/dist-packages (from transformers) (3.6.0)\n",
            "Requirement already satisfied: typing-extensions>=3.7.4.3 in /usr/local/lib/python3.7/dist-packages (from huggingface-hub<1.0,>=0.1.0->transformers) (4.1.1)\n",
            "Requirement already satisfied: pyparsing!=3.0.5,>=2.0.2 in /usr/local/lib/python3.7/dist-packages (from packaging>=20.0->transformers) (3.0.8)\n",
            "Requirement already satisfied: zipp>=0.5 in /usr/local/lib/python3.7/dist-packages (from importlib-metadata->transformers) (3.8.0)\n",
            "Requirement already satisfied: chardet<4,>=3.0.2 in /usr/local/lib/python3.7/dist-packages (from requests->transformers) (3.0.4)\n",
            "Requirement already satisfied: idna<3,>=2.5 in /usr/local/lib/python3.7/dist-packages (from requests->transformers) (2.10)\n",
            "Requirement already satisfied: urllib3!=1.25.0,!=1.25.1,<1.26,>=1.21.1 in /usr/local/lib/python3.7/dist-packages (from requests->transformers) (1.24.3)\n",
            "Requirement already satisfied: certifi>=2017.4.17 in /usr/local/lib/python3.7/dist-packages (from requests->transformers) (2021.10.8)\n",
            "Requirement already satisfied: click in /usr/local/lib/python3.7/dist-packages (from sacremoses->transformers) (7.1.2)\n",
            "Requirement already satisfied: six in /usr/local/lib/python3.7/dist-packages (from sacremoses->transformers) (1.15.0)\n",
            "Requirement already satisfied: joblib in /usr/local/lib/python3.7/dist-packages (from sacremoses->transformers) (1.1.0)\n",
            "Installing collected packages: pyyaml, tokenizers, sacremoses, huggingface-hub, transformers\n",
            "  Attempting uninstall: pyyaml\n",
            "    Found existing installation: PyYAML 3.13\n",
            "    Uninstalling PyYAML-3.13:\n",
            "      Successfully uninstalled PyYAML-3.13\n",
            "Successfully installed huggingface-hub-0.5.1 pyyaml-6.0 sacremoses-0.0.49 tokenizers-0.12.1 transformers-4.18.0\n"
          ]
        }
      ]
    },
    {
      "cell_type": "code",
      "source": [
        "import transformers\n",
        "from transformers import AutoTokenizer, AutoModelForTokenClassification\n",
        "from transformers import pipeline\n",
        "tokenizer = AutoTokenizer.from_pretrained(\"dslim/bert-base-NER\")\n",
        "model = AutoModelForTokenClassification.from_pretrained(\"dslim/bert-base-NER\")\n",
        "\n",
        "nlp = pipeline(\"ner\", model=model, tokenizer=tokenizer)"
      ],
      "metadata": {
        "colab": {
          "base_uri": "https://localhost:8080/",
          "height": 209,
          "referenced_widgets": [
            "9582c0460e974a0ba8906c36590bccf4",
            "7846a81898374287a29e09ddc1056066",
            "cb9f437fe4f04e9091eed4490714d056",
            "139bf0ebd54b4e5787beb63ae8a377cd",
            "3e5d33871f27413fb00c19be82c46f45",
            "b308592425eb4d949615b4e3773b3f5a",
            "e7384e48223843eca5cc2eeae5dea4db",
            "acf480bb3d6a46b485964cd2c72bcffe",
            "06733e4c42ba4f6386f041471923d96c",
            "036557ec66954394ab1ed4e7fcd01707",
            "c6475bd9ed904979ad0653332901fb3f",
            "a645dc88636543b69cf8348bb7c1c89a",
            "c8cfa76397bc4c72a1720cdedbf777f3",
            "eb1b4abfef05426fa2ca075ba3d89450",
            "f7050a0843184286b58384da584353b1",
            "ab717396a83f4f058a94174c10dce4e0",
            "5c831ba1dd4d409c93be1f4d848a5541",
            "a8bcc6e4b3974f639724ace392b7df7a",
            "36df2463bde142a9bd1cd70133698b8b",
            "fb58602ca58146518b6d51263bc6d388",
            "5b5ab16fb0c74ab68b05c2485171ae13",
            "91fcce28f18b4cfeac0e0b0c6aeac0e7",
            "ac4081d0ce13445f81e263512577459c",
            "9b6458f93a244d72a67504d3a41ab5e8",
            "7ef41774a5514b6b9b170696d54af8f3",
            "9d11f9ae1a1d482d9afd0ceacef02cbe",
            "ccdff49dd113424792d574d9427c29f2",
            "516e533e4e4847b1910400e19615699a",
            "a591a2a05a2d440db32ee7c96d7b7c71",
            "871af0d6c6f84de1b65cf72bd04a12a9",
            "3c297a009db24fdeb2ab138309981847",
            "4b77bb43a14e46c3870e5a64635e584f",
            "626ce7b800fa473ab5b687aadfa6d036",
            "ce9e632874974f66b52a5d656ec5f8e6",
            "05a0562ab45c418abde464273e288815",
            "ab03bcca355c43b686ed88b14bcc9172",
            "0d68fef7bcef4089bdb71087c3d99e21",
            "660a04e689ef4d188f73de271b30d681",
            "2a4e11ff098a4d42a227fecd42edadc8",
            "28b3fcdfcd1c4b328cc75df1d19491f8",
            "5b20e68cc3fc4ff5ac875f5b673da509",
            "536ec08e03ff4f7287a8303cbffb99bf",
            "4b3b9c91ef8e45b08c06c3d57763715a",
            "edb91a7df17d4250be252ca45b1a632f",
            "71c991e0b8d34645890d8a8d710ad449",
            "ca3ac32b6d654c4096d84a19ce3e692a",
            "5e31be28e3014c03a671238f4122cda4",
            "4c4af56781fb4819abaf20191827323f",
            "ddbe16271bca4595b774373f38fb31b6",
            "54b43edee3ad4ab1878214d52a1ead08",
            "e1a4b996b1ca4014b0baf7a5b1738f75",
            "51a5e0cc3f8e424da348e0f65148bfbd",
            "76cfca521c064c79aebc03979688a40b",
            "dc3bb1a065da47acaebbd2e9ba55ca17",
            "3735e7dad2384544a1f863ae80c61633",
            "115ad0670fe946af80012e2173b84d8c",
            "faa45738d0834586bd4278e56ca6614c",
            "bc59bb6962c645d7b94e38da0ae3f21e",
            "131ee2b5bc5e4554b3730a126ca36213",
            "95c02e3352374c18871a9cb5d71e8dd8",
            "5c58b81cd61f4b6480816e39aeb383f1",
            "14ae307865f14ccdb1a7026850dc3e0e",
            "9525e0630e034dbbadc5441bc83e4d75",
            "3c52a0c31dc3443db64a581184256b07",
            "b0129128c2d742329affe41bdfb77e37",
            "5c345dfd6d4e4d88b5b6acae2b82eb40"
          ]
        },
        "id": "RPafBJaa20gA",
        "outputId": "e33747e3-a775-4a11-b582-9143963b5502"
      },
      "execution_count": 9,
      "outputs": [
        {
          "output_type": "display_data",
          "data": {
            "text/plain": [
              "Downloading:   0%|          | 0.00/59.0 [00:00<?, ?B/s]"
            ],
            "application/vnd.jupyter.widget-view+json": {
              "version_major": 2,
              "version_minor": 0,
              "model_id": "9582c0460e974a0ba8906c36590bccf4"
            }
          },
          "metadata": {}
        },
        {
          "output_type": "display_data",
          "data": {
            "text/plain": [
              "Downloading:   0%|          | 0.00/829 [00:00<?, ?B/s]"
            ],
            "application/vnd.jupyter.widget-view+json": {
              "version_major": 2,
              "version_minor": 0,
              "model_id": "a645dc88636543b69cf8348bb7c1c89a"
            }
          },
          "metadata": {}
        },
        {
          "output_type": "display_data",
          "data": {
            "text/plain": [
              "Downloading:   0%|          | 0.00/208k [00:00<?, ?B/s]"
            ],
            "application/vnd.jupyter.widget-view+json": {
              "version_major": 2,
              "version_minor": 0,
              "model_id": "ac4081d0ce13445f81e263512577459c"
            }
          },
          "metadata": {}
        },
        {
          "output_type": "display_data",
          "data": {
            "text/plain": [
              "Downloading:   0%|          | 0.00/2.00 [00:00<?, ?B/s]"
            ],
            "application/vnd.jupyter.widget-view+json": {
              "version_major": 2,
              "version_minor": 0,
              "model_id": "ce9e632874974f66b52a5d656ec5f8e6"
            }
          },
          "metadata": {}
        },
        {
          "output_type": "display_data",
          "data": {
            "text/plain": [
              "Downloading:   0%|          | 0.00/112 [00:00<?, ?B/s]"
            ],
            "application/vnd.jupyter.widget-view+json": {
              "version_major": 2,
              "version_minor": 0,
              "model_id": "71c991e0b8d34645890d8a8d710ad449"
            }
          },
          "metadata": {}
        },
        {
          "output_type": "display_data",
          "data": {
            "text/plain": [
              "Downloading:   0%|          | 0.00/413M [00:00<?, ?B/s]"
            ],
            "application/vnd.jupyter.widget-view+json": {
              "version_major": 2,
              "version_minor": 0,
              "model_id": "115ad0670fe946af80012e2173b84d8c"
            }
          },
          "metadata": {}
        }
      ]
    },
    {
      "cell_type": "code",
      "source": [
        "class EntityExtractor : \n",
        "    \"\"\"This class is to extract Entities from a textual content using BERT.\"\"\"\n",
        "    \n",
        "    def __init__(self) -> None:\n",
        "        \"\"\"\n",
        "        constructor method. Config and Logger instances have to be passed on from the caller.\n",
        "        \"\"\"        \n",
        "        self.tokenizer = AutoTokenizer.from_pretrained(\"dslim/bert-base-NER\")\n",
        "        self.model = AutoModelForTokenClassification.from_pretrained(\"dslim/bert-base-NER\")\n",
        "        \n",
        "        self.nlp_pipeline = pipeline(\"ner\", model=self.model, tokenizer=self.tokenizer)\n",
        "        self.confidence_score = 0.7 # 0.7\n",
        "\n",
        "\n",
        "    def get_entities_bert(self, input_content):\n",
        "        \"\"\"\n",
        "        uses BERT to extract the entities from the given input_content.\n",
        "        input_content : a line of string. \n",
        "        \"\"\"\n",
        "        ner_results = self.nlp_pipeline(input_content)\n",
        "\n",
        "        entityList = []\n",
        "        current_token = ''\n",
        "        last_index = 0\n",
        "        last_token_apostrophe = False\n",
        "\n",
        "        #filter entites with less confidence\n",
        "        confidence_score =  0.7 if self.confidence_score == None else self.confidence_score\n",
        "        filtered_results = list(filter(lambda x: x['score'] > confidence_score, ner_results))\n",
        "\n",
        "        for entity in filtered_results: \n",
        "\n",
        "            if entity['word'].startswith('##'): #bert specific prefix\n",
        "                #appending to the last one\n",
        "                current_token += entity['word'][2:]\n",
        "                \n",
        "                existing_entity = entityList[-1]\n",
        "                existing_entity['token'] = current_token\n",
        "                existing_entity['entity'] = entity['entity']\n",
        "                existing_entity['index'] = entity['start']\n",
        "\n",
        "            elif entity['word'] == \"'\": #apostrophe\n",
        "                last_token_apostrophe = True\n",
        "                current_token += entity['word'] \n",
        "                # #appending to last token\n",
        "                existing_entity = entityList[-1]\n",
        "                existing_entity['token'] = current_token\n",
        "                existing_entity['entity'] = entity['entity']\n",
        "                existing_entity['index'] = entity['start']\n",
        "\n",
        "            elif last_token_apostrophe == True:\n",
        "                current_token += entity['word'] \n",
        "                #appending to last token\n",
        "                existing_entity = entityList[-1]\n",
        "                existing_entity['token'] = current_token\n",
        "                existing_entity['entity'] = entity['entity']\n",
        "                existing_entity['index'] = entity['start']\n",
        "                last_token_apostrophe = False\n",
        "\n",
        "            elif ((entity['index'] - last_index) <= 1 and (last_index != 0)):\n",
        "                current_token += ' '+ entity['word']  \n",
        "                #appending to last token\n",
        "                existing_entity = entityList[-1]\n",
        "                existing_entity['token'] = current_token\n",
        "                existing_entity['entity'] = entity['entity']\n",
        "                existing_entity['index'] = entity['start']\n",
        "\n",
        "            else:\n",
        "                current_token = entity['word']\n",
        "                entityList.append({ 'token' : current_token, 'entity' : entity['entity'], 'index': entity['start'], 'startIndex': entity['start'] })\n",
        "\n",
        "            last_index = entity['index']  \n",
        "            \n",
        "        filter_one_letter_tokens = filter(lambda x: len(x['token']) > 1, entityList)\n",
        "\n",
        "        return list(filter_one_letter_tokens)\n"
      ],
      "metadata": {
        "id": "ASPQBfdd26i4"
      },
      "execution_count": 10,
      "outputs": []
    },
    {
      "cell_type": "code",
      "source": [
        "entity_extractor = EntityExtractor()"
      ],
      "metadata": {
        "id": "2NYuBBM33nNm"
      },
      "execution_count": 11,
      "outputs": []
    },
    {
      "cell_type": "code",
      "source": [
        "question_content = \"who all bought Microsoft\" + \" \" + \"who all bought Microsoft\" + \" \" + \"who all bought Microsoft\"\n",
        "entities = entity_extractor.get_entities_bert(question_content)\n",
        "print(entities)"
      ],
      "metadata": {
        "colab": {
          "base_uri": "https://localhost:8080/"
        },
        "id": "_cR75ts--cax",
        "outputId": "cdc74253-068a-44fe-9b7d-771fad7f96f8"
      },
      "execution_count": 12,
      "outputs": [
        {
          "output_type": "stream",
          "name": "stdout",
          "text": [
            "[{'token': 'Microsoft', 'entity': 'B-ORG', 'index': 15, 'startIndex': 15}, {'token': 'Microsoft', 'entity': 'B-ORG', 'index': 40, 'startIndex': 40}, {'token': 'Microsoft', 'entity': 'B-ORG', 'index': 65, 'startIndex': 65}]\n"
          ]
        }
      ]
    },
    {
      "cell_type": "code",
      "source": [
        "#question_content = question + \" \" + question + \" \" + question\n",
        "question_content = \"who all bought Microsoft\" + \" \" + \"who all bought Amazon\" + \" \" + \"who all bought Facebook when William Gates and Warren Buffett was in New York and Tokyo\"\n",
        "entities = entity_extractor.get_entities_bert(question_content)\n",
        "\n",
        "params_dict = {}\n",
        "\n",
        "orgs_count = 0\n",
        "objs_count = 0\n",
        "locs_count = 0\n",
        "pers_count = 0\n",
        "\n",
        "organization_suffix = 'ORGANIZATION'\n",
        "object_suffix = 'OBJECT'\n",
        "person_suffix = 'PERSON'\n",
        "location_suffix = 'LOCATION'\n",
        "\n",
        "for entity in entities:\n",
        "  entity_type = entity['entity']\n",
        "  if entity_type == 'I-ORG' or entity_type == 'B-ORG':\n",
        "    orgs_count += 1\n",
        "  elif entity_type == 'I-PER' or entity_type == 'B-PER':\n",
        "    pers_count += 1\n",
        "  elif entity_type == 'I-LOC' or entity_type == 'B-LOC':\n",
        "    locs_count += 1\n",
        "  elif entity_type == 'I-MISC' or entity_type == 'B-MISC':\n",
        "    objs_count += 1\n",
        "\n",
        "org_index = 0\n",
        "loc_index = 0\n",
        "pers_index = 0\n",
        "\n",
        "index_offset = 0\n",
        "\n",
        "for entity in entities:\n",
        "  entity_type = entity['entity']\n",
        "  replace_token = ''\n",
        "  if entity_type == 'I-ORG' or entity_type == 'B-ORG':\n",
        "    if orgs_count > 1:\n",
        "      org_index += 1\n",
        "      replace_token = str.format(\"{{{} {}}}\", organization_suffix, org_index)\n",
        "    else:\n",
        "      replace_token = str.format(\"{{{}}}\", organization_suffix)\n",
        "\n",
        "  elif entity_type == 'I-PER' or entity_type == 'B-PER':\n",
        "    if pers_count > 1:\n",
        "      pers_index += 1\n",
        "      replace_token = str.format(\"{{{} {}}}\", person_suffix, pers_index)\n",
        "    else:\n",
        "      replace_token = str.format(\"{{{}}}\", person_suffix)\n",
        "\n",
        "  elif entity_type == 'I-LOC' or entity_type == 'B-LOC':\n",
        "    if locs_count > 1:\n",
        "      loc_index += 1\n",
        "      replace_token = str.format(\"{{{} {}}}\", location_suffix, loc_index)\n",
        "    else:\n",
        "      replace_token = str.format(\"{{{}}}\", location_suffix)\n",
        "\n",
        "  start_index = entity['startIndex'] - index_offset\n",
        "  end_index = entity['startIndex'] - index_offset + len(entity['token'])\n",
        "  question_content = question_content[:start_index] + replace_token + question_content[end_index:]\n",
        "  index_offset = index_offset + (len(entity['token']) - len(replace_token))\n",
        "  params_dict[replace_token] = entity['token']\n",
        "    \n",
        "\n",
        "print(question_content)"
      ],
      "metadata": {
        "colab": {
          "base_uri": "https://localhost:8080/"
        },
        "id": "iDoadqZ03qbe",
        "outputId": "57874259-4cb7-4088-8b7c-a72b3e02d5a7"
      },
      "execution_count": 13,
      "outputs": [
        {
          "output_type": "stream",
          "name": "stdout",
          "text": [
            "who all bought {ORGANIZATION 1} who all bought {ORGANIZATION 2} who all bought {ORGANIZATION 3} when {PERSON 1} and {PERSON 2} was in {LOCATION 1} and {LOCATION 2}\n"
          ]
        }
      ]
    },
    {
      "cell_type": "code",
      "source": [
        "params_dict"
      ],
      "metadata": {
        "colab": {
          "base_uri": "https://localhost:8080/"
        },
        "id": "qAEEQ1Vx3xMC",
        "outputId": "4cafc8c7-83fd-4c1f-c18d-bb0c2398444d"
      },
      "execution_count": 14,
      "outputs": [
        {
          "output_type": "execute_result",
          "data": {
            "text/plain": [
              "{'{LOCATION 1}': 'New York',\n",
              " '{LOCATION 2}': 'Tokyo',\n",
              " '{ORGANIZATION 1}': 'Microsoft',\n",
              " '{ORGANIZATION 2}': 'Amazon',\n",
              " '{ORGANIZATION 3}': 'Facebook',\n",
              " '{PERSON 1}': 'William Gates',\n",
              " '{PERSON 2}': 'Warren Buffett'}"
            ]
          },
          "metadata": {},
          "execution_count": 14
        }
      ]
    },
    {
      "cell_type": "code",
      "source": [
        "def get_pos_sentence(input_content):\n",
        "    \"\"\"\n",
        "    returns the POS tags of a given sentence.\n",
        "    output format: objects of {'token' : '', 'pos' : '', 'lemma': ''', 'index': 0}\n",
        "    \"\"\"\n",
        "    posList = []\n",
        "\n",
        "    nlp_doc = nlp_pipeline(input_content)\n",
        "    for token in nlp_doc: \n",
        "        posList.append({ 'token' : token.text, 'pos' : token.pos_, 'lemma': token.lemma_, 'index': token.idx })\n",
        "    return posList"
      ],
      "metadata": {
        "id": "KBgVpiYF9TYS"
      },
      "execution_count": 15,
      "outputs": []
    },
    {
      "cell_type": "code",
      "source": [
        "question_content1 = 'who all bought {ORGANIZATION 1} who all {ORGANIZATION 2} who all {ORGANIZATION 3} when {PERSON 1} and {PERSON 2} was in {LOCATION 1} and {LOCATION 2}'#question_content\n",
        "pos_tokens = get_pos_sentence(question_content1)"
      ],
      "metadata": {
        "id": "2T6vugdZAEuf"
      },
      "execution_count": 16,
      "outputs": []
    },
    {
      "cell_type": "code",
      "source": [
        "print(pos_tokens)"
      ],
      "metadata": {
        "colab": {
          "base_uri": "https://localhost:8080/"
        },
        "id": "SrHlC7crB3Is",
        "outputId": "ac067826-fc77-4486-c259-e9fb1149718f"
      },
      "execution_count": 17,
      "outputs": [
        {
          "output_type": "stream",
          "name": "stdout",
          "text": [
            "[{'token': 'who', 'pos': 'PRON', 'lemma': 'who', 'index': 0}, {'token': 'all', 'pos': 'DET', 'lemma': 'all', 'index': 4}, {'token': 'bought', 'pos': 'VERB', 'lemma': 'buy', 'index': 8}, {'token': '{', 'pos': 'PUNCT', 'lemma': '{', 'index': 15}, {'token': 'ORGANIZATION', 'pos': 'PROPN', 'lemma': 'ORGANIZATION', 'index': 16}, {'token': '1', 'pos': 'NUM', 'lemma': '1', 'index': 29}, {'token': '}', 'pos': 'PUNCT', 'lemma': '}', 'index': 30}, {'token': 'who', 'pos': 'PRON', 'lemma': 'who', 'index': 32}, {'token': 'all', 'pos': 'DET', 'lemma': 'all', 'index': 36}, {'token': '{', 'pos': 'PUNCT', 'lemma': '{', 'index': 40}, {'token': 'ORGANIZATION', 'pos': 'PROPN', 'lemma': 'ORGANIZATION', 'index': 41}, {'token': '2', 'pos': 'NUM', 'lemma': '2', 'index': 54}, {'token': '}', 'pos': 'PUNCT', 'lemma': '}', 'index': 55}, {'token': 'who', 'pos': 'PRON', 'lemma': 'who', 'index': 57}, {'token': 'all', 'pos': 'DET', 'lemma': 'all', 'index': 61}, {'token': '{', 'pos': 'PUNCT', 'lemma': '{', 'index': 65}, {'token': 'ORGANIZATION', 'pos': 'PROPN', 'lemma': 'ORGANIZATION', 'index': 66}, {'token': '3', 'pos': 'NUM', 'lemma': '3', 'index': 79}, {'token': '}', 'pos': 'PUNCT', 'lemma': '}', 'index': 80}, {'token': 'when', 'pos': 'ADV', 'lemma': 'when', 'index': 82}, {'token': '{', 'pos': 'PUNCT', 'lemma': '{', 'index': 87}, {'token': 'PERSON', 'pos': 'NOUN', 'lemma': 'person', 'index': 88}, {'token': '1', 'pos': 'NUM', 'lemma': '1', 'index': 95}, {'token': '}', 'pos': 'PUNCT', 'lemma': '}', 'index': 96}, {'token': 'and', 'pos': 'CCONJ', 'lemma': 'and', 'index': 98}, {'token': '{', 'pos': 'PUNCT', 'lemma': '{', 'index': 102}, {'token': 'PERSON', 'pos': 'NOUN', 'lemma': 'person', 'index': 103}, {'token': '2', 'pos': 'NUM', 'lemma': '2', 'index': 110}, {'token': '}', 'pos': 'PUNCT', 'lemma': '}', 'index': 111}, {'token': 'was', 'pos': 'AUX', 'lemma': 'be', 'index': 113}, {'token': 'in', 'pos': 'ADP', 'lemma': 'in', 'index': 117}, {'token': '{', 'pos': 'PUNCT', 'lemma': '{', 'index': 120}, {'token': 'LOCATION', 'pos': 'PROPN', 'lemma': 'LOCATION', 'index': 121}, {'token': '1', 'pos': 'NUM', 'lemma': '1', 'index': 130}, {'token': '}', 'pos': 'PUNCT', 'lemma': '}', 'index': 131}, {'token': 'and', 'pos': 'CCONJ', 'lemma': 'and', 'index': 133}, {'token': '{', 'pos': 'PUNCT', 'lemma': '{', 'index': 137}, {'token': 'LOCATION', 'pos': 'NOUN', 'lemma': 'location', 'index': 138}, {'token': '2', 'pos': 'NUM', 'lemma': '2', 'index': 147}, {'token': '}', 'pos': 'PUNCT', 'lemma': '}', 'index': 148}]\n"
          ]
        }
      ]
    },
    {
      "cell_type": "code",
      "source": [
        "verbs_count = 0\n",
        "verb_suffix = 'VERB'\n",
        "verb_index = 0\n",
        "\n",
        "index_offset = 0\n",
        "\n",
        "for pos in pos_tokens:\n",
        "  if pos['pos'] == 'VERB':\n",
        "    verbs_count += 1\n",
        "\n",
        "for pos in pos_tokens:\n",
        "  replace_token = ''\n",
        "  if pos['pos'] == 'VERB':\n",
        "    if verbs_count > 1:\n",
        "      verb_index += 1\n",
        "      replace_token = str.format(\"{{{} {}}}\", verb_suffix, verb_index)\n",
        "    else:\n",
        "      replace_token = str.format(\"{{{}}}\", verb_suffix)\n",
        "\n",
        "    start_index = pos['index'] - index_offset\n",
        "    end_index = pos['index'] - index_offset + len(pos['token'])\n",
        "    question_content1 = question_content1[:start_index] + replace_token + question_content1[end_index:]\n",
        "    index_offset = index_offset + (len(pos['token']) - len(replace_token))\n",
        "    params_dict[replace_token] = pos['lemma'] # this is important --> lemma"
      ],
      "metadata": {
        "id": "vfd2kSWwB5Xk"
      },
      "execution_count": 18,
      "outputs": []
    },
    {
      "cell_type": "code",
      "source": [
        "print(question_content1)"
      ],
      "metadata": {
        "colab": {
          "base_uri": "https://localhost:8080/"
        },
        "id": "jSBxa8v2FdRh",
        "outputId": "c177c3f2-fe62-4bd7-a636-e07dd6628e55"
      },
      "execution_count": 19,
      "outputs": [
        {
          "output_type": "stream",
          "name": "stdout",
          "text": [
            "who all {VERB} {ORGANIZATION 1} who all {ORGANIZATION 2} who all {ORGANIZATION 3} when {PERSON 1} and {PERSON 2} was in {LOCATION 1} and {LOCATION 2}\n"
          ]
        }
      ]
    },
    {
      "cell_type": "code",
      "source": [
        "params_dict"
      ],
      "metadata": {
        "colab": {
          "base_uri": "https://localhost:8080/"
        },
        "id": "i0kkfKC2Fgsm",
        "outputId": "c84a2a63-d4fe-4077-ce70-0eaef92ca671"
      },
      "execution_count": 20,
      "outputs": [
        {
          "output_type": "execute_result",
          "data": {
            "text/plain": [
              "{'{LOCATION 1}': 'New York',\n",
              " '{LOCATION 2}': 'Tokyo',\n",
              " '{ORGANIZATION 1}': 'Microsoft',\n",
              " '{ORGANIZATION 2}': 'Amazon',\n",
              " '{ORGANIZATION 3}': 'Facebook',\n",
              " '{PERSON 1}': 'William Gates',\n",
              " '{PERSON 2}': 'Warren Buffett',\n",
              " '{VERB}': 'buy'}"
            ]
          },
          "metadata": {},
          "execution_count": 20
        }
      ]
    },
    {
      "cell_type": "code",
      "source": [
        "question_content2 = 'who all {VERB} {ORGANIZATION 1} who all {ORGANIZATION 2} who all {ORGANIZATION 3} when {PERSON 1} and {PERSON 2} was in {LOCATION 1} and {LOCATION 2} in the year 2009 and the year 2022 and 2033 between the date 2022-11-11 and 2005-11-10' #question_content\n"
      ],
      "metadata": {
        "id": "u4mYcmbbHKAX"
      },
      "execution_count": 21,
      "outputs": []
    },
    {
      "cell_type": "code",
      "source": [
        "year_regex = \"(?:before)?(?:after)?(?:in)?(?:between)?(?:Year)?(?:YEAR)?(?:year)?(?:s)?\\d\\d\\d\\d\\s\"\n",
        "date_regex = \"\\d\\d\\d\\d[/-]\\d\\d[/-]\\d\\d\""
      ],
      "metadata": {
        "id": "y2qE60ZmHytK"
      },
      "execution_count": 22,
      "outputs": []
    },
    {
      "cell_type": "code",
      "source": [
        "import re "
      ],
      "metadata": {
        "id": "E3PKhluFICam"
      },
      "execution_count": 23,
      "outputs": []
    },
    {
      "cell_type": "code",
      "source": [
        "date_matches = re.split(date_regex, question_content2)\n",
        "date_values = re.findall(date_regex, question_content2)\n",
        "print(date_matches)\n",
        "print(date_values)"
      ],
      "metadata": {
        "colab": {
          "base_uri": "https://localhost:8080/"
        },
        "id": "h7WLpVQMIEz6",
        "outputId": "c04daa0e-168c-4136-ca88-f6b3f80bbd8b"
      },
      "execution_count": 24,
      "outputs": [
        {
          "output_type": "stream",
          "name": "stdout",
          "text": [
            "['who all {VERB} {ORGANIZATION 1} who all {ORGANIZATION 2} who all {ORGANIZATION 3} when {PERSON 1} and {PERSON 2} was in {LOCATION 1} and {LOCATION 2} in the year 2009 and the year 2022 and 2033 between the date ', ' and ', '']\n",
            "['2022-11-11', '2005-11-10']\n"
          ]
        }
      ]
    },
    {
      "cell_type": "code",
      "source": [
        "question_content4 = date_matches[0]\n",
        "date_index = 0\n",
        "date_count = len(date_values)\n",
        "date_suffix = 'DATE'\n",
        "\n",
        "for index in range(len(date_matches) -1):\n",
        "  replace_token = ''\n",
        "  if date_count > 1:\n",
        "    date_index += 1\n",
        "    replace_token = str.format(\"{{{} {}}}\", date_suffix, date_index)\n",
        "  else:\n",
        "    replace_token = str.format(\"{{{}}}\", date_suffix)\n",
        "\n",
        "  question_content4 +=  replace_token + date_matches[index+1]\n",
        "  if index == len(date_matches) -1:\n",
        "    break\n",
        "  params_dict[replace_token] = date_values[index]\n",
        "  "
      ],
      "metadata": {
        "id": "qjmjmtfdIVSP"
      },
      "execution_count": 25,
      "outputs": []
    },
    {
      "cell_type": "code",
      "source": [
        "question_content4"
      ],
      "metadata": {
        "colab": {
          "base_uri": "https://localhost:8080/",
          "height": 53
        },
        "id": "Sxc2p8E0LusE",
        "outputId": "3f109852-670e-4680-c737-a664cb9f68da"
      },
      "execution_count": 26,
      "outputs": [
        {
          "output_type": "execute_result",
          "data": {
            "text/plain": [
              "'who all {VERB} {ORGANIZATION 1} who all {ORGANIZATION 2} who all {ORGANIZATION 3} when {PERSON 1} and {PERSON 2} was in {LOCATION 1} and {LOCATION 2} in the year 2009 and the year 2022 and 2033 between the date {DATE 1} and {DATE 2}'"
            ],
            "application/vnd.google.colaboratory.intrinsic+json": {
              "type": "string"
            }
          },
          "metadata": {},
          "execution_count": 26
        }
      ]
    },
    {
      "cell_type": "code",
      "source": [
        "params_dict"
      ],
      "metadata": {
        "colab": {
          "base_uri": "https://localhost:8080/"
        },
        "id": "bmptmtSPMEq2",
        "outputId": "c6d0574d-4174-40ec-b460-c907aa9f16c6"
      },
      "execution_count": 27,
      "outputs": [
        {
          "output_type": "execute_result",
          "data": {
            "text/plain": [
              "{'{DATE 1}': '2022-11-11',\n",
              " '{DATE 2}': '2005-11-10',\n",
              " '{LOCATION 1}': 'New York',\n",
              " '{LOCATION 2}': 'Tokyo',\n",
              " '{ORGANIZATION 1}': 'Microsoft',\n",
              " '{ORGANIZATION 2}': 'Amazon',\n",
              " '{ORGANIZATION 3}': 'Facebook',\n",
              " '{PERSON 1}': 'William Gates',\n",
              " '{PERSON 2}': 'Warren Buffett',\n",
              " '{VERB}': 'buy'}"
            ]
          },
          "metadata": {},
          "execution_count": 27
        }
      ]
    },
    {
      "cell_type": "code",
      "source": [
        "year_matches = re.split(year_regex, question_content4)\n",
        "year_values = re.findall(year_regex, question_content4)\n",
        "print(year_matches)\n",
        "print(year_values)\n",
        "print(len(year_matches))"
      ],
      "metadata": {
        "colab": {
          "base_uri": "https://localhost:8080/"
        },
        "id": "GyQpwM3AMbAf",
        "outputId": "410dd2ce-8a46-48f3-9ce4-a100b9476b37"
      },
      "execution_count": 28,
      "outputs": [
        {
          "output_type": "stream",
          "name": "stdout",
          "text": [
            "['who all {VERB} {ORGANIZATION 1} who all {ORGANIZATION 2} who all {ORGANIZATION 3} when {PERSON 1} and {PERSON 2} was in {LOCATION 1} and {LOCATION 2} in the year ', 'and the year ', 'and ', 'between the date {DATE 1} and {DATE 2}']\n",
            "['2009 ', '2022 ', '2033 ']\n",
            "4\n"
          ]
        }
      ]
    },
    {
      "cell_type": "code",
      "source": [
        "question_content5 = year_matches[0]\n",
        "year_index = 0\n",
        "year_count = len(year_values)\n",
        "year_suffix = 'YEAR'\n",
        "\n",
        "for index in range(len(year_matches) -1):\n",
        "  replace_token = ''\n",
        "  if year_count > 1:\n",
        "    year_index += 1\n",
        "    replace_token = str.format(\"{{{} {}}}\", year_suffix, year_index)\n",
        "  else:\n",
        "    replace_token = str.format(\"{{{}}}\", year_suffix)\n",
        "\n",
        "  next_match_string = year_matches[index+1] if year_matches[index+1].startswith(' ') else ' ' + year_matches[index+1]\n",
        "  question_content5 +=  replace_token + next_match_string\n",
        "  if index == len(year_matches) -1:\n",
        "    break\n",
        "  params_dict[replace_token] = str.strip(year_values[index])"
      ],
      "metadata": {
        "id": "bDlqF3dkMncv"
      },
      "execution_count": 29,
      "outputs": []
    },
    {
      "cell_type": "code",
      "source": [
        "question_content5"
      ],
      "metadata": {
        "colab": {
          "base_uri": "https://localhost:8080/",
          "height": 53
        },
        "id": "WR-Xz13hRGNW",
        "outputId": "1d060329-f0d9-4f14-bec5-1dd208909b84"
      },
      "execution_count": 30,
      "outputs": [
        {
          "output_type": "execute_result",
          "data": {
            "text/plain": [
              "'who all {VERB} {ORGANIZATION 1} who all {ORGANIZATION 2} who all {ORGANIZATION 3} when {PERSON 1} and {PERSON 2} was in {LOCATION 1} and {LOCATION 2} in the year {YEAR 1} and the year {YEAR 2} and {YEAR 3} between the date {DATE 1} and {DATE 2}'"
            ],
            "application/vnd.google.colaboratory.intrinsic+json": {
              "type": "string"
            }
          },
          "metadata": {},
          "execution_count": 30
        }
      ]
    },
    {
      "cell_type": "code",
      "source": [
        "params_dict"
      ],
      "metadata": {
        "colab": {
          "base_uri": "https://localhost:8080/"
        },
        "id": "UDq5ubQQRHVY",
        "outputId": "af6eeee3-5f4e-4ff6-872e-bf7d813f6339"
      },
      "execution_count": 31,
      "outputs": [
        {
          "output_type": "execute_result",
          "data": {
            "text/plain": [
              "{'{DATE 1}': '2022-11-11',\n",
              " '{DATE 2}': '2005-11-10',\n",
              " '{LOCATION 1}': 'New York',\n",
              " '{LOCATION 2}': 'Tokyo',\n",
              " '{ORGANIZATION 1}': 'Microsoft',\n",
              " '{ORGANIZATION 2}': 'Amazon',\n",
              " '{ORGANIZATION 3}': 'Facebook',\n",
              " '{PERSON 1}': 'William Gates',\n",
              " '{PERSON 2}': 'Warren Buffett',\n",
              " '{VERB}': 'buy',\n",
              " '{YEAR 1}': '2009',\n",
              " '{YEAR 2}': '2022',\n",
              " '{YEAR 3}': '2033'}"
            ]
          },
          "metadata": {},
          "execution_count": 31
        }
      ]
    },
    {
      "cell_type": "code",
      "source": [
        "intermediary_language = 'VERTEX Person | CONDITION name = {PERSON} | EDGE any | CONDITION year >= {YEAR 1} AND year <= {YEAR 2} | VERTEX any'"
      ],
      "metadata": {
        "id": "IlxDonPDRYKC"
      },
      "execution_count": 32,
      "outputs": []
    },
    {
      "cell_type": "code",
      "source": [
        "il_tokens = intermediary_language.split('|')\n",
        "print(il_tokens)"
      ],
      "metadata": {
        "colab": {
          "base_uri": "https://localhost:8080/"
        },
        "id": "ZcbmuBu0lbwT",
        "outputId": "99954e5e-76b0-40ad-a75c-a2c23c434b31"
      },
      "execution_count": 33,
      "outputs": [
        {
          "output_type": "stream",
          "name": "stdout",
          "text": [
            "['VERTEX Person ', ' CONDITION name = {PERSON} ', ' EDGE any ', ' CONDITION year >= {YEAR 1} AND year <= {YEAR 2} ', ' VERTEX any']\n"
          ]
        }
      ]
    },
    {
      "cell_type": "code",
      "source": [
        "general_format_gsql = '''\n",
        "INTERPRET QUERY () FOR GRAPH {{GRAPH_NAME}} { \n",
        "  ListAccum <EDGE> @@edgeList;\n",
        "  seed =  SELECT p FROM Person:p WHERE p.name==\"Warren Buffett\";\n",
        "  targets = SELECT tgt\n",
        "            FROM seed:s-(:e)-:tgt\n",
        "            WHERE e.year >= 2018 AND e.year <= 2020\n",
        "            ACCUM @@edgeList += e;\n",
        "  PRINT @@edgeList;\n",
        "  PRINT targets;\n",
        "  }\n",
        "'''"
      ],
      "metadata": {
        "id": "wCwERS9Pl7U8"
      },
      "execution_count": 34,
      "outputs": []
    },
    {
      "cell_type": "code",
      "source": [
        "general_format_2 = '''\n",
        "INTERPRET QUERY () FOR GRAPH athenagraph1304 { \n",
        "  ListAccum <EDGE> @@edges;\n",
        "  t1 = SELECT tgt\n",
        "            FROM :s-(r_buy:e)-:tgt\n",
        "            WHERE e.year >= 2014 AND e.year <= 2020 AND s.name like \"%Warren Buffett%\"\n",
        "            ACCUM @@edges += e;\n",
        "  PRINT @@edges;\n",
        "  PRINT t1;\n",
        "  }'''"
      ],
      "metadata": {
        "id": "vOF4LNcB1Ua5"
      },
      "execution_count": 35,
      "outputs": []
    },
    {
      "cell_type": "code",
      "source": [
        "intermediary_language1 = 'VERTEX any | CONDITION any | EDGE {VERB} | CONDITION any | VERTEX Organization | CONDITION name = {ORGANIZATION}'"
      ],
      "metadata": {
        "id": "AHve_eO0u5IJ"
      },
      "execution_count": 36,
      "outputs": []
    },
    {
      "cell_type": "code",
      "source": [
        "SELECT_FORMAT_DEGREE1 = \"\"\"\n",
        "INTERPRET QUERY () FOR GRAPH {} {{\n",
        "ListAccum <EDGE> @@edges;\n",
        "t1 = {} \n",
        "    ACCUM @@edges += {};\n",
        "PRINT @@edges;\n",
        "PRINT t1;\n",
        "}}\n",
        "\"\"\""
      ],
      "metadata": {
        "id": "F6V_xeCMoZ0Q"
      },
      "execution_count": 100,
      "outputs": []
    },
    {
      "cell_type": "code",
      "source": [
        "SELECT_COUNT_FORMAT_DEGREE1 = \"\"\"\n",
        "INTERPRET QUERY () FOR GRAPH {} {{\n",
        "SumAccum <EDGE> @@edges;\n",
        "t1 = {} \n",
        "    ACCUM @@edges += 1;\n",
        "PRINT @@edges;\n",
        "PRINT t1;\n",
        "}}\n",
        "\"\"\""
      ],
      "metadata": {
        "id": "mfzscv7oKIMr"
      },
      "execution_count": 99,
      "outputs": []
    },
    {
      "cell_type": "code",
      "source": [
        "SELECT_FORMAT_DEGREE2 = \"\"\"\n",
        "INTERPRET QUERY () FOR GRAPH {} {{\n",
        "ListAccum <EDGE> @@edges;\n",
        "t1 = {}\n",
        "t2 = {}\n",
        "    ACCUM @@edges += {};\n",
        "PRINT @@edges;\n",
        "PRINT t2;\n",
        "}}\n",
        "\"\"\""
      ],
      "metadata": {
        "id": "WsTK-9F4pfAS"
      },
      "execution_count": 101,
      "outputs": []
    },
    {
      "cell_type": "code",
      "source": [
        "SELECT_COUNT_FORMAT_DEGREE2 = \"\"\"\n",
        "INTERPRET QUERY () FOR GRAPH {} {{\n",
        "SumAccum <EDGE> @@edges;\n",
        "t1 = {}\n",
        "t2 = {}\n",
        "    ACCUM @@edges += 1;\n",
        "PRINT @@edges;\n",
        "PRINT t2;\n",
        "}}\n",
        "\"\"\""
      ],
      "metadata": {
        "id": "lqQKqr6zKNYW"
      },
      "execution_count": 102,
      "outputs": []
    },
    {
      "cell_type": "code",
      "source": [
        "SELECT_FORMAT_DEGREE3 = \"\"\"\n",
        "INTERPRET QUERY () FOR GRAPH {} {{\n",
        "ListAccum <EDGE> @@edges;\n",
        "t1 = {}\n",
        "t2 = {}\n",
        "t3 = {}\n",
        "    ACCUM @@edges += {};\n",
        "PRINT @@edges;\n",
        "PRINT t3;\n",
        "}}\n",
        "\"\"\""
      ],
      "metadata": {
        "id": "cF19rCC9qCG_"
      },
      "execution_count": 103,
      "outputs": []
    },
    {
      "cell_type": "code",
      "source": [
        "SELECT_COUNT_FORMAT_DEGREE3 = \"\"\"\n",
        "INTERPRET QUERY () FOR GRAPH {} {{\n",
        "SumAccum <EDGE> @@edges;\n",
        "t1 = {}\n",
        "t2 = {}\n",
        "t3 = {}\n",
        "    ACCUM @@edges += 1;\n",
        "PRINT @@edges;\n",
        "PRINT t3;\n",
        "}}\n",
        "\"\"\""
      ],
      "metadata": {
        "id": "kvrmcNf2KS4u"
      },
      "execution_count": 104,
      "outputs": []
    },
    {
      "cell_type": "code",
      "source": [
        "SELECT_FORMAT_BASIC = \"\"\"\n",
        " SELECT {} FROM {} \n",
        "\"\"\"\n",
        "\n",
        "WHERE_FORMAT_BASIC = \"\"\"\n",
        " WHERE {} \n",
        "\"\"\""
      ],
      "metadata": {
        "id": "7dif126btOKk"
      },
      "execution_count": 86,
      "outputs": []
    },
    {
      "cell_type": "code",
      "source": [
        ""
      ],
      "metadata": {
        "id": "GZBIpIu22WEj"
      },
      "execution_count": null,
      "outputs": []
    },
    {
      "cell_type": "code",
      "source": [
        "def generate_gsql_from_intermediate_language(il):\n",
        "  il_tokens = il.split('|')\n",
        "\n",
        "  conditions_stack = []\n",
        "  units_stack = []\n",
        "\n",
        "  for il_token in il_tokens:\n",
        "    il_token = str.strip(il_token)\n",
        "    if il_token.startswith('CONDITION'):\n",
        "      conditions_stack.append(il_token)\n",
        "    else:\n",
        "      units_stack.append(il_token)\n",
        "\n",
        "  item_index = 0\n",
        "\n",
        "  staged_units = {} # has the subsets that are processed already (ex., first hop)\n",
        "  current_units = [] # has the units that are being processed currently, will get reset.\n",
        "  current_format = []\n",
        "  units_aliases = []\n",
        "  final_edge_alias = ''\n",
        "\n",
        "  subset_index = 0\n",
        "\n",
        "  for index in range(len(units_stack)):\n",
        "    unit_token = units_stack[index]\n",
        "    condition_token = conditions_stack[index]\n",
        "\n",
        "    if unit_token.startswith('VERTEX'):\n",
        "      vertex_token = VertexToken(unit_token, condition_token, item_index)\n",
        "      output_str, condition_str, item_alias = vertex_token.get_string()\n",
        "      current_format.append('V')\n",
        "      current_units.append((output_str, condition_str)) #tuple\n",
        "      units_aliases.append(item_alias)\n",
        "    elif unit_token.startswith('EDGE'):\n",
        "      edge_token = EdgeToken(unit_token, condition_token, item_index)\n",
        "      output_str, condition_str, item_alias = edge_token.get_string()\n",
        "      current_format.append('E')\n",
        "      current_units.append((output_str, condition_str)) #tuple\n",
        "      units_aliases.append(item_alias)\n",
        "      final_edge_alias = item_alias\n",
        "\n",
        "    if \"\".join(current_format) == 'VEV':\n",
        "      #process here\n",
        "      select_str = \"-\".join([unit[0] for unit in current_units])\n",
        "      where_str = \" AND \".join([unit[1] for unit in current_units if str.strip(unit[1]) != ''])\n",
        "\n",
        "      select_str_full = str.format(SELECT_FORMAT_BASIC, units_aliases[0], select_str)\n",
        "      where_str_full = str.format(WHERE_FORMAT_BASIC, where_str)\n",
        "\n",
        "      select_str_full = select_str_full + (' ' + where_str_full if str.strip(where_str) != '' else '')\n",
        "\n",
        "      subset_index +=1\n",
        "\n",
        "      staged_units[\"t\"+str(subset_index)] = select_str_full\n",
        "      current_format = ['S']\n",
        "      current_units = []\n",
        "\n",
        "    elif \"\".join(current_format) == 'SEV':\n",
        "      #process here\n",
        "      select_str = \"-\".join([unit[0] for unit in current_units])\n",
        "      where_str = \" AND \".join([unit[1] for unit in current_units if str.strip(unit[1]) != ''])\n",
        "\n",
        "      #select_str = \"t\"+str(subset_index) + \"-\" + select_str \n",
        "      subset_alias = str.format(\"s_t{}\", str(subset_index))\n",
        "      select_str = str.format(\"t{}:{}-{}\",str(subset_index), subset_alias, select_str) #including the previous subset along with the newly processed nodes\n",
        "\n",
        "      select_str_full = str.format(SELECT_FORMAT_BASIC, subset_alias, select_str)\n",
        "      where_str_full = str.format(WHERE_FORMAT_BASIC, where_str)\n",
        "\n",
        "      select_str_full = select_str_full + (' ' + where_str_full if str.strip(where_str) != '' else '')\n",
        "\n",
        "      subset_index +=1\n",
        "\n",
        "      staged_units[\"t\"+str(subset_index)] = select_str_full\n",
        "      current_format = ['S']\n",
        "      current_units = []\n",
        "\n",
        "    item_index += 1\n",
        "  \n",
        "  return staged_units, final_edge_alias\n",
        "\n",
        "\n",
        "\n"
      ],
      "metadata": {
        "id": "WofQPqepwDJS"
      },
      "execution_count": 111,
      "outputs": []
    },
    {
      "cell_type": "code",
      "source": [
        "generate_gsql_from_intermediate_language('VERTEX Person | CONDITION name = {PERSON} | EDGE any | CONDITION year >= {YEAR1} AND year <= {YEAR2} | VERTEX any | CONDITION any')"
      ],
      "metadata": {
        "colab": {
          "base_uri": "https://localhost:8080/"
        },
        "id": "XG_4HUnCxRlI",
        "outputId": "02bb2263-d263-44f5-e729-861677bd8a12"
      },
      "execution_count": 112,
      "outputs": [
        {
          "output_type": "execute_result",
          "data": {
            "text/plain": [
              "({'t1': '\\n SELECT v0 FROM Person:v0-(:e1)-:v2 \\n \\n WHERE (v0.name == {PERSON}) AND (e1.year >= {YEAR1} AND e1.year <= {YEAR2}) \\n'},\n",
              " 'e1')"
            ]
          },
          "metadata": {},
          "execution_count": 112
        }
      ]
    },
    {
      "cell_type": "code",
      "source": [
        "generate_gsql_from_intermediate_language('VERTEX any | CONDITION any | EDGE {VERB1} | CONDITION any | VERTEX Organization | CONDITION any | EDGE {VERB2} |CONDITION any | VERTEX Organization | CONDITION name = {ORGANIZATION}')"
      ],
      "metadata": {
        "colab": {
          "base_uri": "https://localhost:8080/"
        },
        "id": "MPz-rJLbKbJS",
        "outputId": "e15d9ddc-0e42-454b-e16e-6020497cfb26"
      },
      "execution_count": 113,
      "outputs": [
        {
          "output_type": "execute_result",
          "data": {
            "text/plain": [
              "({'t1': '\\n SELECT v0 FROM :v0-({VERB1}:e1)-Organization:v2 \\n',\n",
              "  't2': '\\n SELECT s_t1 FROM t1:s_t1-({VERB2}:e3)-Organization:v4 \\n \\n WHERE (v4.name == {ORGANIZATION}) \\n'},\n",
              " 'e3')"
            ]
          },
          "metadata": {},
          "execution_count": 113
        }
      ]
    },
    {
      "cell_type": "code",
      "source": [
        "condition_str_operator_dict = {}\n",
        "condition_str_operator_dict['OR'] = ' OR ' \n",
        "condition_str_operator_dict['AND'] = ' AND ' \n",
        "condition_str_operator_dict['='] = ' == ' \n",
        "condition_str_operator_dict['<='] = ' <= ' \n",
        "condition_str_operator_dict['>='] = ' >= ' \n",
        "condition_str_operator_dict['<>'] = ' <> ' \n",
        "condition_str_operator_dict['<'] = ' < ' \n",
        "condition_str_operator_dict['>'] = ' > '\n",
        "\n",
        "condition_str_variable_dict = {}\n",
        "condition_str_variable_dict['name'] = ' name '\n",
        "condition_str_variable_dict['happened'] = ' happened '\n",
        "condition_str_variable_dict['year'] = ' year '"
      ],
      "metadata": {
        "id": "8Y9dY0gOBUfi"
      },
      "execution_count": 79,
      "outputs": []
    },
    {
      "cell_type": "code",
      "source": [
        "gsql_dict, final_edge_alias = generate_gsql_from_intermediate_language('VERTEX any | CONDITION any | EDGE {VERB1} | CONDITION any | VERTEX Organization | CONDITION any | EDGE {VERB2} |CONDITION any | VERTEX Organization | CONDITION name = {ORGANIZATION}')"
      ],
      "metadata": {
        "id": "3_eh2IDVCGhU"
      },
      "execution_count": 114,
      "outputs": []
    },
    {
      "cell_type": "code",
      "source": [
        "gsql_format_degree_mapping = {}\n",
        "gsql_format_degree_mapping[1] = {'select' : SELECT_FORMAT_DEGREE1, 'count': SELECT_COUNT_FORMAT_DEGREE1}\n",
        "gsql_format_degree_mapping[2] = {'select' : SELECT_FORMAT_DEGREE2, 'count': SELECT_COUNT_FORMAT_DEGREE2}\n",
        "gsql_format_degree_mapping[3] = {'select' : SELECT_FORMAT_DEGREE3, 'count': SELECT_COUNT_FORMAT_DEGREE3}"
      ],
      "metadata": {
        "id": "OZMRKNhnXHB4"
      },
      "execution_count": 108,
      "outputs": []
    },
    {
      "cell_type": "code",
      "source": [
        "gsql_format_degree_mapping[len(gsql_dict.keys())]['select']"
      ],
      "metadata": {
        "colab": {
          "base_uri": "https://localhost:8080/",
          "height": 35
        },
        "id": "pr2RrdLmXsOk",
        "outputId": "397d38d2-336a-47e4-e18d-f9c449d6036c"
      },
      "execution_count": 110,
      "outputs": [
        {
          "output_type": "execute_result",
          "data": {
            "text/plain": [
              "'\\nINTERPRET QUERY () FOR GRAPH {} {{\\nListAccum <EDGE> @@edges;\\nt1 = {}\\nt2 = {}\\n    ACCUM @@edges += {};\\nPRINT @@edges;\\nPRINT t2;\\n}}\\n'"
            ],
            "application/vnd.google.colaboratory.intrinsic+json": {
              "type": "string"
            }
          },
          "metadata": {},
          "execution_count": 110
        }
      ]
    },
    {
      "cell_type": "code",
      "source": [
        "final_gsql_format = gsql_format_degree_mapping[len(gsql_dict.keys())]['select']\n",
        "\n",
        "gsql_strings = ['athenagraph1304']\n",
        "for index in range(len(gsql_dict.keys())):\n",
        "  gsql_strings.append(gsql_dict['t'+str(index +1)])\n",
        "gsql_strings.append(final_edge_alias)\n",
        "\n",
        "final_gsql_without_params = str.format(final_gsql_format, *gsql_strings)\n",
        "print(final_gsql_without_params)"
      ],
      "metadata": {
        "colab": {
          "base_uri": "https://localhost:8080/"
        },
        "id": "kBBI3NddX2YW",
        "outputId": "15e55b73-6337-4a7e-e07f-4b775ca4cf37"
      },
      "execution_count": 117,
      "outputs": [
        {
          "output_type": "stream",
          "name": "stdout",
          "text": [
            "\n",
            "INTERPRET QUERY () FOR GRAPH athenagraph1304 {\n",
            "ListAccum <EDGE> @@edges;\n",
            "t1 = \n",
            " SELECT v0 FROM :v0-({VERB1}:e1)-Organization:v2 \n",
            "\n",
            "t2 = \n",
            " SELECT s_t1 FROM t1:s_t1-({VERB2}:e3)-Organization:v4 \n",
            " \n",
            " WHERE (v4.name == {ORGANIZATION}) \n",
            "\n",
            "    ACCUM @@edges += e3;\n",
            "PRINT @@edges;\n",
            "PRINT t2;\n",
            "}\n",
            "\n"
          ]
        }
      ]
    },
    {
      "cell_type": "code",
      "source": [
        "params_dict"
      ],
      "metadata": {
        "colab": {
          "base_uri": "https://localhost:8080/"
        },
        "id": "iLL13H6raRhY",
        "outputId": "943e517e-668f-4359-cb49-119e356e008d"
      },
      "execution_count": 118,
      "outputs": [
        {
          "output_type": "execute_result",
          "data": {
            "text/plain": [
              "{'{DATE 1}': '2022-11-11',\n",
              " '{DATE 2}': '2005-11-10',\n",
              " '{LOCATION 1}': 'New York',\n",
              " '{LOCATION 2}': 'Tokyo',\n",
              " '{ORGANIZATION 1}': 'Microsoft',\n",
              " '{ORGANIZATION 2}': 'Amazon',\n",
              " '{ORGANIZATION 3}': 'Facebook',\n",
              " '{PERSON 1}': 'William Gates',\n",
              " '{PERSON 2}': 'Warren Buffett',\n",
              " '{VERB}': 'buy',\n",
              " '{YEAR 1}': '2009',\n",
              " '{YEAR 2}': '2022',\n",
              " '{YEAR 3}': '2033'}"
            ]
          },
          "metadata": {},
          "execution_count": 118
        }
      ]
    },
    {
      "cell_type": "code",
      "source": [
        "class VertexToken:\n",
        "  def __init__(self, unit_token, condition_token, item_index):\n",
        "    self.unit_token = unit_token\n",
        "    self.condition_token = condition_token\n",
        "    self.item_index = item_index\n",
        "    self.output_str = ''\n",
        "    self.condition_str = ''\n",
        "    self.output_str_format = \"{}:{}{}\"\n",
        "    self.condition_str_format = \"\"\n",
        "    self.prefix = 'v'\n",
        "    self.item_alias_format = \"{}{}\"\n",
        "    self.item_alias = \"\"\n",
        "\n",
        "  def get_string(self) -> str:\n",
        "    #process condition strings\n",
        "    tokens = self.unit_token.split(' ')\n",
        "\n",
        "    for token in tokens:\n",
        "      trimmed = str.strip(token)\n",
        "      if  trimmed == 'VERTEX':\n",
        "        continue\n",
        "      elif trimmed == 'any':\n",
        "        self.output_str = str.format(self.output_str_format, \"\", self.prefix, self.item_index)\n",
        "        self.item_alias = str.format(self.item_alias_format, self.prefix, self.item_index)\n",
        "        break\n",
        "      else:\n",
        "        self.output_str = str.format(self.output_str_format, trimmed, self.prefix, self.item_index)\n",
        "        self.item_alias = str.format(self.item_alias_format, self.prefix, self.item_index)\n",
        "\n",
        "    #process condition strings\n",
        "    condition_token = ConditionToken(self.condition_token, self.item_index, self.prefix)\n",
        "    self.condition_str = condition_token.get_string()\n",
        "\n",
        "    return self.output_str, self.condition_str, self.item_alias\n"
      ],
      "metadata": {
        "id": "EuKH-GE64Y83"
      },
      "execution_count": 84,
      "outputs": []
    },
    {
      "cell_type": "code",
      "source": [
        "class ConditionToken:\n",
        "  def __init__(self, condition_token, item_index, item_prefix):\n",
        "    self.condition_token = condition_token\n",
        "    self.item_index = item_index\n",
        "    self.condition_str = ''\n",
        "    self.condition_variable_str_format = '{}{}.{}'\n",
        "    self.item_prefix = item_prefix\n",
        "\n",
        "  def get_string(self) -> str:\n",
        "    #process condition strings\n",
        "    cond_tokens = self.condition_token.split(' ')\n",
        "\n",
        "    prev_token = ''\n",
        "\n",
        "    for c_token in cond_tokens:\n",
        "      trimmed = str.strip(c_token)\n",
        "      if  trimmed == 'CONDITION':\n",
        "        continue\n",
        "      elif trimmed == 'any':\n",
        "        self.condition_str = \"\"\n",
        "        break\n",
        "      elif trimmed in condition_str_operator_dict:\n",
        "        self.condition_str += condition_str_operator_dict[trimmed]  \n",
        "      elif trimmed in condition_str_variable_dict:\n",
        "        self.condition_str += str.format(self.condition_variable_str_format, self.item_prefix, self.item_index, trimmed)  \n",
        "      else:\n",
        "        self.condition_str += trimmed  \n",
        "\n",
        "      prev_token = trimmed\n",
        "\n",
        "    final_str = str.format(\"({})\", self.condition_str) if str.strip(self.condition_str) != '' else ''\n",
        "\n",
        "    return final_str"
      ],
      "metadata": {
        "id": "1qkrTaFfCyNi"
      },
      "execution_count": 82,
      "outputs": []
    },
    {
      "cell_type": "code",
      "source": [
        "class EdgeToken:\n",
        "  def __init__(self, unit_token, condition_token, item_index):\n",
        "    self.unit_token = unit_token\n",
        "    self.condition_token = condition_token\n",
        "    self.item_index = item_index\n",
        "    self.output_str = ''\n",
        "    self.condition_str = ''\n",
        "    self.output_str_format = \"({}:{}{})\"\n",
        "    self.condition_str_format = \"\"\n",
        "    self.prefix = 'e'\n",
        "    self.item_alias_format = \"{}{}\"\n",
        "    self.item_alias = \"\"\n",
        "\n",
        "  def get_string(self) -> str:\n",
        "    #process condition strings\n",
        "    tokens = self.unit_token.split(' ')\n",
        "\n",
        "    for token in tokens:\n",
        "      trimmed = str.strip(token)\n",
        "      if  trimmed == 'EDGE':\n",
        "        continue\n",
        "      elif trimmed == 'any':\n",
        "        self.output_str = str.format(self.output_str_format, \"\", self.prefix, self.item_index)\n",
        "        self.item_alias = str.format(self.item_alias_format, self.prefix, self.item_index)\n",
        "        break\n",
        "      else:\n",
        "        self.output_str = str.format(self.output_str_format, trimmed, self.prefix, self.item_index)\n",
        "        self.item_alias = str.format(self.item_alias_format, self.prefix, self.item_index)\n",
        "\n",
        "    #process condition strings\n",
        "    condition_token = ConditionToken(self.condition_token, self.item_index, self.prefix)\n",
        "    self.condition_str = condition_token.get_string()\n",
        "\n",
        "    return self.output_str, self.condition_str, self.item_alias"
      ],
      "metadata": {
        "id": "LFETpuQgDjHk"
      },
      "execution_count": 85,
      "outputs": []
    },
    {
      "cell_type": "code",
      "source": [
        ""
      ],
      "metadata": {
        "id": "vi5qmdy3Gyce"
      },
      "execution_count": 42,
      "outputs": []
    }
  ]
}