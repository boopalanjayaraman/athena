{
  "nbformat": 4,
  "nbformat_minor": 0,
  "metadata": {
    "colab": {
      "name": "TigerGraph Prototype",
      "provenance": [],
      "collapsed_sections": []
    },
    "kernelspec": {
      "name": "python3",
      "display_name": "Python 3"
    },
    "language_info": {
      "name": "python"
    }
  },
  "cells": [
    {
      "cell_type": "code",
      "execution_count": 1,
      "metadata": {
        "colab": {
          "base_uri": "https://localhost:8080/"
        },
        "id": "vSHinoRHCHfe",
        "outputId": "36508b2c-fd28-4b5b-a8c5-a5544c476f40"
      },
      "outputs": [
        {
          "output_type": "stream",
          "name": "stdout",
          "text": [
            "Collecting pyTigerGraph\n",
            "  Downloading pyTigerGraph-0.0.9.9.2-py3-none-any.whl (22 kB)\n",
            "Requirement already satisfied: requests in /usr/local/lib/python3.7/dist-packages (from pyTigerGraph) (2.23.0)\n",
            "Collecting validators\n",
            "  Downloading validators-0.18.2-py3-none-any.whl (19 kB)\n",
            "Requirement already satisfied: pandas in /usr/local/lib/python3.7/dist-packages (from pyTigerGraph) (1.3.5)\n",
            "Collecting pyTigerDriver\n",
            "  Downloading pyTigerDriver-1.0.14-py3-none-any.whl (8.7 kB)\n",
            "Requirement already satisfied: python-dateutil>=2.7.3 in /usr/local/lib/python3.7/dist-packages (from pandas->pyTigerGraph) (2.8.2)\n",
            "Requirement already satisfied: pytz>=2017.3 in /usr/local/lib/python3.7/dist-packages (from pandas->pyTigerGraph) (2018.9)\n",
            "Requirement already satisfied: numpy>=1.17.3 in /usr/local/lib/python3.7/dist-packages (from pandas->pyTigerGraph) (1.21.5)\n",
            "Requirement already satisfied: six>=1.5 in /usr/local/lib/python3.7/dist-packages (from python-dateutil>=2.7.3->pandas->pyTigerGraph) (1.15.0)\n",
            "Requirement already satisfied: idna<3,>=2.5 in /usr/local/lib/python3.7/dist-packages (from requests->pyTigerGraph) (2.10)\n",
            "Requirement already satisfied: urllib3!=1.25.0,!=1.25.1,<1.26,>=1.21.1 in /usr/local/lib/python3.7/dist-packages (from requests->pyTigerGraph) (1.24.3)\n",
            "Requirement already satisfied: chardet<4,>=3.0.2 in /usr/local/lib/python3.7/dist-packages (from requests->pyTigerGraph) (3.0.4)\n",
            "Requirement already satisfied: certifi>=2017.4.17 in /usr/local/lib/python3.7/dist-packages (from requests->pyTigerGraph) (2021.10.8)\n",
            "Requirement already satisfied: decorator>=3.4.0 in /usr/local/lib/python3.7/dist-packages (from validators->pyTigerGraph) (4.4.2)\n",
            "Installing collected packages: validators, pyTigerDriver, pyTigerGraph\n",
            "Successfully installed pyTigerDriver-1.0.14 pyTigerGraph-0.0.9.9.2 validators-0.18.2\n"
          ]
        }
      ],
      "source": [
        "!pip install pyTigerGraph"
      ]
    },
    {
      "cell_type": "code",
      "source": [
        "import pyTigerGraph as tg"
      ],
      "metadata": {
        "id": "nHA0LImSCOr0"
      },
      "execution_count": 2,
      "outputs": []
    },
    {
      "cell_type": "code",
      "source": [
        "import json\n",
        "import pandas as pd\n",
        "\n",
        "host_name = \"https://athena.i.tgcloud.io\"\n",
        "user_name = \"tigergraph\"\n",
        "password = \"Athena@638111#\"\n",
        "graph_name = \"athenagraph1\"\n",
        "\n",
        "conn = tg.TigerGraphConnection(host=host_name, username=user_name, password=password)\n",
        "\n",
        "print(\"Connected\")"
      ],
      "metadata": {
        "colab": {
          "base_uri": "https://localhost:8080/"
        },
        "id": "kh-N2r1CCUfd",
        "outputId": "402d5ea1-ea11-4e46-ce97-dd808b4b013f"
      },
      "execution_count": 3,
      "outputs": [
        {
          "output_type": "stream",
          "name": "stdout",
          "text": [
            "Connected\n"
          ]
        }
      ]
    },
    {
      "cell_type": "code",
      "source": [
        "conn.gsql('''\n",
        "CREATE GRAPH athenagraph1 ()\n",
        "''')"
      ],
      "metadata": {
        "colab": {
          "base_uri": "https://localhost:8080/",
          "height": 53
        },
        "id": "FdhFR_MuziQI",
        "outputId": "b5592d3f-915a-49e9-a430-b4b6a19edbbe"
      },
      "execution_count": 70,
      "outputs": [
        {
          "output_type": "execute_result",
          "data": {
            "text/plain": [
              "'Stopping GPE GSE RESTPP\\nSuccessfully stopped GPE GSE RESTPP in 30.902 seconds\\nStarting GPE GSE RESTPP\\nSuccessfully started GPE GSE RESTPP in 0.100 seconds\\nThe graph athenagraph1 is created.'"
            ],
            "application/vnd.google.colaboratory.intrinsic+json": {
              "type": "string"
            }
          },
          "metadata": {},
          "execution_count": 70
        }
      ]
    },
    {
      "cell_type": "code",
      "source": [
        "conn.gsql('''\n",
        "USE GLOBAL\n",
        "CREATE VERTEX Organization(PRIMARY_ID id STRING, name STRING) WITH STATS=\"OUTDEGREE_BY_EDGETYPE\", PRIMARY_ID_AS_ATTRIBUTE=\"true\"\n",
        "CREATE VERTEX Person(PRIMARY_ID id STRING, name STRING) WITH STATS=\"OUTDEGREE_BY_EDGETYPE\", PRIMARY_ID_AS_ATTRIBUTE=\"true\"\n",
        "CREATE VERTEX Object(PRIMARY_ID id STRING, name STRING) WITH STATS=\"OUTDEGREE_BY_EDGETYPE\", PRIMARY_ID_AS_ATTRIBUTE=\"true\"\n",
        "CREATE VERTEX Location(PRIMARY_ID id STRING, name STRING) WITH STATS=\"OUTDEGREE_BY_EDGETYPE\", PRIMARY_ID_AS_ATTRIBUTE=\"true\"\n",
        "''', graph_name)"
      ],
      "metadata": {
        "colab": {
          "base_uri": "https://localhost:8080/",
          "height": 35
        },
        "id": "Nvai1g9BDqHM",
        "outputId": "4f8d4be9-a528-4727-ea10-9d29ef8036e3"
      },
      "execution_count": 77,
      "outputs": [
        {
          "output_type": "execute_result",
          "data": {
            "text/plain": [
              "'Semantic Check Fails: The vertex name Organization is used by another object! Please use a different name.\\nFailed to create vertex types: [Organization].'"
            ],
            "application/vnd.google.colaboratory.intrinsic+json": {
              "type": "string"
            }
          },
          "metadata": {},
          "execution_count": 77
        }
      ]
    },
    {
      "cell_type": "code",
      "source": [
        "# WARNING !!! CAUTION !!!!\n",
        "\n",
        "#conn.gsql('''\n",
        "#USE GLOBAL\n",
        "#DROP ALL\n",
        "#''')"
      ],
      "metadata": {
        "colab": {
          "base_uri": "https://localhost:8080/",
          "height": 70
        },
        "id": "F06q4S6jjfU_",
        "outputId": "df187969-a465-4615-86a2-f4d338f7a55c"
      },
      "execution_count": 69,
      "outputs": [
        {
          "output_type": "execute_result",
          "data": {
            "text/plain": [
              "'Dropping all, about 1 minute ...\\nAbort all active loading jobs\\nTry to abort all loading jobs on graph athenagraph1, it may take a while ...\\n[ABORT_SUCCESS] No active Loading Job to abort.\\nResetting GPE...\\nSuccessfully reset GPE and GSE\\nStopping GPE GSE\\nSuccessfully stopped GPE GSE in 0.004 seconds\\nClearing graph store...\\nSuccessfully cleared graph store\\nStarting GPE GSE RESTPP\\nSuccessfully started GPE GSE RESTPP in 0.102 seconds\\nEverything is dropped.'"
            ],
            "application/vnd.google.colaboratory.intrinsic+json": {
              "type": "string"
            }
          },
          "metadata": {},
          "execution_count": 69
        }
      ]
    },
    {
      "cell_type": "code",
      "source": [
        "conn.gsql('''\n",
        "BEGIN\n",
        "INTERPRET QUERY () FOR GRAPH athenagraph1 {\n",
        "INSERT INTO Organization VALUES (\"1\",\"Microsoft Corporation\");\n",
        "}\n",
        "END\n",
        "''', graph_name)"
      ],
      "metadata": {
        "colab": {
          "base_uri": "https://localhost:8080/",
          "height": 35
        },
        "id": "TOzeRkNplic6",
        "outputId": "660ce0a8-0f17-4b47-c2ee-c54290277243"
      },
      "execution_count": 80,
      "outputs": [
        {
          "output_type": "execute_result",
          "data": {
            "text/plain": [
              "'{\\n\"error\": false,\\n\"message\": \"\",\\n\"version\": {\\n\"schema\": 1,\\n\"edition\": \"enterprise\",\\n\"api\": \"v2\"\\n},\\n\"results\": []\\n}'"
            ],
            "application/vnd.google.colaboratory.intrinsic+json": {
              "type": "string"
            }
          },
          "metadata": {},
          "execution_count": 80
        }
      ]
    },
    {
      "cell_type": "code",
      "source": [
        "conn.gsql('''\n",
        "BEGIN\n",
        "INTERPRET QUERY () FOR GRAPH athenagraph1 {\n",
        "INSERT INTO Organization VALUES (\"2\",\"Tata consultancy services\");\n",
        "}\n",
        "END\n",
        "''', graph_name)"
      ],
      "metadata": {
        "colab": {
          "base_uri": "https://localhost:8080/",
          "height": 35
        },
        "id": "2jG1Z9BnqUtJ",
        "outputId": "819934ca-a874-46b1-d62c-be34155defdf"
      },
      "execution_count": 48,
      "outputs": [
        {
          "output_type": "execute_result",
          "data": {
            "text/plain": [
              "'{\\n\"error\": false,\\n\"message\": \"\",\\n\"version\": {\\n\"schema\": 3,\\n\"edition\": \"enterprise\",\\n\"api\": \"v2\"\\n},\\n\"results\": []\\n}'"
            ],
            "application/vnd.google.colaboratory.intrinsic+json": {
              "type": "string"
            }
          },
          "metadata": {},
          "execution_count": 48
        }
      ]
    },
    {
      "cell_type": "code",
      "source": [
        "verb_action_for_edges = ['buy', 'beat', 'result', 'sell', 'miss', 'rise', 'report', 'declare', 'hit', 'announce', 'expect', 'continue', 'watch', 'fall',\n",
        "                         'see', 'call', 'rank', 'may', 'look', 'get', 'add', 'q3', 'show', 'lead', 'go', 'move', 'make', 'hold', 'downgrade', 'could', 'invest',\n",
        "                         'upgrade', 'track', 'grow', 'gain', 'improve', 'take', 'estimate', 'keep', 'surge', 'raise', 'update', 'jump', 'close', 'earning', 'increase',\n",
        "                         'boost', 'say', 'offer', 'win', 'know', 'set', 'top', 'acquire', 'remind', 'expand', 'include', 'drive', 'remain', 'come', 'poise', 'cut', 'end', \n",
        "                         'launch', 'trade', 'pick', 'lag', 'undervalue', 'agree', 'dividend', 'soar', 'stay', 'provide', 'focus', 'co', 'emerge', 'perform', 'pay', 'earn',\n",
        "                         'yield', 'present', 'file', 'rate', 'prefer', 'apply', 'feature', 'start', 'turn', 'follow', 'post', 'play', 'find', 'price', 'decline', 'view', 'give', \n",
        "                         'reach', 'extend', 'receive', 'seek', 'need', 'work', 'rebound', 'fix', 'mreit', 'consider', 'drop', 'complete', 'meet', 'rally', 'reit', \n",
        "                         'handful', 'face', 'break', 'lift', 'ishare', 'slip', 'run', 'hurt', 'loser', 'open', 'deal', 'rent', 'share', 'highlight', 'identify', 'build']\n"
      ],
      "metadata": {
        "id": "wbV2qzgoFSpn"
      },
      "execution_count": 83,
      "outputs": []
    },
    {
      "cell_type": "code",
      "source": [
        ""
      ],
      "metadata": {
        "id": "n8ckTqh-N6Am"
      },
      "execution_count": 28,
      "outputs": []
    },
    {
      "cell_type": "code",
      "source": [
        "query_list = []\n",
        "node_infos = [{'name': 'Organization'}, {'name': 'Person'}, {'name': 'Object'}, { 'name': 'Location'}]\n",
        "for node_info in node_infos:\n",
        "    query_list.append(str.format('CREATE VERTEX {}(PRIMARY_ID id STRING, name STRING) WITH STATS=\"OUTDEGREE_BY_EDGETYPE\", PRIMARY_ID_AS_ATTRIBUTE=\"true\"', node_info['name']))\n",
        "\n",
        "full_query = \"\\n\".join(query_list)\n",
        "print(full_query)"
      ],
      "metadata": {
        "colab": {
          "base_uri": "https://localhost:8080/"
        },
        "id": "-lU6L0NYHVfn",
        "outputId": "adf56794-325f-4915-9315-c48f80708e45"
      },
      "execution_count": 29,
      "outputs": [
        {
          "output_type": "stream",
          "name": "stdout",
          "text": [
            "CREATE VERTEX Organization(PRIMARY_ID id STRING, name STRING) WITH STATS=\"OUTDEGREE_BY_EDGETYPE\", PRIMARY_ID_AS_ATTRIBUTE=\"true\"\n",
            "CREATE VERTEX Person(PRIMARY_ID id STRING, name STRING) WITH STATS=\"OUTDEGREE_BY_EDGETYPE\", PRIMARY_ID_AS_ATTRIBUTE=\"true\"\n",
            "CREATE VERTEX Object(PRIMARY_ID id STRING, name STRING) WITH STATS=\"OUTDEGREE_BY_EDGETYPE\", PRIMARY_ID_AS_ATTRIBUTE=\"true\"\n",
            "CREATE VERTEX Location(PRIMARY_ID id STRING, name STRING) WITH STATS=\"OUTDEGREE_BY_EDGETYPE\", PRIMARY_ID_AS_ATTRIBUTE=\"true\"\n"
          ]
        }
      ]
    },
    {
      "cell_type": "code",
      "source": [
        "relationship_infos = [  {'name': w} for w in verb_action_for_edges ]\n",
        "print(relationship_infos)"
      ],
      "metadata": {
        "colab": {
          "base_uri": "https://localhost:8080/"
        },
        "id": "v9CsH_iBcTE9",
        "outputId": "397534fb-059e-4514-fc12-47300fd9c086"
      },
      "execution_count": 84,
      "outputs": [
        {
          "output_type": "stream",
          "name": "stdout",
          "text": [
            "[{'name': 'buy'}, {'name': 'beat'}, {'name': 'result'}, {'name': 'sell'}, {'name': 'miss'}, {'name': 'rise'}, {'name': 'report'}, {'name': 'declare'}, {'name': 'hit'}, {'name': 'announce'}, {'name': 'expect'}, {'name': 'continue'}, {'name': 'watch'}, {'name': 'fall'}, {'name': 'see'}, {'name': 'call'}, {'name': 'rank'}, {'name': 'may'}, {'name': 'look'}, {'name': 'get'}, {'name': 'add'}, {'name': 'q3'}, {'name': 'show'}, {'name': 'lead'}, {'name': 'go'}, {'name': 'move'}, {'name': 'make'}, {'name': 'hold'}, {'name': 'downgrade'}, {'name': 'could'}, {'name': 'invest'}, {'name': 'upgrade'}, {'name': 'track'}, {'name': 'grow'}, {'name': 'gain'}, {'name': 'improve'}, {'name': 'take'}, {'name': 'estimate'}, {'name': 'keep'}, {'name': 'surge'}, {'name': 'raise'}, {'name': 'update'}, {'name': 'jump'}, {'name': 'close'}, {'name': 'earning'}, {'name': 'increase'}, {'name': 'boost'}, {'name': 'say'}, {'name': 'offer'}, {'name': 'win'}, {'name': 'know'}, {'name': 'set'}, {'name': 'top'}, {'name': 'acquire'}, {'name': 'remind'}, {'name': 'expand'}, {'name': 'include'}, {'name': 'drive'}, {'name': 'remain'}, {'name': 'come'}, {'name': 'poise'}, {'name': 'cut'}, {'name': 'end'}, {'name': 'launch'}, {'name': 'trade'}, {'name': 'pick'}, {'name': 'lag'}, {'name': 'undervalue'}, {'name': 'agree'}, {'name': 'dividend'}, {'name': 'soar'}, {'name': 'stay'}, {'name': 'provide'}, {'name': 'focus'}, {'name': 'co'}, {'name': 'emerge'}, {'name': 'perform'}, {'name': 'pay'}, {'name': 'earn'}, {'name': 'yield'}, {'name': 'present'}, {'name': 'file'}, {'name': 'rate'}, {'name': 'prefer'}, {'name': 'apply'}, {'name': 'feature'}, {'name': 'start'}, {'name': 'turn'}, {'name': 'follow'}, {'name': 'post'}, {'name': 'play'}, {'name': 'find'}, {'name': 'price'}, {'name': 'decline'}, {'name': 'view'}, {'name': 'give'}, {'name': 'reach'}, {'name': 'extend'}, {'name': 'receive'}, {'name': 'seek'}, {'name': 'need'}, {'name': 'work'}, {'name': 'rebound'}, {'name': 'fix'}, {'name': 'mreit'}, {'name': 'consider'}, {'name': 'drop'}, {'name': 'complete'}, {'name': 'meet'}, {'name': 'rally'}, {'name': 'reit'}, {'name': 'handful'}, {'name': 'face'}, {'name': 'break'}, {'name': 'lift'}, {'name': 'ishare'}, {'name': 'slip'}, {'name': 'run'}, {'name': 'hurt'}, {'name': 'loser'}, {'name': 'open'}, {'name': 'deal'}, {'name': 'rent'}, {'name': 'share'}, {'name': 'highlight'}, {'name': 'identify'}, {'name': 'build'}]\n"
          ]
        }
      ]
    },
    {
      "cell_type": "code",
      "source": [
        "query_list = []\n",
        "for relationship_info in relationship_infos:\n",
        "            query_list.append(str.format('CREATE DIRECTED EDGE r_{} (FROM *, TO *, label STRING, happened DATETIME, month UINT, year UINT) WITH REVERSE_EDGE=\"reverse_r_{}\"', relationship_info['name'], relationship_info['name']))\n",
        "\n",
        "full_edge_query = \"\\n\".join(query_list)\n",
        "full_edge_query = \"USE global\" + \"\\n\" + full_edge_query\n",
        "print(full_edge_query)"
      ],
      "metadata": {
        "colab": {
          "base_uri": "https://localhost:8080/"
        },
        "id": "zFlNtZT6PSfO",
        "outputId": "e8e07d85-bb41-4e5d-cc32-131e60a836f0"
      },
      "execution_count": 85,
      "outputs": [
        {
          "output_type": "stream",
          "name": "stdout",
          "text": [
            "USE global\n",
            "CREATE DIRECTED EDGE r_buy (FROM *, TO *, label STRING, happened DATETIME, month UINT, year UINT) WITH REVERSE_EDGE=\"reverse_r_buy\"\n",
            "CREATE DIRECTED EDGE r_beat (FROM *, TO *, label STRING, happened DATETIME, month UINT, year UINT) WITH REVERSE_EDGE=\"reverse_r_beat\"\n",
            "CREATE DIRECTED EDGE r_result (FROM *, TO *, label STRING, happened DATETIME, month UINT, year UINT) WITH REVERSE_EDGE=\"reverse_r_result\"\n",
            "CREATE DIRECTED EDGE r_sell (FROM *, TO *, label STRING, happened DATETIME, month UINT, year UINT) WITH REVERSE_EDGE=\"reverse_r_sell\"\n",
            "CREATE DIRECTED EDGE r_miss (FROM *, TO *, label STRING, happened DATETIME, month UINT, year UINT) WITH REVERSE_EDGE=\"reverse_r_miss\"\n",
            "CREATE DIRECTED EDGE r_rise (FROM *, TO *, label STRING, happened DATETIME, month UINT, year UINT) WITH REVERSE_EDGE=\"reverse_r_rise\"\n",
            "CREATE DIRECTED EDGE r_report (FROM *, TO *, label STRING, happened DATETIME, month UINT, year UINT) WITH REVERSE_EDGE=\"reverse_r_report\"\n",
            "CREATE DIRECTED EDGE r_declare (FROM *, TO *, label STRING, happened DATETIME, month UINT, year UINT) WITH REVERSE_EDGE=\"reverse_r_declare\"\n",
            "CREATE DIRECTED EDGE r_hit (FROM *, TO *, label STRING, happened DATETIME, month UINT, year UINT) WITH REVERSE_EDGE=\"reverse_r_hit\"\n",
            "CREATE DIRECTED EDGE r_announce (FROM *, TO *, label STRING, happened DATETIME, month UINT, year UINT) WITH REVERSE_EDGE=\"reverse_r_announce\"\n",
            "CREATE DIRECTED EDGE r_expect (FROM *, TO *, label STRING, happened DATETIME, month UINT, year UINT) WITH REVERSE_EDGE=\"reverse_r_expect\"\n",
            "CREATE DIRECTED EDGE r_continue (FROM *, TO *, label STRING, happened DATETIME, month UINT, year UINT) WITH REVERSE_EDGE=\"reverse_r_continue\"\n",
            "CREATE DIRECTED EDGE r_watch (FROM *, TO *, label STRING, happened DATETIME, month UINT, year UINT) WITH REVERSE_EDGE=\"reverse_r_watch\"\n",
            "CREATE DIRECTED EDGE r_fall (FROM *, TO *, label STRING, happened DATETIME, month UINT, year UINT) WITH REVERSE_EDGE=\"reverse_r_fall\"\n",
            "CREATE DIRECTED EDGE r_see (FROM *, TO *, label STRING, happened DATETIME, month UINT, year UINT) WITH REVERSE_EDGE=\"reverse_r_see\"\n",
            "CREATE DIRECTED EDGE r_call (FROM *, TO *, label STRING, happened DATETIME, month UINT, year UINT) WITH REVERSE_EDGE=\"reverse_r_call\"\n",
            "CREATE DIRECTED EDGE r_rank (FROM *, TO *, label STRING, happened DATETIME, month UINT, year UINT) WITH REVERSE_EDGE=\"reverse_r_rank\"\n",
            "CREATE DIRECTED EDGE r_may (FROM *, TO *, label STRING, happened DATETIME, month UINT, year UINT) WITH REVERSE_EDGE=\"reverse_r_may\"\n",
            "CREATE DIRECTED EDGE r_look (FROM *, TO *, label STRING, happened DATETIME, month UINT, year UINT) WITH REVERSE_EDGE=\"reverse_r_look\"\n",
            "CREATE DIRECTED EDGE r_get (FROM *, TO *, label STRING, happened DATETIME, month UINT, year UINT) WITH REVERSE_EDGE=\"reverse_r_get\"\n",
            "CREATE DIRECTED EDGE r_add (FROM *, TO *, label STRING, happened DATETIME, month UINT, year UINT) WITH REVERSE_EDGE=\"reverse_r_add\"\n",
            "CREATE DIRECTED EDGE r_q3 (FROM *, TO *, label STRING, happened DATETIME, month UINT, year UINT) WITH REVERSE_EDGE=\"reverse_r_q3\"\n",
            "CREATE DIRECTED EDGE r_show (FROM *, TO *, label STRING, happened DATETIME, month UINT, year UINT) WITH REVERSE_EDGE=\"reverse_r_show\"\n",
            "CREATE DIRECTED EDGE r_lead (FROM *, TO *, label STRING, happened DATETIME, month UINT, year UINT) WITH REVERSE_EDGE=\"reverse_r_lead\"\n",
            "CREATE DIRECTED EDGE r_go (FROM *, TO *, label STRING, happened DATETIME, month UINT, year UINT) WITH REVERSE_EDGE=\"reverse_r_go\"\n",
            "CREATE DIRECTED EDGE r_move (FROM *, TO *, label STRING, happened DATETIME, month UINT, year UINT) WITH REVERSE_EDGE=\"reverse_r_move\"\n",
            "CREATE DIRECTED EDGE r_make (FROM *, TO *, label STRING, happened DATETIME, month UINT, year UINT) WITH REVERSE_EDGE=\"reverse_r_make\"\n",
            "CREATE DIRECTED EDGE r_hold (FROM *, TO *, label STRING, happened DATETIME, month UINT, year UINT) WITH REVERSE_EDGE=\"reverse_r_hold\"\n",
            "CREATE DIRECTED EDGE r_downgrade (FROM *, TO *, label STRING, happened DATETIME, month UINT, year UINT) WITH REVERSE_EDGE=\"reverse_r_downgrade\"\n",
            "CREATE DIRECTED EDGE r_could (FROM *, TO *, label STRING, happened DATETIME, month UINT, year UINT) WITH REVERSE_EDGE=\"reverse_r_could\"\n",
            "CREATE DIRECTED EDGE r_invest (FROM *, TO *, label STRING, happened DATETIME, month UINT, year UINT) WITH REVERSE_EDGE=\"reverse_r_invest\"\n",
            "CREATE DIRECTED EDGE r_upgrade (FROM *, TO *, label STRING, happened DATETIME, month UINT, year UINT) WITH REVERSE_EDGE=\"reverse_r_upgrade\"\n",
            "CREATE DIRECTED EDGE r_track (FROM *, TO *, label STRING, happened DATETIME, month UINT, year UINT) WITH REVERSE_EDGE=\"reverse_r_track\"\n",
            "CREATE DIRECTED EDGE r_grow (FROM *, TO *, label STRING, happened DATETIME, month UINT, year UINT) WITH REVERSE_EDGE=\"reverse_r_grow\"\n",
            "CREATE DIRECTED EDGE r_gain (FROM *, TO *, label STRING, happened DATETIME, month UINT, year UINT) WITH REVERSE_EDGE=\"reverse_r_gain\"\n",
            "CREATE DIRECTED EDGE r_improve (FROM *, TO *, label STRING, happened DATETIME, month UINT, year UINT) WITH REVERSE_EDGE=\"reverse_r_improve\"\n",
            "CREATE DIRECTED EDGE r_take (FROM *, TO *, label STRING, happened DATETIME, month UINT, year UINT) WITH REVERSE_EDGE=\"reverse_r_take\"\n",
            "CREATE DIRECTED EDGE r_estimate (FROM *, TO *, label STRING, happened DATETIME, month UINT, year UINT) WITH REVERSE_EDGE=\"reverse_r_estimate\"\n",
            "CREATE DIRECTED EDGE r_keep (FROM *, TO *, label STRING, happened DATETIME, month UINT, year UINT) WITH REVERSE_EDGE=\"reverse_r_keep\"\n",
            "CREATE DIRECTED EDGE r_surge (FROM *, TO *, label STRING, happened DATETIME, month UINT, year UINT) WITH REVERSE_EDGE=\"reverse_r_surge\"\n",
            "CREATE DIRECTED EDGE r_raise (FROM *, TO *, label STRING, happened DATETIME, month UINT, year UINT) WITH REVERSE_EDGE=\"reverse_r_raise\"\n",
            "CREATE DIRECTED EDGE r_update (FROM *, TO *, label STRING, happened DATETIME, month UINT, year UINT) WITH REVERSE_EDGE=\"reverse_r_update\"\n",
            "CREATE DIRECTED EDGE r_jump (FROM *, TO *, label STRING, happened DATETIME, month UINT, year UINT) WITH REVERSE_EDGE=\"reverse_r_jump\"\n",
            "CREATE DIRECTED EDGE r_close (FROM *, TO *, label STRING, happened DATETIME, month UINT, year UINT) WITH REVERSE_EDGE=\"reverse_r_close\"\n",
            "CREATE DIRECTED EDGE r_earning (FROM *, TO *, label STRING, happened DATETIME, month UINT, year UINT) WITH REVERSE_EDGE=\"reverse_r_earning\"\n",
            "CREATE DIRECTED EDGE r_increase (FROM *, TO *, label STRING, happened DATETIME, month UINT, year UINT) WITH REVERSE_EDGE=\"reverse_r_increase\"\n",
            "CREATE DIRECTED EDGE r_boost (FROM *, TO *, label STRING, happened DATETIME, month UINT, year UINT) WITH REVERSE_EDGE=\"reverse_r_boost\"\n",
            "CREATE DIRECTED EDGE r_say (FROM *, TO *, label STRING, happened DATETIME, month UINT, year UINT) WITH REVERSE_EDGE=\"reverse_r_say\"\n",
            "CREATE DIRECTED EDGE r_offer (FROM *, TO *, label STRING, happened DATETIME, month UINT, year UINT) WITH REVERSE_EDGE=\"reverse_r_offer\"\n",
            "CREATE DIRECTED EDGE r_win (FROM *, TO *, label STRING, happened DATETIME, month UINT, year UINT) WITH REVERSE_EDGE=\"reverse_r_win\"\n",
            "CREATE DIRECTED EDGE r_know (FROM *, TO *, label STRING, happened DATETIME, month UINT, year UINT) WITH REVERSE_EDGE=\"reverse_r_know\"\n",
            "CREATE DIRECTED EDGE r_set (FROM *, TO *, label STRING, happened DATETIME, month UINT, year UINT) WITH REVERSE_EDGE=\"reverse_r_set\"\n",
            "CREATE DIRECTED EDGE r_top (FROM *, TO *, label STRING, happened DATETIME, month UINT, year UINT) WITH REVERSE_EDGE=\"reverse_r_top\"\n",
            "CREATE DIRECTED EDGE r_acquire (FROM *, TO *, label STRING, happened DATETIME, month UINT, year UINT) WITH REVERSE_EDGE=\"reverse_r_acquire\"\n",
            "CREATE DIRECTED EDGE r_remind (FROM *, TO *, label STRING, happened DATETIME, month UINT, year UINT) WITH REVERSE_EDGE=\"reverse_r_remind\"\n",
            "CREATE DIRECTED EDGE r_expand (FROM *, TO *, label STRING, happened DATETIME, month UINT, year UINT) WITH REVERSE_EDGE=\"reverse_r_expand\"\n",
            "CREATE DIRECTED EDGE r_include (FROM *, TO *, label STRING, happened DATETIME, month UINT, year UINT) WITH REVERSE_EDGE=\"reverse_r_include\"\n",
            "CREATE DIRECTED EDGE r_drive (FROM *, TO *, label STRING, happened DATETIME, month UINT, year UINT) WITH REVERSE_EDGE=\"reverse_r_drive\"\n",
            "CREATE DIRECTED EDGE r_remain (FROM *, TO *, label STRING, happened DATETIME, month UINT, year UINT) WITH REVERSE_EDGE=\"reverse_r_remain\"\n",
            "CREATE DIRECTED EDGE r_come (FROM *, TO *, label STRING, happened DATETIME, month UINT, year UINT) WITH REVERSE_EDGE=\"reverse_r_come\"\n",
            "CREATE DIRECTED EDGE r_poise (FROM *, TO *, label STRING, happened DATETIME, month UINT, year UINT) WITH REVERSE_EDGE=\"reverse_r_poise\"\n",
            "CREATE DIRECTED EDGE r_cut (FROM *, TO *, label STRING, happened DATETIME, month UINT, year UINT) WITH REVERSE_EDGE=\"reverse_r_cut\"\n",
            "CREATE DIRECTED EDGE r_end (FROM *, TO *, label STRING, happened DATETIME, month UINT, year UINT) WITH REVERSE_EDGE=\"reverse_r_end\"\n",
            "CREATE DIRECTED EDGE r_launch (FROM *, TO *, label STRING, happened DATETIME, month UINT, year UINT) WITH REVERSE_EDGE=\"reverse_r_launch\"\n",
            "CREATE DIRECTED EDGE r_trade (FROM *, TO *, label STRING, happened DATETIME, month UINT, year UINT) WITH REVERSE_EDGE=\"reverse_r_trade\"\n",
            "CREATE DIRECTED EDGE r_pick (FROM *, TO *, label STRING, happened DATETIME, month UINT, year UINT) WITH REVERSE_EDGE=\"reverse_r_pick\"\n",
            "CREATE DIRECTED EDGE r_lag (FROM *, TO *, label STRING, happened DATETIME, month UINT, year UINT) WITH REVERSE_EDGE=\"reverse_r_lag\"\n",
            "CREATE DIRECTED EDGE r_undervalue (FROM *, TO *, label STRING, happened DATETIME, month UINT, year UINT) WITH REVERSE_EDGE=\"reverse_r_undervalue\"\n",
            "CREATE DIRECTED EDGE r_agree (FROM *, TO *, label STRING, happened DATETIME, month UINT, year UINT) WITH REVERSE_EDGE=\"reverse_r_agree\"\n",
            "CREATE DIRECTED EDGE r_dividend (FROM *, TO *, label STRING, happened DATETIME, month UINT, year UINT) WITH REVERSE_EDGE=\"reverse_r_dividend\"\n",
            "CREATE DIRECTED EDGE r_soar (FROM *, TO *, label STRING, happened DATETIME, month UINT, year UINT) WITH REVERSE_EDGE=\"reverse_r_soar\"\n",
            "CREATE DIRECTED EDGE r_stay (FROM *, TO *, label STRING, happened DATETIME, month UINT, year UINT) WITH REVERSE_EDGE=\"reverse_r_stay\"\n",
            "CREATE DIRECTED EDGE r_provide (FROM *, TO *, label STRING, happened DATETIME, month UINT, year UINT) WITH REVERSE_EDGE=\"reverse_r_provide\"\n",
            "CREATE DIRECTED EDGE r_focus (FROM *, TO *, label STRING, happened DATETIME, month UINT, year UINT) WITH REVERSE_EDGE=\"reverse_r_focus\"\n",
            "CREATE DIRECTED EDGE r_co (FROM *, TO *, label STRING, happened DATETIME, month UINT, year UINT) WITH REVERSE_EDGE=\"reverse_r_co\"\n",
            "CREATE DIRECTED EDGE r_emerge (FROM *, TO *, label STRING, happened DATETIME, month UINT, year UINT) WITH REVERSE_EDGE=\"reverse_r_emerge\"\n",
            "CREATE DIRECTED EDGE r_perform (FROM *, TO *, label STRING, happened DATETIME, month UINT, year UINT) WITH REVERSE_EDGE=\"reverse_r_perform\"\n",
            "CREATE DIRECTED EDGE r_pay (FROM *, TO *, label STRING, happened DATETIME, month UINT, year UINT) WITH REVERSE_EDGE=\"reverse_r_pay\"\n",
            "CREATE DIRECTED EDGE r_earn (FROM *, TO *, label STRING, happened DATETIME, month UINT, year UINT) WITH REVERSE_EDGE=\"reverse_r_earn\"\n",
            "CREATE DIRECTED EDGE r_yield (FROM *, TO *, label STRING, happened DATETIME, month UINT, year UINT) WITH REVERSE_EDGE=\"reverse_r_yield\"\n",
            "CREATE DIRECTED EDGE r_present (FROM *, TO *, label STRING, happened DATETIME, month UINT, year UINT) WITH REVERSE_EDGE=\"reverse_r_present\"\n",
            "CREATE DIRECTED EDGE r_file (FROM *, TO *, label STRING, happened DATETIME, month UINT, year UINT) WITH REVERSE_EDGE=\"reverse_r_file\"\n",
            "CREATE DIRECTED EDGE r_rate (FROM *, TO *, label STRING, happened DATETIME, month UINT, year UINT) WITH REVERSE_EDGE=\"reverse_r_rate\"\n",
            "CREATE DIRECTED EDGE r_prefer (FROM *, TO *, label STRING, happened DATETIME, month UINT, year UINT) WITH REVERSE_EDGE=\"reverse_r_prefer\"\n",
            "CREATE DIRECTED EDGE r_apply (FROM *, TO *, label STRING, happened DATETIME, month UINT, year UINT) WITH REVERSE_EDGE=\"reverse_r_apply\"\n",
            "CREATE DIRECTED EDGE r_feature (FROM *, TO *, label STRING, happened DATETIME, month UINT, year UINT) WITH REVERSE_EDGE=\"reverse_r_feature\"\n",
            "CREATE DIRECTED EDGE r_start (FROM *, TO *, label STRING, happened DATETIME, month UINT, year UINT) WITH REVERSE_EDGE=\"reverse_r_start\"\n",
            "CREATE DIRECTED EDGE r_turn (FROM *, TO *, label STRING, happened DATETIME, month UINT, year UINT) WITH REVERSE_EDGE=\"reverse_r_turn\"\n",
            "CREATE DIRECTED EDGE r_follow (FROM *, TO *, label STRING, happened DATETIME, month UINT, year UINT) WITH REVERSE_EDGE=\"reverse_r_follow\"\n",
            "CREATE DIRECTED EDGE r_post (FROM *, TO *, label STRING, happened DATETIME, month UINT, year UINT) WITH REVERSE_EDGE=\"reverse_r_post\"\n",
            "CREATE DIRECTED EDGE r_play (FROM *, TO *, label STRING, happened DATETIME, month UINT, year UINT) WITH REVERSE_EDGE=\"reverse_r_play\"\n",
            "CREATE DIRECTED EDGE r_find (FROM *, TO *, label STRING, happened DATETIME, month UINT, year UINT) WITH REVERSE_EDGE=\"reverse_r_find\"\n",
            "CREATE DIRECTED EDGE r_price (FROM *, TO *, label STRING, happened DATETIME, month UINT, year UINT) WITH REVERSE_EDGE=\"reverse_r_price\"\n",
            "CREATE DIRECTED EDGE r_decline (FROM *, TO *, label STRING, happened DATETIME, month UINT, year UINT) WITH REVERSE_EDGE=\"reverse_r_decline\"\n",
            "CREATE DIRECTED EDGE r_view (FROM *, TO *, label STRING, happened DATETIME, month UINT, year UINT) WITH REVERSE_EDGE=\"reverse_r_view\"\n",
            "CREATE DIRECTED EDGE r_give (FROM *, TO *, label STRING, happened DATETIME, month UINT, year UINT) WITH REVERSE_EDGE=\"reverse_r_give\"\n",
            "CREATE DIRECTED EDGE r_reach (FROM *, TO *, label STRING, happened DATETIME, month UINT, year UINT) WITH REVERSE_EDGE=\"reverse_r_reach\"\n",
            "CREATE DIRECTED EDGE r_extend (FROM *, TO *, label STRING, happened DATETIME, month UINT, year UINT) WITH REVERSE_EDGE=\"reverse_r_extend\"\n",
            "CREATE DIRECTED EDGE r_receive (FROM *, TO *, label STRING, happened DATETIME, month UINT, year UINT) WITH REVERSE_EDGE=\"reverse_r_receive\"\n",
            "CREATE DIRECTED EDGE r_seek (FROM *, TO *, label STRING, happened DATETIME, month UINT, year UINT) WITH REVERSE_EDGE=\"reverse_r_seek\"\n",
            "CREATE DIRECTED EDGE r_need (FROM *, TO *, label STRING, happened DATETIME, month UINT, year UINT) WITH REVERSE_EDGE=\"reverse_r_need\"\n",
            "CREATE DIRECTED EDGE r_work (FROM *, TO *, label STRING, happened DATETIME, month UINT, year UINT) WITH REVERSE_EDGE=\"reverse_r_work\"\n",
            "CREATE DIRECTED EDGE r_rebound (FROM *, TO *, label STRING, happened DATETIME, month UINT, year UINT) WITH REVERSE_EDGE=\"reverse_r_rebound\"\n",
            "CREATE DIRECTED EDGE r_fix (FROM *, TO *, label STRING, happened DATETIME, month UINT, year UINT) WITH REVERSE_EDGE=\"reverse_r_fix\"\n",
            "CREATE DIRECTED EDGE r_mreit (FROM *, TO *, label STRING, happened DATETIME, month UINT, year UINT) WITH REVERSE_EDGE=\"reverse_r_mreit\"\n",
            "CREATE DIRECTED EDGE r_consider (FROM *, TO *, label STRING, happened DATETIME, month UINT, year UINT) WITH REVERSE_EDGE=\"reverse_r_consider\"\n",
            "CREATE DIRECTED EDGE r_drop (FROM *, TO *, label STRING, happened DATETIME, month UINT, year UINT) WITH REVERSE_EDGE=\"reverse_r_drop\"\n",
            "CREATE DIRECTED EDGE r_complete (FROM *, TO *, label STRING, happened DATETIME, month UINT, year UINT) WITH REVERSE_EDGE=\"reverse_r_complete\"\n",
            "CREATE DIRECTED EDGE r_meet (FROM *, TO *, label STRING, happened DATETIME, month UINT, year UINT) WITH REVERSE_EDGE=\"reverse_r_meet\"\n",
            "CREATE DIRECTED EDGE r_rally (FROM *, TO *, label STRING, happened DATETIME, month UINT, year UINT) WITH REVERSE_EDGE=\"reverse_r_rally\"\n",
            "CREATE DIRECTED EDGE r_reit (FROM *, TO *, label STRING, happened DATETIME, month UINT, year UINT) WITH REVERSE_EDGE=\"reverse_r_reit\"\n",
            "CREATE DIRECTED EDGE r_handful (FROM *, TO *, label STRING, happened DATETIME, month UINT, year UINT) WITH REVERSE_EDGE=\"reverse_r_handful\"\n",
            "CREATE DIRECTED EDGE r_face (FROM *, TO *, label STRING, happened DATETIME, month UINT, year UINT) WITH REVERSE_EDGE=\"reverse_r_face\"\n",
            "CREATE DIRECTED EDGE r_break (FROM *, TO *, label STRING, happened DATETIME, month UINT, year UINT) WITH REVERSE_EDGE=\"reverse_r_break\"\n",
            "CREATE DIRECTED EDGE r_lift (FROM *, TO *, label STRING, happened DATETIME, month UINT, year UINT) WITH REVERSE_EDGE=\"reverse_r_lift\"\n",
            "CREATE DIRECTED EDGE r_ishare (FROM *, TO *, label STRING, happened DATETIME, month UINT, year UINT) WITH REVERSE_EDGE=\"reverse_r_ishare\"\n",
            "CREATE DIRECTED EDGE r_slip (FROM *, TO *, label STRING, happened DATETIME, month UINT, year UINT) WITH REVERSE_EDGE=\"reverse_r_slip\"\n",
            "CREATE DIRECTED EDGE r_run (FROM *, TO *, label STRING, happened DATETIME, month UINT, year UINT) WITH REVERSE_EDGE=\"reverse_r_run\"\n",
            "CREATE DIRECTED EDGE r_hurt (FROM *, TO *, label STRING, happened DATETIME, month UINT, year UINT) WITH REVERSE_EDGE=\"reverse_r_hurt\"\n",
            "CREATE DIRECTED EDGE r_loser (FROM *, TO *, label STRING, happened DATETIME, month UINT, year UINT) WITH REVERSE_EDGE=\"reverse_r_loser\"\n",
            "CREATE DIRECTED EDGE r_open (FROM *, TO *, label STRING, happened DATETIME, month UINT, year UINT) WITH REVERSE_EDGE=\"reverse_r_open\"\n",
            "CREATE DIRECTED EDGE r_deal (FROM *, TO *, label STRING, happened DATETIME, month UINT, year UINT) WITH REVERSE_EDGE=\"reverse_r_deal\"\n",
            "CREATE DIRECTED EDGE r_rent (FROM *, TO *, label STRING, happened DATETIME, month UINT, year UINT) WITH REVERSE_EDGE=\"reverse_r_rent\"\n",
            "CREATE DIRECTED EDGE r_share (FROM *, TO *, label STRING, happened DATETIME, month UINT, year UINT) WITH REVERSE_EDGE=\"reverse_r_share\"\n",
            "CREATE DIRECTED EDGE r_highlight (FROM *, TO *, label STRING, happened DATETIME, month UINT, year UINT) WITH REVERSE_EDGE=\"reverse_r_highlight\"\n",
            "CREATE DIRECTED EDGE r_identify (FROM *, TO *, label STRING, happened DATETIME, month UINT, year UINT) WITH REVERSE_EDGE=\"reverse_r_identify\"\n",
            "CREATE DIRECTED EDGE r_build (FROM *, TO *, label STRING, happened DATETIME, month UINT, year UINT) WITH REVERSE_EDGE=\"reverse_r_build\"\n"
          ]
        }
      ]
    },
    {
      "cell_type": "code",
      "source": [
        "import datetime"
      ],
      "metadata": {
        "id": "X9KTek_Icpd2"
      },
      "execution_count": 38,
      "outputs": []
    },
    {
      "cell_type": "code",
      "source": [
        "conn.gsql(full_edge_query, graph_name)"
      ],
      "metadata": {
        "colab": {
          "base_uri": "https://localhost:8080/",
          "height": 122
        },
        "id": "vLy1eN66c_Ku",
        "outputId": "f12d69f8-2e0a-49c2-8de8-fe83c568ad11"
      },
      "execution_count": 86,
      "outputs": [
        {
          "output_type": "execute_result",
          "data": {
            "text/plain": [
              "'Successfully created edge types: [r_buy].\\nSuccessfully created reverse edge types: [reverse_r_buy].\\nSuccessfully created edge types: [r_beat].\\nSuccessfully created reverse edge types: [reverse_r_beat].\\nSuccessfully created edge types: [r_result].\\nSuccessfully created reverse edge types: [reverse_r_result].\\nSuccessfully created edge types: [r_sell].\\nSuccessfully created reverse edge types: [reverse_r_sell].\\nSuccessfully created edge types: [r_miss].\\nSuccessfully created reverse edge types: [reverse_r_miss].\\nSuccessfully created edge types: [r_rise].\\nSuccessfully created reverse edge types: [reverse_r_rise].\\nSuccessfully created edge types: [r_report].\\nSuccessfully created reverse edge types: [reverse_r_report].\\nSuccessfully created edge types: [r_declare].\\nSuccessfully created reverse edge types: [reverse_r_declare].\\nSuccessfully created edge types: [r_hit].\\nSuccessfully created reverse edge types: [reverse_r_hit].\\nSuccessfully created edge types: [r_announce].\\nSuccessfully created reverse edge types: [reverse_r_announce].\\nSuccessfully created edge types: [r_expect].\\nSuccessfully created reverse edge types: [reverse_r_expect].\\nSuccessfully created edge types: [r_continue].\\nSuccessfully created reverse edge types: [reverse_r_continue].\\nSuccessfully created edge types: [r_watch].\\nSuccessfully created reverse edge types: [reverse_r_watch].\\nSuccessfully created edge types: [r_fall].\\nSuccessfully created reverse edge types: [reverse_r_fall].\\nSuccessfully created edge types: [r_see].\\nSuccessfully created reverse edge types: [reverse_r_see].\\nSuccessfully created edge types: [r_call].\\nSuccessfully created reverse edge types: [reverse_r_call].\\nSuccessfully created edge types: [r_rank].\\nSuccessfully created reverse edge types: [reverse_r_rank].\\nSuccessfully created edge types: [r_may].\\nSuccessfully created reverse edge types: [reverse_r_may].\\nSuccessfully created edge types: [r_look].\\nSuccessfully created reverse edge types: [reverse_r_look].\\nSuccessfully created edge types: [r_get].\\nSuccessfully created reverse edge types: [reverse_r_get].\\nSuccessfully created edge types: [r_add].\\nSuccessfully created reverse edge types: [reverse_r_add].\\nSuccessfully created edge types: [r_q3].\\nSuccessfully created reverse edge types: [reverse_r_q3].\\nSuccessfully created edge types: [r_show].\\nSuccessfully created reverse edge types: [reverse_r_show].\\nSuccessfully created edge types: [r_lead].\\nSuccessfully created reverse edge types: [reverse_r_lead].\\nSuccessfully created edge types: [r_go].\\nSuccessfully created reverse edge types: [reverse_r_go].\\nSuccessfully created edge types: [r_move].\\nSuccessfully created reverse edge types: [reverse_r_move].\\nSuccessfully created edge types: [r_make].\\nSuccessfully created reverse edge types: [reverse_r_make].\\nSuccessfully created edge types: [r_hold].\\nSuccessfully created reverse edge types: [reverse_r_hold].\\nSuccessfully created edge types: [r_downgrade].\\nSuccessfully created reverse edge types: [reverse_r_downgrade].\\nSuccessfully created edge types: [r_could].\\nSuccessfully created reverse edge types: [reverse_r_could].\\nSuccessfully created edge types: [r_invest].\\nSuccessfully created reverse edge types: [reverse_r_invest].\\nSuccessfully created edge types: [r_upgrade].\\nSuccessfully created reverse edge types: [reverse_r_upgrade].\\nSuccessfully created edge types: [r_track].\\nSuccessfully created reverse edge types: [reverse_r_track].\\nSuccessfully created edge types: [r_grow].\\nSuccessfully created reverse edge types: [reverse_r_grow].\\nSuccessfully created edge types: [r_gain].\\nSuccessfully created reverse edge types: [reverse_r_gain].\\nSuccessfully created edge types: [r_improve].\\nSuccessfully created reverse edge types: [reverse_r_improve].\\nSuccessfully created edge types: [r_take].\\nSuccessfully created reverse edge types: [reverse_r_take].\\nSuccessfully created edge types: [r_estimate].\\nSuccessfully created reverse edge types: [reverse_r_estimate].\\nSuccessfully created edge types: [r_keep].\\nSuccessfully created reverse edge types: [reverse_r_keep].\\nSuccessfully created edge types: [r_surge].\\nSuccessfully created reverse edge types: [reverse_r_surge].\\nSuccessfully created edge types: [r_raise].\\nSuccessfully created reverse edge types: [reverse_r_raise].\\nSuccessfully created edge types: [r_update].\\nSuccessfully created reverse edge types: [reverse_r_update].\\nSuccessfully created edge types: [r_jump].\\nSuccessfully created reverse edge types: [reverse_r_jump].\\nSuccessfully created edge types: [r_close].\\nSuccessfully created reverse edge types: [reverse_r_close].\\nSuccessfully created edge types: [r_earning].\\nSuccessfully created reverse edge types: [reverse_r_earning].\\nSuccessfully created edge types: [r_increase].\\nSuccessfully created reverse edge types: [reverse_r_increase].\\nSuccessfully created edge types: [r_boost].\\nSuccessfully created reverse edge types: [reverse_r_boost].\\nSuccessfully created edge types: [r_say].\\nSuccessfully created reverse edge types: [reverse_r_say].\\nSuccessfully created edge types: [r_offer].\\nSuccessfully created reverse edge types: [reverse_r_offer].\\nSuccessfully created edge types: [r_win].\\nSuccessfully created reverse edge types: [reverse_r_win].\\nSuccessfully created edge types: [r_know].\\nSuccessfully created reverse edge types: [reverse_r_know].\\nSuccessfully created edge types: [r_set].\\nSuccessfully created reverse edge types: [reverse_r_set].\\nSuccessfully created edge types: [r_top].\\nSuccessfully created reverse edge types: [reverse_r_top].\\nSuccessfully created edge types: [r_acquire].\\nSuccessfully created reverse edge types: [reverse_r_acquire].\\nSuccessfully created edge types: [r_remind].\\nSuccessfully created reverse edge types: [reverse_r_remind].\\nSuccessfully created edge types: [r_expand].\\nSuccessfully created reverse edge types: [reverse_r_expand].\\nSuccessfully created edge types: [r_include].\\nSuccessfully created reverse edge types: [reverse_r_include].\\nSuccessfully created edge types: [r_drive].\\nSuccessfully created reverse edge types: [reverse_r_drive].\\nSuccessfully created edge types: [r_remain].\\nSuccessfully created reverse edge types: [reverse_r_remain].\\nSuccessfully created edge types: [r_come].\\nSuccessfully created reverse edge types: [reverse_r_come].\\nSuccessfully created edge types: [r_poise].\\nSuccessfully created reverse edge types: [reverse_r_poise].\\nSuccessfully created edge types: [r_cut].\\nSuccessfully created reverse edge types: [reverse_r_cut].\\nSuccessfully created edge types: [r_end].\\nSuccessfully created reverse edge types: [reverse_r_end].\\nSuccessfully created edge types: [r_launch].\\nSuccessfully created reverse edge types: [reverse_r_launch].\\nSuccessfully created edge types: [r_trade].\\nSuccessfully created reverse edge types: [reverse_r_trade].\\nSuccessfully created edge types: [r_pick].\\nSuccessfully created reverse edge types: [reverse_r_pick].\\nSuccessfully created edge types: [r_lag].\\nSuccessfully created reverse edge types: [reverse_r_lag].\\nSuccessfully created edge types: [r_undervalue].\\nSuccessfully created reverse edge types: [reverse_r_undervalue].\\nSuccessfully created edge types: [r_agree].\\nSuccessfully created reverse edge types: [reverse_r_agree].\\nSuccessfully created edge types: [r_dividend].\\nSuccessfully created reverse edge types: [reverse_r_dividend].\\nSuccessfully created edge types: [r_soar].\\nSuccessfully created reverse edge types: [reverse_r_soar].\\nSuccessfully created edge types: [r_stay].\\nSuccessfully created reverse edge types: [reverse_r_stay].\\nSuccessfully created edge types: [r_provide].\\nSuccessfully created reverse edge types: [reverse_r_provide].\\nSuccessfully created edge types: [r_focus].\\nSuccessfully created reverse edge types: [reverse_r_focus].\\nSuccessfully created edge types: [r_co].\\nSuccessfully created reverse edge types: [reverse_r_co].\\nSuccessfully created edge types: [r_emerge].\\nSuccessfully created reverse edge types: [reverse_r_emerge].\\nSuccessfully created edge types: [r_perform].\\nSuccessfully created reverse edge types: [reverse_r_perform].\\nSuccessfully created edge types: [r_pay].\\nSuccessfully created reverse edge types: [reverse_r_pay].\\nSuccessfully created edge types: [r_earn].\\nSuccessfully created reverse edge types: [reverse_r_earn].\\nSuccessfully created edge types: [r_yield].\\nSuccessfully created reverse edge types: [reverse_r_yield].\\nSuccessfully created edge types: [r_present].\\nSuccessfully created reverse edge types: [reverse_r_present].\\nSuccessfully created edge types: [r_file].\\nSuccessfully created reverse edge types: [reverse_r_file].\\nSuccessfully created edge types: [r_rate].\\nSuccessfully created reverse edge types: [reverse_r_rate].\\nSuccessfully created edge types: [r_prefer].\\nSuccessfully created reverse edge types: [reverse_r_prefer].\\nSuccessfully created edge types: [r_apply].\\nSuccessfully created reverse edge types: [reverse_r_apply].\\nSuccessfully created edge types: [r_feature].\\nSuccessfully created reverse edge types: [reverse_r_feature].\\nSuccessfully created edge types: [r_start].\\nSuccessfully created reverse edge types: [reverse_r_start].\\nSuccessfully created edge types: [r_turn].\\nSuccessfully created reverse edge types: [reverse_r_turn].\\nSuccessfully created edge types: [r_follow].\\nSuccessfully created reverse edge types: [reverse_r_follow].\\nSuccessfully created edge types: [r_post].\\nSuccessfully created reverse edge types: [reverse_r_post].\\nSuccessfully created edge types: [r_play].\\nSuccessfully created reverse edge types: [reverse_r_play].\\nSuccessfully created edge types: [r_find].\\nSuccessfully created reverse edge types: [reverse_r_find].\\nSuccessfully created edge types: [r_price].\\nSuccessfully created reverse edge types: [reverse_r_price].\\nSuccessfully created edge types: [r_decline].\\nSuccessfully created reverse edge types: [reverse_r_decline].\\nSuccessfully created edge types: [r_view].\\nSuccessfully created reverse edge types: [reverse_r_view].\\nSuccessfully created edge types: [r_give].\\nSuccessfully created reverse edge types: [reverse_r_give].\\nSuccessfully created edge types: [r_reach].\\nSuccessfully created reverse edge types: [reverse_r_reach].\\nSuccessfully created edge types: [r_extend].\\nSuccessfully created reverse edge types: [reverse_r_extend].\\nSuccessfully created edge types: [r_receive].\\nSuccessfully created reverse edge types: [reverse_r_receive].\\nSuccessfully created edge types: [r_seek].\\nSuccessfully created reverse edge types: [reverse_r_seek].\\nSuccessfully created edge types: [r_need].\\nSuccessfully created reverse edge types: [reverse_r_need].\\nSuccessfully created edge types: [r_work].\\nSuccessfully created reverse edge types: [reverse_r_work].\\nSuccessfully created edge types: [r_rebound].\\nSuccessfully created reverse edge types: [reverse_r_rebound].\\nSuccessfully created edge types: [r_fix].\\nSuccessfully created reverse edge types: [reverse_r_fix].\\nSuccessfully created edge types: [r_mreit].\\nSuccessfully created reverse edge types: [reverse_r_mreit].\\nSuccessfully created edge types: [r_consider].\\nSuccessfully created reverse edge types: [reverse_r_consider].\\nSuccessfully created edge types: [r_drop].\\nSuccessfully created reverse edge types: [reverse_r_drop].\\nSuccessfully created edge types: [r_complete].\\nSuccessfully created reverse edge types: [reverse_r_complete].\\nSuccessfully created edge types: [r_meet].\\nSuccessfully created reverse edge types: [reverse_r_meet].\\nSuccessfully created edge types: [r_rally].\\nSuccessfully created reverse edge types: [reverse_r_rally].\\nSuccessfully created edge types: [r_reit].\\nSuccessfully created reverse edge types: [reverse_r_reit].\\nSuccessfully created edge types: [r_handful].\\nSuccessfully created reverse edge types: [reverse_r_handful].\\nSuccessfully created edge types: [r_face].\\nSuccessfully created reverse edge types: [reverse_r_face].\\nSuccessfully created edge types: [r_break].\\nSuccessfully created reverse edge types: [reverse_r_break].\\nSuccessfully created edge types: [r_lift].\\nSuccessfully created reverse edge types: [reverse_r_lift].\\nSuccessfully created edge types: [r_ishare].\\nSuccessfully created reverse edge types: [reverse_r_ishare].\\nSuccessfully created edge types: [r_slip].\\nSuccessfully created reverse edge types: [reverse_r_slip].\\nSuccessfully created edge types: [r_run].\\nSuccessfully created reverse edge types: [reverse_r_run].\\nSuccessfully created edge types: [r_hurt].\\nSuccessfully created reverse edge types: [reverse_r_hurt].\\nSuccessfully created edge types: [r_loser].\\nSuccessfully created reverse edge types: [reverse_r_loser].\\nSuccessfully created edge types: [r_open].\\nSuccessfully created reverse edge types: [reverse_r_open].\\nSuccessfully created edge types: [r_deal].\\nSuccessfully created reverse edge types: [reverse_r_deal].\\nSuccessfully created edge types: [r_rent].\\nSuccessfully created reverse edge types: [reverse_r_rent].\\nSuccessfully created edge types: [r_share].\\nSuccessfully created reverse edge types: [reverse_r_share].\\nSuccessfully created edge types: [r_highlight].\\nSuccessfully created reverse edge types: [reverse_r_highlight].\\nSuccessfully created edge types: [r_identify].\\nSuccessfully created reverse edge types: [reverse_r_identify].\\nSuccessfully created edge types: [r_build].\\nSuccessfully created reverse edge types: [reverse_r_build].'"
            ],
            "application/vnd.google.colaboratory.intrinsic+json": {
              "type": "string"
            }
          },
          "metadata": {},
          "execution_count": 86
        }
      ]
    },
    {
      "cell_type": "code",
      "source": [
        "conn.gsql(''' \n",
        "BEGIN\n",
        "INTERPRET QUERY () FOR GRAPH athenagraph1 {\n",
        "INSERT INTO Location VALUES (\"1\",\"India\");\n",
        "}\n",
        "END\n",
        "''', graph_name)"
      ],
      "metadata": {
        "colab": {
          "base_uri": "https://localhost:8080/",
          "height": 35
        },
        "id": "45A4kC1otYbo",
        "outputId": "7e28bae7-888a-43af-bca9-56783528b4ee"
      },
      "execution_count": 47,
      "outputs": [
        {
          "output_type": "execute_result",
          "data": {
            "text/plain": [
              "'{\\n\"error\": false,\\n\"message\": \"\",\\n\"version\": {\\n\"schema\": 3,\\n\"edition\": \"enterprise\",\\n\"api\": \"v2\"\\n},\\n\"results\": []\\n}'"
            ],
            "application/vnd.google.colaboratory.intrinsic+json": {
              "type": "string"
            }
          },
          "metadata": {},
          "execution_count": 47
        }
      ]
    },
    {
      "cell_type": "code",
      "source": [
        "query_list = []\n",
        "for relationship_info in relationship_infos:\n",
        "            query_list.append(str.format('ADD EDGE r_{} TO GRAPH {}; ADD EDGE reverse_r_{} TO GRAPH {};', relationship_info['name'], graph_name, relationship_info['name'], graph_name))\n",
        "\n",
        "add_edges_query = \"\\n\".join(query_list)\n",
        "add_edges_query = \"\"\"\n",
        "USE GLOBAL\n",
        "CREATE GLOBAL SCHEMA_CHANGE JOB add_edges_all {\n",
        "\"\"\" + add_edges_query + \"\"\"\n",
        "}\n",
        "RUN GLOBAL SCHEMA_CHANGE JOB add_edges_all\n",
        "\"\"\"\n",
        "print(add_edges_query)"
      ],
      "metadata": {
        "colab": {
          "base_uri": "https://localhost:8080/"
        },
        "id": "JZts-hw12hnc",
        "outputId": "6859e51d-4c2a-4fad-d840-2287e7981e91"
      },
      "execution_count": 106,
      "outputs": [
        {
          "output_type": "stream",
          "name": "stdout",
          "text": [
            "\n",
            "USE GLOBAL\n",
            "CREATE GLOBAL SCHEMA_CHANGE JOB add_edges_all {\n",
            "ADD EDGE r_buy TO GRAPH athenagraph1; ADD EDGE reverse_r_buy TO GRAPH athenagraph1;\n",
            "ADD EDGE r_beat TO GRAPH athenagraph1; ADD EDGE reverse_r_beat TO GRAPH athenagraph1;\n",
            "ADD EDGE r_result TO GRAPH athenagraph1; ADD EDGE reverse_r_result TO GRAPH athenagraph1;\n",
            "ADD EDGE r_sell TO GRAPH athenagraph1; ADD EDGE reverse_r_sell TO GRAPH athenagraph1;\n",
            "ADD EDGE r_miss TO GRAPH athenagraph1; ADD EDGE reverse_r_miss TO GRAPH athenagraph1;\n",
            "ADD EDGE r_rise TO GRAPH athenagraph1; ADD EDGE reverse_r_rise TO GRAPH athenagraph1;\n",
            "ADD EDGE r_report TO GRAPH athenagraph1; ADD EDGE reverse_r_report TO GRAPH athenagraph1;\n",
            "ADD EDGE r_declare TO GRAPH athenagraph1; ADD EDGE reverse_r_declare TO GRAPH athenagraph1;\n",
            "ADD EDGE r_hit TO GRAPH athenagraph1; ADD EDGE reverse_r_hit TO GRAPH athenagraph1;\n",
            "ADD EDGE r_announce TO GRAPH athenagraph1; ADD EDGE reverse_r_announce TO GRAPH athenagraph1;\n",
            "ADD EDGE r_expect TO GRAPH athenagraph1; ADD EDGE reverse_r_expect TO GRAPH athenagraph1;\n",
            "ADD EDGE r_continue TO GRAPH athenagraph1; ADD EDGE reverse_r_continue TO GRAPH athenagraph1;\n",
            "ADD EDGE r_watch TO GRAPH athenagraph1; ADD EDGE reverse_r_watch TO GRAPH athenagraph1;\n",
            "ADD EDGE r_fall TO GRAPH athenagraph1; ADD EDGE reverse_r_fall TO GRAPH athenagraph1;\n",
            "ADD EDGE r_see TO GRAPH athenagraph1; ADD EDGE reverse_r_see TO GRAPH athenagraph1;\n",
            "ADD EDGE r_call TO GRAPH athenagraph1; ADD EDGE reverse_r_call TO GRAPH athenagraph1;\n",
            "ADD EDGE r_rank TO GRAPH athenagraph1; ADD EDGE reverse_r_rank TO GRAPH athenagraph1;\n",
            "ADD EDGE r_may TO GRAPH athenagraph1; ADD EDGE reverse_r_may TO GRAPH athenagraph1;\n",
            "ADD EDGE r_look TO GRAPH athenagraph1; ADD EDGE reverse_r_look TO GRAPH athenagraph1;\n",
            "ADD EDGE r_get TO GRAPH athenagraph1; ADD EDGE reverse_r_get TO GRAPH athenagraph1;\n",
            "ADD EDGE r_add TO GRAPH athenagraph1; ADD EDGE reverse_r_add TO GRAPH athenagraph1;\n",
            "ADD EDGE r_q3 TO GRAPH athenagraph1; ADD EDGE reverse_r_q3 TO GRAPH athenagraph1;\n",
            "ADD EDGE r_show TO GRAPH athenagraph1; ADD EDGE reverse_r_show TO GRAPH athenagraph1;\n",
            "ADD EDGE r_lead TO GRAPH athenagraph1; ADD EDGE reverse_r_lead TO GRAPH athenagraph1;\n",
            "ADD EDGE r_go TO GRAPH athenagraph1; ADD EDGE reverse_r_go TO GRAPH athenagraph1;\n",
            "ADD EDGE r_move TO GRAPH athenagraph1; ADD EDGE reverse_r_move TO GRAPH athenagraph1;\n",
            "ADD EDGE r_make TO GRAPH athenagraph1; ADD EDGE reverse_r_make TO GRAPH athenagraph1;\n",
            "ADD EDGE r_hold TO GRAPH athenagraph1; ADD EDGE reverse_r_hold TO GRAPH athenagraph1;\n",
            "ADD EDGE r_downgrade TO GRAPH athenagraph1; ADD EDGE reverse_r_downgrade TO GRAPH athenagraph1;\n",
            "ADD EDGE r_could TO GRAPH athenagraph1; ADD EDGE reverse_r_could TO GRAPH athenagraph1;\n",
            "ADD EDGE r_invest TO GRAPH athenagraph1; ADD EDGE reverse_r_invest TO GRAPH athenagraph1;\n",
            "ADD EDGE r_upgrade TO GRAPH athenagraph1; ADD EDGE reverse_r_upgrade TO GRAPH athenagraph1;\n",
            "ADD EDGE r_track TO GRAPH athenagraph1; ADD EDGE reverse_r_track TO GRAPH athenagraph1;\n",
            "ADD EDGE r_grow TO GRAPH athenagraph1; ADD EDGE reverse_r_grow TO GRAPH athenagraph1;\n",
            "ADD EDGE r_gain TO GRAPH athenagraph1; ADD EDGE reverse_r_gain TO GRAPH athenagraph1;\n",
            "ADD EDGE r_improve TO GRAPH athenagraph1; ADD EDGE reverse_r_improve TO GRAPH athenagraph1;\n",
            "ADD EDGE r_take TO GRAPH athenagraph1; ADD EDGE reverse_r_take TO GRAPH athenagraph1;\n",
            "ADD EDGE r_estimate TO GRAPH athenagraph1; ADD EDGE reverse_r_estimate TO GRAPH athenagraph1;\n",
            "ADD EDGE r_keep TO GRAPH athenagraph1; ADD EDGE reverse_r_keep TO GRAPH athenagraph1;\n",
            "ADD EDGE r_surge TO GRAPH athenagraph1; ADD EDGE reverse_r_surge TO GRAPH athenagraph1;\n",
            "ADD EDGE r_raise TO GRAPH athenagraph1; ADD EDGE reverse_r_raise TO GRAPH athenagraph1;\n",
            "ADD EDGE r_update TO GRAPH athenagraph1; ADD EDGE reverse_r_update TO GRAPH athenagraph1;\n",
            "ADD EDGE r_jump TO GRAPH athenagraph1; ADD EDGE reverse_r_jump TO GRAPH athenagraph1;\n",
            "ADD EDGE r_close TO GRAPH athenagraph1; ADD EDGE reverse_r_close TO GRAPH athenagraph1;\n",
            "ADD EDGE r_earning TO GRAPH athenagraph1; ADD EDGE reverse_r_earning TO GRAPH athenagraph1;\n",
            "ADD EDGE r_increase TO GRAPH athenagraph1; ADD EDGE reverse_r_increase TO GRAPH athenagraph1;\n",
            "ADD EDGE r_boost TO GRAPH athenagraph1; ADD EDGE reverse_r_boost TO GRAPH athenagraph1;\n",
            "ADD EDGE r_say TO GRAPH athenagraph1; ADD EDGE reverse_r_say TO GRAPH athenagraph1;\n",
            "ADD EDGE r_offer TO GRAPH athenagraph1; ADD EDGE reverse_r_offer TO GRAPH athenagraph1;\n",
            "ADD EDGE r_win TO GRAPH athenagraph1; ADD EDGE reverse_r_win TO GRAPH athenagraph1;\n",
            "ADD EDGE r_know TO GRAPH athenagraph1; ADD EDGE reverse_r_know TO GRAPH athenagraph1;\n",
            "ADD EDGE r_set TO GRAPH athenagraph1; ADD EDGE reverse_r_set TO GRAPH athenagraph1;\n",
            "ADD EDGE r_top TO GRAPH athenagraph1; ADD EDGE reverse_r_top TO GRAPH athenagraph1;\n",
            "ADD EDGE r_acquire TO GRAPH athenagraph1; ADD EDGE reverse_r_acquire TO GRAPH athenagraph1;\n",
            "ADD EDGE r_remind TO GRAPH athenagraph1; ADD EDGE reverse_r_remind TO GRAPH athenagraph1;\n",
            "ADD EDGE r_expand TO GRAPH athenagraph1; ADD EDGE reverse_r_expand TO GRAPH athenagraph1;\n",
            "ADD EDGE r_include TO GRAPH athenagraph1; ADD EDGE reverse_r_include TO GRAPH athenagraph1;\n",
            "ADD EDGE r_drive TO GRAPH athenagraph1; ADD EDGE reverse_r_drive TO GRAPH athenagraph1;\n",
            "ADD EDGE r_remain TO GRAPH athenagraph1; ADD EDGE reverse_r_remain TO GRAPH athenagraph1;\n",
            "ADD EDGE r_come TO GRAPH athenagraph1; ADD EDGE reverse_r_come TO GRAPH athenagraph1;\n",
            "ADD EDGE r_poise TO GRAPH athenagraph1; ADD EDGE reverse_r_poise TO GRAPH athenagraph1;\n",
            "ADD EDGE r_cut TO GRAPH athenagraph1; ADD EDGE reverse_r_cut TO GRAPH athenagraph1;\n",
            "ADD EDGE r_end TO GRAPH athenagraph1; ADD EDGE reverse_r_end TO GRAPH athenagraph1;\n",
            "ADD EDGE r_launch TO GRAPH athenagraph1; ADD EDGE reverse_r_launch TO GRAPH athenagraph1;\n",
            "ADD EDGE r_trade TO GRAPH athenagraph1; ADD EDGE reverse_r_trade TO GRAPH athenagraph1;\n",
            "ADD EDGE r_pick TO GRAPH athenagraph1; ADD EDGE reverse_r_pick TO GRAPH athenagraph1;\n",
            "ADD EDGE r_lag TO GRAPH athenagraph1; ADD EDGE reverse_r_lag TO GRAPH athenagraph1;\n",
            "ADD EDGE r_undervalue TO GRAPH athenagraph1; ADD EDGE reverse_r_undervalue TO GRAPH athenagraph1;\n",
            "ADD EDGE r_agree TO GRAPH athenagraph1; ADD EDGE reverse_r_agree TO GRAPH athenagraph1;\n",
            "ADD EDGE r_dividend TO GRAPH athenagraph1; ADD EDGE reverse_r_dividend TO GRAPH athenagraph1;\n",
            "ADD EDGE r_soar TO GRAPH athenagraph1; ADD EDGE reverse_r_soar TO GRAPH athenagraph1;\n",
            "ADD EDGE r_stay TO GRAPH athenagraph1; ADD EDGE reverse_r_stay TO GRAPH athenagraph1;\n",
            "ADD EDGE r_provide TO GRAPH athenagraph1; ADD EDGE reverse_r_provide TO GRAPH athenagraph1;\n",
            "ADD EDGE r_focus TO GRAPH athenagraph1; ADD EDGE reverse_r_focus TO GRAPH athenagraph1;\n",
            "ADD EDGE r_co TO GRAPH athenagraph1; ADD EDGE reverse_r_co TO GRAPH athenagraph1;\n",
            "ADD EDGE r_emerge TO GRAPH athenagraph1; ADD EDGE reverse_r_emerge TO GRAPH athenagraph1;\n",
            "ADD EDGE r_perform TO GRAPH athenagraph1; ADD EDGE reverse_r_perform TO GRAPH athenagraph1;\n",
            "ADD EDGE r_pay TO GRAPH athenagraph1; ADD EDGE reverse_r_pay TO GRAPH athenagraph1;\n",
            "ADD EDGE r_earn TO GRAPH athenagraph1; ADD EDGE reverse_r_earn TO GRAPH athenagraph1;\n",
            "ADD EDGE r_yield TO GRAPH athenagraph1; ADD EDGE reverse_r_yield TO GRAPH athenagraph1;\n",
            "ADD EDGE r_present TO GRAPH athenagraph1; ADD EDGE reverse_r_present TO GRAPH athenagraph1;\n",
            "ADD EDGE r_file TO GRAPH athenagraph1; ADD EDGE reverse_r_file TO GRAPH athenagraph1;\n",
            "ADD EDGE r_rate TO GRAPH athenagraph1; ADD EDGE reverse_r_rate TO GRAPH athenagraph1;\n",
            "ADD EDGE r_prefer TO GRAPH athenagraph1; ADD EDGE reverse_r_prefer TO GRAPH athenagraph1;\n",
            "ADD EDGE r_apply TO GRAPH athenagraph1; ADD EDGE reverse_r_apply TO GRAPH athenagraph1;\n",
            "ADD EDGE r_feature TO GRAPH athenagraph1; ADD EDGE reverse_r_feature TO GRAPH athenagraph1;\n",
            "ADD EDGE r_start TO GRAPH athenagraph1; ADD EDGE reverse_r_start TO GRAPH athenagraph1;\n",
            "ADD EDGE r_turn TO GRAPH athenagraph1; ADD EDGE reverse_r_turn TO GRAPH athenagraph1;\n",
            "ADD EDGE r_follow TO GRAPH athenagraph1; ADD EDGE reverse_r_follow TO GRAPH athenagraph1;\n",
            "ADD EDGE r_post TO GRAPH athenagraph1; ADD EDGE reverse_r_post TO GRAPH athenagraph1;\n",
            "ADD EDGE r_play TO GRAPH athenagraph1; ADD EDGE reverse_r_play TO GRAPH athenagraph1;\n",
            "ADD EDGE r_find TO GRAPH athenagraph1; ADD EDGE reverse_r_find TO GRAPH athenagraph1;\n",
            "ADD EDGE r_price TO GRAPH athenagraph1; ADD EDGE reverse_r_price TO GRAPH athenagraph1;\n",
            "ADD EDGE r_decline TO GRAPH athenagraph1; ADD EDGE reverse_r_decline TO GRAPH athenagraph1;\n",
            "ADD EDGE r_view TO GRAPH athenagraph1; ADD EDGE reverse_r_view TO GRAPH athenagraph1;\n",
            "ADD EDGE r_give TO GRAPH athenagraph1; ADD EDGE reverse_r_give TO GRAPH athenagraph1;\n",
            "ADD EDGE r_reach TO GRAPH athenagraph1; ADD EDGE reverse_r_reach TO GRAPH athenagraph1;\n",
            "ADD EDGE r_extend TO GRAPH athenagraph1; ADD EDGE reverse_r_extend TO GRAPH athenagraph1;\n",
            "ADD EDGE r_receive TO GRAPH athenagraph1; ADD EDGE reverse_r_receive TO GRAPH athenagraph1;\n",
            "ADD EDGE r_seek TO GRAPH athenagraph1; ADD EDGE reverse_r_seek TO GRAPH athenagraph1;\n",
            "ADD EDGE r_need TO GRAPH athenagraph1; ADD EDGE reverse_r_need TO GRAPH athenagraph1;\n",
            "ADD EDGE r_work TO GRAPH athenagraph1; ADD EDGE reverse_r_work TO GRAPH athenagraph1;\n",
            "ADD EDGE r_rebound TO GRAPH athenagraph1; ADD EDGE reverse_r_rebound TO GRAPH athenagraph1;\n",
            "ADD EDGE r_fix TO GRAPH athenagraph1; ADD EDGE reverse_r_fix TO GRAPH athenagraph1;\n",
            "ADD EDGE r_mreit TO GRAPH athenagraph1; ADD EDGE reverse_r_mreit TO GRAPH athenagraph1;\n",
            "ADD EDGE r_consider TO GRAPH athenagraph1; ADD EDGE reverse_r_consider TO GRAPH athenagraph1;\n",
            "ADD EDGE r_drop TO GRAPH athenagraph1; ADD EDGE reverse_r_drop TO GRAPH athenagraph1;\n",
            "ADD EDGE r_complete TO GRAPH athenagraph1; ADD EDGE reverse_r_complete TO GRAPH athenagraph1;\n",
            "ADD EDGE r_meet TO GRAPH athenagraph1; ADD EDGE reverse_r_meet TO GRAPH athenagraph1;\n",
            "ADD EDGE r_rally TO GRAPH athenagraph1; ADD EDGE reverse_r_rally TO GRAPH athenagraph1;\n",
            "ADD EDGE r_reit TO GRAPH athenagraph1; ADD EDGE reverse_r_reit TO GRAPH athenagraph1;\n",
            "ADD EDGE r_handful TO GRAPH athenagraph1; ADD EDGE reverse_r_handful TO GRAPH athenagraph1;\n",
            "ADD EDGE r_face TO GRAPH athenagraph1; ADD EDGE reverse_r_face TO GRAPH athenagraph1;\n",
            "ADD EDGE r_break TO GRAPH athenagraph1; ADD EDGE reverse_r_break TO GRAPH athenagraph1;\n",
            "ADD EDGE r_lift TO GRAPH athenagraph1; ADD EDGE reverse_r_lift TO GRAPH athenagraph1;\n",
            "ADD EDGE r_ishare TO GRAPH athenagraph1; ADD EDGE reverse_r_ishare TO GRAPH athenagraph1;\n",
            "ADD EDGE r_slip TO GRAPH athenagraph1; ADD EDGE reverse_r_slip TO GRAPH athenagraph1;\n",
            "ADD EDGE r_run TO GRAPH athenagraph1; ADD EDGE reverse_r_run TO GRAPH athenagraph1;\n",
            "ADD EDGE r_hurt TO GRAPH athenagraph1; ADD EDGE reverse_r_hurt TO GRAPH athenagraph1;\n",
            "ADD EDGE r_loser TO GRAPH athenagraph1; ADD EDGE reverse_r_loser TO GRAPH athenagraph1;\n",
            "ADD EDGE r_open TO GRAPH athenagraph1; ADD EDGE reverse_r_open TO GRAPH athenagraph1;\n",
            "ADD EDGE r_deal TO GRAPH athenagraph1; ADD EDGE reverse_r_deal TO GRAPH athenagraph1;\n",
            "ADD EDGE r_rent TO GRAPH athenagraph1; ADD EDGE reverse_r_rent TO GRAPH athenagraph1;\n",
            "ADD EDGE r_share TO GRAPH athenagraph1; ADD EDGE reverse_r_share TO GRAPH athenagraph1;\n",
            "ADD EDGE r_highlight TO GRAPH athenagraph1; ADD EDGE reverse_r_highlight TO GRAPH athenagraph1;\n",
            "ADD EDGE r_identify TO GRAPH athenagraph1; ADD EDGE reverse_r_identify TO GRAPH athenagraph1;\n",
            "ADD EDGE r_build TO GRAPH athenagraph1; ADD EDGE reverse_r_build TO GRAPH athenagraph1;\n",
            "}\n",
            "RUN GLOBAL SCHEMA_CHANGE JOB add_edges_all\n",
            "\n"
          ]
        }
      ]
    },
    {
      "cell_type": "code",
      "source": [
        "conn.gsql(add_edges_query, graph_name)"
      ],
      "metadata": {
        "colab": {
          "base_uri": "https://localhost:8080/",
          "height": 122
        },
        "id": "FnZGgZGQ3Cvm",
        "outputId": "7c273eca-0f4e-4ec0-9864-3de265041cb1"
      },
      "execution_count": 107,
      "outputs": [
        {
          "output_type": "execute_result",
          "data": {
            "text/plain": [
              "'Successfully created global schema change jobs: [add_edges_all].\\n\\nCurrent graph version 1\\nTrying to add edge r_buy.\\nTrying to add edge reverse_r_buy.\\nTrying to add edge r_beat.\\nTrying to add edge reverse_r_beat.\\nTrying to add edge r_result.\\nTrying to add edge reverse_r_result.\\nTrying to add edge r_sell.\\nTrying to add edge reverse_r_sell.\\nTrying to add edge r_miss.\\nTrying to add edge reverse_r_miss.\\nTrying to add edge r_rise.\\nTrying to add edge reverse_r_rise.\\nTrying to add edge r_report.\\nTrying to add edge reverse_r_report.\\nTrying to add edge r_declare.\\nTrying to add edge reverse_r_declare.\\nTrying to add edge r_hit.\\nTrying to add edge reverse_r_hit.\\nTrying to add edge r_announce.\\nTrying to add edge reverse_r_announce.\\nTrying to add edge r_expect.\\nTrying to add edge reverse_r_expect.\\nTrying to add edge r_continue.\\nTrying to add edge reverse_r_continue.\\nTrying to add edge r_watch.\\nTrying to add edge reverse_r_watch.\\nTrying to add edge r_fall.\\nTrying to add edge reverse_r_fall.\\nTrying to add edge r_see.\\nTrying to add edge reverse_r_see.\\nTrying to add edge r_call.\\nTrying to add edge reverse_r_call.\\nTrying to add edge r_rank.\\nTrying to add edge reverse_r_rank.\\nTrying to add edge r_may.\\nTrying to add edge reverse_r_may.\\nTrying to add edge r_look.\\nTrying to add edge reverse_r_look.\\nTrying to add edge r_get.\\nTrying to add edge reverse_r_get.\\nTrying to add edge r_add.\\nTrying to add edge reverse_r_add.\\nTrying to add edge r_q3.\\nTrying to add edge reverse_r_q3.\\nTrying to add edge r_show.\\nTrying to add edge reverse_r_show.\\nTrying to add edge r_lead.\\nTrying to add edge reverse_r_lead.\\nTrying to add edge r_go.\\nTrying to add edge reverse_r_go.\\nTrying to add edge r_move.\\nTrying to add edge reverse_r_move.\\nTrying to add edge r_make.\\nTrying to add edge reverse_r_make.\\nTrying to add edge r_hold.\\nTrying to add edge reverse_r_hold.\\nTrying to add edge r_downgrade.\\nTrying to add edge reverse_r_downgrade.\\nTrying to add edge r_could.\\nTrying to add edge reverse_r_could.\\nTrying to add edge r_invest.\\nTrying to add edge reverse_r_invest.\\nTrying to add edge r_upgrade.\\nTrying to add edge reverse_r_upgrade.\\nTrying to add edge r_track.\\nTrying to add edge reverse_r_track.\\nTrying to add edge r_grow.\\nTrying to add edge reverse_r_grow.\\nTrying to add edge r_gain.\\nTrying to add edge reverse_r_gain.\\nTrying to add edge r_improve.\\nTrying to add edge reverse_r_improve.\\nTrying to add edge r_take.\\nTrying to add edge reverse_r_take.\\nTrying to add edge r_estimate.\\nTrying to add edge reverse_r_estimate.\\nTrying to add edge r_keep.\\nTrying to add edge reverse_r_keep.\\nTrying to add edge r_surge.\\nTrying to add edge reverse_r_surge.\\nTrying to add edge r_raise.\\nTrying to add edge reverse_r_raise.\\nTrying to add edge r_update.\\nTrying to add edge reverse_r_update.\\nTrying to add edge r_jump.\\nTrying to add edge reverse_r_jump.\\nTrying to add edge r_close.\\nTrying to add edge reverse_r_close.\\nTrying to add edge r_earning.\\nTrying to add edge reverse_r_earning.\\nTrying to add edge r_increase.\\nTrying to add edge reverse_r_increase.\\nTrying to add edge r_boost.\\nTrying to add edge reverse_r_boost.\\nTrying to add edge r_say.\\nTrying to add edge reverse_r_say.\\nTrying to add edge r_offer.\\nTrying to add edge reverse_r_offer.\\nTrying to add edge r_win.\\nTrying to add edge reverse_r_win.\\nTrying to add edge r_know.\\nTrying to add edge reverse_r_know.\\nTrying to add edge r_set.\\nTrying to add edge reverse_r_set.\\nTrying to add edge r_top.\\nTrying to add edge reverse_r_top.\\nTrying to add edge r_acquire.\\nTrying to add edge reverse_r_acquire.\\nTrying to add edge r_remind.\\nTrying to add edge reverse_r_remind.\\nTrying to add edge r_expand.\\nTrying to add edge reverse_r_expand.\\nTrying to add edge r_include.\\nTrying to add edge reverse_r_include.\\nTrying to add edge r_drive.\\nTrying to add edge reverse_r_drive.\\nTrying to add edge r_remain.\\nTrying to add edge reverse_r_remain.\\nTrying to add edge r_come.\\nTrying to add edge reverse_r_come.\\nTrying to add edge r_poise.\\nTrying to add edge reverse_r_poise.\\nTrying to add edge r_cut.\\nTrying to add edge reverse_r_cut.\\nTrying to add edge r_end.\\nTrying to add edge reverse_r_end.\\nTrying to add edge r_launch.\\nTrying to add edge reverse_r_launch.\\nTrying to add edge r_trade.\\nTrying to add edge reverse_r_trade.\\nTrying to add edge r_pick.\\nTrying to add edge reverse_r_pick.\\nTrying to add edge r_lag.\\nTrying to add edge reverse_r_lag.\\nTrying to add edge r_undervalue.\\nTrying to add edge reverse_r_undervalue.\\nTrying to add edge r_agree.\\nTrying to add edge reverse_r_agree.\\nTrying to add edge r_dividend.\\nTrying to add edge reverse_r_dividend.\\nTrying to add edge r_soar.\\nTrying to add edge reverse_r_soar.\\nTrying to add edge r_stay.\\nTrying to add edge reverse_r_stay.\\nTrying to add edge r_provide.\\nTrying to add edge reverse_r_provide.\\nTrying to add edge r_focus.\\nTrying to add edge reverse_r_focus.\\nTrying to add edge r_co.\\nTrying to add edge reverse_r_co.\\nTrying to add edge r_emerge.\\nTrying to add edge reverse_r_emerge.\\nTrying to add edge r_perform.\\nTrying to add edge reverse_r_perform.\\nTrying to add edge r_pay.\\nTrying to add edge reverse_r_pay.\\nTrying to add edge r_earn.\\nTrying to add edge reverse_r_earn.\\nTrying to add edge r_yield.\\nTrying to add edge reverse_r_yield.\\nTrying to add edge r_present.\\nTrying to add edge reverse_r_present.\\nTrying to add edge r_file.\\nTrying to add edge reverse_r_file.\\nTrying to add edge r_rate.\\nTrying to add edge reverse_r_rate.\\nTrying to add edge r_prefer.\\nTrying to add edge reverse_r_prefer.\\nTrying to add edge r_apply.\\nTrying to add edge reverse_r_apply.\\nTrying to add edge r_feature.\\nTrying to add edge reverse_r_feature.\\nTrying to add edge r_start.\\nTrying to add edge reverse_r_start.\\nTrying to add edge r_turn.\\nTrying to add edge reverse_r_turn.\\nTrying to add edge r_follow.\\nTrying to add edge reverse_r_follow.\\nTrying to add edge r_post.\\nTrying to add edge reverse_r_post.\\nTrying to add edge r_play.\\nTrying to add edge reverse_r_play.\\nTrying to add edge r_find.\\nTrying to add edge reverse_r_find.\\nTrying to add edge r_price.\\nTrying to add edge reverse_r_price.\\nTrying to add edge r_decline.\\nTrying to add edge reverse_r_decline.\\nTrying to add edge r_view.\\nTrying to add edge reverse_r_view.\\nTrying to add edge r_give.\\nTrying to add edge reverse_r_give.\\nTrying to add edge r_reach.\\nTrying to add edge reverse_r_reach.\\nTrying to add edge r_extend.\\nTrying to add edge reverse_r_extend.\\nTrying to add edge r_receive.\\nTrying to add edge reverse_r_receive.\\nTrying to add edge r_seek.\\nTrying to add edge reverse_r_seek.\\nTrying to add edge r_need.\\nTrying to add edge reverse_r_need.\\nTrying to add edge r_work.\\nTrying to add edge reverse_r_work.\\nTrying to add edge r_rebound.\\nTrying to add edge reverse_r_rebound.\\nTrying to add edge r_fix.\\nTrying to add edge reverse_r_fix.\\nTrying to add edge r_mreit.\\nTrying to add edge reverse_r_mreit.\\nTrying to add edge r_consider.\\nTrying to add edge reverse_r_consider.\\nTrying to add edge r_drop.\\nTrying to add edge reverse_r_drop.\\nTrying to add edge r_complete.\\nTrying to add edge reverse_r_complete.\\nTrying to add edge r_meet.\\nTrying to add edge reverse_r_meet.\\nTrying to add edge r_rally.\\nTrying to add edge reverse_r_rally.\\nTrying to add edge r_reit.\\nTrying to add edge reverse_r_reit.\\nTrying to add edge r_handful.\\nTrying to add edge reverse_r_handful.\\nTrying to add edge r_face.\\nTrying to add edge reverse_r_face.\\nTrying to add edge r_break.\\nTrying to add edge reverse_r_break.\\nTrying to add edge r_lift.\\nTrying to add edge reverse_r_lift.\\nTrying to add edge r_ishare.\\nTrying to add edge reverse_r_ishare.\\nTrying to add edge r_slip.\\nTrying to add edge reverse_r_slip.\\nTrying to add edge r_run.\\nTrying to add edge reverse_r_run.\\nTrying to add edge r_hurt.\\nTrying to add edge reverse_r_hurt.\\nTrying to add edge r_loser.\\nTrying to add edge reverse_r_loser.\\nTrying to add edge r_open.\\nTrying to add edge reverse_r_open.\\nTrying to add edge r_deal.\\nTrying to add edge reverse_r_deal.\\nTrying to add edge r_rent.\\nTrying to add edge reverse_r_rent.\\nTrying to add edge r_share.\\nTrying to add edge reverse_r_share.\\nTrying to add edge r_highlight.\\nTrying to add edge reverse_r_highlight.\\nTrying to add edge r_identify.\\nTrying to add edge reverse_r_identify.\\nTrying to add edge r_build.\\nTrying to add edge reverse_r_build.\\n\\nGraph athenagraph1 update to new version 2\\nGlobal schema change succeeded.'"
            ],
            "application/vnd.google.colaboratory.intrinsic+json": {
              "type": "string"
            }
          },
          "metadata": {},
          "execution_count": 107
        }
      ]
    },
    {
      "cell_type": "code",
      "source": [
        "conn.gsql('''  \n",
        "USE GRAPH athenagraph1\n",
        "''', graph_name)"
      ],
      "metadata": {
        "colab": {
          "base_uri": "https://localhost:8080/",
          "height": 35
        },
        "id": "D5XOmP6W5xD9",
        "outputId": "d849bf75-5f0c-4b7c-c4f3-1f4c7d969cee"
      },
      "execution_count": 37,
      "outputs": [
        {
          "output_type": "execute_result",
          "data": {
            "text/plain": [
              "\"Using graph 'athenagraph1'\""
            ],
            "application/vnd.google.colaboratory.intrinsic+json": {
              "type": "string"
            }
          },
          "metadata": {},
          "execution_count": 37
        }
      ]
    },
    {
      "cell_type": "code",
      "source": [
        "conn.gsql('''\n",
        "Use global\n",
        "CREATE DIRECTED EDGE r_sample_invest (FROM Organization, TO Location, label STRING, happened DATETIME, month UINT, year UINT) WITH REVERSE_EDGE=\"reverse_r_sample_invest\"\n",
        "''')"
      ],
      "metadata": {
        "colab": {
          "base_uri": "https://localhost:8080/",
          "height": 35
        },
        "id": "GXmyERqz8WsT",
        "outputId": "481b1afb-ec02-46ca-de8e-fdcaa64bb1bd"
      },
      "execution_count": 30,
      "outputs": [
        {
          "output_type": "execute_result",
          "data": {
            "text/plain": [
              "'Successfully created edge types: [r_sample_invest].\\nSuccessfully created reverse edge types: [reverse_r_sample_invest].'"
            ],
            "application/vnd.google.colaboratory.intrinsic+json": {
              "type": "string"
            }
          },
          "metadata": {},
          "execution_count": 30
        }
      ]
    },
    {
      "cell_type": "code",
      "source": [
        "conn.gsql('''\n",
        "Use global\n",
        "CREATE GLOBAL SCHEMA_CHANGE JOB add_sample_edge {\n",
        "ADD EDGE r_sample_invest TO GRAPH athenagraph1; ADD EDGE reverse_r_sample_invest TO GRAPH athenagraph1;\n",
        "}\n",
        "RUN GLOBAL SCHEMA_CHANGE JOB add_sample_edge\n",
        "''')"
      ],
      "metadata": {
        "colab": {
          "base_uri": "https://localhost:8080/",
          "height": 53
        },
        "id": "k0Wsuew68nH2",
        "outputId": "78f50e5a-e493-4f69-a38b-9e56b6f4ebfd"
      },
      "execution_count": 35,
      "outputs": [
        {
          "output_type": "execute_result",
          "data": {
            "text/plain": [
              "'Successfully created global schema change jobs: [add_sample_edge].\\n\\nCurrent graph version 2\\nTrying to add edge r_sample_invest.\\nTrying to add edge reverse_r_sample_invest.\\n\\nGraph athenagraph1 update to new version 3\\nGlobal schema change succeeded.'"
            ],
            "application/vnd.google.colaboratory.intrinsic+json": {
              "type": "string"
            }
          },
          "metadata": {},
          "execution_count": 35
        }
      ]
    },
    {
      "cell_type": "code",
      "source": [
        "conn.gsql('''  \n",
        "BEGIN\n",
        "INTERPRET QUERY () FOR GRAPH athenagraph1 {\n",
        "tmp1 = SELECT f FROM Organization:f WHERE f.name ==\"Microsoft Corporation\";\n",
        "tmp2 = SELECT t FROM Location:t WHERE t.name ==\"India\";\n",
        "\n",
        "INSERT INTO EDGE r_invest VALUES (tmp1 Organization, tmp2 Location, \"\", to_datetime(\"2022-04-07\"), 04, 2022);\n",
        "}\n",
        "END\n",
        "''', graph_name)"
      ],
      "metadata": {
        "colab": {
          "base_uri": "https://localhost:8080/",
          "height": 53
        },
        "id": "SdL7zXjedGkE",
        "outputId": "c7a7c57e-8725-457f-8e2e-5e6fbc1580fb"
      },
      "execution_count": 27,
      "outputs": [
        {
          "output_type": "execute_result",
          "data": {
            "text/plain": [
              "\"\\nType Check Error in query  (TYP-5601): line 7, col 0\\nThe FROM vertex expression must be either a string or numeric expression\\nrepresenting vertex's external id, or a vertex in context. Vertex Set is not\\nvalid.\""
            ],
            "application/vnd.google.colaboratory.intrinsic+json": {
              "type": "string"
            }
          },
          "metadata": {},
          "execution_count": 27
        }
      ]
    },
    {
      "cell_type": "code",
      "source": [
        "conn.gsql('''  \n",
        "BEGIN\n",
        "INTERPRET QUERY () FOR GRAPH athenagraph1  {\n",
        "tmp1 = SELECT f FROM Organization:f WHERE f.name ==\"Microsoft Corporation\";\n",
        "tmp2 = SELECT t FROM Location:t WHERE t.name ==\"India\";\n",
        "\n",
        "#INSERT INTO EDGE r_sample_invest VALUES (tmp1 Organization, tmp2 Location, \"\", to_datetime(\"2022-04-07\"), 04, 2022);\n",
        "INSERT INTO EDGE r_sample_invest(FROM, TO) VALUES (\"1\", \"2\");\n",
        "}\n",
        "END\n",
        "''', graph_name)"
      ],
      "metadata": {
        "colab": {
          "base_uri": "https://localhost:8080/",
          "height": 35
        },
        "id": "KX5GCJS49rOQ",
        "outputId": "673e544e-5de9-4cd9-86ad-4730e565b878"
      },
      "execution_count": 56,
      "outputs": [
        {
          "output_type": "execute_result",
          "data": {
            "text/plain": [
              "'{\\n\"error\": false,\\n\"message\": \"\",\\n\"version\": {\\n\"schema\": 3,\\n\"edition\": \"enterprise\",\\n\"api\": \"v2\"\\n},\\n\"results\": []\\n}'"
            ],
            "application/vnd.google.colaboratory.intrinsic+json": {
              "type": "string"
            }
          },
          "metadata": {},
          "execution_count": 56
        }
      ]
    },
    {
      "cell_type": "code",
      "source": [
        "conn.gsql('''  \n",
        "BEGIN\n",
        "CREATE QUERY InsertSampleInvestEdge () FOR GRAPH athenagraph1  {\n",
        "tmp1 = SELECT f FROM Organization:f WHERE f.name ==\"Microsoft Corporation\";\n",
        "tmp2 = SELECT t FROM Location:t WHERE t.name ==\"India\";\n",
        "\n",
        "INSERT INTO EDGE r_sample_invest VALUES (tmp1 Organization, tmp2 Location, \"\", to_datetime(\"2022-04-07\"), 04, 2022);\n",
        "}\n",
        "INSTALL QUERY InsertSampleInvestEdge\n",
        "RUN QUERY InsertSampleInvestEdge()\n",
        "END\n",
        "''', graph_name)"
      ],
      "metadata": {
        "colab": {
          "base_uri": "https://localhost:8080/",
          "height": 53
        },
        "id": "eBtk3J3p-YXd",
        "outputId": "5d5b977a-82dc-49e7-c65c-2e2210b5b434"
      },
      "execution_count": 44,
      "outputs": [
        {
          "output_type": "execute_result",
          "data": {
            "text/plain": [
              "\"\\nType Check Error in query InsertSampleInvestEdge (TYP-5601): line 7, col 0\\nThe FROM vertex expression must be either a string or numeric expression\\nrepresenting vertex's external id, or a vertex in context. Vertex Set is not\\nvalid.\\nFailed to create queries: [InsertSampleInvestEdge].\""
            ],
            "application/vnd.google.colaboratory.intrinsic+json": {
              "type": "string"
            }
          },
          "metadata": {},
          "execution_count": 44
        }
      ]
    },
    {
      "cell_type": "code",
      "source": [
        "result = conn.gsql('''  \n",
        "BEGIN\n",
        "INTERPRET QUERY () FOR GRAPH athenagraph1 {\n",
        "tmp = SELECT f FROM Organization:f WHERE f.name ==\"Microsoft Corporation\";\n",
        "print tmp;\n",
        "}\n",
        "END\n",
        "''', graph_name)\n",
        "json.loads(result)"
      ],
      "metadata": {
        "colab": {
          "base_uri": "https://localhost:8080/"
        },
        "id": "4qZk91iNu6fH",
        "outputId": "965be2a1-2fcf-4550-91fa-e46e75df7099"
      },
      "execution_count": 14,
      "outputs": [
        {
          "output_type": "execute_result",
          "data": {
            "text/plain": [
              "{'error': False,\n",
              " 'message': '',\n",
              " 'results': [{'tmp': [{'attributes': {'id': '1',\n",
              "      'name': 'Microsoft Corporation'},\n",
              "     'v_id': '1',\n",
              "     'v_type': 'Organization'}]}],\n",
              " 'version': {'api': 'v2', 'edition': 'enterprise', 'schema': 2}}"
            ]
          },
          "metadata": {},
          "execution_count": 14
        }
      ]
    },
    {
      "cell_type": "code",
      "source": [
        "result = conn.gsql('''  \n",
        "BEGIN\n",
        "INTERPRET QUERY () FOR GRAPH athenagraph1 {\n",
        "tmp = SELECT t FROM Location:t WHERE t.name ==\"India\";\n",
        "print tmp;\n",
        "}\n",
        "END\n",
        "''', graph_name)\n",
        "json.loads(result)"
      ],
      "metadata": {
        "colab": {
          "base_uri": "https://localhost:8080/"
        },
        "id": "swYb0sGvwryx",
        "outputId": "658df265-9b2d-4f0b-99a3-d4a2e14cdad4"
      },
      "execution_count": 13,
      "outputs": [
        {
          "output_type": "execute_result",
          "data": {
            "text/plain": [
              "{'error': False,\n",
              " 'message': '',\n",
              " 'results': [{'tmp': [{'attributes': {'id': '1', 'name': 'India'},\n",
              "     'v_id': '1',\n",
              "     'v_type': 'Location'}]}],\n",
              " 'version': {'api': 'v2', 'edition': 'enterprise', 'schema': 2}}"
            ]
          },
          "metadata": {},
          "execution_count": 13
        }
      ]
    },
    {
      "cell_type": "code",
      "source": [
        ""
      ],
      "metadata": {
        "id": "BlDMRct8w8q4"
      },
      "execution_count": null,
      "outputs": []
    }
  ]
}