{
  "nbformat": 4,
  "nbformat_minor": 0,
  "metadata": {
    "colab": {
      "name": "Word Count + Most used verbs / nouns in corpus",
      "provenance": [],
      "collapsed_sections": []
    },
    "kernelspec": {
      "name": "python3",
      "display_name": "Python 3"
    },
    "language_info": {
      "name": "python"
    }
  },
  "cells": [
    {
      "cell_type": "code",
      "execution_count": 1,
      "metadata": {
        "id": "HS81iYnEd3rl"
      },
      "outputs": [],
      "source": [
        "import numpy as np\n",
        "import pandas as pd"
      ]
    },
    {
      "cell_type": "code",
      "source": [
        "from google.colab import drive\n",
        "drive.mount('/content/drive')"
      ],
      "metadata": {
        "colab": {
          "base_uri": "https://localhost:8080/"
        },
        "id": "IgoBmUwF2OkW",
        "outputId": "fbae751a-0553-4d1b-baf3-d7fd6b1f5369"
      },
      "execution_count": 5,
      "outputs": [
        {
          "output_type": "stream",
          "name": "stdout",
          "text": [
            "Mounted at /content/drive\n"
          ]
        }
      ]
    },
    {
      "cell_type": "code",
      "source": [
        "df = pd.read_csv('/content/drive/MyDrive/Colab Notebooks/Graph data/raw_partner_headlines.csv')"
      ],
      "metadata": {
        "id": "vzENDWcp2QsG"
      },
      "execution_count": 6,
      "outputs": []
    },
    {
      "cell_type": "code",
      "source": [
        "import spacy\n",
        "nlp_pipeline = spacy.load(\"en_core_web_sm\")"
      ],
      "metadata": {
        "id": "InF3ZZ4m6_-I"
      },
      "execution_count": 7,
      "outputs": []
    },
    {
      "cell_type": "code",
      "source": [
        "from collections import Counter"
      ],
      "metadata": {
        "id": "tcVmBGr67PJ8"
      },
      "execution_count": 10,
      "outputs": []
    },
    {
      "cell_type": "code",
      "source": [
        ""
      ],
      "metadata": {
        "id": "iI68zIEI7UsQ"
      },
      "execution_count": 51,
      "outputs": []
    },
    {
      "cell_type": "code",
      "source": [
        "import nltk\n",
        "nltk.download('stopwords')\n",
        "nltk.download('punkt')\n",
        "from nltk.corpus import stopwords\n",
        "stop_words = set(stopwords.words('english'))"
      ],
      "metadata": {
        "colab": {
          "base_uri": "https://localhost:8080/"
        },
        "id": "qFbfuOvz8Tw3",
        "outputId": "d330ed78-9296-42fc-9990-0c4a77bea350"
      },
      "execution_count": 19,
      "outputs": [
        {
          "output_type": "stream",
          "name": "stdout",
          "text": [
            "[nltk_data] Downloading package stopwords to /root/nltk_data...\n",
            "[nltk_data]   Package stopwords is already up-to-date!\n",
            "[nltk_data] Downloading package punkt to /root/nltk_data...\n",
            "[nltk_data]   Unzipping tokenizers/punkt.zip.\n"
          ]
        }
      ]
    },
    {
      "cell_type": "code",
      "source": [
        "#test the data\n",
        "for index, row in df.iterrows():\n",
        "    print(row['headline'], row['date'])\n",
        "    if index > 10:\n",
        "      break"
      ],
      "metadata": {
        "colab": {
          "base_uri": "https://localhost:8080/"
        },
        "id": "72i7xzkz8lV3",
        "outputId": "2c875dbe-f1c1-47c8-f20a-a23e5b4c2cc5"
      },
      "execution_count": 15,
      "outputs": [
        {
          "output_type": "stream",
          "name": "stdout",
          "text": [
            "Agilent Technologies Announces Pricing of $5…… Million of Senior Notes 2020-06-01 00:00:00\n",
            "Agilent (A) Gears Up for Q2 Earnings: What's in the Cards? 2020-05-18 00:00:00\n",
            "J.P. Morgan Asset Management Announces Liquidation of Six Exchange-Traded Funds 2020-05-15 00:00:00\n",
            "Pershing Square Capital Management, L.P. Buys Agilent Technologies Inc, The Howard Hughes Corp, ... 2020-05-15 00:00:00\n",
            "Agilent Awards Trilogy Sciences with a Golden Ticket at LabCentral 2020-05-12 00:00:00\n",
            "Agilent Technologies Inc (A) CEO and President Michael R. Mcmullen Sold $–.4 million of Shares 2020-05-11 00:00:00\n",
            "' Stocks Growing Their Earnings Fast 2020-05-07 00:00:00\n",
            "Cypress Asset Management Inc Buys Verizon Communications Inc, United Parcel Service Inc, ... 2020-05-07 00:00:00\n",
            "Hendley & Co Inc Buys American Electric Power Co Inc, Agilent Technologies Inc, Paychex ... 2020-05-05 00:00:00\n",
            "Teacher Retirement System Of Texas Buys Hologic Inc, Vanguard Total Stock Market, Agilent ... 2020-05-05 00:00:00\n",
            "Cookson Peirce & Co Inc Buys Eli Lilly and Co, Vertex Pharmaceuticals Inc, Netflix Inc, ... 2020-05-04 00:00:00\n",
            "Agilent Technologies Inc (A) CEO and President Michael R. Mcmullen Sold $–.– million of Shares 2020-04-30 00:00:00\n"
          ]
        }
      ]
    },
    {
      "cell_type": "code",
      "source": [
        "from nltk.tokenize import word_tokenize, sent_tokenize"
      ],
      "metadata": {
        "id": "ZJFytm4s9Vh3"
      },
      "execution_count": 17,
      "outputs": []
    },
    {
      "cell_type": "code",
      "source": [
        "stop_words"
      ],
      "metadata": {
        "colab": {
          "base_uri": "https://localhost:8080/"
        },
        "id": "Ghjwd6f9-KVZ",
        "outputId": "6084ee04-ac9d-43d8-91bc-40cac203713c"
      },
      "execution_count": 27,
      "outputs": [
        {
          "output_type": "execute_result",
          "data": {
            "text/plain": [
              "{'a',\n",
              " 'about',\n",
              " 'above',\n",
              " 'after',\n",
              " 'again',\n",
              " 'against',\n",
              " 'ain',\n",
              " 'all',\n",
              " 'am',\n",
              " 'an',\n",
              " 'and',\n",
              " 'any',\n",
              " 'are',\n",
              " 'aren',\n",
              " \"aren't\",\n",
              " 'as',\n",
              " 'at',\n",
              " 'be',\n",
              " 'because',\n",
              " 'been',\n",
              " 'before',\n",
              " 'being',\n",
              " 'below',\n",
              " 'between',\n",
              " 'both',\n",
              " 'but',\n",
              " 'by',\n",
              " 'can',\n",
              " 'couldn',\n",
              " \"couldn't\",\n",
              " 'd',\n",
              " 'did',\n",
              " 'didn',\n",
              " \"didn't\",\n",
              " 'do',\n",
              " 'does',\n",
              " 'doesn',\n",
              " \"doesn't\",\n",
              " 'doing',\n",
              " 'don',\n",
              " \"don't\",\n",
              " 'down',\n",
              " 'during',\n",
              " 'each',\n",
              " 'few',\n",
              " 'for',\n",
              " 'from',\n",
              " 'further',\n",
              " 'had',\n",
              " 'hadn',\n",
              " \"hadn't\",\n",
              " 'has',\n",
              " 'hasn',\n",
              " \"hasn't\",\n",
              " 'have',\n",
              " 'haven',\n",
              " \"haven't\",\n",
              " 'having',\n",
              " 'he',\n",
              " 'her',\n",
              " 'here',\n",
              " 'hers',\n",
              " 'herself',\n",
              " 'him',\n",
              " 'himself',\n",
              " 'his',\n",
              " 'how',\n",
              " 'i',\n",
              " 'if',\n",
              " 'in',\n",
              " 'into',\n",
              " 'is',\n",
              " 'isn',\n",
              " \"isn't\",\n",
              " 'it',\n",
              " \"it's\",\n",
              " 'its',\n",
              " 'itself',\n",
              " 'just',\n",
              " 'll',\n",
              " 'm',\n",
              " 'ma',\n",
              " 'me',\n",
              " 'mightn',\n",
              " \"mightn't\",\n",
              " 'more',\n",
              " 'most',\n",
              " 'mustn',\n",
              " \"mustn't\",\n",
              " 'my',\n",
              " 'myself',\n",
              " 'needn',\n",
              " \"needn't\",\n",
              " 'no',\n",
              " 'nor',\n",
              " 'not',\n",
              " 'now',\n",
              " 'o',\n",
              " 'of',\n",
              " 'off',\n",
              " 'on',\n",
              " 'once',\n",
              " 'only',\n",
              " 'or',\n",
              " 'other',\n",
              " 'our',\n",
              " 'ours',\n",
              " 'ourselves',\n",
              " 'out',\n",
              " 'over',\n",
              " 'own',\n",
              " 're',\n",
              " 's',\n",
              " 'same',\n",
              " 'shan',\n",
              " \"shan't\",\n",
              " 'she',\n",
              " \"she's\",\n",
              " 'should',\n",
              " \"should've\",\n",
              " 'shouldn',\n",
              " \"shouldn't\",\n",
              " 'so',\n",
              " 'some',\n",
              " 'such',\n",
              " 't',\n",
              " 'than',\n",
              " 'that',\n",
              " \"that'll\",\n",
              " 'the',\n",
              " 'their',\n",
              " 'theirs',\n",
              " 'them',\n",
              " 'themselves',\n",
              " 'then',\n",
              " 'there',\n",
              " 'these',\n",
              " 'they',\n",
              " 'this',\n",
              " 'those',\n",
              " 'through',\n",
              " 'to',\n",
              " 'too',\n",
              " 'under',\n",
              " 'until',\n",
              " 'up',\n",
              " 've',\n",
              " 'very',\n",
              " 'was',\n",
              " 'wasn',\n",
              " \"wasn't\",\n",
              " 'we',\n",
              " 'were',\n",
              " 'weren',\n",
              " \"weren't\",\n",
              " 'what',\n",
              " 'when',\n",
              " 'where',\n",
              " 'which',\n",
              " 'while',\n",
              " 'who',\n",
              " 'whom',\n",
              " 'why',\n",
              " 'will',\n",
              " 'with',\n",
              " 'won',\n",
              " \"won't\",\n",
              " 'wouldn',\n",
              " \"wouldn't\",\n",
              " 'y',\n",
              " 'you',\n",
              " \"you'd\",\n",
              " \"you'll\",\n",
              " \"you're\",\n",
              " \"you've\",\n",
              " 'your',\n",
              " 'yours',\n",
              " 'yourself',\n",
              " 'yourselves'}"
            ]
          },
          "metadata": {},
          "execution_count": 27
        }
      ]
    },
    {
      "cell_type": "code",
      "source": [
        "#loop through and add to the list of words - subset \n",
        "symbols = ['`','~', '!','@', '#', '$', '%', '^', '&', '*', '(', ')', '-', '_', '+', '=', '{', '[', '}', ']', '|', '\\\\', ':', ';', '\"', '\\'',',', '<', '.', '>', '?', '/' ]\n",
        "\n",
        "for index, row in df.iterrows():\n",
        "    content = str.lower(row['headline'])\n",
        "    tokenized = [w for w in word_tokenize(content) if not w in stop_words and not w in symbols]\n",
        "    print(tokenized)\n",
        "    if index > 100:\n",
        "      break"
      ],
      "metadata": {
        "colab": {
          "base_uri": "https://localhost:8080/"
        },
        "id": "HGOKyfL28_7J",
        "outputId": "33c81ffc-308b-4afc-df82-a534355193ec"
      },
      "execution_count": 34,
      "outputs": [
        {
          "output_type": "stream",
          "name": "stdout",
          "text": [
            "['agilent', 'technologies', 'announces', 'pricing', '5……', 'million', 'senior', 'notes']\n",
            "['agilent', 'gears', 'q2', 'earnings', \"'s\", 'cards']\n",
            "['j.p.', 'morgan', 'asset', 'management', 'announces', 'liquidation', 'six', 'exchange-traded', 'funds']\n",
            "['pershing', 'square', 'capital', 'management', 'l.p.', 'buys', 'agilent', 'technologies', 'inc', 'howard', 'hughes', 'corp', '...']\n",
            "['agilent', 'awards', 'trilogy', 'sciences', 'golden', 'ticket', 'labcentral']\n",
            "['agilent', 'technologies', 'inc', 'ceo', 'president', 'michael', 'r.', 'mcmullen', 'sold', '–.4', 'million', 'shares']\n",
            "['stocks', 'growing', 'earnings', 'fast']\n",
            "['cypress', 'asset', 'management', 'inc', 'buys', 'verizon', 'communications', 'inc', 'united', 'parcel', 'service', 'inc', '...']\n",
            "['hendley', 'co', 'inc', 'buys', 'american', 'electric', 'power', 'co', 'inc', 'agilent', 'technologies', 'inc', 'paychex', '...']\n",
            "['teacher', 'retirement', 'system', 'texas', 'buys', 'hologic', 'inc', 'vanguard', 'total', 'stock', 'market', 'agilent', '...']\n",
            "['cookson', 'peirce', 'co', 'inc', 'buys', 'eli', 'lilly', 'co', 'vertex', 'pharmaceuticals', 'inc', 'netflix', 'inc', '...']\n",
            "['agilent', 'technologies', 'inc', 'ceo', 'president', 'michael', 'r.', 'mcmullen', 'sold', '–.–', 'million', 'shares']\n",
            "['agilent', 'technologies', 'inc', 'ceo', 'president', 'michael', 'r.', 'mcmullen', 'sold', '67–,6—7', 'shares']\n",
            "['s.e.e.d', 'planning', 'group', 'llc', 'buys', 'vaneck', 'vectors', 'morningstar', 'wide', 'moat', 'pepsico', 'inc', 'ecolab', 'inc', '...']\n",
            "['agilent', 'withdraws', 'q2', 'fy20', 'view', 'amid', 'coronavirus', 'crisis']\n",
            "['top', '–st-quarter', 'buys', 'jerome', 'dodson', \"'s\", 'parnassus', 'fund']\n",
            "['bill', 'ackman', 'agilent', 'technologies']\n",
            "['bill', 'ackman', \"'s\", 'pershing', 'square', '—…–9', 'annual', 'letter', 'shareholders']\n",
            "['parnassus', 'endeavor', 'fund', 'adds', 'stocks', 'portfolio', '–st', 'quarter']\n",
            "['parnassus', 'endeavor', 'fund', 'buys', 'fedex', 'corp', 'vf', 'corp', 'expeditors', 'international', 'washington', 'inc', '...']\n",
            "['parnassus', 'fund', 'buys', 'kla', 'corp', 'agilent', 'technologies', 'inc', 'square', 'inc', 'sells', 'alliance', 'data', 'systems', '...']\n",
            "['lgt', 'capital', 'partners', 'ltd.', 'buys', 'microsoft', 'corp', 'stryker', 'corp', 'estee', 'lauder', 'inc', 'sells', '...']\n",
            "['timing', 'market', 'possible', 'april', '07', '2020']\n",
            "['agilent', 'technologies', 'change', 'location', 'annual', 'meeting']\n",
            "['bill', 'ackman', \"'s\", 'pershing', 'square', 'releases', 'letter', 'investors']\n",
            "['agilent', 'technologies', 'gains', 'market', 'dips', 'know']\n",
            "['stocks', 'flashing', 'renewed', 'technical', 'strength', 'agilent', 'technologies']\n",
            "['agilent', '19.3', 'since', 'last', 'earnings', 'report']\n",
            "['agilent', 'technologies', 'announces', 'cash', 'dividend', '–8', 'cents', 'per', 'share']\n",
            "['agilent', 'technologies', 'adjourn', 'annual', 'meeting', 'april', '–7', '—…—…']\n",
            "['agilent', 'introduces', 'crosslab', 'connect', 'services', 'lab-wide', 'asset', 'monitoring']\n",
            "['6', 'guru', 'stocks', 'trading', 'low', 'price-sales', 'ratios']\n",
            "['stock', 'upgrades', 'agilent', 'technologies', 'shows', 'rising', 'relative', 'strength']\n",
            "['fitbit', 'fit', 'q4', 'loss', 'wider', 'estimated', 'revenues', 'lag']\n",
            "['time', 'markets', 'like', 'investing', 'pro', 'february', '20', '2020']\n",
            "['stock', 'chart', 'breakdown', 'alert', 'agilent', 'tech']\n",
            "['agilent', 'q1', 'earnings', 'line', 'estimates', 'revenues', 'top']\n",
            "['bill', 'ackman', \"'s\", 'pershing', 'square', '4th-quarter', 'update']\n",
            "['godaddy', 'gddy', 'q4', 'earnings', 'miss', 'estimates', 'revenues', 'beat']\n",
            "['wunderlich', 'capital', 'managemnt', 'buys', 'servicenow', 'inc', 'truist', 'financial', 'corp', 'agilent', 'technologies', '...']\n",
            "['napier', 'park', 'global', 'capital', 'llc', 'buys', 'invesco', 'senior', 'loan', 'agilent', 'technologies', 'inc', 'lowe', \"'s\", 'inc', '...']\n",
            "['stock', 'upgrades', 'agilent', 'technologies', 'shows', 'rising', 'relative', 'strength']\n",
            "['applied', 'materials', 'amat', 'q1', 'earnings', 'sales', 'top', 'estimates']\n",
            "['stonehage', 'fleming', 'financial', 'services', 'holdings', 'ltd', 'buys', 'autoliv', 'inc', 'walmart', 'inc', 'uber', '...']\n",
            "['clearfield', 'capital', 'management', 'lp', 'buys', 'insperity', 'inc', 'square', 'inc', 'agilent', 'technologies', 'inc', '...']\n",
            "['agilent', 'gears', 'q1', 'earnings', \"'s\", 'cards']\n",
            "['troy', 'asset', 'management', 'ltd', 'buys', 'agilent', 'technologies', 'inc', 'mastercard', 'inc', 'cisco', 'systems', 'inc', '...']\n",
            "['strong', 'cloud', 'growth', 'propel', 'alibaba', \"'s\", 'baba', 'q3', 'earnings']\n",
            "['fortive', 'ftv', 'earnings', 'revenues', 'surpass', 'estimates', 'q4']\n",
            "['eaton', 'vance', 'exits', 'celgene', 'trims', 'amgen', 'position']\n",
            "['mechanics', 'bank', 'trust', 'department', 'buys', 'spdr', 'wells', 'fargo', 'preferred', 'stock', 'etf', 'huntington', '...']\n",
            "['krueger', 'catalano', 'capital', 'partners', 'llc', 'buys', 'bristol-myers', 'squibb', 'company', 'agilent', '...']\n",
            "['parnassus', 'endeavor', 'fund', 'adds', 'cisco', 'alphabet']\n",
            "['parnassus', 'endeavor', 'fund', 'invests', 'insurance', 'logistics', '4th', 'quarter']\n",
            "['timing', 'market', 'possible', 'january', '10', '2020']\n",
            "['agilent', '5.4', 'since', 'last', 'earnings', 'report']\n",
            "['market', 'timing', 'secrets', 'one', 'talks', 'december', '17', '2019']\n",
            "['agilent', 'technologies', 'inc', 'ceo', 'president', 'michael', 'r.', 'mcmullen', 'sold', '4', 'million', 'shares']\n",
            "['live', 'nation', 'entertainment', 'zebra', 'technologies', 'steris', 'set', 'join', 'p', '5……', 'others', '...']\n",
            "['nomura', 'holdings', 'inc', 'buys', 'aramark', 'inc', 'emerson', 'electric', 'co', 'sells', 'amazon', '...']\n",
            "['bill', 'ackman', \"'s\", 'pershing', 'square', 'packs', 'agilent']\n",
            "['wall', 'street', 'breakfast', 'trade', 'deadline', 'fed', 'meeting']\n",
            "['pershing', 'square', 'capital', 'management', 'l.p.', 'buys', 'agilent', 'technologies', 'inc', 'sells', 'automatic', 'data', '...']\n",
            "['agilent', '4', 'hours', 'pershing', 'stake']\n",
            "['best', 'large-cap', 'stocks', 'buy']\n",
            "['agilent', 'technologies', 'inc.', 'management', 'presents', 'evercore', 'isi', 'healthconx', 'conference', 'transcript']\n",
            "['agilent', 'technologies', 'inc', 'presents', '31st', 'annual', 'piper', 'jaffray', 'healthcare', 'conference', 'transcript']\n",
            "['agilent', 'earnings', 'revenues', 'surpass', 'estimates', 'q4']\n",
            "['agilent', 'technologies', 'inc.', 'ceo', 'mike', 'mcmullen', 'q4', '2019', 'results', 'earnings', 'call', 'transcript']\n",
            "['dow', 'jones', 'futures', 'stock', 'market', 'fear', 'gauge', 'hits', 'new', 'low', 'palo', 'alto', 'networks', 'nutanix', 'ambarella', 'hewlett', 'packard', 'enterprise', 'chemocentryx', 'big', 'movers', 'late']\n",
            "['agilent', 'technologies', 'surpasses', 'q4', 'earnings', 'revenue', 'estimates']\n",
            "['agilent', 'technologies', 'inc.', '2019', 'q4', 'results', 'earnings', 'call', 'presentation']\n",
            "['agilent', 'eps', 'beats', '0.03', 'misses', 'revenue']\n",
            "['agilent', 'q4', '2019', 'earnings', 'preview']\n",
            "['notable', 'earnings', 'monday', \"'s\", 'close']\n",
            "['dividend', 'increases', 'november', '18-22', '2019']\n",
            "['spotlight', 'alibaba', 'best', 'buy', 'dupont', 'stocks', 'watch', 'podcast']\n",
            "['dividend', 'challenger', 'highlights', 'week', 'november', '24']\n",
            "['stocks', 'watch', 'spotlight', 'alibaba', 'best', 'buy', 'dupont']\n",
            "['earnings', 'watch', 'panw', 'stock', 'rallies', 'ahead', 'results', 'retail', 'leader', 'forms', 'bullish', 'base']\n",
            "['agilent', 'watch', 'positive', 'eu', 'drug', 'development']\n",
            "['agilent', 'almost', '20', 'since', 'last', 'earnings', 'report', 'assessing', 'momentum', 'continues']\n",
            "['yes', 'time', 'market', 'find', 'november', '21', '2019']\n",
            "['top', 'large-cap', 'sectors', 'industries', 'stocks', 'buy']\n",
            "['agilent', 'declares', '0.18', 'dividend']\n",
            "['agilent', 'technologies', 'earnings', 'expected', 'grow', 'buy']\n",
            "['retailers', 'dubai', 'airshow', 'cybertrucks', 'stocks', 'watch', 'podcast']\n",
            "['stocks', 'watch', 'retailers', 'dubai', 'airshow', 'cybertrucks']\n",
            "['fairpointe', 'capital', 'llc', 'buys', 'adtalem', 'global', 'education', 'inc', 'corning', 'inc', 'agilent', 'technologies', '...']\n",
            "['perkinelmer', 'excellent', 'opportunity']\n",
            "['stifel', 'likes', 'illumina', 'premarket', 'analyst', 'action']\n",
            "['market-beating', 'sector', 'etfs', 'year', 'date']\n",
            "['tiemann', 'investment', 'advisors', 'llc', 'buys', 'spdr', 'barclays', 'convertible', 'securities', 'etf', 'd.r', '...']\n",
            "['stocks', 'showing', 'rising', 'market', 'leadership', 'agilent', 'technologies', 'earns', '82', 'rs', 'rating']\n",
            "['epoch', 'investment', 'partners', 'inc.', 'buys', 'kkr', 'inc', 'coca-cola', 'co', 'huntington', 'ingalls', 'industries', 'inc', '...']\n",
            "['agilent', 'technologies', 'sees', 'rs', 'rating', 'improve', '76']\n",
            "['royal', 'london', 'asset', 'management', 'ltd', 'buys', 'apple', 'inc', 'amazon', '...']\n",
            "['td', 'asset', 'management', 'inc', 'buys', 'tc', 'energy', 'corp', 'ishares', 'iboxx', 'high', 'yield', 'corporate', 'bond', 'etf', '...']\n",
            "['tdam', 'usa', 'inc.', 'buys', 'phillips', '66', 'dupont', 'de', 'nemours', 'inc', 'agilent', 'technologies', 'inc', 'sells', 'apple', '...']\n",
            "['tracking', 'william', 'von', 'mueffling', \"'s\", 'cantillon', 'capital', 'management', 'portfolio', 'q3', '2019', 'update']\n",
            "['market', 'timing', 'actually', 'work', 'november', '01', '2019']\n",
            "['electronics', 'testing', 'equipment', 'outlook', 'solid', 'demand', 'ahead']\n"
          ]
        }
      ]
    },
    {
      "cell_type": "code",
      "source": [
        "import datetime"
      ],
      "metadata": {
        "id": "CBqVKgPNMu3q"
      },
      "execution_count": 80,
      "outputs": []
    },
    {
      "cell_type": "code",
      "source": [
        "print(datetime.datetime.now())\n",
        "\n",
        "wordlist = []\n",
        "verblist = []\n",
        "nounlist = []\n",
        "proplist = []\n",
        "\n",
        "#loop for all rows and form the list\n",
        "for index, row in df.iterrows():\n",
        "    content = str.lower(row['headline'])\n",
        "    tokenized = [w for w in word_tokenize(content) if not w in stop_words and not w in symbols]\n",
        "\n",
        "    pos_content = nlp_pipeline(\" \".join(tokenized))\n",
        "    for token in pos_content: \n",
        "      if(token.pos_ == \"VERB\"):\n",
        "        verblist.extend([token.text])\n",
        "        print(token, token.pos_, token.i, token.idx, token.doc)\n",
        "      elif(token.pos_ == \"PROPN\"):\n",
        "        proplist.extend([token.text])\n",
        "      elif(token.pos_ == \"NOUN\"):\n",
        "        nounlist.extend([token.text])\n",
        "\n",
        "    #wordlist.extend(tokenized)\n",
        "    if index > 10:#000:\n",
        "      break\n",
        "\n",
        "print(datetime.datetime.now())"
      ],
      "metadata": {
        "colab": {
          "base_uri": "https://localhost:8080/"
        },
        "id": "22ZFgU4P-cpM",
        "outputId": "2ee77437-a23b-4fb9-c753-672090d326d7"
      },
      "execution_count": 91,
      "outputs": [
        {
          "output_type": "stream",
          "name": "stdout",
          "text": [
            "2022-04-04 20:37:34.535788\n",
            "pricing VERB 3 31 agilent technologies announces pricing 5…… million senior notes\n",
            "…… VERB 5 40 agilent technologies announces pricing 5…… million senior notes\n",
            "gears VERB 1 8 agilent gears q2 earnings 's cards\n",
            "announces VERB 5 29 j.p. morgan asset management announces liquidation six exchange-traded funds\n",
            "traded VERB 10 64 j.p. morgan asset management announces liquidation six exchange-traded funds\n",
            "pershing VERB 0 0 pershing square capital management l.p. buys agilent technologies inc howard hughes corp ...\n",
            "sold VERB 8 59 agilent technologies inc ceo president michael r. mcmullen sold –.4 million shares\n",
            "growing VERB 1 7 stocks growing earnings fast\n",
            "buys VERB 4 29 cypress asset management inc buys verizon communications inc united parcel service inc ...\n",
            "buys VERB 3 15 hendley co inc buys american electric power co inc agilent technologies inc paychex ...\n",
            "buys VERB 4 32 teacher retirement system texas buys hologic inc vanguard total stock market agilent ...\n",
            "buys VERB 4 22 cookson peirce co inc buys eli lilly co vertex pharmaceuticals inc netflix inc ...\n",
            "sold VERB 8 59 agilent technologies inc ceo president michael r. mcmullen sold –.– million shares\n",
            "2022-04-04 20:37:35.409576\n"
          ]
        }
      ]
    },
    {
      "cell_type": "code",
      "source": [
        "#word_counter = Counter(wordlist)"
      ],
      "metadata": {
        "id": "09661JG59G-v"
      },
      "execution_count": 37,
      "outputs": []
    },
    {
      "cell_type": "code",
      "source": [
        "#word_counter.most_common(15)"
      ],
      "metadata": {
        "id": "RxSesLYLA5C1"
      },
      "execution_count": 73,
      "outputs": []
    },
    {
      "cell_type": "code",
      "source": [
        "verb_counter = Counter(verblist)\n",
        "noun_counter = Counter(nounlist)\n",
        "prop_counter = Counter(proplist)"
      ],
      "metadata": {
        "id": "_eH3wFN8A97_"
      },
      "execution_count": 89,
      "outputs": []
    },
    {
      "cell_type": "code",
      "source": [
        "verb_counter.most_common(50)"
      ],
      "metadata": {
        "colab": {
          "base_uri": "https://localhost:8080/"
        },
        "id": "ONNHTilbDu9b",
        "outputId": "e50e6a39-dcf4-473b-e3e1-4095028f1850"
      },
      "execution_count": 90,
      "outputs": [
        {
          "output_type": "execute_result",
          "data": {
            "text/plain": [
              "[('buys', 405),\n",
              " ('buy', 290),\n",
              " ('results', 257),\n",
              " ('sells', 198),\n",
              " ('reports', 148),\n",
              " ('misses', 142),\n",
              " ('beat', 136),\n",
              " ('beats', 127),\n",
              " ('announces', 115),\n",
              " ('downgraded', 111),\n",
              " ('declares', 95),\n",
              " ('ranked', 86),\n",
              " ('may', 85),\n",
              " ('call', 84),\n",
              " ('reminds', 83),\n",
              " ('rent', 81),\n",
              " ('upgraded', 80),\n",
              " ('watch', 75),\n",
              " ('hits', 74),\n",
              " ('expected', 72),\n",
              " ('q3', 61),\n",
              " ('says', 59),\n",
              " ('could', 58),\n",
              " ('rising', 57),\n",
              " ('rises', 52),\n",
              " ('know', 51),\n",
              " ('continue', 51),\n",
              " ('wins', 50),\n",
              " ('falls', 46),\n",
              " ('gets', 45),\n",
              " ('adds', 42),\n",
              " ('expands', 41),\n",
              " ('sell', 41),\n",
              " ('tracking', 40),\n",
              " ('sees', 39),\n",
              " ('rise', 39),\n",
              " ('goes', 39),\n",
              " ('look', 39),\n",
              " ('continues', 38),\n",
              " ('leads', 38),\n",
              " ('earnings', 36),\n",
              " ('dividend', 35),\n",
              " ('fall', 34),\n",
              " ('rank', 34),\n",
              " ('investing', 33),\n",
              " ('looks', 32),\n",
              " ('jumps', 32),\n",
              " ('hit', 32),\n",
              " ('featured', 32),\n",
              " ('report', 31)]"
            ]
          },
          "metadata": {},
          "execution_count": 90
        }
      ]
    },
    {
      "cell_type": "code",
      "source": [
        "noun_counter.most_common(50)"
      ],
      "metadata": {
        "colab": {
          "base_uri": "https://localhost:8080/"
        },
        "id": "BzD-kmCTD5Tq",
        "outputId": "4f5204f9-d360-4462-a592-74231c7a817a"
      },
      "execution_count": 84,
      "outputs": [
        {
          "output_type": "execute_result",
          "data": {
            "text/plain": [
              "[('earnings', 1234),\n",
              " ('gold', 925),\n",
              " ('analyst', 917),\n",
              " ('stocks', 847),\n",
              " ('market', 717),\n",
              " ('auto', 476),\n",
              " ('stock', 416),\n",
              " ('parts', 391),\n",
              " ('dividend', 349),\n",
              " ('tape', 324),\n",
              " ('growth', 295),\n",
              " ('blog', 280),\n",
              " ('results', 239),\n",
              " ('call', 219),\n",
              " ('revenue', 218),\n",
              " ('estimates', 202),\n",
              " ('transcript', 196),\n",
              " ('portfolio', 173),\n",
              " ('investors', 163),\n",
              " ('shares', 162),\n",
              " ('tale', 162),\n",
              " ('industry', 151),\n",
              " ('community', 145),\n",
              " ('vetr', 144),\n",
              " ('beats', 139),\n",
              " ('additions', 138),\n",
              " ('quarter', 135),\n",
              " ('sales', 135),\n",
              " ('week', 131),\n",
              " ('value', 129),\n",
              " ('report', 121),\n",
              " ('barrick', 121),\n",
              " ('management', 116),\n",
              " ('revenues', 116),\n",
              " ('losers', 116),\n",
              " ('buy', 114),\n",
              " ('share', 110),\n",
              " ('update', 110),\n",
              " ('mining', 106),\n",
              " ('gainers', 104),\n",
              " ('size', 103),\n",
              " ('center', 95),\n",
              " ('sector', 93),\n",
              " ('year', 93),\n",
              " ('income', 92),\n",
              " ('analysis', 91),\n",
              " ('gains', 90),\n",
              " ('strength', 88),\n",
              " ('price', 88),\n",
              " ('q3', 87)]"
            ]
          },
          "metadata": {},
          "execution_count": 84
        }
      ]
    },
    {
      "cell_type": "code",
      "source": [
        "#find out how many business related rows are there\n",
        "domain_words = ['merges', 'acquires', 'buys', 'sells', 'dumps', 'sues', 'issues', 'files', 'moves']\n",
        "for index, row in df.iterrows():\n",
        "    content = str.lower(row['headline'])\n",
        "\n",
        "    tokenized = [w for w in word_tokenize(content) if not w in stop_words and not w in symbols]\n",
        "    print(tokenized)\n",
        "    if index > 100:\n",
        "      break"
      ],
      "metadata": {
        "id": "tNpZHuSRFSDn"
      },
      "execution_count": 62,
      "outputs": []
    },
    {
      "cell_type": "code",
      "source": [
        "df"
      ],
      "metadata": {
        "colab": {
          "base_uri": "https://localhost:8080/",
          "height": 658
        },
        "id": "RJ80KZL_GcQQ",
        "outputId": "f5c9d980-4cf4-4ebf-c51a-08b051d53222"
      },
      "execution_count": 97,
      "outputs": [
        {
          "output_type": "execute_result",
          "data": {
            "text/plain": [
              "         Unnamed: 0                                           headline  \\\n",
              "0                 2  Agilent Technologies Announces Pricing of $5……...   \n",
              "1                 3  Agilent (A) Gears Up for Q2 Earnings: What's i...   \n",
              "2                 4  J.P. Morgan Asset Management Announces Liquida...   \n",
              "3                 5  Pershing Square Capital Management, L.P. Buys ...   \n",
              "4                 6  Agilent Awards Trilogy Sciences with a Golden ...   \n",
              "...             ...                                                ...   \n",
              "1845554     1849874                      Consumer Cyclical Sector Wrap   \n",
              "1845555     1849875                      Consumer Cyclical Sector Wrap   \n",
              "1845556     1849876  Zacks #5 Rank Additions for Monday - Tale of t...   \n",
              "1845557     1849877  4 Stock Strategies From Wall Street: Feb. 9 (U...   \n",
              "1845558     1849878        4 Stock Strategies From Wall Street: Feb. 9   \n",
              "\n",
              "                                                       url      publisher  \\\n",
              "0        http://www.gurufocus.com/news/1153187/agilent-...      GuruFocus   \n",
              "1        http://www.zacks.com/stock/news/931205/agilent...          Zacks   \n",
              "2        http://www.gurufocus.com/news/1138923/jp-morga...      GuruFocus   \n",
              "3        http://www.gurufocus.com/news/1138704/pershing...      GuruFocus   \n",
              "4        http://www.gurufocus.com/news/1134012/agilent-...      GuruFocus   \n",
              "...                                                    ...            ...   \n",
              "1845554  https://www.benzinga.com/content/12/08/2846030...      webmaster   \n",
              "1845555  https://www.benzinga.com/content/12/07/2767124...      webmaster   \n",
              "1845556  http://www.zacks.com/stock/news/73497/here-are...          Zacks   \n",
              "1845557  http://www.thestreet.com/story/11409053/1/4-st...  TheStreet.Com   \n",
              "1845558  https://www.benzinga.com/content/thestreet-com...      webmaster   \n",
              "\n",
              "                        date stock  \n",
              "0        2020-06-01 00:00:00     A  \n",
              "1        2020-05-18 00:00:00     A  \n",
              "2        2020-05-15 00:00:00     A  \n",
              "3        2020-05-15 00:00:00     A  \n",
              "4        2020-05-12 00:00:00     A  \n",
              "...                      ...   ...  \n",
              "1845554  2012-08-20 00:00:00    ZX  \n",
              "1845555  2012-07-23 00:00:00    ZX  \n",
              "1845556  2012-04-23 00:00:00    ZX  \n",
              "1845557  2012-02-09 00:00:00    ZX  \n",
              "1845558  2012-02-09 00:00:00    ZX  \n",
              "\n",
              "[1845559 rows x 6 columns]"
            ],
            "text/html": [
              "\n",
              "  <div id=\"df-1c8a6bc5-d966-449e-afb9-dd14e3b333c5\">\n",
              "    <div class=\"colab-df-container\">\n",
              "      <div>\n",
              "<style scoped>\n",
              "    .dataframe tbody tr th:only-of-type {\n",
              "        vertical-align: middle;\n",
              "    }\n",
              "\n",
              "    .dataframe tbody tr th {\n",
              "        vertical-align: top;\n",
              "    }\n",
              "\n",
              "    .dataframe thead th {\n",
              "        text-align: right;\n",
              "    }\n",
              "</style>\n",
              "<table border=\"1\" class=\"dataframe\">\n",
              "  <thead>\n",
              "    <tr style=\"text-align: right;\">\n",
              "      <th></th>\n",
              "      <th>Unnamed: 0</th>\n",
              "      <th>headline</th>\n",
              "      <th>url</th>\n",
              "      <th>publisher</th>\n",
              "      <th>date</th>\n",
              "      <th>stock</th>\n",
              "    </tr>\n",
              "  </thead>\n",
              "  <tbody>\n",
              "    <tr>\n",
              "      <th>0</th>\n",
              "      <td>2</td>\n",
              "      <td>Agilent Technologies Announces Pricing of $5……...</td>\n",
              "      <td>http://www.gurufocus.com/news/1153187/agilent-...</td>\n",
              "      <td>GuruFocus</td>\n",
              "      <td>2020-06-01 00:00:00</td>\n",
              "      <td>A</td>\n",
              "    </tr>\n",
              "    <tr>\n",
              "      <th>1</th>\n",
              "      <td>3</td>\n",
              "      <td>Agilent (A) Gears Up for Q2 Earnings: What's i...</td>\n",
              "      <td>http://www.zacks.com/stock/news/931205/agilent...</td>\n",
              "      <td>Zacks</td>\n",
              "      <td>2020-05-18 00:00:00</td>\n",
              "      <td>A</td>\n",
              "    </tr>\n",
              "    <tr>\n",
              "      <th>2</th>\n",
              "      <td>4</td>\n",
              "      <td>J.P. Morgan Asset Management Announces Liquida...</td>\n",
              "      <td>http://www.gurufocus.com/news/1138923/jp-morga...</td>\n",
              "      <td>GuruFocus</td>\n",
              "      <td>2020-05-15 00:00:00</td>\n",
              "      <td>A</td>\n",
              "    </tr>\n",
              "    <tr>\n",
              "      <th>3</th>\n",
              "      <td>5</td>\n",
              "      <td>Pershing Square Capital Management, L.P. Buys ...</td>\n",
              "      <td>http://www.gurufocus.com/news/1138704/pershing...</td>\n",
              "      <td>GuruFocus</td>\n",
              "      <td>2020-05-15 00:00:00</td>\n",
              "      <td>A</td>\n",
              "    </tr>\n",
              "    <tr>\n",
              "      <th>4</th>\n",
              "      <td>6</td>\n",
              "      <td>Agilent Awards Trilogy Sciences with a Golden ...</td>\n",
              "      <td>http://www.gurufocus.com/news/1134012/agilent-...</td>\n",
              "      <td>GuruFocus</td>\n",
              "      <td>2020-05-12 00:00:00</td>\n",
              "      <td>A</td>\n",
              "    </tr>\n",
              "    <tr>\n",
              "      <th>...</th>\n",
              "      <td>...</td>\n",
              "      <td>...</td>\n",
              "      <td>...</td>\n",
              "      <td>...</td>\n",
              "      <td>...</td>\n",
              "      <td>...</td>\n",
              "    </tr>\n",
              "    <tr>\n",
              "      <th>1845554</th>\n",
              "      <td>1849874</td>\n",
              "      <td>Consumer Cyclical Sector Wrap</td>\n",
              "      <td>https://www.benzinga.com/content/12/08/2846030...</td>\n",
              "      <td>webmaster</td>\n",
              "      <td>2012-08-20 00:00:00</td>\n",
              "      <td>ZX</td>\n",
              "    </tr>\n",
              "    <tr>\n",
              "      <th>1845555</th>\n",
              "      <td>1849875</td>\n",
              "      <td>Consumer Cyclical Sector Wrap</td>\n",
              "      <td>https://www.benzinga.com/content/12/07/2767124...</td>\n",
              "      <td>webmaster</td>\n",
              "      <td>2012-07-23 00:00:00</td>\n",
              "      <td>ZX</td>\n",
              "    </tr>\n",
              "    <tr>\n",
              "      <th>1845556</th>\n",
              "      <td>1849876</td>\n",
              "      <td>Zacks #5 Rank Additions for Monday - Tale of t...</td>\n",
              "      <td>http://www.zacks.com/stock/news/73497/here-are...</td>\n",
              "      <td>Zacks</td>\n",
              "      <td>2012-04-23 00:00:00</td>\n",
              "      <td>ZX</td>\n",
              "    </tr>\n",
              "    <tr>\n",
              "      <th>1845557</th>\n",
              "      <td>1849877</td>\n",
              "      <td>4 Stock Strategies From Wall Street: Feb. 9 (U...</td>\n",
              "      <td>http://www.thestreet.com/story/11409053/1/4-st...</td>\n",
              "      <td>TheStreet.Com</td>\n",
              "      <td>2012-02-09 00:00:00</td>\n",
              "      <td>ZX</td>\n",
              "    </tr>\n",
              "    <tr>\n",
              "      <th>1845558</th>\n",
              "      <td>1849878</td>\n",
              "      <td>4 Stock Strategies From Wall Street: Feb. 9</td>\n",
              "      <td>https://www.benzinga.com/content/thestreet-com...</td>\n",
              "      <td>webmaster</td>\n",
              "      <td>2012-02-09 00:00:00</td>\n",
              "      <td>ZX</td>\n",
              "    </tr>\n",
              "  </tbody>\n",
              "</table>\n",
              "<p>1845559 rows × 6 columns</p>\n",
              "</div>\n",
              "      <button class=\"colab-df-convert\" onclick=\"convertToInteractive('df-1c8a6bc5-d966-449e-afb9-dd14e3b333c5')\"\n",
              "              title=\"Convert this dataframe to an interactive table.\"\n",
              "              style=\"display:none;\">\n",
              "        \n",
              "  <svg xmlns=\"http://www.w3.org/2000/svg\" height=\"24px\"viewBox=\"0 0 24 24\"\n",
              "       width=\"24px\">\n",
              "    <path d=\"M0 0h24v24H0V0z\" fill=\"none\"/>\n",
              "    <path d=\"M18.56 5.44l.94 2.06.94-2.06 2.06-.94-2.06-.94-.94-2.06-.94 2.06-2.06.94zm-11 1L8.5 8.5l.94-2.06 2.06-.94-2.06-.94L8.5 2.5l-.94 2.06-2.06.94zm10 10l.94 2.06.94-2.06 2.06-.94-2.06-.94-.94-2.06-.94 2.06-2.06.94z\"/><path d=\"M17.41 7.96l-1.37-1.37c-.4-.4-.92-.59-1.43-.59-.52 0-1.04.2-1.43.59L10.3 9.45l-7.72 7.72c-.78.78-.78 2.05 0 2.83L4 21.41c.39.39.9.59 1.41.59.51 0 1.02-.2 1.41-.59l7.78-7.78 2.81-2.81c.8-.78.8-2.07 0-2.86zM5.41 20L4 18.59l7.72-7.72 1.47 1.35L5.41 20z\"/>\n",
              "  </svg>\n",
              "      </button>\n",
              "      \n",
              "  <style>\n",
              "    .colab-df-container {\n",
              "      display:flex;\n",
              "      flex-wrap:wrap;\n",
              "      gap: 12px;\n",
              "    }\n",
              "\n",
              "    .colab-df-convert {\n",
              "      background-color: #E8F0FE;\n",
              "      border: none;\n",
              "      border-radius: 50%;\n",
              "      cursor: pointer;\n",
              "      display: none;\n",
              "      fill: #1967D2;\n",
              "      height: 32px;\n",
              "      padding: 0 0 0 0;\n",
              "      width: 32px;\n",
              "    }\n",
              "\n",
              "    .colab-df-convert:hover {\n",
              "      background-color: #E2EBFA;\n",
              "      box-shadow: 0px 1px 2px rgba(60, 64, 67, 0.3), 0px 1px 3px 1px rgba(60, 64, 67, 0.15);\n",
              "      fill: #174EA6;\n",
              "    }\n",
              "\n",
              "    [theme=dark] .colab-df-convert {\n",
              "      background-color: #3B4455;\n",
              "      fill: #D2E3FC;\n",
              "    }\n",
              "\n",
              "    [theme=dark] .colab-df-convert:hover {\n",
              "      background-color: #434B5C;\n",
              "      box-shadow: 0px 1px 3px 1px rgba(0, 0, 0, 0.15);\n",
              "      filter: drop-shadow(0px 1px 2px rgba(0, 0, 0, 0.3));\n",
              "      fill: #FFFFFF;\n",
              "    }\n",
              "  </style>\n",
              "\n",
              "      <script>\n",
              "        const buttonEl =\n",
              "          document.querySelector('#df-1c8a6bc5-d966-449e-afb9-dd14e3b333c5 button.colab-df-convert');\n",
              "        buttonEl.style.display =\n",
              "          google.colab.kernel.accessAllowed ? 'block' : 'none';\n",
              "\n",
              "        async function convertToInteractive(key) {\n",
              "          const element = document.querySelector('#df-1c8a6bc5-d966-449e-afb9-dd14e3b333c5');\n",
              "          const dataTable =\n",
              "            await google.colab.kernel.invokeFunction('convertToInteractive',\n",
              "                                                     [key], {});\n",
              "          if (!dataTable) return;\n",
              "\n",
              "          const docLinkHtml = 'Like what you see? Visit the ' +\n",
              "            '<a target=\"_blank\" href=https://colab.research.google.com/notebooks/data_table.ipynb>data table notebook</a>'\n",
              "            + ' to learn more about interactive tables.';\n",
              "          element.innerHTML = '';\n",
              "          dataTable['output_type'] = 'display_data';\n",
              "          await google.colab.output.renderOutput(dataTable, element);\n",
              "          const docLink = document.createElement('div');\n",
              "          docLink.innerHTML = docLinkHtml;\n",
              "          element.appendChild(docLink);\n",
              "        }\n",
              "      </script>\n",
              "    </div>\n",
              "  </div>\n",
              "  "
            ]
          },
          "metadata": {},
          "execution_count": 97
        }
      ]
    },
    {
      "cell_type": "code",
      "source": [
        ""
      ],
      "metadata": {
        "id": "gzJkan3gVSCF"
      },
      "execution_count": null,
      "outputs": []
    }
  ]
}